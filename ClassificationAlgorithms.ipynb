{
 "cells": [
  {
   "cell_type": "code",
   "execution_count": 1,
   "metadata": {
    "collapsed": false
   },
   "outputs": [
    {
     "name": "stdout",
     "output_type": "stream",
     "text": [
      "---\n",
      "3673\n",
      "7944\n",
      "6805\n",
      "4684\n",
      "--\n",
      "23106\n",
      "3673\n",
      "7944\n",
      "6805\n",
      "4684\n",
      "\n",
      "14692\n",
      "\n",
      "14692\n",
      "\n",
      "14692\n",
      "20\n",
      "---\n",
      "1208\n",
      "2726\n",
      "2354\n",
      "1574\n",
      "--\n",
      "7862\n",
      "1208\n",
      "2726\n",
      "2354\n",
      "1574\n",
      "\n",
      "4832\n",
      "\n",
      "4832\n",
      "\n",
      "4832\n"
     ]
    }
   ],
   "source": [
    "import glob\n",
    "import pandas as pd\n",
    "import json\n",
    "import csv\n",
    "\n",
    "\n",
    "\n",
    "path = r'Train'  # use your path\n",
    "allFiles = glob.glob(path + \"/*.csv\")\n",
    "\n",
    "#action first party\n",
    "total_data_samples0 = []\n",
    "total_data_number0 = []\n",
    "total_data_label0 = []\n",
    "\n",
    "#Personal Info Type\n",
    "total_data_samples1 = []\n",
    "total_data_number1 = []\n",
    "total_data_label1 = []\n",
    "\n",
    "\n",
    "#Purpose\n",
    "total_data_samples2 = []\n",
    "total_data_number2 = []\n",
    "total_data_label2 = []\n",
    "\n",
    "\n",
    "#None\n",
    "total_data_samples3 = []\n",
    "total_data_number3 = []\n",
    "total_data_label3 = []\n",
    "\n",
    "\n",
    "cnt = 0\n",
    "cnt0 = 0\n",
    "cnt1 = 0\n",
    "cnt2 = 0\n",
    "cnt3 = 0\n",
    "choice = 0\n",
    "allFiles = allFiles[:85]\n",
    "for file in allFiles:\n",
    "    dictCollection = {\"Action First-Party\":[],\n",
    "                      \"Purpose\":[],\n",
    "                      \"Personal Information Type\":[],\n",
    "                      \"None\":[]\n",
    "                      }\n",
    "\n",
    "    df = pd.read_csv(file, thousands=',', header=None)\n",
    "    len(df)\n",
    "    # df_tail = df.tail(1)[4]\n",
    "    # print(df_tail)\n",
    "    number_of_segments = len(df) + 1\n",
    "\n",
    "    file = file.split('Train/', 1)[1]\n",
    "#     print(file)\n",
    "    for i in range(number_of_segments-1):\n",
    "        # print(i)\n",
    "        choice = 0 #whether the sentence is from one of the following categories\n",
    "        if df[5][i] == \"First Party Collection/Use\":\n",
    "            choice = 1\n",
    "            parse_json = json.loads(str(df[6][i]))\n",
    "#             print(parse_json)\n",
    "            if parse_json[\"Action First-Party\"][\"endIndexInSegment\"] != -1:\n",
    "                total_data_samples0.append(parse_json[\"Action First-Party\"][\"selectedText\"])\n",
    "                total_data_number0.append(0)\n",
    "                total_data_label0.append(\"Action First-Party\")\n",
    "                cnt0 = cnt0+1\n",
    "            if parse_json[\"Personal Information Type\"][\"endIndexInSegment\"] != -1:\n",
    "                total_data_samples1.append(parse_json[\"Personal Information Type\"][\"selectedText\"])\n",
    "                total_data_number1.append(1)\n",
    "                total_data_label1.append(\"Personal Information Type\")                \n",
    "                cnt1 = cnt1+1\n",
    "            if parse_json[\"Purpose\"][\"endIndexInSegment\"] != -1:\n",
    "                total_data_samples2.append(parse_json[\"Purpose\"][\"selectedText\"])\n",
    "                total_data_number2.append(2)\n",
    "                total_data_label2.append(\"Purpose\")     \n",
    "                cnt2 = cnt2+1\n",
    "        if df[5][i] == \"Third Party Sharing/Collection\":\n",
    "            choice = 1\n",
    "            parse_json = json.loads(str(df[6][i]))\n",
    "#             print(parse_json)\n",
    "            if parse_json[\"Personal Information Type\"][\"endIndexInSegment\"] != -1:\n",
    "                total_data_samples1.append(parse_json[\"Personal Information Type\"][\"selectedText\"])\n",
    "                total_data_number1.append(1)\n",
    "                total_data_label1.append(\"Personal Information Type\")                \n",
    "                cnt1 = cnt1+1\n",
    "            if parse_json[\"Purpose\"][\"endIndexInSegment\"] != -1:\n",
    "                total_data_samples2.append(parse_json[\"Purpose\"][\"selectedText\"])\n",
    "                total_data_number2.append(2)\n",
    "                total_data_label2.append(\"Purpose\")     \n",
    "                cnt2 = cnt2+1\n",
    "        if df[5][i] == \"User Choice/Control\":\n",
    "            choice = 1\n",
    "            parse_json = json.loads(str(df[6][i]))\n",
    "#             print(parse_json)\n",
    "            if parse_json[\"Personal Information Type\"][\"endIndexInSegment\"] != -1:\n",
    "                total_data_samples1.append(parse_json[\"Personal Information Type\"][\"selectedText\"])\n",
    "                total_data_number1.append(1)\n",
    "                total_data_label1.append(\"Personal Information Type\")                \n",
    "                cnt1 = cnt1+1\n",
    "            if parse_json[\"Purpose\"][\"endIndexInSegment\"] != -1:\n",
    "                total_data_samples2.append(parse_json[\"Purpose\"][\"selectedText\"])\n",
    "                total_data_number2.append(2)\n",
    "                total_data_label2.append(\"Purpose\")     \n",
    "                cnt2 = cnt2+1\n",
    "        if df[5][i] == \"Data Retention\":\n",
    "            choice = 1\n",
    "            parse_json = json.loads(str(df[6][i]))\n",
    "#             print(parse_json)\n",
    "            if parse_json[\"Personal Information Type\"][\"endIndexInSegment\"] != -1:\n",
    "                total_data_samples1.append(parse_json[\"Personal Information Type\"][\"selectedText\"])\n",
    "                total_data_number1.append(1)\n",
    "                total_data_label1.append(\"Personal Information Type\")                \n",
    "                cnt1 = cnt1+1\n",
    "        if choice==0:\n",
    "#             print(\"practis is -->\", df[5][i])\n",
    "            parse_json = json.loads(str(df[6][i]))\n",
    "#             print(parse_json)\n",
    "#             print(len(df[6][i]))\n",
    "#             print(parse_json.keys())\n",
    "            attributes = parse_json.keys()\n",
    "#             print(attributes)\n",
    "            for k in attributes:\n",
    "#                 print(k)\n",
    "                if parse_json[k]['startIndexInSegment'] != -1:\n",
    "#                     print(parse_json[k]['selectedText'])\n",
    "                    total_data_samples3.append(parse_json[k]['selectedText'])\n",
    "                    total_data_number3.append(3)\n",
    "                    total_data_label3.append(\"None\")  \n",
    "                    cnt3 = cnt3+1\n",
    "                    \n",
    "print(\"---\")\n",
    "print(cnt0)\n",
    "print(cnt1)\n",
    "print(cnt2)\n",
    "print(cnt3)\n",
    "print(\"--\")\n",
    "print(cnt0+cnt1+cnt2+cnt3)\n",
    "print(len(total_data_samples0))\n",
    "print(len(total_data_samples1))\n",
    "print(len(total_data_samples2))\n",
    "print(len(total_data_samples3))\n",
    "\n",
    "data_samples1 = total_data_samples0[:3673]\n",
    "data_samples1.extend(total_data_samples1[0:3673])\n",
    "data_samples1.extend(total_data_samples2[0:3673])\n",
    "data_samples1.extend(total_data_samples3[0:3673])\n",
    "print()\n",
    "print(len(data_samples1))\n",
    "\n",
    "data_number1 = total_data_number0[:3673]\n",
    "data_number1.extend(total_data_number1[:3673])\n",
    "data_number1.extend(total_data_number2[:3673])\n",
    "data_number1.extend(total_data_number3[:3673])\n",
    "print()\n",
    "print(len(data_number1))\n",
    "\n",
    "data_label1 = total_data_label0[:3673]\n",
    "data_label1.extend(total_data_label1[:3673])\n",
    "data_label1.extend(total_data_label2[:3673])\n",
    "data_label1.extend(total_data_label3[:3673])\n",
    "print()\n",
    "print(len(data_label1))\n",
    "\n",
    "\n",
    "path = r'Test'  # use your path\n",
    "allFiles = glob.glob(path + \"/*.csv\")\n",
    "\n",
    "# action first party\n",
    "total_data_samples0 = []\n",
    "total_data_number0 = []\n",
    "total_data_label0 = []\n",
    "\n",
    "# Personal Info Type\n",
    "total_data_samples1 = []\n",
    "total_data_number1 = []\n",
    "total_data_label1 = []\n",
    "\n",
    "# Purpose\n",
    "total_data_samples2 = []\n",
    "total_data_number2 = []\n",
    "total_data_label2 = []\n",
    "\n",
    "# None\n",
    "total_data_samples3 = []\n",
    "total_data_number3 = []\n",
    "total_data_label3 = []\n",
    "\n",
    "cnt = 0\n",
    "cnt0 = 0\n",
    "cnt1 = 0\n",
    "cnt2 = 0\n",
    "cnt3 = 0\n",
    "choice = 0\n",
    "\n",
    "print(len(allFiles))\n",
    "\n",
    "\n",
    "for file in allFiles:\n",
    "    # print(file)\n",
    "    dictCollection = {\"Action First-Party\": [],\n",
    "                      \"Purpose\": [],\n",
    "                      \"Personal Information Type\": [],\n",
    "                      \"None\": []\n",
    "                      }\n",
    "\n",
    "    df = pd.read_csv(file, thousands=',', header=None)\n",
    "    len(df)\n",
    "    # df_tail = df.tail(1)[4]\n",
    "    # print(df_tail)\n",
    "    number_of_segments = len(df) + 1\n",
    "\n",
    "    file = file.split('Test/', 1)[1]\n",
    "    #     print(file)\n",
    "    for i in range(number_of_segments - 1):\n",
    "        # print(i)\n",
    "        choice = 0  # whether the sentence is from one of the following categories\n",
    "        if df[5][i] == \"First Party Collection/Use\":\n",
    "            choice = 1\n",
    "            parse_json = json.loads(str(df[6][i]))\n",
    "            #             print(parse_json)\n",
    "            if parse_json[\"Action First-Party\"][\"endIndexInSegment\"] != -1:\n",
    "                total_data_samples0.append(parse_json[\"Action First-Party\"][\"selectedText\"])\n",
    "                total_data_number0.append(0)\n",
    "                total_data_label0.append(\"Action First-Party\")\n",
    "                cnt0 = cnt0 + 1\n",
    "            if parse_json[\"Personal Information Type\"][\"endIndexInSegment\"] != -1:\n",
    "                total_data_samples1.append(parse_json[\"Personal Information Type\"][\"selectedText\"])\n",
    "                total_data_number1.append(1)\n",
    "                total_data_label1.append(\"Personal Information Type\")\n",
    "                cnt1 = cnt1 + 1\n",
    "            if parse_json[\"Purpose\"][\"endIndexInSegment\"] != -1:\n",
    "                total_data_samples2.append(parse_json[\"Purpose\"][\"selectedText\"])\n",
    "                total_data_number2.append(2)\n",
    "                total_data_label2.append(\"Purpose\")\n",
    "                cnt2 = cnt2 + 1\n",
    "        if df[5][i] == \"Third Party Sharing/Collection\":\n",
    "            choice = 1\n",
    "            parse_json = json.loads(str(df[6][i]))\n",
    "            #             print(parse_json)\n",
    "            if parse_json[\"Personal Information Type\"][\"endIndexInSegment\"] != -1:\n",
    "                total_data_samples1.append(parse_json[\"Personal Information Type\"][\"selectedText\"])\n",
    "                total_data_number1.append(1)\n",
    "                total_data_label1.append(\"Personal Information Type\")\n",
    "                cnt1 = cnt1 + 1\n",
    "            if parse_json[\"Purpose\"][\"endIndexInSegment\"] != -1:\n",
    "                total_data_samples2.append(parse_json[\"Purpose\"][\"selectedText\"])\n",
    "                total_data_number2.append(2)\n",
    "                total_data_label2.append(\"Purpose\")\n",
    "                cnt2 = cnt2 + 1\n",
    "        if df[5][i] == \"User Choice/Control\":\n",
    "            choice = 1\n",
    "            parse_json = json.loads(str(df[6][i]))\n",
    "            #             print(parse_json)\n",
    "            if parse_json[\"Personal Information Type\"][\"endIndexInSegment\"] != -1:\n",
    "                total_data_samples1.append(parse_json[\"Personal Information Type\"][\"selectedText\"])\n",
    "                total_data_number1.append(1)\n",
    "                total_data_label1.append(\"Personal Information Type\")\n",
    "                cnt1 = cnt1 + 1\n",
    "            if parse_json[\"Purpose\"][\"endIndexInSegment\"] != -1:\n",
    "                total_data_samples2.append(parse_json[\"Purpose\"][\"selectedText\"])\n",
    "                total_data_number2.append(2)\n",
    "                total_data_label2.append(\"Purpose\")\n",
    "                cnt2 = cnt2 + 1\n",
    "        if df[5][i] == \"Data Retention\":\n",
    "            choice = 1\n",
    "            parse_json = json.loads(str(df[6][i]))\n",
    "            #             print(parse_json)\n",
    "            if parse_json[\"Personal Information Type\"][\"endIndexInSegment\"] != -1:\n",
    "                total_data_samples1.append(parse_json[\"Personal Information Type\"][\"selectedText\"])\n",
    "                total_data_number1.append(1)\n",
    "                total_data_label1.append(\"Personal Information Type\")\n",
    "                cnt1 = cnt1 + 1\n",
    "        if choice == 0:\n",
    "            #             print(\"practis is -->\", df[5][i])\n",
    "            parse_json = json.loads(str(df[6][i]))\n",
    "            #             print(parse_json)\n",
    "            #             print(len(df[6][i]))\n",
    "            #             print(parse_json.keys())\n",
    "            attributes = parse_json.keys()\n",
    "            #             print(attributes)\n",
    "            for k in attributes:\n",
    "                #                 print(k)\n",
    "                if parse_json[k]['startIndexInSegment'] != -1:\n",
    "                    #                     print(parse_json[k]['selectedText'])\n",
    "                    total_data_samples3.append(parse_json[k]['selectedText'])\n",
    "                    total_data_number3.append(3)\n",
    "                    total_data_label3.append(\"None\")\n",
    "                    cnt3 = cnt3 + 1\n",
    "\n",
    "\n",
    "\n",
    "print(\"---\")\n",
    "print(cnt0)\n",
    "print(cnt1)\n",
    "print(cnt2)\n",
    "print(cnt3)\n",
    "print(\"--\")\n",
    "print(cnt0 + cnt1 + cnt2 + cnt3)\n",
    "print(len(total_data_samples0))\n",
    "print(len(total_data_samples1))\n",
    "print(len(total_data_samples2))\n",
    "print(len(total_data_samples3))\n",
    "\n",
    "\n",
    "\n",
    "test_data_samples1 = total_data_samples0[0:1208]\n",
    "test_data_samples1.extend(total_data_samples1[0:1208])\n",
    "test_data_samples1.extend(total_data_samples2[0:1208])\n",
    "test_data_samples1.extend(total_data_samples3[0:1208])\n",
    "print()\n",
    "print(len(test_data_samples1))\n",
    "\n",
    "test_data_number1 = total_data_number0[0:1208]\n",
    "test_data_number1.extend(total_data_number1[0:1208])\n",
    "test_data_number1.extend(total_data_number2[0:1208])\n",
    "test_data_number1.extend(total_data_number3[0:1208])\n",
    "print()\n",
    "print(len(test_data_number1))\n",
    "\n",
    "test_data_label1 = total_data_label0[0:1208]\n",
    "test_data_label1.extend(total_data_label1[0:1208])\n",
    "test_data_label1.extend(total_data_label2[0:1208])\n",
    "test_data_label1.extend(total_data_label3[0:1208])\n",
    "print()\n",
    "print(len(test_data_label1))\n"
   ]
  },
  {
   "cell_type": "code",
   "execution_count": 2,
   "metadata": {
    "collapsed": false
   },
   "outputs": [
    {
     "name": "stdout",
     "output_type": "stream",
     "text": [
      "['Sci-News.com may collect and process', 'Sci-News.com may collect and process', 'may collect', 'visits to our site', 'visits to our site']\n",
      "14692\n",
      "14692\n"
     ]
    }
   ],
   "source": [
    "import numpy as np\n",
    "print(data_samples1[:5])\n",
    "print(len(data_samples1))\n",
    "\n",
    "train_samples = np.array(data_samples1)\n",
    "train_label = np.array(data_label1)\n",
    "train_number = np.array(data_number1)\n",
    "# print(data_label1)\n",
    "test_samples = np.array(test_data_samples1)\n",
    "test_label = np.array(test_data_label1)\n",
    "test_number = np.array(test_data_number1)\n",
    "print(len(train_samples))"
   ]
  },
  {
   "cell_type": "code",
   "execution_count": 3,
   "metadata": {
    "collapsed": true
   },
   "outputs": [],
   "source": [
    "from sklearn.feature_extraction.text import CountVectorizer\n",
    "count_vect = CountVectorizer(max_df=0.95, min_df=2,\n",
    "                                max_features=1000)\n",
    "X_train_counts = count_vect.fit_transform(train_samples)\n",
    "X_train_counts\n",
    "count_vect.get_feature_names()\n",
    "count_vect.get_stop_words()"
   ]
  },
  {
   "cell_type": "code",
   "execution_count": 4,
   "metadata": {
    "collapsed": false
   },
   "outputs": [
    {
     "data": {
      "text/plain": [
       "31"
      ]
     },
     "execution_count": 4,
     "metadata": {},
     "output_type": "execute_result"
    }
   ],
   "source": [
    "count_vect.vocabulary_.get('address')"
   ]
  },
  {
   "cell_type": "code",
   "execution_count": 5,
   "metadata": {
    "collapsed": false
   },
   "outputs": [
    {
     "data": {
      "text/plain": [
       "(14692, 1000)"
      ]
     },
     "execution_count": 5,
     "metadata": {},
     "output_type": "execute_result"
    }
   ],
   "source": [
    "from sklearn.feature_extraction.text import TfidfTransformer\n",
    "tf_transformer = TfidfTransformer(use_idf=False).fit(X_train_counts)\n",
    "X_train_tf = tf_transformer.transform(X_train_counts)\n",
    "X_train_tf.shape"
   ]
  },
  {
   "cell_type": "code",
   "execution_count": 6,
   "metadata": {
    "collapsed": false
   },
   "outputs": [
    {
     "data": {
      "text/plain": [
       "(14692, 1000)"
      ]
     },
     "execution_count": 6,
     "metadata": {},
     "output_type": "execute_result"
    }
   ],
   "source": [
    "tfidf_transformer = TfidfTransformer()\n",
    "X_train_tfidf = tfidf_transformer.fit_transform(X_train_counts)\n",
    "X_train_tfidf.shape"
   ]
  },
  {
   "cell_type": "code",
   "execution_count": 7,
   "metadata": {
    "collapsed": false
   },
   "outputs": [
    {
     "name": "stdout",
     "output_type": "stream",
     "text": [
      "[0 0 0 ..., 3 3 3]\n"
     ]
    }
   ],
   "source": [
    "print(train_number)\n",
    "\n",
    "# from sklearn.pipeline import Pipeline\n",
    "# from sklearn.naive_bayes import MultinomialNB\n",
    "# text_clf = Pipeline([('vect', CountVectorizer()), ('tfidf', TfidfTransformer()), ('clf', MultinomialNB())])\n",
    "# text_clf = text_clf.fit(train_samples, train_number)\n",
    "\n",
    "# import numpy as np\n",
    "# predicted_clf = text_clf.predict(test_samples)\n",
    "# print(np.mean(predicted_clf == test_number))\n",
    "\n",
    "# from sklearn import metrics\n",
    "# print(metrics.classification_report(test_number, predicted_clf,\n",
    "#                                         target_names=np.unique(test_label)))\n",
    "\n",
    "# metrics.confusion_matrix(test_number, predicted_sgd)"
   ]
  },
  {
   "cell_type": "code",
   "execution_count": 54,
   "metadata": {
    "collapsed": false
   },
   "outputs": [
    {
     "name": "stdout",
     "output_type": "stream",
     "text": [
      "0.757657284768\n",
      "                           precision    recall  f1-score   support\n",
      "\n",
      "       Action First-Party       0.70      0.74      0.72      1208\n",
      "                     None       0.68      0.86      0.76      1208\n",
      "Personal Information Type       0.82      0.68      0.74      1208\n",
      "                  Purpose       0.89      0.75      0.81      1208\n",
      "\n",
      "              avg / total       0.77      0.76      0.76      4832\n",
      "\n"
     ]
    },
    {
     "data": {
      "text/plain": [
       "array([[ 893,  180,   94,   41],\n",
       "       [  98, 1043,   44,   23],\n",
       "       [ 181,  155,  819,   53],\n",
       "       [ 104,  152,   46,  906]])"
      ]
     },
     "execution_count": 54,
     "metadata": {},
     "output_type": "execute_result"
    }
   ],
   "source": [
    "from sklearn.neighbors import KNeighborsClassifier\n",
    "from sklearn.pipeline import Pipeline\n",
    "from sklearn import metrics\n",
    "from sklearn.feature_extraction.text import CountVectorizer\n",
    "count_vect = CountVectorizer(max_df=0.95, min_df=2,\n",
    "                                max_features=1000)\n",
    "X_train_counts = count_vect.fit_transform(train_samples)\n",
    "X_train_counts\n",
    "count_vect.get_feature_names()\n",
    "count_vect.get_stop_words()\n",
    "\n",
    "n_neighbors = 7\n",
    "weights = 'uniform'\n",
    "# weights = 'distance'\n",
    "txt_clf_knn = Pipeline([('vect', CountVectorizer()), ('tfidf', TfidfTransformer()), \n",
    "                    ('clf',KNeighborsClassifier(n_neighbors, weights=weights))])\n",
    "txt_clf_knn = txt_clf_knn.fit(train_samples, train_number)\n",
    "\n",
    "predict_knn = txt_clf_knn.predict(test_samples)\n",
    "print(np.mean(predict_knn == test_number))\n",
    "\n",
    "from sklearn import metrics\n",
    "print(metrics.classification_report(test_number, predict_knn,\n",
    "                                        target_names=np.unique(test_label)))\n",
    "\n",
    "metrics.confusion_matrix(test_number, predict_knn)"
   ]
  },
  {
   "cell_type": "code",
   "execution_count": 53,
   "metadata": {
    "collapsed": false
   },
   "outputs": [
    {
     "name": "stdout",
     "output_type": "stream",
     "text": [
      "0.797185430464\n",
      "                           precision    recall  f1-score   support\n",
      "\n",
      "       Action First-Party       0.80      0.72      0.75      1208\n",
      "                     None       0.79      0.83      0.81      1208\n",
      "Personal Information Type       0.77      0.78      0.78      1208\n",
      "                  Purpose       0.83      0.86      0.84      1208\n",
      "\n",
      "              avg / total       0.80      0.80      0.80      4832\n",
      "\n"
     ]
    },
    {
     "data": {
      "text/plain": [
       "array([[ 864,  124,  144,   76],\n",
       "       [  79, 1005,   82,   42],\n",
       "       [ 102,   66,  947,   93],\n",
       "       [  37,   81,   54, 1036]])"
      ]
     },
     "execution_count": 53,
     "metadata": {},
     "output_type": "execute_result"
    }
   ],
   "source": [
    "from sklearn.linear_model import SGDClassifier\n",
    "from sklearn import metrics\n",
    "text_clf1 = Pipeline([('vect', CountVectorizer()), \n",
    "                     ('tfidf', TfidfTransformer()),\n",
    "                     ('clf', SGDClassifier(loss='hinge', penalty='l2',\n",
    "                                           alpha=1e-3, n_iter=5, random_state=42))])\n",
    "_ = text_clf1.fit(train_samples, train_number)\n",
    "predicted_sgd = text_clf1.predict(test_samples)\n",
    "print(np.mean(predicted_sgd == test_number))\n",
    "print(metrics.classification_report(test_number, predicted_sgd,\n",
    "                                        target_names=np.unique(test_label)))\n",
    "\n",
    "metrics.confusion_matrix(test_number, predicted_sgd)"
   ]
  },
  {
   "cell_type": "code",
   "execution_count": 14,
   "metadata": {
    "collapsed": false
   },
   "outputs": [
    {
     "name": "stdout",
     "output_type": "stream",
     "text": [
      "['Sci-News.com may collect and process', 'Sci-News.com may collect and process', 'may collect', 'visits to our site', 'visits to our site']\n",
      "16000\n",
      "190\n"
     ]
    }
   ],
   "source": [
    "print(data_samples1[:5])\n",
    "print(len(data_samples1))\n",
    "\n",
    "train_samples1 = np.array(data_samples1[:190])\n",
    "train_label1 = np.array(data_label1[:190])\n",
    "train_number1 = np.array(data_number1[:190])\n",
    "\n",
    "test_samples1 = np.array(data_samples1[191:204])\n",
    "test_label1 = np.array(data_label1[191:204])\n",
    "test_number1 = np.array(data_number1[191:204])\n",
    "print(len(train_samples1))"
   ]
  },
  {
   "cell_type": "code",
   "execution_count": 15,
   "metadata": {
    "collapsed": false
   },
   "outputs": [
    {
     "name": "stdout",
     "output_type": "stream",
     "text": [
      "['about', 'access', 'account', 'additional', 'address', 'advertising', 'aim', 'also', 'an', 'and', 'aol', 'apps', 'as', 'ask', 'at', 'available', 'based', 'beacons', 'better', 'bugs', 'by', 'called', 'can', 'choose', 'clear', 'collect', 'collects', 'com', 'commercially', 'communication', 'companies', 'connect', 'content', 'cookie', 'cookies', 'desktop', 'different', 'during', 'effective', 'email', 'emails', 'employ', 'files', 'for', 'form', 'from', 'get', 'gifs', 'give', 'help', 'html', 'if', 'in', 'information', 'informing', 'is', 'it', 'like', 'log', 'manage', 'may', 'most', 'must', 'name', 'necessary', 'network', 'networking', 'news', 'of', 'on', 'optional', 'or', 'order', 'other', 'our', 'parties', 'party', 'points', 'process', 'profile', 'provide', 'publicly', 'receive', 'registration', 'request', 'requested', 'requests', 'required', 'sci', 'servers', 'service', 'services', 'setting', 'several', 'sign', 'site', 'social', 'software', 'sources', 'standard', 'store', 'such', 'technology', 'that', 'the', 'them', 'third', 'this', 'through', 'times', 'to', 'toolbars', 'tools', 'up', 'us', 'use', 'user', 'users', 'visit', 'visits', 'we', 'web', 'website', 'websites', 'what', 'when', 'with', 'you', 'your']\n"
     ]
    }
   ],
   "source": [
    "from sklearn.feature_extraction.text import CountVectorizer\n",
    "count_vect1 = CountVectorizer(max_df=0.95, min_df=2,\n",
    "                                max_features=1000)\n",
    "X_train_counts1 = count_vect1.fit_transform(train_samples1)\n",
    "X_train_counts1\n",
    "print(count_vect1.get_feature_names())\n",
    "count_vect1.get_stop_words()"
   ]
  },
  {
   "cell_type": "code",
   "execution_count": 16,
   "metadata": {
    "collapsed": false
   },
   "outputs": [
    {
     "data": {
      "text/plain": [
       "(190, 129)"
      ]
     },
     "execution_count": 16,
     "metadata": {},
     "output_type": "execute_result"
    }
   ],
   "source": [
    "from sklearn.feature_extraction.text import TfidfTransformer\n",
    "tf_transformer1 = TfidfTransformer(use_idf=False).fit(X_train_counts1)\n",
    "X_train_tf1 = tf_transformer1.transform(X_train_counts1)\n",
    "X_train_tf1.shape"
   ]
  },
  {
   "cell_type": "code",
   "execution_count": 17,
   "metadata": {
    "collapsed": false
   },
   "outputs": [
    {
     "data": {
      "text/plain": [
       "(190, 129)"
      ]
     },
     "execution_count": 17,
     "metadata": {},
     "output_type": "execute_result"
    }
   ],
   "source": [
    "tfidf_transformer1 = TfidfTransformer()\n",
    "X_train_tfidf1 = tfidf_transformer1.fit_transform(X_train_counts1)\n",
    "X_train_tfidf1.shape"
   ]
  },
  {
   "cell_type": "code",
   "execution_count": 18,
   "metadata": {
    "collapsed": false
   },
   "outputs": [
    {
     "name": "stderr",
     "output_type": "stream",
     "text": [
      "/Users/aryan/anaconda/lib/python3.6/site-packages/sklearn/naive_bayes.py:455: RuntimeWarning: divide by zero encountered in log\n",
      "  self.class_log_prior_ = (np.log(self.class_count_) -\n"
     ]
    }
   ],
   "source": [
    "from sklearn.pipeline import Pipeline\n",
    "from sklearn.naive_bayes import MultinomialNB\n",
    "text_clf1 = Pipeline([('vect', CountVectorizer()), ('tfidf', TfidfTransformer()), ('clf', MultinomialNB())])\n",
    "text_clf1 = text_clf1.fit(train_samples1, train_number1)"
   ]
  },
  {
   "cell_type": "code",
   "execution_count": 19,
   "metadata": {
    "collapsed": false
   },
   "outputs": [
    {
     "data": {
      "text/plain": [
       "1.0"
      ]
     },
     "execution_count": 19,
     "metadata": {},
     "output_type": "execute_result"
    }
   ],
   "source": [
    "import numpy as np\n",
    "predicted = text_clf1.predict(test_samples1)\n",
    "np.mean(predicted == test_number1)  "
   ]
  },
  {
   "cell_type": "code",
   "execution_count": 20,
   "metadata": {
    "collapsed": false
   },
   "outputs": [
    {
     "name": "stdout",
     "output_type": "stream",
     "text": [
      "                    precision    recall  f1-score   support\n",
      "\n",
      "Action First-Party       1.00      1.00      1.00        13\n",
      "\n",
      "       avg / total       1.00      1.00      1.00        13\n",
      "\n"
     ]
    },
    {
     "data": {
      "text/plain": [
       "array([[13]])"
      ]
     },
     "execution_count": 20,
     "metadata": {},
     "output_type": "execute_result"
    }
   ],
   "source": [
    "from sklearn import metrics\n",
    "print(metrics.classification_report(test_number1, predicted,\n",
    "                                        target_names=test_label1))\n",
    "\n",
    "metrics.confusion_matrix(test_number1, predicted)"
   ]
  },
  {
   "cell_type": "code",
   "execution_count": 75,
   "metadata": {
    "collapsed": false
   },
   "outputs": [
    {
     "data": {
      "text/plain": [
       "0.76923076923076927"
      ]
     },
     "execution_count": 75,
     "metadata": {},
     "output_type": "execute_result"
    }
   ],
   "source": [
    "from sklearn.linear_model import SGDClassifier\n",
    "text_clf1 = Pipeline([('vect', CountVectorizer()), \n",
    "                     ('tfidf', TfidfTransformer()),\n",
    "                     ('clf', SGDClassifier(loss='hinge', penalty='l2',\n",
    "                                           alpha=1e-3, n_iter=5, random_state=42))])\n",
    "_ = text_clf1.fit(train_samples1, train_number1)\n",
    "predicted = text_clf1.predict(test_samples1)\n",
    "np.mean(predicted == test_number1)  "
   ]
  },
  {
   "cell_type": "code",
   "execution_count": 76,
   "metadata": {
    "collapsed": false
   },
   "outputs": [
    {
     "name": "stdout",
     "output_type": "stream",
     "text": [
      "                           precision    recall  f1-score   support\n",
      "\n",
      "       Action First-Party       0.50      1.00      0.67         1\n",
      "Personal Information Type       0.83      0.71      0.77         7\n",
      "                  Purpose       0.80      0.80      0.80         5\n",
      "\n",
      "              avg / total       0.79      0.77      0.77        13\n",
      "\n"
     ]
    },
    {
     "data": {
      "text/plain": [
       "array([[1, 0, 0],\n",
       "       [1, 5, 1],\n",
       "       [0, 1, 4]])"
      ]
     },
     "execution_count": 76,
     "metadata": {},
     "output_type": "execute_result"
    }
   ],
   "source": [
    "from sklearn import metrics\n",
    "print(metrics.classification_report(test_number1, predicted,\n",
    "                                        target_names=test_label1))\n",
    "\n",
    "metrics.confusion_matrix(test_number1, predicted)"
   ]
  },
  {
   "cell_type": "code",
   "execution_count": 87,
   "metadata": {
    "collapsed": false
   },
   "outputs": [
    {
     "data": {
      "text/plain": [
       "(204, 205)"
      ]
     },
     "execution_count": 87,
     "metadata": {},
     "output_type": "execute_result"
    }
   ],
   "source": [
    "from sklearn.feature_extraction.text import CountVectorizer\n",
    "count_vect1 = CountVectorizer(max_df=0.95, min_df=2,\n",
    "                                max_features=1000)\n",
    "X_train_counts1 = count_vect1.fit_transform(data_samples1)\n",
    "X_train_counts1\n",
    "\n",
    "from sklearn.feature_extraction.text import TfidfTransformer\n",
    "tf_transformer1 = TfidfTransformer(use_idf=False).fit(X_train_counts1)\n",
    "X_train_tf1 = tf_transformer1.transform(X_train_counts1)\n",
    "X_train_tf1.shape\n",
    "\n",
    "tfidf_transformer1 = TfidfTransformer()\n",
    "X_train_tfidf1 = tfidf_transformer1.fit_transform(X_train_counts1)\n",
    "X_train_tfidf1.shape"
   ]
  },
  {
   "cell_type": "code",
   "execution_count": 89,
   "metadata": {
    "collapsed": false
   },
   "outputs": [
    {
     "data": {
      "text/plain": [
       "0.93627450980392157"
      ]
     },
     "execution_count": 89,
     "metadata": {},
     "output_type": "execute_result"
    }
   ],
   "source": [
    "from sklearn.pipeline import Pipeline\n",
    "from sklearn.naive_bayes import MultinomialNB\n",
    "text_clf1 = Pipeline([('vect', CountVectorizer()), ('tfidf', TfidfTransformer()), ('clf', MultinomialNB())])\n",
    "text_clf1 = text_clf1.fit(data_samples1, data_number1)\n",
    "\n",
    "import numpy as np\n",
    "predicted = text_clf1.predict(data_samples1)\n",
    "np.mean(predicted == data_number1)  "
   ]
  },
  {
   "cell_type": "code",
   "execution_count": 84,
   "metadata": {
    "collapsed": false
   },
   "outputs": [
    {
     "name": "stdout",
     "output_type": "stream",
     "text": [
      "                           precision    recall  f1-score   support\n",
      "\n",
      "       Action First-Party       0.88      0.95      0.91        60\n",
      "Personal Information Type       0.95      0.97      0.96        90\n",
      "                  Purpose       1.00      0.87      0.93        54\n",
      "\n",
      "              avg / total       0.94      0.94      0.94       204\n",
      "\n"
     ]
    },
    {
     "data": {
      "text/plain": [
       "array([[57,  3,  0],\n",
       "       [ 3, 87,  0],\n",
       "       [ 5,  2, 47]])"
      ]
     },
     "execution_count": 84,
     "metadata": {},
     "output_type": "execute_result"
    }
   ],
   "source": [
    "from sklearn import metrics\n",
    "print(metrics.classification_report(data_number1, predicted,\n",
    "                                        target_names=data_label1))\n",
    "\n",
    "metrics.confusion_matrix(data_number1, predicted)"
   ]
  },
  {
   "cell_type": "code",
   "execution_count": 85,
   "metadata": {
    "collapsed": false
   },
   "outputs": [
    {
     "data": {
      "text/plain": [
       "0.99509803921568629"
      ]
     },
     "execution_count": 85,
     "metadata": {},
     "output_type": "execute_result"
    }
   ],
   "source": [
    "from sklearn.linear_model import SGDClassifier\n",
    "text_clf1 = Pipeline([('vect', CountVectorizer()), \n",
    "                     ('tfidf', TfidfTransformer()),\n",
    "                     ('clf', SGDClassifier(loss='hinge', penalty='l2',\n",
    "                                           alpha=1e-3, n_iter=5, random_state=42))])\n",
    "_ = text_clf1.fit(data_samples1, data_number1)\n",
    "\n",
    "import numpy as np\n",
    "predicted = text_clf1.predict(data_samples1)\n",
    "np.mean(predicted == data_number1)  "
   ]
  },
  {
   "cell_type": "code",
   "execution_count": 86,
   "metadata": {
    "collapsed": false
   },
   "outputs": [
    {
     "name": "stdout",
     "output_type": "stream",
     "text": [
      "                           precision    recall  f1-score   support\n",
      "\n",
      "       Action First-Party       1.00      0.98      0.99        60\n",
      "Personal Information Type       0.99      1.00      0.99        90\n",
      "                  Purpose       1.00      1.00      1.00        54\n",
      "\n",
      "              avg / total       1.00      1.00      1.00       204\n",
      "\n"
     ]
    },
    {
     "data": {
      "text/plain": [
       "array([[59,  1,  0],\n",
       "       [ 0, 90,  0],\n",
       "       [ 0,  0, 54]])"
      ]
     },
     "execution_count": 86,
     "metadata": {},
     "output_type": "execute_result"
    }
   ],
   "source": [
    "from sklearn import metrics\n",
    "print(metrics.classification_report(data_number1, predicted,\n",
    "                                        target_names=data_label1))\n",
    "\n",
    "metrics.confusion_matrix(data_number1, predicted)"
   ]
  },
  {
   "cell_type": "code",
   "execution_count": 90,
   "metadata": {
    "collapsed": false
   },
   "outputs": [
    {
     "name": "stdout",
     "output_type": "stream",
     "text": [
      "1017_sci-news.com.csv\n",
      "1028_redorbit.com.csv\n",
      "1034_aol.com.csv\n",
      "1050_honda.com.csv\n",
      "105_amazon.com.csv\n",
      "1070_wnep.com.csv\n",
      "1083_highgearmedia.com.csv\n",
      "1089_freep.com.csv\n",
      "1099_enthusiastnetwork.com.csv\n",
      "1106_allstate.com.csv\n",
      "1164_acbj.com.csv\n",
      "1205_opensecrets.org.csv\n",
      "{'Third Party Entity': {'endIndexInSegment': 89, 'startIndexInSegment': 76, 'selectedText': 'third parties', 'value': 'Unnamed third party'}, 'Choice Scope': {'endIndexInSegment': -1, 'startIndexInSegment': -1, 'value': 'Unspecified'}, 'Purpose': {'endIndexInSegment': -1, 'startIndexInSegment': -1, 'value': 'Unspecified'}, 'Personal Information Type': {'endIndexInSegment': 68, 'startIndexInSegment': 33, 'selectedText': 'personally identifiable information', 'value': 'Generic personal information'}, 'Choice Type': {'endIndexInSegment': -1, 'startIndexInSegment': -1, 'value': 'Unspecified'}, 'Identifiability': {'endIndexInSegment': 68, 'startIndexInSegment': 33, 'selectedText': 'personally identifiable information', 'value': 'Identifiable'}, 'Does/Does Not': {'endIndexInSegment': 12, 'startIndexInSegment': 4, 'selectedText': 'will not', 'value': 'Does Not'}, 'User Type': {'endIndexInSegment': -1, 'startIndexInSegment': -1, 'value': 'Unspecified'}, 'Action Third Party': {'endIndexInSegment': 18, 'startIndexInSegment': 13, 'selectedText': 'share', 'value': 'Receive/Shared with'}}\n",
      "1206_dcccd.edu.csv\n",
      "1221_gwdocs.com.csv\n",
      "1224_austincc.edu.csv\n",
      "1252_cincymuseum.org.csv\n",
      "1259_fool.com.csv\n",
      "1261_zacks.com.csv\n",
      "{'Third Party Entity': {'endIndexInSegment': 585, 'startIndexInSegment': 574, 'selectedText': 'third party', 'value': 'Unnamed third party'}, 'Choice Scope': {'endIndexInSegment': 595, 'startIndexInSegment': 401, 'selectedText': 'disclose the information you provide us or send you information if you authorize us to do so by choosing to receive e-mail services on our Zacks.com Web site or opting into third party mailings.', 'value': 'Both'}, 'Purpose': {'endIndexInSegment': -1, 'startIndexInSegment': -1, 'value': 'Unspecified'}, 'Personal Information Type': {'endIndexInSegment': 383, 'startIndexInSegment': 329, 'selectedText': 'email address, name, postal address, and phone number.', 'value': 'Contact'}, 'Choice Type': {'endIndexInSegment': 595, 'startIndexInSegment': 465, 'selectedText': 'if you authorize us to do so by choosing to receive e-mail services on our Zacks.com Web site or opting into third party mailings.', 'value': 'Opt-in'}, 'Identifiability': {'endIndexInSegment': -1, 'startIndexInSegment': -1, 'value': 'not-selected'}, 'Does/Does Not': {'endIndexInSegment': -1, 'startIndexInSegment': -1, 'value': 'Does'}, 'User Type': {'endIndexInSegment': -1, 'startIndexInSegment': -1, 'value': 'not-selected'}, 'Action Third Party': {'endIndexInSegment': 493, 'startIndexInSegment': 393, 'selectedText': 'we only disclose the information you provide us or send you information if you authorize us to do so', 'value': 'Receive/Shared with'}}\n",
      "1264_citizen.org.csv\n",
      "1300_bankofamerica.com.csv\n",
      "1306_chasepaymentech.com.csv\n",
      "133_fortune.com.csv\n",
      "135_instagram.com.csv\n",
      "1360_thehill.com.csv\n",
      "1361_yahoo.com.csv\n",
      "1419_miaminewtimes.com.csv\n",
      "144_style.com.csv\n",
      "1468_rockstargames.com.csv\n",
      "1470_steampowered.com.csv\n",
      "1498_ticketmaster.com.csv\n",
      "1510_jibjab.com.csv\n",
      "1539_geocaching.com.csv\n",
      "1545_taylorswift.com.csv\n",
      "1582_msn.com.csv\n",
      "1610_post-gazette.com.csv\n",
      "1618_sltrib.com.csv\n",
      "1636_sidearmsports.com.csv\n",
      "1637_dailyillini.com.csv\n",
      "164_adweek.com.csv\n",
      "1666_wsmv.com.csv\n",
      "1673_tulsaworld.com.csv\n",
      "1683_dailynews.com.csv\n",
      "1694_lids.com.csv\n",
      "1703_sports-reference.com.csv\n",
      "1708_foxsports.com.csv\n",
      "1713_latinpost.com.csv\n",
      "175_mlb.mlb.com.csv\n",
      "186_abcnews.com.csv\n",
      "200_washingtonpost.com.csv\n",
      "202_foodallergy.org.csv\n",
      "207_reference.com.csv\n",
      "20_theatlantic.com.csv\n",
      "21_imdb.com.csv\n",
      "228_gawker.com.csv\n",
      "{'Third Party Entity': {'endIndexInSegment': 81, 'startIndexInSegment': 64, 'selectedText': 'third parties may', 'value': 'Unnamed third party'}, 'Choice Scope': {'endIndexInSegment': -1, 'startIndexInSegment': -1, 'value': 'Unspecified'}, 'Purpose': {'endIndexInSegment': -1, 'startIndexInSegment': -1, 'value': 'Unspecified'}, 'Personal Information Type': {'endIndexInSegment': -1, 'startIndexInSegment': -1, 'value': 'Unspecified'}, 'Choice Type': {'endIndexInSegment': -1, 'startIndexInSegment': -1, 'value': 'Unspecified'}, 'Identifiability': {'endIndexInSegment': 101, 'startIndexInSegment': 82, 'selectedText': 'collect information', 'value': 'Unspecified'}, 'Does/Does Not': {'endIndexInSegment': 89, 'startIndexInSegment': 82, 'selectedText': 'collect', 'value': 'Does'}, 'User Type': {'endIndexInSegment': -1, 'startIndexInSegment': -1, 'value': 'Unspecified'}, 'Action Third Party': {'endIndexInSegment': 101, 'startIndexInSegment': 82, 'selectedText': 'collect information', 'value': 'Collect on first party website/app'}}\n",
      "26_nytimes.com.csv\n",
      "303_reddit.com.csv\n",
      "320_timeinc.com.csv\n",
      "325_ocregister.com.csv\n",
      "{'Third Party Entity': {'endIndexInSegment': 126, 'startIndexInSegment': 22, 'selectedText': 'Freedom will be transferring to Publisher customer data collected from users of the Properties websites.', 'value': 'Named third party'}, 'Choice Scope': {'endIndexInSegment': -1, 'startIndexInSegment': -1, 'value': 'Unspecified'}, 'Purpose': {'endIndexInSegment': 20, 'startIndexInSegment': 16, 'selectedText': 'sale', 'value': 'Merger/Acquisition'}, 'Personal Information Type': {'endIndexInSegment': -1, 'startIndexInSegment': -1, 'value': 'Unspecified'}, 'Choice Type': {'endIndexInSegment': -1, 'startIndexInSegment': -1, 'value': 'Unspecified'}, 'Identifiability': {'endIndexInSegment': -1, 'startIndexInSegment': -1, 'value': 'Unspecified'}, 'Does/Does Not': {'endIndexInSegment': 37, 'startIndexInSegment': 30, 'selectedText': 'will be', 'value': 'Does'}, 'User Type': {'endIndexInSegment': -1, 'startIndexInSegment': -1, 'value': 'Unspecified'}, 'Action Third Party': {'endIndexInSegment': 50, 'startIndexInSegment': 38, 'selectedText': 'transferring', 'value': 'Receive/Shared with'}}\n",
      "32_voxmedia.com.csv\n",
      "331_tgifridays.com.csv\n",
      "33_nbcuniversal.com.csv\n",
      "348_walmart.com.csv\n",
      "359_vikings.com.csv\n",
      "394_newsbusters.org.csv\n",
      "414_washingtonian.com.csv\n",
      "453_barnesandnoble.com.csv\n",
      "456_boardgamegeek.com.csv\n",
      "{'Third Party Entity': {'endIndexInSegment': 98, 'startIndexInSegment': 73, 'selectedText': 'other people or companies', 'value': 'Unnamed third party'}, 'Choice Scope': {'endIndexInSegment': -1, 'startIndexInSegment': -1, 'value': 'Unspecified'}, 'Purpose': {'endIndexInSegment': -1, 'startIndexInSegment': -1, 'value': 'Unspecified'}, 'Personal Information Type': {'endIndexInSegment': 57, 'startIndexInSegment': 37, 'selectedText': 'personal information', 'value': 'Unspecified'}, 'Choice Type': {'endIndexInSegment': 145, 'startIndexInSegment': 101, 'selectedText': 'except when we have your explicit permission', 'value': 'Opt-in'}, 'Identifiability': {'endIndexInSegment': -1, 'startIndexInSegment': -1, 'value': 'Unspecified'}, 'Does/Does Not': {'endIndexInSegment': 11, 'startIndexInSegment': 7, 'selectedText': 'does', 'value': 'Does'}, 'User Type': {'endIndexInSegment': -1, 'startIndexInSegment': -1, 'value': 'Unspecified'}, 'Action Third Party': {'endIndexInSegment': 26, 'startIndexInSegment': 22, 'selectedText': 'sell', 'value': 'Receive/Shared with'}}\n",
      "481_fredericknewspost.com.csv\n",
      "503_buffalowildwings.com.csv\n",
      "517_kaleidahealth.org.csv\n",
      "523_usa.gov.csv\n",
      "531_archives.gov.csv\n",
      "541_ifsa-butler.org.csv\n",
      "559_www.loc.gov.csv\n",
      "{'Third Party Entity': {'endIndexInSegment': 531, 'startIndexInSegment': 514, 'selectedText': 'government agency', 'value': 'Other part of company/affiliate'}, 'Choice Scope': {'endIndexInSegment': -1, 'startIndexInSegment': -1, 'value': 'Unspecified'}, 'Purpose': {'endIndexInSegment': 550, 'startIndexInSegment': 535, 'selectedText': 'required by law', 'value': 'Legal requirement'}, 'Personal Information Type': {'endIndexInSegment': 508, 'startIndexInSegment': 488, 'selectedText': 'personal information', 'value': 'Generic personal information'}, 'Choice Type': {'endIndexInSegment': -1, 'startIndexInSegment': -1, 'value': 'Unspecified'}, 'Identifiability': {'endIndexInSegment': -1, 'startIndexInSegment': -1, 'value': 'Unspecified'}, 'Does/Does Not': {'endIndexInSegment': 487, 'startIndexInSegment': 466, 'selectedText': 'We will only disclose', 'value': 'Does'}, 'User Type': {'endIndexInSegment': -1, 'startIndexInSegment': -1, 'value': 'Unspecified'}, 'Action Third Party': {'endIndexInSegment': 487, 'startIndexInSegment': 479, 'selectedText': 'disclose', 'value': 'Receive/Shared with'}}\n",
      "{'Third Party Entity': {'endIndexInSegment': 633, 'startIndexInSegment': 608, 'selectedText': 'contractors or associates', 'value': 'Unnamed third party'}, 'Choice Scope': {'endIndexInSegment': -1, 'startIndexInSegment': -1, 'value': 'Unspecified'}, 'Purpose': {'endIndexInSegment': 660, 'startIndexInSegment': 637, 'selectedText': 'carry out your requests', 'value': 'Basic service/feature'}, 'Personal Information Type': {'endIndexInSegment': 508, 'startIndexInSegment': 488, 'selectedText': 'personal information', 'value': 'Generic personal information'}, 'Choice Type': {'endIndexInSegment': -1, 'startIndexInSegment': -1, 'value': 'Unspecified'}, 'Identifiability': {'endIndexInSegment': -1, 'startIndexInSegment': -1, 'value': 'Unspecified'}, 'Does/Does Not': {'endIndexInSegment': 583, 'startIndexInSegment': 562, 'selectedText': 'We will only disclose', 'value': 'Does'}, 'User Type': {'endIndexInSegment': -1, 'startIndexInSegment': -1, 'value': 'Unspecified'}, 'Action Third Party': {'endIndexInSegment': 487, 'startIndexInSegment': 479, 'selectedText': 'disclose', 'value': 'Receive/Shared with'}}\n",
      "{'Third Party Entity': {'endIndexInSegment': 823, 'startIndexInSegment': 802, 'selectedText': 'other outside parties', 'value': 'Unnamed third party'}, 'Choice Scope': {'endIndexInSegment': 772, 'startIndexInSegment': 764, 'selectedText': 'disclose', 'value': 'Use'}, 'Purpose': {'endIndexInSegment': -1, 'startIndexInSegment': -1, 'value': 'Unspecified'}, 'Personal Information Type': {'endIndexInSegment': 798, 'startIndexInSegment': 778, 'selectedText': 'personal information', 'value': 'Generic personal information'}, 'Choice Type': {'endIndexInSegment': 863, 'startIndexInSegment': 824, 'selectedText': 'without first obtaining your permission', 'value': 'Opt-in'}, 'Identifiability': {'endIndexInSegment': -1, 'startIndexInSegment': -1, 'value': 'Unspecified'}, 'Does/Does Not': {'endIndexInSegment': 763, 'startIndexInSegment': 755, 'selectedText': 'will not', 'value': 'Does Not'}, 'User Type': {'endIndexInSegment': -1, 'startIndexInSegment': -1, 'value': 'Unspecified'}, 'Action Third Party': {'endIndexInSegment': 772, 'startIndexInSegment': 764, 'selectedText': 'disclose', 'value': 'Receive/Shared with'}}\n",
      "571_abita.com.csv\n",
      "{'Choice Type': {'endIndexInSegment': 177, 'startIndexInSegment': 47, 'selectedText': 'By accessing this website, you are consenting to the information collection and use practices described in this privacy statement.', 'value': 'Dont use service/feature'}, 'Choice Scope': {'endIndexInSegment': 130, 'startIndexInSegment': 113, 'selectedText': 'ollection and use', 'value': 'Unspecified'}, 'User Type': {'endIndexInSegment': -1, 'startIndexInSegment': -1, 'value': 'not-selected'}, 'Purpose': {'endIndexInSegment': -1, 'startIndexInSegment': -1, 'value': 'Unspecified'}, 'Personal Information Type': {'endIndexInSegment': 111, 'startIndexInSegment': 100, 'selectedText': 'information', 'value': 'Unspecified'}}\n",
      "581_coffeereview.com.csv\n",
      "584_communitycoffee.com.csv\n",
      "586_cariboucoffee.com.csv\n",
      "58_esquire.com.csv\n",
      "591_google.com.csv\n",
      "59_liquor.com.csv\n",
      "627_dairyqueen.com.csv\n",
      "{'Choice Type': {'selectedText': 'by using our website, you accept and agree to the terms stated below.', 'startIndexInSegment': 134, 'endIndexInSegment': 203, 'value': 'Dont use service/feature'}, 'Choice Scope': {'selectedText': 'Not selected', 'startIndexInSegment': -1, 'endIndexInSegment': -1, 'value': 'Unspecified'}, 'User Type': {'selectedText': 'Not selected', 'startIndexInSegment': -1, 'endIndexInSegment': -1, 'value': 'Unspecified'}, 'Purpose': {'selectedText': 'Not selected', 'startIndexInSegment': -1, 'endIndexInSegment': -1, 'value': 'Unspecified'}, 'Personal Information Type': {'selectedText': 'Not selected', 'startIndexInSegment': -1, 'endIndexInSegment': -1, 'value': 'Unspecified'}}\n",
      "635_playstation.com.csv\n",
      "640_gamestop.com.csv\n",
      "641_cbsinteractive.com.csv\n",
      "642_thefreedictionary.com.csv\n",
      "652_randomhouse.com.csv\n",
      "{'Choice Type': {'endIndexInSegment': 621, 'startIndexInSegment': 450, 'selectedText': 'By using our Sites, you are accepting the practices described in this Privacy Policy. If you do not agree to the terms of this Privacy Policy, please do not use the Sites.', 'value': 'Dont use service/feature'}, 'Choice Scope': {'endIndexInSegment': -1, 'startIndexInSegment': -1, 'value': 'Unspecified'}, 'User Type': {'endIndexInSegment': 469, 'startIndexInSegment': 450, 'selectedText': 'By using our Sites,', 'value': 'Other'}, 'Purpose': {'endIndexInSegment': -1, 'startIndexInSegment': -1, 'value': 'Unspecified'}, 'Personal Information Type': {'endIndexInSegment': -1, 'startIndexInSegment': -1, 'value': 'Unspecified'}}\n",
      "676_restaurantnews.com.csv\n",
      "{'Third Party Entity': {'endIndexInSegment': 102, 'startIndexInSegment': 57, 'selectedText': 'Google, as a third party advertisement vendor', 'value': 'Named third party'}, 'Choice Scope': {'endIndexInSegment': -1, 'startIndexInSegment': -1, 'value': 'not-selected'}, 'Purpose': {'endIndexInSegment': 306, 'startIndexInSegment': 117, 'selectedText': 'to serve ads on this site. The use of DART cookies by Google enables them to serve adverts to visitors that are based on their visits to this website as well as other sites on the internet.', 'value': 'Advertising'}, 'Personal Information Type': {'endIndexInSegment': 167, 'startIndexInSegment': 104, 'selectedText': 'uses cookies to serve ads on this site. The use of DART cookies', 'value': 'Cookies and tracking elements'}, 'Choice Type': {'endIndexInSegment': -1, 'startIndexInSegment': -1, 'value': 'not-selected'}, 'Identifiability': {'endIndexInSegment': -1, 'startIndexInSegment': -1, 'value': 'not-selected'}, 'Does/Does Not': {'endIndexInSegment': -1, 'startIndexInSegment': -1, 'value': 'Does'}, 'User Type': {'endIndexInSegment': 219, 'startIndexInSegment': 211, 'selectedText': 'visitors', 'value': 'Other'}, 'Action Third Party': {'endIndexInSegment': 306, 'startIndexInSegment': 57, 'selectedText': 'Google, as a third party advertisement vendor, uses cookies to serve ads on this site. The use of DART cookies by Google enables them to serve adverts to visitors that are based on their visits to this website as well as other sites on the internet.', 'value': 'Track on first party website/app'}}\n",
      "686_military.com.csv\n",
      "701_tangeroutlet.com.csv\n",
      "{'Third Party Entity': {'endIndexInSegment': 243, 'startIndexInSegment': 227, 'selectedText': 'any third party.', 'value': 'Unnamed third party'}, 'Choice Scope': {'endIndexInSegment': -1, 'startIndexInSegment': -1, 'value': 'not-selected'}, 'Purpose': {'endIndexInSegment': -1, 'startIndexInSegment': -1, 'value': 'Unspecified'}, 'Personal Information Type': {'endIndexInSegment': 123, 'startIndexInSegment': 90, 'selectedText': 'personal identifiable information', 'value': 'Generic personal information'}, 'Choice Type': {'endIndexInSegment': -1, 'startIndexInSegment': -1, 'value': 'not-selected'}, 'Identifiability': {'endIndexInSegment': 111, 'startIndexInSegment': 90, 'selectedText': 'personal identifiable', 'value': 'Identifiable'}, 'Does/Does Not': {'endIndexInSegment': 243, 'startIndexInSegment': 185, 'selectedText': 'and is not sold, shared or distributed to any third party.', 'value': 'Does Not'}, 'User Type': {'endIndexInSegment': 152, 'startIndexInSegment': 134, 'selectedText': 'from our customers', 'value': 'Other'}, 'Action Third Party': {'endIndexInSegment': 223, 'startIndexInSegment': 193, 'selectedText': 'ot sold, shared or distributed', 'value': 'Receive/Shared with'}}\n",
      "70_meredith.com.csv\n",
      "723_dogbreedinfo.com.csv\n",
      "744_minecraft.gamepedia.com.csv\n",
      "745_eatchicken.com.csv\n",
      "746_kraftrecipes.com.csv\n",
      "760_si.edu.csv\n",
      "777_education.jlab.org.csv\n",
      "{'Third Party Entity': {'selectedText': 'Department of Energy, and law enforcement personnel, as well as authorized officials of other agencies, both domestic and foreign', 'startIndexInSegment': 486, 'endIndexInSegment': 615, 'value': 'Named third party'}, 'Choice Scope': {'selectedText': 'Not selected', 'startIndexInSegment': -1, 'endIndexInSegment': -1, 'value': 'Unspecified'}, 'Purpose': {'selectedText': 'Not selected', 'startIndexInSegment': -1, 'endIndexInSegment': -1, 'value': 'Unspecified'}, 'Personal Information Type': {'selectedText': 'all files', 'startIndexInSegment': 373, 'endIndexInSegment': 382, 'value': 'Other'}, 'Choice Type': {'selectedText': 'By continuing to use this system you indicate your awareness of and consent to these terms and conditions of use. LOG OFF IMMEDIATELY if you do not agree to the conditions stated in this warning.', 'startIndexInSegment': 947, 'endIndexInSegment': 1152, 'value': 'Dont use service/feature'}, 'Identifiability': {'selectedText': 'Not selected', 'startIndexInSegment': -1, 'endIndexInSegment': -1, 'value': 'Unspecified'}, 'Does/Does Not': {'selectedText': 'null', 'startIndexInSegment': -1, 'endIndexInSegment': -1, 'value': 'Does'}, 'User Type': {'selectedText': 'Not selected', 'startIndexInSegment': -1, 'endIndexInSegment': -1, 'value': 'Unspecified'}, 'Action Third Party': {'selectedText': 'disclosed', 'startIndexInSegment': 456, 'endIndexInSegment': 465, 'value': 'Receive/Shared with'}}\n",
      "807_lodgemfg.com.csv\n",
      "817_ironhorsevineyards.com.csv\n",
      "{'Third Party Entity': {'selectedText': 'third party marketing companies', 'startIndexInSegment': 126, 'endIndexInSegment': 157, 'value': 'Named third party'}, 'Choice Scope': {'selectedText': 'Not selected', 'startIndexInSegment': -1, 'endIndexInSegment': -1, 'value': 'Unspecified'}, 'Purpose': {'selectedText': 'advertisements', 'startIndexInSegment': 167, 'endIndexInSegment': 181, 'value': 'Advertising'}, 'Personal Information Type': {'selectedText': 'non-personal information about your visits to our website, and your interaction with our products and services', 'startIndexInSegment': 234, 'endIndexInSegment': 344, 'value': 'User online activities'}, 'Choice Type': {'selectedText': 'Not selected', 'startIndexInSegment': -1, 'endIndexInSegment': -1, 'value': 'Unspecified'}, 'Identifiability': {'selectedText': 'No Personally Identifiable Information (\"PII\") is collected in this process', 'startIndexInSegment': 689, 'endIndexInSegment': 764, 'value': 'Aggregated or anonymized'}, 'Does/Does Not': {'selectedText': 'null', 'startIndexInSegment': -1, 'endIndexInSegment': -1, 'value': 'Does'}, 'User Type': {'selectedText': 'Not selected', 'startIndexInSegment': -1, 'endIndexInSegment': -1, 'value': 'Unspecified'}, 'Action Third Party': {'selectedText': 'They may collect', 'startIndexInSegment': 217, 'endIndexInSegment': 233, 'value': 'Collect on first party website/app'}}\n",
      "{'Third Party Entity': {'selectedText': 'third party marketing companies', 'startIndexInSegment': 126, 'endIndexInSegment': 157, 'value': 'Named third party'}, 'Choice Scope': {'selectedText': 'Not selected', 'startIndexInSegment': -1, 'endIndexInSegment': -1, 'value': 'Unspecified'}, 'Purpose': {'selectedText': 'advertisements', 'startIndexInSegment': 167, 'endIndexInSegment': 181, 'value': 'Advertising'}, 'Personal Information Type': {'selectedText': 'Cookies and Web Beacons', 'startIndexInSegment': 635, 'endIndexInSegment': 658, 'value': 'Cookies and tracking elements'}, 'Choice Type': {'selectedText': 'Not selected', 'startIndexInSegment': -1, 'endIndexInSegment': -1, 'value': 'Unspecified'}, 'Identifiability': {'selectedText': 'No Personally Identifiable Information (\"PII\") is collected in this process', 'startIndexInSegment': 689, 'endIndexInSegment': 764, 'value': 'Aggregated or anonymized'}, 'Does/Does Not': {'selectedText': 'null', 'startIndexInSegment': -1, 'endIndexInSegment': -1, 'value': 'Does'}, 'User Type': {'selectedText': 'Not selected', 'startIndexInSegment': -1, 'endIndexInSegment': -1, 'value': 'Unspecified'}, 'Action Third Party': {'selectedText': 'They may collect', 'startIndexInSegment': 217, 'endIndexInSegment': 233, 'value': 'Collect on first party website/app'}}\n",
      "82_sheknows.com.csv\n",
      "856_sciencemag.org.csv\n",
      "862_disinfo.com.csv\n",
      "883_ted.com.csv\n",
      "884_naturalnews.com.csv\n",
      "{'Third Party Entity': {'endIndexInSegment': 85, 'startIndexInSegment': 72, 'selectedText': 'third parties', 'value': 'Unnamed third party'}, 'Choice Scope': {'endIndexInSegment': -1, 'startIndexInSegment': -1, 'value': 'Unspecified'}, 'Purpose': {'endIndexInSegment': -1, 'startIndexInSegment': -1, 'value': 'Unspecified'}, 'Personal Information Type': {'endIndexInSegment': 68, 'startIndexInSegment': 62, 'selectedText': 'emails', 'value': 'Contact'}, 'Choice Type': {'endIndexInSegment': -1, 'startIndexInSegment': -1, 'value': 'Unspecified'}, 'Identifiability': {'endIndexInSegment': -1, 'startIndexInSegment': -1, 'value': 'Unspecified'}, 'Does/Does Not': {'endIndexInSegment': 46, 'startIndexInSegment': 41, 'selectedText': 'never', 'value': 'Does Not'}, 'User Type': {'endIndexInSegment': -1, 'startIndexInSegment': -1, 'value': 'Unspecified'}, 'Action Third Party': {'endIndexInSegment': 52, 'startIndexInSegment': 47, 'selectedText': 'rents', 'value': 'Receive/Shared with'}}\n",
      "{'Third Party Entity': {'endIndexInSegment': 85, 'startIndexInSegment': 72, 'selectedText': 'third parties', 'value': 'Unnamed third party'}, 'Choice Scope': {'endIndexInSegment': -1, 'startIndexInSegment': -1, 'value': 'Unspecified'}, 'Purpose': {'endIndexInSegment': 226, 'startIndexInSegment': 215, 'selectedText': 'advertisers', 'value': 'Advertising'}, 'Personal Information Type': {'endIndexInSegment': 209, 'startIndexInSegment': 202, 'selectedText': 'details', 'value': 'Unspecified'}, 'Choice Type': {'endIndexInSegment': -1, 'startIndexInSegment': -1, 'value': 'Unspecified'}, 'Identifiability': {'endIndexInSegment': -1, 'startIndexInSegment': -1, 'value': 'Unspecified'}, 'Does/Does Not': {'endIndexInSegment': 46, 'startIndexInSegment': 41, 'selectedText': 'never', 'value': 'Does Not'}, 'User Type': {'endIndexInSegment': -1, 'startIndexInSegment': -1, 'value': 'Unspecified'}, 'Action Third Party': {'endIndexInSegment': 52, 'startIndexInSegment': 47, 'selectedText': 'rents', 'value': 'Receive/Shared with'}}\n",
      "{'Third Party Entity': {'endIndexInSegment': 227, 'startIndexInSegment': 181, 'selectedText': 'we DO NOT share user details with advertisers.', 'value': 'Unnamed third party'}, 'Choice Scope': {'endIndexInSegment': -1, 'startIndexInSegment': -1, 'value': 'Unspecified'}, 'Purpose': {'endIndexInSegment': 227, 'startIndexInSegment': 215, 'selectedText': 'advertisers.', 'value': 'Advertising'}, 'Personal Information Type': {'endIndexInSegment': 209, 'startIndexInSegment': 197, 'selectedText': 'user details', 'value': 'Generic personal information'}, 'Choice Type': {'endIndexInSegment': -1, 'startIndexInSegment': -1, 'value': 'Unspecified'}, 'Identifiability': {'endIndexInSegment': 209, 'startIndexInSegment': 197, 'selectedText': 'user details', 'value': 'Identifiable'}, 'Does/Does Not': {'endIndexInSegment': 190, 'startIndexInSegment': 181, 'selectedText': 'we DO NOT', 'value': 'Does Not'}, 'User Type': {'endIndexInSegment': -1, 'startIndexInSegment': -1, 'value': 'Unspecified'}, 'Action Third Party': {'endIndexInSegment': 196, 'startIndexInSegment': 191, 'selectedText': 'share', 'value': 'Receive/Shared with'}}\n",
      "{'Third Party Entity': {'endIndexInSegment': 226, 'startIndexInSegment': 215, 'selectedText': 'advertisers', 'value': 'Named third party'}, 'Choice Scope': {'endIndexInSegment': -1, 'startIndexInSegment': -1, 'value': 'Unspecified'}, 'Purpose': {'endIndexInSegment': 226, 'startIndexInSegment': 216, 'selectedText': 'dvertisers', 'value': 'Advertising'}, 'Personal Information Type': {'endIndexInSegment': -1, 'startIndexInSegment': -1, 'value': 'Unspecified'}, 'Choice Type': {'endIndexInSegment': -1, 'startIndexInSegment': -1, 'value': 'Unspecified'}, 'Identifiability': {'endIndexInSegment': -1, 'startIndexInSegment': -1, 'value': 'Unspecified'}, 'Does/Does Not': {'endIndexInSegment': 190, 'startIndexInSegment': 184, 'selectedText': 'DO NOT', 'value': 'Does Not'}, 'User Type': {'endIndexInSegment': -1, 'startIndexInSegment': -1, 'value': 'Unspecified'}, 'Action Third Party': {'endIndexInSegment': 196, 'startIndexInSegment': 191, 'selectedText': 'share', 'value': 'Receive/Shared with'}}\n",
      "891_everydayhealth.com.csv\n",
      "898_uptodate.com.csv\n",
      "{'Third Party Entity': {'endIndexInSegment': 312, 'startIndexInSegment': 306, 'selectedText': 'anyone', 'value': 'Unnamed third party'}, 'Choice Scope': {'endIndexInSegment': -1, 'startIndexInSegment': -1, 'value': 'Unspecified'}, 'Purpose': {'endIndexInSegment': -1, 'startIndexInSegment': -1, 'value': 'Unspecified'}, 'Personal Information Type': {'endIndexInSegment': -1, 'startIndexInSegment': -1, 'value': 'Unspecified'}, 'Choice Type': {'endIndexInSegment': -1, 'startIndexInSegment': -1, 'value': 'Unspecified'}, 'Identifiability': {'endIndexInSegment': -1, 'startIndexInSegment': -1, 'value': 'Unspecified'}, 'Does/Does Not': {'endIndexInSegment': 220, 'startIndexInSegment': 213, 'selectedText': 'does no', 'value': 'Does Not'}, 'User Type': {'endIndexInSegment': -1, 'startIndexInSegment': -1, 'value': 'Unspecified'}, 'Action Third Party': {'endIndexInSegment': 226, 'startIndexInSegment': 222, 'selectedText': 'sell', 'value': 'Receive/Shared with'}}\n",
      "{'Third Party Entity': {'endIndexInSegment': 313, 'startIndexInSegment': 204, 'selectedText': \"UpToDate does not sell or otherwise share subscribers' or website visitors' personal information with anyone.\", 'value': 'Unnamed third party'}, 'Choice Scope': {'endIndexInSegment': -1, 'startIndexInSegment': -1, 'value': 'Unspecified'}, 'Purpose': {'endIndexInSegment': -1, 'startIndexInSegment': -1, 'value': 'Unspecified'}, 'Personal Information Type': {'endIndexInSegment': 300, 'startIndexInSegment': 280, 'selectedText': 'personal information', 'value': 'Generic personal information'}, 'Choice Type': {'endIndexInSegment': -1, 'startIndexInSegment': -1, 'value': 'Unspecified'}, 'Identifiability': {'endIndexInSegment': 300, 'startIndexInSegment': 280, 'selectedText': 'personal information', 'value': 'Identifiable'}, 'Does/Does Not': {'endIndexInSegment': 313, 'startIndexInSegment': 204, 'selectedText': \"UpToDate does not sell or otherwise share subscribers' or website visitors' personal information with anyone.\", 'value': 'Does Not'}, 'User Type': {'endIndexInSegment': -1, 'startIndexInSegment': -1, 'value': 'Unspecified'}, 'Action Third Party': {'endIndexInSegment': 313, 'startIndexInSegment': 204, 'selectedText': \"UpToDate does not sell or otherwise share subscribers' or website visitors' personal information with anyone.\", 'value': 'Receive/Shared with'}}\n",
      "{'Third Party Entity': {'endIndexInSegment': 312, 'startIndexInSegment': 307, 'selectedText': 'nyone', 'value': 'Unnamed third party'}, 'Choice Scope': {'endIndexInSegment': -1, 'startIndexInSegment': -1, 'value': 'Unspecified'}, 'Purpose': {'endIndexInSegment': -1, 'startIndexInSegment': -1, 'value': 'Unspecified'}, 'Personal Information Type': {'endIndexInSegment': 300, 'startIndexInSegment': 280, 'selectedText': 'personal information', 'value': 'Generic personal information'}, 'Choice Type': {'endIndexInSegment': -1, 'startIndexInSegment': -1, 'value': 'Unspecified'}, 'Identifiability': {'endIndexInSegment': -1, 'startIndexInSegment': -1, 'value': 'Unspecified'}, 'Does/Does Not': {'endIndexInSegment': 221, 'startIndexInSegment': 213, 'selectedText': 'does not', 'value': 'Does Not'}, 'User Type': {'endIndexInSegment': -1, 'startIndexInSegment': -1, 'value': 'Unspecified'}, 'Action Third Party': {'endIndexInSegment': 245, 'startIndexInSegment': 213, 'selectedText': 'does not sell or otherwise share', 'value': 'Receive/Shared with'}}\n",
      "907_earthkam.org.csv\n",
      "919_uh.edu.csv\n",
      "928_stlouisfed.org.csv\n",
      "{'Choice Type': {'endIndexInSegment': 167, 'startIndexInSegment': 109, 'selectedText': 'personal information you choose to provide us is voluntary', 'value': 'Other'}, 'Choice Scope': {'endIndexInSegment': 217, 'startIndexInSegment': 194, 'selectedText': 'provide any information', 'value': 'First party use'}, 'User Type': {'endIndexInSegment': -1, 'startIndexInSegment': -1, 'value': 'Unspecified'}, 'Purpose': {'endIndexInSegment': -1, 'startIndexInSegment': -1, 'value': 'Unspecified'}, 'Personal Information Type': {'endIndexInSegment': 217, 'startIndexInSegment': 202, 'selectedText': 'any information', 'value': 'Generic personal information'}}\n",
      "93_pbs.org.csv\n",
      "940_internetbrands.com.csv\n",
      "{'Choice Type': {'selectedText': 'please do not use our sites or services.', 'startIndexInSegment': 486, 'endIndexInSegment': 531, 'value': 'Dont use service/feature'}, 'Choice Scope': {'selectedText': 'collection', 'startIndexInSegment': 333, 'endIndexInSegment': 343, 'value': 'First party collection'}, 'User Type': {'selectedText': 'Not selected', 'startIndexInSegment': -1, 'endIndexInSegment': -1, 'value': 'Unspecified'}, 'Purpose': {'selectedText': 'Not selected', 'startIndexInSegment': -1, 'endIndexInSegment': -1, 'value': 'Unspecified'}, 'Personal Information Type': {'selectedText': 'personal information', 'startIndexInSegment': 384, 'endIndexInSegment': 404, 'value': 'Generic personal information'}}\n",
      "962_lynda.com.csv\n",
      "988_solarviews.com.csv\n",
      "{'Third Party Entity': {'selectedText': 'third-party companies', 'startIndexInSegment': 37, 'endIndexInSegment': 58, 'value': 'Unnamed third party'}, 'Choice Scope': {'selectedText': 'null', 'startIndexInSegment': -1, 'endIndexInSegment': -1, 'value': 'not-selected'}, 'Purpose': {'selectedText': 'during your visits to this and other Web sites in order to provide advertisements about goods and services likely to be of greater interest to you.', 'startIndexInSegment': 324, 'endIndexInSegment': 471, 'value': 'Advertising'}, 'Personal Information Type': {'selectedText': 'non-personally identifiable information (e.g., click stream information, browser type, time and date, subject of advertisements clicked or scrolled over)', 'startIndexInSegment': 170, 'endIndexInSegment': 323, 'value': 'Other'}, 'Choice Type': {'selectedText': 'null', 'startIndexInSegment': -1, 'endIndexInSegment': -1, 'value': 'not-selected'}, 'Identifiability': {'selectedText': 'anonymous information', 'startIndexInSegment': 95, 'endIndexInSegment': 116, 'value': 'Aggregated or anonymized'}, 'Does/Does Not': {'selectedText': 'null', 'startIndexInSegment': -1, 'endIndexInSegment': -1, 'value': 'Does'}, 'User Type': {'selectedText': 'null', 'startIndexInSegment': -1, 'endIndexInSegment': -1, 'value': 'not-selected'}, 'Action Third Party': {'selectedText': 'We allow third-party companies to serve ads and/or collect certain anonymous information when you visit our web site.', 'startIndexInSegment': 28, 'endIndexInSegment': 145, 'value': 'Collect on first party website/app'}}\n",
      "{'Third Party Entity': {'selectedText': 'third-party companies', 'startIndexInSegment': 37, 'endIndexInSegment': 58, 'value': 'Unnamed third party'}, 'Choice Scope': {'selectedText': 'null', 'startIndexInSegment': -1, 'endIndexInSegment': -1, 'value': 'not-selected'}, 'Purpose': {'selectedText': 'during your visits to this and other Web sites in order to provide advertisements about goods and services likely to be of greater interest to you.', 'startIndexInSegment': 324, 'endIndexInSegment': 471, 'value': 'Advertising'}, 'Personal Information Type': {'selectedText': '(e.g., click stream information, browser type, time and date, subject of advertisements clicked or scrolled over', 'startIndexInSegment': 210, 'endIndexInSegment': 322, 'value': 'User online activities'}, 'Choice Type': {'selectedText': 'To learn more about this behavioral advertising practice or to opt-out of this type of advertising, you can visit networkadvertising.org.', 'startIndexInSegment': 566, 'endIndexInSegment': 703, 'value': 'Opt-out link'}, 'Identifiability': {'selectedText': 'non-personally identifiable information', 'startIndexInSegment': 170, 'endIndexInSegment': 209, 'value': 'Aggregated or anonymized'}, 'Does/Does Not': {'selectedText': 'null', 'startIndexInSegment': -1, 'endIndexInSegment': -1, 'value': 'Does'}, 'User Type': {'selectedText': 'null', 'startIndexInSegment': -1, 'endIndexInSegment': -1, 'value': 'not-selected'}, 'Action Third Party': {'selectedText': 'These companies typically use a cookie or third party web beacon to collect this information.', 'startIndexInSegment': 472, 'endIndexInSegment': 565, 'value': 'Collect on first party website/app'}}\n",
      "{'Third Party Entity': {'selectedText': 'third-party companies', 'startIndexInSegment': 37, 'endIndexInSegment': 58, 'value': 'Unnamed third party'}, 'Choice Scope': {'selectedText': 'opt-out of this type of advertising', 'startIndexInSegment': 629, 'endIndexInSegment': 664, 'value': 'Both'}, 'Purpose': {'selectedText': 'ads', 'startIndexInSegment': 68, 'endIndexInSegment': 71, 'value': 'Advertising'}, 'Personal Information Type': {'selectedText': 'collect certain anonymous information', 'startIndexInSegment': 79, 'endIndexInSegment': 116, 'value': 'Unspecified'}, 'Choice Type': {'selectedText': 'opt-out', 'startIndexInSegment': 629, 'endIndexInSegment': 636, 'value': 'Opt-out link'}, 'Identifiability': {'selectedText': 'anonymous', 'startIndexInSegment': 95, 'endIndexInSegment': 104, 'value': 'Aggregated or anonymized'}, 'Does/Does Not': {'selectedText': 'allow third-party companies to serve ads and/or collect', 'startIndexInSegment': 31, 'endIndexInSegment': 86, 'value': 'Does'}, 'User Type': {'selectedText': 'Not selected', 'startIndexInSegment': -1, 'endIndexInSegment': -1, 'value': 'Unspecified'}, 'Action Third Party': {'selectedText': 'serve ads and/or collect certain anonymous information', 'startIndexInSegment': 62, 'endIndexInSegment': 116, 'value': 'Collect on first party website/app'}}\n",
      "{'Third Party Entity': {'selectedText': 'third-party companies', 'startIndexInSegment': 37, 'endIndexInSegment': 58, 'value': 'Unnamed third party'}, 'Choice Scope': {'selectedText': 'opt-out of this type of advertising,', 'startIndexInSegment': 629, 'endIndexInSegment': 665, 'value': 'Both'}, 'Purpose': {'selectedText': 'provide advertisements about goods and services likely to be of greater interest to you', 'startIndexInSegment': 383, 'endIndexInSegment': 470, 'value': 'Advertising'}, 'Personal Information Type': {'selectedText': 'click stream information', 'startIndexInSegment': 217, 'endIndexInSegment': 241, 'value': 'User online activities'}, 'Choice Type': {'selectedText': 'opt-out', 'startIndexInSegment': 629, 'endIndexInSegment': 636, 'value': 'Opt-out link'}, 'Identifiability': {'selectedText': 'non-personally identifiable information', 'startIndexInSegment': 170, 'endIndexInSegment': 209, 'value': 'Other'}, 'Does/Does Not': {'selectedText': 'allow third-party companies to serve ads and/or collect', 'startIndexInSegment': 31, 'endIndexInSegment': 86, 'value': 'Does'}, 'User Type': {'selectedText': 'Not selected', 'startIndexInSegment': -1, 'endIndexInSegment': -1, 'value': 'Unspecified'}, 'Action Third Party': {'selectedText': 'serve ads and/or collect certain anonymous information', 'startIndexInSegment': 62, 'endIndexInSegment': 116, 'value': 'Collect on first party website/app'}}\n",
      "98_neworleansonline.com.csv\n",
      "995_mohegansun.com.csv\n",
      "{'Third Party Entity': {'endIndexInSegment': 263, 'startIndexInSegment': 192, 'selectedText': 'Mohegan Sun does not share or sell your personal information to anyone.', 'value': 'Unnamed third party'}, 'Choice Scope': {'endIndexInSegment': -1, 'startIndexInSegment': -1, 'value': 'Unspecified'}, 'Purpose': {'endIndexInSegment': -1, 'startIndexInSegment': -1, 'value': 'Unspecified'}, 'Personal Information Type': {'endIndexInSegment': 252, 'startIndexInSegment': 232, 'selectedText': 'personal information', 'value': 'Generic personal information'}, 'Choice Type': {'endIndexInSegment': -1, 'startIndexInSegment': -1, 'value': 'Unspecified'}, 'Identifiability': {'endIndexInSegment': 252, 'startIndexInSegment': 232, 'selectedText': 'personal information', 'value': 'Identifiable'}, 'Does/Does Not': {'endIndexInSegment': 263, 'startIndexInSegment': 192, 'selectedText': 'Mohegan Sun does not share or sell your personal information to anyone.', 'value': 'Does Not'}, 'User Type': {'endIndexInSegment': -1, 'startIndexInSegment': -1, 'value': 'Unspecified'}, 'Action Third Party': {'endIndexInSegment': 263, 'startIndexInSegment': 192, 'selectedText': 'Mohegan Sun does not share or sell your personal information to anyone.', 'value': 'Receive/Shared with'}}\n"
     ]
    }
   ],
   "source": [
    "\n",
    "path = r'annotations'  # use your path\n",
    "allFiles = glob.glob(path + \"/*.csv\")\n",
    "\n",
    "data_samples2 = []\n",
    "data_number2 = []\n",
    "data_label2 = []\n",
    "\n",
    "cnt = 0\n",
    "\n",
    "for file in allFiles:\n",
    "    allFiles = allFiles[:85]\n",
    "    dictCollection = {\"Action First-Party\":[],\n",
    "                      \"Purpose\":[],\n",
    "                      \"Personal Information Type\":[]\n",
    "                      }\n",
    "\n",
    "    df = pd.read_csv(file, thousands=',', header=None)\n",
    "    len(df)\n",
    "    # df_tail = df.tail(1)[4]\n",
    "    # print(df_tail)\n",
    "    number_of_segments = 5#len(df) + 1\n",
    "\n",
    "    file = file.split('annotations/', 1)[1]\n",
    "    print(file)\n",
    "    for i in range(number_of_segments-1):\n",
    "        # print(i)\n",
    "        if df[5][i] == \"First Party Collection/Use\":\n",
    "            parse_json = json.loads(str(df[6][i]))\n",
    "            if parse_json[\"Action First-Party\"][\"endIndexInSegment\"] != -1:\n",
    "                data_samples2.append(parse_json[\"Action First-Party\"][\"selectedText\"])\n",
    "                data_number2.append(1)\n",
    "                data_label2.append(\"Action First-Party\")\n",
    "                cnt = cnt+1\n",
    "            if parse_json[\"Personal Information Type\"][\"endIndexInSegment\"] != -1:\n",
    "                data_samples2.append(parse_json[\"Personal Information Type\"][\"selectedText\"])\n",
    "                data_number2.append(2)\n",
    "                data_label2.append(\"Other\")                \n",
    "                cnt = cnt+1\n",
    "            if parse_json[\"Purpose\"][\"endIndexInSegment\"] != -1:\n",
    "                data_samples2.append(parse_json[\"Purpose\"][\"selectedText\"])\n",
    "                data_number2.append(2)\n",
    "                data_label2.append(\"Other\")     \n",
    "                cnt = cnt+1\n",
    "        if df[5][i] == \"Third Party Sharing/Collection\":\n",
    "            parse_json = json.loads(str(df[6][i]))\n",
    "            print(parse_json)\n",
    "            if parse_json[\"Personal Information Type\"][\"endIndexInSegment\"] != -1:\n",
    "                data_samples2.append(parse_json[\"Personal Information Type\"][\"selectedText\"])\n",
    "                data_number2.append(2)\n",
    "                data_label2.append(\"Other\")                \n",
    "                cnt = cnt+1\n",
    "            if parse_json[\"Purpose\"][\"endIndexInSegment\"] != -1:\n",
    "                data_samples2.append(parse_json[\"Purpose\"][\"selectedText\"])\n",
    "                data_number2.append(2)\n",
    "                data_label2.append(\"Other\")     \n",
    "                cnt = cnt+1\n",
    "        if df[5][i] == \"User Choice/Control\":\n",
    "            parse_json = json.loads(str(df[6][i]))\n",
    "            print(parse_json)\n",
    "            if parse_json[\"Personal Information Type\"][\"endIndexInSegment\"] != -1:\n",
    "                data_samples2.append(parse_json[\"Personal Information Type\"][\"selectedText\"])\n",
    "                data_number2.append(2)\n",
    "                data_label2.append(\"Other\")                \n",
    "                cnt = cnt+1\n",
    "            if parse_json[\"Purpose\"][\"endIndexInSegment\"] != -1:\n",
    "                data_samples2.append(parse_json[\"Purpose\"][\"selectedText\"])\n",
    "                data_number2.append(2)\n",
    "                data_label2.append(\"Other\")     \n",
    "                cnt = cnt+1\n",
    "        "
   ]
  },
  {
   "cell_type": "code",
   "execution_count": 91,
   "metadata": {
    "collapsed": false
   },
   "outputs": [],
   "source": [
    "\n",
    "train_samples2 = np.array(data_samples2[:160])\n",
    "train_label2 = np.array(data_label2[:160])\n",
    "train_number2 = np.array(data_number2[:160])\n",
    "\n",
    "test_samples2 = np.array(data_samples2[161:204])\n",
    "test_label2 = np.array(data_label2[161:204])\n",
    "test_number2 = np.array(data_number2[161:204])\n"
   ]
  },
  {
   "cell_type": "code",
   "execution_count": 92,
   "metadata": {
    "collapsed": false
   },
   "outputs": [
    {
     "data": {
      "text/plain": [
       "(160, 173)"
      ]
     },
     "execution_count": 92,
     "metadata": {},
     "output_type": "execute_result"
    }
   ],
   "source": [
    "from sklearn.feature_extraction.text import CountVectorizer\n",
    "count_vect1 = CountVectorizer(max_df=0.95, min_df=2,\n",
    "                                max_features=1000)\n",
    "X_train_counts1 = count_vect1.fit_transform(train_samples2)\n",
    "X_train_counts1\n",
    "\n",
    "from sklearn.feature_extraction.text import TfidfTransformer\n",
    "tf_transformer1 = TfidfTransformer(use_idf=False).fit(X_train_counts1)\n",
    "X_train_tf1 = tf_transformer1.transform(X_train_counts1)\n",
    "X_train_tf1.shape\n",
    "\n",
    "tfidf_transformer1 = TfidfTransformer()\n",
    "X_train_tfidf1 = tfidf_transformer1.fit_transform(X_train_counts1)\n",
    "X_train_tfidf1.shape"
   ]
  },
  {
   "cell_type": "code",
   "execution_count": 93,
   "metadata": {
    "collapsed": false
   },
   "outputs": [
    {
     "data": {
      "text/plain": [
       "0.90697674418604646"
      ]
     },
     "execution_count": 93,
     "metadata": {},
     "output_type": "execute_result"
    }
   ],
   "source": [
    "from sklearn.pipeline import Pipeline\n",
    "from sklearn.naive_bayes import MultinomialNB\n",
    "text_clf1 = Pipeline([('vect', CountVectorizer()), ('tfidf', TfidfTransformer()), ('clf', MultinomialNB())])\n",
    "text_clf1 = text_clf1.fit(train_samples2, train_number2)\n",
    "\n",
    "import numpy as np\n",
    "predicted = text_clf1.predict(test_samples2)\n",
    "np.mean(predicted == test_number2)"
   ]
  },
  {
   "cell_type": "code",
   "execution_count": 96,
   "metadata": {
    "collapsed": false
   },
   "outputs": [
    {
     "name": "stdout",
     "output_type": "stream",
     "text": [
      "                    precision    recall  f1-score   support\n",
      "\n",
      "             Other       1.00      0.43      0.60         7\n",
      "             Other       0.90      1.00      0.95        36\n",
      "\n",
      "       avg / total       0.92      0.91      0.89        43\n",
      "\n",
      "['Other' 'Other' 'Other' 'Other' 'Other' 'Other' 'Other'\n",
      " 'Action First-Party' 'Other' 'Action First-Party' 'Other' 'Other' 'Other'\n",
      " 'Action First-Party' 'Other' 'Other' 'Other' 'Other' 'Other' 'Other'\n",
      " 'Other' 'Other' 'Other' 'Action First-Party' 'Other' 'Other'\n",
      " 'Action First-Party' 'Other' 'Action First-Party' 'Other'\n",
      " 'Action First-Party' 'Other' 'Other' 'Other' 'Other' 'Other' 'Other'\n",
      " 'Other' 'Other' 'Other' 'Other' 'Other' 'Other']\n"
     ]
    }
   ],
   "source": [
    "from sklearn import metrics\n",
    "print(metrics.classification_report(test_number2, predicted,\n",
    "                                        target_names=test_label2))\n",
    "\n",
    "metrics.confusion_matrix(test_number2, predicted)\n",
    "print(test_label2)"
   ]
  },
  {
   "cell_type": "code",
   "execution_count": 50,
   "metadata": {
    "collapsed": false
   },
   "outputs": [
    {
     "data": {
      "text/plain": [
       "0.93023255813953487"
      ]
     },
     "execution_count": 50,
     "metadata": {},
     "output_type": "execute_result"
    }
   ],
   "source": [
    "from sklearn.linear_model import SGDClassifier\n",
    "text_clf1 = Pipeline([('vect', CountVectorizer()), \n",
    "                     ('tfidf', TfidfTransformer()),\n",
    "                     ('clf', SGDClassifier(loss='hinge', penalty='l2',\n",
    "                                           alpha=1e-3, n_iter=5, random_state=42))])\n",
    "_ = text_clf1.fit(train_samples2, train_number2)\n",
    "\n",
    "import numpy as np\n",
    "predicted = text_clf1.predict(test_samples2)\n",
    "np.mean(predicted == test_number2)  "
   ]
  },
  {
   "cell_type": "code",
   "execution_count": 41,
   "metadata": {
    "collapsed": false
   },
   "outputs": [
    {
     "name": "stdout",
     "output_type": "stream",
     "text": [
      "1017_sci-news.com.csv\n",
      "1028_redorbit.com.csv\n",
      "1034_aol.com.csv\n",
      "1050_honda.com.csv\n",
      "105_amazon.com.csv\n",
      "1070_wnep.com.csv\n",
      "1083_highgearmedia.com.csv\n",
      "1089_freep.com.csv\n",
      "1099_enthusiastnetwork.com.csv\n",
      "1106_allstate.com.csv\n",
      "1164_acbj.com.csv\n",
      "1205_opensecrets.org.csv\n",
      "{'Third Party Entity': {'endIndexInSegment': 89, 'startIndexInSegment': 76, 'selectedText': 'third parties', 'value': 'Unnamed third party'}, 'Choice Scope': {'endIndexInSegment': -1, 'startIndexInSegment': -1, 'value': 'Unspecified'}, 'Purpose': {'endIndexInSegment': -1, 'startIndexInSegment': -1, 'value': 'Unspecified'}, 'Personal Information Type': {'endIndexInSegment': 68, 'startIndexInSegment': 33, 'selectedText': 'personally identifiable information', 'value': 'Generic personal information'}, 'Choice Type': {'endIndexInSegment': -1, 'startIndexInSegment': -1, 'value': 'Unspecified'}, 'Identifiability': {'endIndexInSegment': 68, 'startIndexInSegment': 33, 'selectedText': 'personally identifiable information', 'value': 'Identifiable'}, 'Does/Does Not': {'endIndexInSegment': 12, 'startIndexInSegment': 4, 'selectedText': 'will not', 'value': 'Does Not'}, 'User Type': {'endIndexInSegment': -1, 'startIndexInSegment': -1, 'value': 'Unspecified'}, 'Action Third Party': {'endIndexInSegment': 18, 'startIndexInSegment': 13, 'selectedText': 'share', 'value': 'Receive/Shared with'}}\n",
      "1206_dcccd.edu.csv\n",
      "1221_gwdocs.com.csv\n",
      "1224_austincc.edu.csv\n",
      "1252_cincymuseum.org.csv\n",
      "1259_fool.com.csv\n",
      "1261_zacks.com.csv\n",
      "{'Third Party Entity': {'endIndexInSegment': 585, 'startIndexInSegment': 574, 'selectedText': 'third party', 'value': 'Unnamed third party'}, 'Choice Scope': {'endIndexInSegment': 595, 'startIndexInSegment': 401, 'selectedText': 'disclose the information you provide us or send you information if you authorize us to do so by choosing to receive e-mail services on our Zacks.com Web site or opting into third party mailings.', 'value': 'Both'}, 'Purpose': {'endIndexInSegment': -1, 'startIndexInSegment': -1, 'value': 'Unspecified'}, 'Personal Information Type': {'endIndexInSegment': 383, 'startIndexInSegment': 329, 'selectedText': 'email address, name, postal address, and phone number.', 'value': 'Contact'}, 'Choice Type': {'endIndexInSegment': 595, 'startIndexInSegment': 465, 'selectedText': 'if you authorize us to do so by choosing to receive e-mail services on our Zacks.com Web site or opting into third party mailings.', 'value': 'Opt-in'}, 'Identifiability': {'endIndexInSegment': -1, 'startIndexInSegment': -1, 'value': 'not-selected'}, 'Does/Does Not': {'endIndexInSegment': -1, 'startIndexInSegment': -1, 'value': 'Does'}, 'User Type': {'endIndexInSegment': -1, 'startIndexInSegment': -1, 'value': 'not-selected'}, 'Action Third Party': {'endIndexInSegment': 493, 'startIndexInSegment': 393, 'selectedText': 'we only disclose the information you provide us or send you information if you authorize us to do so', 'value': 'Receive/Shared with'}}\n",
      "1264_citizen.org.csv\n",
      "1300_bankofamerica.com.csv\n",
      "1306_chasepaymentech.com.csv\n",
      "133_fortune.com.csv\n",
      "135_instagram.com.csv\n",
      "1360_thehill.com.csv\n",
      "1361_yahoo.com.csv\n",
      "1419_miaminewtimes.com.csv\n",
      "144_style.com.csv\n",
      "1468_rockstargames.com.csv\n",
      "1470_steampowered.com.csv\n",
      "1498_ticketmaster.com.csv\n",
      "1510_jibjab.com.csv\n",
      "1539_geocaching.com.csv\n",
      "1545_taylorswift.com.csv\n",
      "1582_msn.com.csv\n",
      "1610_post-gazette.com.csv\n",
      "1618_sltrib.com.csv\n",
      "1636_sidearmsports.com.csv\n",
      "1637_dailyillini.com.csv\n",
      "164_adweek.com.csv\n",
      "1666_wsmv.com.csv\n",
      "1673_tulsaworld.com.csv\n",
      "1683_dailynews.com.csv\n",
      "1694_lids.com.csv\n",
      "1703_sports-reference.com.csv\n",
      "1708_foxsports.com.csv\n",
      "1713_latinpost.com.csv\n",
      "175_mlb.mlb.com.csv\n",
      "186_abcnews.com.csv\n",
      "200_washingtonpost.com.csv\n",
      "202_foodallergy.org.csv\n",
      "207_reference.com.csv\n",
      "20_theatlantic.com.csv\n",
      "21_imdb.com.csv\n",
      "228_gawker.com.csv\n",
      "{'Third Party Entity': {'endIndexInSegment': 81, 'startIndexInSegment': 64, 'selectedText': 'third parties may', 'value': 'Unnamed third party'}, 'Choice Scope': {'endIndexInSegment': -1, 'startIndexInSegment': -1, 'value': 'Unspecified'}, 'Purpose': {'endIndexInSegment': -1, 'startIndexInSegment': -1, 'value': 'Unspecified'}, 'Personal Information Type': {'endIndexInSegment': -1, 'startIndexInSegment': -1, 'value': 'Unspecified'}, 'Choice Type': {'endIndexInSegment': -1, 'startIndexInSegment': -1, 'value': 'Unspecified'}, 'Identifiability': {'endIndexInSegment': 101, 'startIndexInSegment': 82, 'selectedText': 'collect information', 'value': 'Unspecified'}, 'Does/Does Not': {'endIndexInSegment': 89, 'startIndexInSegment': 82, 'selectedText': 'collect', 'value': 'Does'}, 'User Type': {'endIndexInSegment': -1, 'startIndexInSegment': -1, 'value': 'Unspecified'}, 'Action Third Party': {'endIndexInSegment': 101, 'startIndexInSegment': 82, 'selectedText': 'collect information', 'value': 'Collect on first party website/app'}}\n",
      "26_nytimes.com.csv\n",
      "303_reddit.com.csv\n",
      "320_timeinc.com.csv\n",
      "325_ocregister.com.csv\n",
      "{'Third Party Entity': {'endIndexInSegment': 126, 'startIndexInSegment': 22, 'selectedText': 'Freedom will be transferring to Publisher customer data collected from users of the Properties websites.', 'value': 'Named third party'}, 'Choice Scope': {'endIndexInSegment': -1, 'startIndexInSegment': -1, 'value': 'Unspecified'}, 'Purpose': {'endIndexInSegment': 20, 'startIndexInSegment': 16, 'selectedText': 'sale', 'value': 'Merger/Acquisition'}, 'Personal Information Type': {'endIndexInSegment': -1, 'startIndexInSegment': -1, 'value': 'Unspecified'}, 'Choice Type': {'endIndexInSegment': -1, 'startIndexInSegment': -1, 'value': 'Unspecified'}, 'Identifiability': {'endIndexInSegment': -1, 'startIndexInSegment': -1, 'value': 'Unspecified'}, 'Does/Does Not': {'endIndexInSegment': 37, 'startIndexInSegment': 30, 'selectedText': 'will be', 'value': 'Does'}, 'User Type': {'endIndexInSegment': -1, 'startIndexInSegment': -1, 'value': 'Unspecified'}, 'Action Third Party': {'endIndexInSegment': 50, 'startIndexInSegment': 38, 'selectedText': 'transferring', 'value': 'Receive/Shared with'}}\n",
      "32_voxmedia.com.csv\n",
      "331_tgifridays.com.csv\n",
      "33_nbcuniversal.com.csv\n",
      "348_walmart.com.csv\n",
      "359_vikings.com.csv\n",
      "394_newsbusters.org.csv\n",
      "414_washingtonian.com.csv\n",
      "453_barnesandnoble.com.csv\n",
      "456_boardgamegeek.com.csv\n",
      "{'Third Party Entity': {'endIndexInSegment': 98, 'startIndexInSegment': 73, 'selectedText': 'other people or companies', 'value': 'Unnamed third party'}, 'Choice Scope': {'endIndexInSegment': -1, 'startIndexInSegment': -1, 'value': 'Unspecified'}, 'Purpose': {'endIndexInSegment': -1, 'startIndexInSegment': -1, 'value': 'Unspecified'}, 'Personal Information Type': {'endIndexInSegment': 57, 'startIndexInSegment': 37, 'selectedText': 'personal information', 'value': 'Unspecified'}, 'Choice Type': {'endIndexInSegment': 145, 'startIndexInSegment': 101, 'selectedText': 'except when we have your explicit permission', 'value': 'Opt-in'}, 'Identifiability': {'endIndexInSegment': -1, 'startIndexInSegment': -1, 'value': 'Unspecified'}, 'Does/Does Not': {'endIndexInSegment': 11, 'startIndexInSegment': 7, 'selectedText': 'does', 'value': 'Does'}, 'User Type': {'endIndexInSegment': -1, 'startIndexInSegment': -1, 'value': 'Unspecified'}, 'Action Third Party': {'endIndexInSegment': 26, 'startIndexInSegment': 22, 'selectedText': 'sell', 'value': 'Receive/Shared with'}}\n",
      "481_fredericknewspost.com.csv\n",
      "503_buffalowildwings.com.csv\n",
      "517_kaleidahealth.org.csv\n",
      "523_usa.gov.csv\n",
      "531_archives.gov.csv\n",
      "541_ifsa-butler.org.csv\n",
      "559_www.loc.gov.csv\n",
      "{'Third Party Entity': {'endIndexInSegment': 531, 'startIndexInSegment': 514, 'selectedText': 'government agency', 'value': 'Other part of company/affiliate'}, 'Choice Scope': {'endIndexInSegment': -1, 'startIndexInSegment': -1, 'value': 'Unspecified'}, 'Purpose': {'endIndexInSegment': 550, 'startIndexInSegment': 535, 'selectedText': 'required by law', 'value': 'Legal requirement'}, 'Personal Information Type': {'endIndexInSegment': 508, 'startIndexInSegment': 488, 'selectedText': 'personal information', 'value': 'Generic personal information'}, 'Choice Type': {'endIndexInSegment': -1, 'startIndexInSegment': -1, 'value': 'Unspecified'}, 'Identifiability': {'endIndexInSegment': -1, 'startIndexInSegment': -1, 'value': 'Unspecified'}, 'Does/Does Not': {'endIndexInSegment': 487, 'startIndexInSegment': 466, 'selectedText': 'We will only disclose', 'value': 'Does'}, 'User Type': {'endIndexInSegment': -1, 'startIndexInSegment': -1, 'value': 'Unspecified'}, 'Action Third Party': {'endIndexInSegment': 487, 'startIndexInSegment': 479, 'selectedText': 'disclose', 'value': 'Receive/Shared with'}}\n",
      "{'Third Party Entity': {'endIndexInSegment': 633, 'startIndexInSegment': 608, 'selectedText': 'contractors or associates', 'value': 'Unnamed third party'}, 'Choice Scope': {'endIndexInSegment': -1, 'startIndexInSegment': -1, 'value': 'Unspecified'}, 'Purpose': {'endIndexInSegment': 660, 'startIndexInSegment': 637, 'selectedText': 'carry out your requests', 'value': 'Basic service/feature'}, 'Personal Information Type': {'endIndexInSegment': 508, 'startIndexInSegment': 488, 'selectedText': 'personal information', 'value': 'Generic personal information'}, 'Choice Type': {'endIndexInSegment': -1, 'startIndexInSegment': -1, 'value': 'Unspecified'}, 'Identifiability': {'endIndexInSegment': -1, 'startIndexInSegment': -1, 'value': 'Unspecified'}, 'Does/Does Not': {'endIndexInSegment': 583, 'startIndexInSegment': 562, 'selectedText': 'We will only disclose', 'value': 'Does'}, 'User Type': {'endIndexInSegment': -1, 'startIndexInSegment': -1, 'value': 'Unspecified'}, 'Action Third Party': {'endIndexInSegment': 487, 'startIndexInSegment': 479, 'selectedText': 'disclose', 'value': 'Receive/Shared with'}}\n",
      "{'Third Party Entity': {'endIndexInSegment': 823, 'startIndexInSegment': 802, 'selectedText': 'other outside parties', 'value': 'Unnamed third party'}, 'Choice Scope': {'endIndexInSegment': 772, 'startIndexInSegment': 764, 'selectedText': 'disclose', 'value': 'Use'}, 'Purpose': {'endIndexInSegment': -1, 'startIndexInSegment': -1, 'value': 'Unspecified'}, 'Personal Information Type': {'endIndexInSegment': 798, 'startIndexInSegment': 778, 'selectedText': 'personal information', 'value': 'Generic personal information'}, 'Choice Type': {'endIndexInSegment': 863, 'startIndexInSegment': 824, 'selectedText': 'without first obtaining your permission', 'value': 'Opt-in'}, 'Identifiability': {'endIndexInSegment': -1, 'startIndexInSegment': -1, 'value': 'Unspecified'}, 'Does/Does Not': {'endIndexInSegment': 763, 'startIndexInSegment': 755, 'selectedText': 'will not', 'value': 'Does Not'}, 'User Type': {'endIndexInSegment': -1, 'startIndexInSegment': -1, 'value': 'Unspecified'}, 'Action Third Party': {'endIndexInSegment': 772, 'startIndexInSegment': 764, 'selectedText': 'disclose', 'value': 'Receive/Shared with'}}\n",
      "571_abita.com.csv\n",
      "{'Choice Type': {'endIndexInSegment': 177, 'startIndexInSegment': 47, 'selectedText': 'By accessing this website, you are consenting to the information collection and use practices described in this privacy statement.', 'value': 'Dont use service/feature'}, 'Choice Scope': {'endIndexInSegment': 130, 'startIndexInSegment': 113, 'selectedText': 'ollection and use', 'value': 'Unspecified'}, 'User Type': {'endIndexInSegment': -1, 'startIndexInSegment': -1, 'value': 'not-selected'}, 'Purpose': {'endIndexInSegment': -1, 'startIndexInSegment': -1, 'value': 'Unspecified'}, 'Personal Information Type': {'endIndexInSegment': 111, 'startIndexInSegment': 100, 'selectedText': 'information', 'value': 'Unspecified'}}\n",
      "581_coffeereview.com.csv\n",
      "584_communitycoffee.com.csv\n",
      "586_cariboucoffee.com.csv\n",
      "58_esquire.com.csv\n",
      "591_google.com.csv\n",
      "59_liquor.com.csv\n",
      "627_dairyqueen.com.csv\n",
      "{'Choice Type': {'selectedText': 'by using our website, you accept and agree to the terms stated below.', 'startIndexInSegment': 134, 'endIndexInSegment': 203, 'value': 'Dont use service/feature'}, 'Choice Scope': {'selectedText': 'Not selected', 'startIndexInSegment': -1, 'endIndexInSegment': -1, 'value': 'Unspecified'}, 'User Type': {'selectedText': 'Not selected', 'startIndexInSegment': -1, 'endIndexInSegment': -1, 'value': 'Unspecified'}, 'Purpose': {'selectedText': 'Not selected', 'startIndexInSegment': -1, 'endIndexInSegment': -1, 'value': 'Unspecified'}, 'Personal Information Type': {'selectedText': 'Not selected', 'startIndexInSegment': -1, 'endIndexInSegment': -1, 'value': 'Unspecified'}}\n",
      "635_playstation.com.csv\n",
      "640_gamestop.com.csv\n",
      "641_cbsinteractive.com.csv\n",
      "642_thefreedictionary.com.csv\n",
      "652_randomhouse.com.csv\n",
      "{'Choice Type': {'endIndexInSegment': 621, 'startIndexInSegment': 450, 'selectedText': 'By using our Sites, you are accepting the practices described in this Privacy Policy. If you do not agree to the terms of this Privacy Policy, please do not use the Sites.', 'value': 'Dont use service/feature'}, 'Choice Scope': {'endIndexInSegment': -1, 'startIndexInSegment': -1, 'value': 'Unspecified'}, 'User Type': {'endIndexInSegment': 469, 'startIndexInSegment': 450, 'selectedText': 'By using our Sites,', 'value': 'Other'}, 'Purpose': {'endIndexInSegment': -1, 'startIndexInSegment': -1, 'value': 'Unspecified'}, 'Personal Information Type': {'endIndexInSegment': -1, 'startIndexInSegment': -1, 'value': 'Unspecified'}}\n",
      "676_restaurantnews.com.csv\n",
      "{'Third Party Entity': {'endIndexInSegment': 102, 'startIndexInSegment': 57, 'selectedText': 'Google, as a third party advertisement vendor', 'value': 'Named third party'}, 'Choice Scope': {'endIndexInSegment': -1, 'startIndexInSegment': -1, 'value': 'not-selected'}, 'Purpose': {'endIndexInSegment': 306, 'startIndexInSegment': 117, 'selectedText': 'to serve ads on this site. The use of DART cookies by Google enables them to serve adverts to visitors that are based on their visits to this website as well as other sites on the internet.', 'value': 'Advertising'}, 'Personal Information Type': {'endIndexInSegment': 167, 'startIndexInSegment': 104, 'selectedText': 'uses cookies to serve ads on this site. The use of DART cookies', 'value': 'Cookies and tracking elements'}, 'Choice Type': {'endIndexInSegment': -1, 'startIndexInSegment': -1, 'value': 'not-selected'}, 'Identifiability': {'endIndexInSegment': -1, 'startIndexInSegment': -1, 'value': 'not-selected'}, 'Does/Does Not': {'endIndexInSegment': -1, 'startIndexInSegment': -1, 'value': 'Does'}, 'User Type': {'endIndexInSegment': 219, 'startIndexInSegment': 211, 'selectedText': 'visitors', 'value': 'Other'}, 'Action Third Party': {'endIndexInSegment': 306, 'startIndexInSegment': 57, 'selectedText': 'Google, as a third party advertisement vendor, uses cookies to serve ads on this site. The use of DART cookies by Google enables them to serve adverts to visitors that are based on their visits to this website as well as other sites on the internet.', 'value': 'Track on first party website/app'}}\n",
      "686_military.com.csv\n",
      "701_tangeroutlet.com.csv\n",
      "{'Third Party Entity': {'endIndexInSegment': 243, 'startIndexInSegment': 227, 'selectedText': 'any third party.', 'value': 'Unnamed third party'}, 'Choice Scope': {'endIndexInSegment': -1, 'startIndexInSegment': -1, 'value': 'not-selected'}, 'Purpose': {'endIndexInSegment': -1, 'startIndexInSegment': -1, 'value': 'Unspecified'}, 'Personal Information Type': {'endIndexInSegment': 123, 'startIndexInSegment': 90, 'selectedText': 'personal identifiable information', 'value': 'Generic personal information'}, 'Choice Type': {'endIndexInSegment': -1, 'startIndexInSegment': -1, 'value': 'not-selected'}, 'Identifiability': {'endIndexInSegment': 111, 'startIndexInSegment': 90, 'selectedText': 'personal identifiable', 'value': 'Identifiable'}, 'Does/Does Not': {'endIndexInSegment': 243, 'startIndexInSegment': 185, 'selectedText': 'and is not sold, shared or distributed to any third party.', 'value': 'Does Not'}, 'User Type': {'endIndexInSegment': 152, 'startIndexInSegment': 134, 'selectedText': 'from our customers', 'value': 'Other'}, 'Action Third Party': {'endIndexInSegment': 223, 'startIndexInSegment': 193, 'selectedText': 'ot sold, shared or distributed', 'value': 'Receive/Shared with'}}\n",
      "70_meredith.com.csv\n",
      "723_dogbreedinfo.com.csv\n",
      "744_minecraft.gamepedia.com.csv\n",
      "745_eatchicken.com.csv\n",
      "746_kraftrecipes.com.csv\n",
      "760_si.edu.csv\n",
      "777_education.jlab.org.csv\n",
      "{'Third Party Entity': {'selectedText': 'Department of Energy, and law enforcement personnel, as well as authorized officials of other agencies, both domestic and foreign', 'startIndexInSegment': 486, 'endIndexInSegment': 615, 'value': 'Named third party'}, 'Choice Scope': {'selectedText': 'Not selected', 'startIndexInSegment': -1, 'endIndexInSegment': -1, 'value': 'Unspecified'}, 'Purpose': {'selectedText': 'Not selected', 'startIndexInSegment': -1, 'endIndexInSegment': -1, 'value': 'Unspecified'}, 'Personal Information Type': {'selectedText': 'all files', 'startIndexInSegment': 373, 'endIndexInSegment': 382, 'value': 'Other'}, 'Choice Type': {'selectedText': 'By continuing to use this system you indicate your awareness of and consent to these terms and conditions of use. LOG OFF IMMEDIATELY if you do not agree to the conditions stated in this warning.', 'startIndexInSegment': 947, 'endIndexInSegment': 1152, 'value': 'Dont use service/feature'}, 'Identifiability': {'selectedText': 'Not selected', 'startIndexInSegment': -1, 'endIndexInSegment': -1, 'value': 'Unspecified'}, 'Does/Does Not': {'selectedText': 'null', 'startIndexInSegment': -1, 'endIndexInSegment': -1, 'value': 'Does'}, 'User Type': {'selectedText': 'Not selected', 'startIndexInSegment': -1, 'endIndexInSegment': -1, 'value': 'Unspecified'}, 'Action Third Party': {'selectedText': 'disclosed', 'startIndexInSegment': 456, 'endIndexInSegment': 465, 'value': 'Receive/Shared with'}}\n",
      "807_lodgemfg.com.csv\n",
      "817_ironhorsevineyards.com.csv\n",
      "{'Third Party Entity': {'selectedText': 'third party marketing companies', 'startIndexInSegment': 126, 'endIndexInSegment': 157, 'value': 'Named third party'}, 'Choice Scope': {'selectedText': 'Not selected', 'startIndexInSegment': -1, 'endIndexInSegment': -1, 'value': 'Unspecified'}, 'Purpose': {'selectedText': 'advertisements', 'startIndexInSegment': 167, 'endIndexInSegment': 181, 'value': 'Advertising'}, 'Personal Information Type': {'selectedText': 'non-personal information about your visits to our website, and your interaction with our products and services', 'startIndexInSegment': 234, 'endIndexInSegment': 344, 'value': 'User online activities'}, 'Choice Type': {'selectedText': 'Not selected', 'startIndexInSegment': -1, 'endIndexInSegment': -1, 'value': 'Unspecified'}, 'Identifiability': {'selectedText': 'No Personally Identifiable Information (\"PII\") is collected in this process', 'startIndexInSegment': 689, 'endIndexInSegment': 764, 'value': 'Aggregated or anonymized'}, 'Does/Does Not': {'selectedText': 'null', 'startIndexInSegment': -1, 'endIndexInSegment': -1, 'value': 'Does'}, 'User Type': {'selectedText': 'Not selected', 'startIndexInSegment': -1, 'endIndexInSegment': -1, 'value': 'Unspecified'}, 'Action Third Party': {'selectedText': 'They may collect', 'startIndexInSegment': 217, 'endIndexInSegment': 233, 'value': 'Collect on first party website/app'}}\n",
      "{'Third Party Entity': {'selectedText': 'third party marketing companies', 'startIndexInSegment': 126, 'endIndexInSegment': 157, 'value': 'Named third party'}, 'Choice Scope': {'selectedText': 'Not selected', 'startIndexInSegment': -1, 'endIndexInSegment': -1, 'value': 'Unspecified'}, 'Purpose': {'selectedText': 'advertisements', 'startIndexInSegment': 167, 'endIndexInSegment': 181, 'value': 'Advertising'}, 'Personal Information Type': {'selectedText': 'Cookies and Web Beacons', 'startIndexInSegment': 635, 'endIndexInSegment': 658, 'value': 'Cookies and tracking elements'}, 'Choice Type': {'selectedText': 'Not selected', 'startIndexInSegment': -1, 'endIndexInSegment': -1, 'value': 'Unspecified'}, 'Identifiability': {'selectedText': 'No Personally Identifiable Information (\"PII\") is collected in this process', 'startIndexInSegment': 689, 'endIndexInSegment': 764, 'value': 'Aggregated or anonymized'}, 'Does/Does Not': {'selectedText': 'null', 'startIndexInSegment': -1, 'endIndexInSegment': -1, 'value': 'Does'}, 'User Type': {'selectedText': 'Not selected', 'startIndexInSegment': -1, 'endIndexInSegment': -1, 'value': 'Unspecified'}, 'Action Third Party': {'selectedText': 'They may collect', 'startIndexInSegment': 217, 'endIndexInSegment': 233, 'value': 'Collect on first party website/app'}}\n",
      "82_sheknows.com.csv\n",
      "856_sciencemag.org.csv\n",
      "862_disinfo.com.csv\n",
      "883_ted.com.csv\n",
      "884_naturalnews.com.csv\n",
      "{'Third Party Entity': {'endIndexInSegment': 85, 'startIndexInSegment': 72, 'selectedText': 'third parties', 'value': 'Unnamed third party'}, 'Choice Scope': {'endIndexInSegment': -1, 'startIndexInSegment': -1, 'value': 'Unspecified'}, 'Purpose': {'endIndexInSegment': -1, 'startIndexInSegment': -1, 'value': 'Unspecified'}, 'Personal Information Type': {'endIndexInSegment': 68, 'startIndexInSegment': 62, 'selectedText': 'emails', 'value': 'Contact'}, 'Choice Type': {'endIndexInSegment': -1, 'startIndexInSegment': -1, 'value': 'Unspecified'}, 'Identifiability': {'endIndexInSegment': -1, 'startIndexInSegment': -1, 'value': 'Unspecified'}, 'Does/Does Not': {'endIndexInSegment': 46, 'startIndexInSegment': 41, 'selectedText': 'never', 'value': 'Does Not'}, 'User Type': {'endIndexInSegment': -1, 'startIndexInSegment': -1, 'value': 'Unspecified'}, 'Action Third Party': {'endIndexInSegment': 52, 'startIndexInSegment': 47, 'selectedText': 'rents', 'value': 'Receive/Shared with'}}\n",
      "{'Third Party Entity': {'endIndexInSegment': 85, 'startIndexInSegment': 72, 'selectedText': 'third parties', 'value': 'Unnamed third party'}, 'Choice Scope': {'endIndexInSegment': -1, 'startIndexInSegment': -1, 'value': 'Unspecified'}, 'Purpose': {'endIndexInSegment': 226, 'startIndexInSegment': 215, 'selectedText': 'advertisers', 'value': 'Advertising'}, 'Personal Information Type': {'endIndexInSegment': 209, 'startIndexInSegment': 202, 'selectedText': 'details', 'value': 'Unspecified'}, 'Choice Type': {'endIndexInSegment': -1, 'startIndexInSegment': -1, 'value': 'Unspecified'}, 'Identifiability': {'endIndexInSegment': -1, 'startIndexInSegment': -1, 'value': 'Unspecified'}, 'Does/Does Not': {'endIndexInSegment': 46, 'startIndexInSegment': 41, 'selectedText': 'never', 'value': 'Does Not'}, 'User Type': {'endIndexInSegment': -1, 'startIndexInSegment': -1, 'value': 'Unspecified'}, 'Action Third Party': {'endIndexInSegment': 52, 'startIndexInSegment': 47, 'selectedText': 'rents', 'value': 'Receive/Shared with'}}\n",
      "{'Third Party Entity': {'endIndexInSegment': 227, 'startIndexInSegment': 181, 'selectedText': 'we DO NOT share user details with advertisers.', 'value': 'Unnamed third party'}, 'Choice Scope': {'endIndexInSegment': -1, 'startIndexInSegment': -1, 'value': 'Unspecified'}, 'Purpose': {'endIndexInSegment': 227, 'startIndexInSegment': 215, 'selectedText': 'advertisers.', 'value': 'Advertising'}, 'Personal Information Type': {'endIndexInSegment': 209, 'startIndexInSegment': 197, 'selectedText': 'user details', 'value': 'Generic personal information'}, 'Choice Type': {'endIndexInSegment': -1, 'startIndexInSegment': -1, 'value': 'Unspecified'}, 'Identifiability': {'endIndexInSegment': 209, 'startIndexInSegment': 197, 'selectedText': 'user details', 'value': 'Identifiable'}, 'Does/Does Not': {'endIndexInSegment': 190, 'startIndexInSegment': 181, 'selectedText': 'we DO NOT', 'value': 'Does Not'}, 'User Type': {'endIndexInSegment': -1, 'startIndexInSegment': -1, 'value': 'Unspecified'}, 'Action Third Party': {'endIndexInSegment': 196, 'startIndexInSegment': 191, 'selectedText': 'share', 'value': 'Receive/Shared with'}}\n",
      "{'Third Party Entity': {'endIndexInSegment': 226, 'startIndexInSegment': 215, 'selectedText': 'advertisers', 'value': 'Named third party'}, 'Choice Scope': {'endIndexInSegment': -1, 'startIndexInSegment': -1, 'value': 'Unspecified'}, 'Purpose': {'endIndexInSegment': 226, 'startIndexInSegment': 216, 'selectedText': 'dvertisers', 'value': 'Advertising'}, 'Personal Information Type': {'endIndexInSegment': -1, 'startIndexInSegment': -1, 'value': 'Unspecified'}, 'Choice Type': {'endIndexInSegment': -1, 'startIndexInSegment': -1, 'value': 'Unspecified'}, 'Identifiability': {'endIndexInSegment': -1, 'startIndexInSegment': -1, 'value': 'Unspecified'}, 'Does/Does Not': {'endIndexInSegment': 190, 'startIndexInSegment': 184, 'selectedText': 'DO NOT', 'value': 'Does Not'}, 'User Type': {'endIndexInSegment': -1, 'startIndexInSegment': -1, 'value': 'Unspecified'}, 'Action Third Party': {'endIndexInSegment': 196, 'startIndexInSegment': 191, 'selectedText': 'share', 'value': 'Receive/Shared with'}}\n",
      "891_everydayhealth.com.csv\n",
      "898_uptodate.com.csv\n",
      "{'Third Party Entity': {'endIndexInSegment': 312, 'startIndexInSegment': 306, 'selectedText': 'anyone', 'value': 'Unnamed third party'}, 'Choice Scope': {'endIndexInSegment': -1, 'startIndexInSegment': -1, 'value': 'Unspecified'}, 'Purpose': {'endIndexInSegment': -1, 'startIndexInSegment': -1, 'value': 'Unspecified'}, 'Personal Information Type': {'endIndexInSegment': -1, 'startIndexInSegment': -1, 'value': 'Unspecified'}, 'Choice Type': {'endIndexInSegment': -1, 'startIndexInSegment': -1, 'value': 'Unspecified'}, 'Identifiability': {'endIndexInSegment': -1, 'startIndexInSegment': -1, 'value': 'Unspecified'}, 'Does/Does Not': {'endIndexInSegment': 220, 'startIndexInSegment': 213, 'selectedText': 'does no', 'value': 'Does Not'}, 'User Type': {'endIndexInSegment': -1, 'startIndexInSegment': -1, 'value': 'Unspecified'}, 'Action Third Party': {'endIndexInSegment': 226, 'startIndexInSegment': 222, 'selectedText': 'sell', 'value': 'Receive/Shared with'}}\n",
      "{'Third Party Entity': {'endIndexInSegment': 313, 'startIndexInSegment': 204, 'selectedText': \"UpToDate does not sell or otherwise share subscribers' or website visitors' personal information with anyone.\", 'value': 'Unnamed third party'}, 'Choice Scope': {'endIndexInSegment': -1, 'startIndexInSegment': -1, 'value': 'Unspecified'}, 'Purpose': {'endIndexInSegment': -1, 'startIndexInSegment': -1, 'value': 'Unspecified'}, 'Personal Information Type': {'endIndexInSegment': 300, 'startIndexInSegment': 280, 'selectedText': 'personal information', 'value': 'Generic personal information'}, 'Choice Type': {'endIndexInSegment': -1, 'startIndexInSegment': -1, 'value': 'Unspecified'}, 'Identifiability': {'endIndexInSegment': 300, 'startIndexInSegment': 280, 'selectedText': 'personal information', 'value': 'Identifiable'}, 'Does/Does Not': {'endIndexInSegment': 313, 'startIndexInSegment': 204, 'selectedText': \"UpToDate does not sell or otherwise share subscribers' or website visitors' personal information with anyone.\", 'value': 'Does Not'}, 'User Type': {'endIndexInSegment': -1, 'startIndexInSegment': -1, 'value': 'Unspecified'}, 'Action Third Party': {'endIndexInSegment': 313, 'startIndexInSegment': 204, 'selectedText': \"UpToDate does not sell or otherwise share subscribers' or website visitors' personal information with anyone.\", 'value': 'Receive/Shared with'}}\n",
      "{'Third Party Entity': {'endIndexInSegment': 312, 'startIndexInSegment': 307, 'selectedText': 'nyone', 'value': 'Unnamed third party'}, 'Choice Scope': {'endIndexInSegment': -1, 'startIndexInSegment': -1, 'value': 'Unspecified'}, 'Purpose': {'endIndexInSegment': -1, 'startIndexInSegment': -1, 'value': 'Unspecified'}, 'Personal Information Type': {'endIndexInSegment': 300, 'startIndexInSegment': 280, 'selectedText': 'personal information', 'value': 'Generic personal information'}, 'Choice Type': {'endIndexInSegment': -1, 'startIndexInSegment': -1, 'value': 'Unspecified'}, 'Identifiability': {'endIndexInSegment': -1, 'startIndexInSegment': -1, 'value': 'Unspecified'}, 'Does/Does Not': {'endIndexInSegment': 221, 'startIndexInSegment': 213, 'selectedText': 'does not', 'value': 'Does Not'}, 'User Type': {'endIndexInSegment': -1, 'startIndexInSegment': -1, 'value': 'Unspecified'}, 'Action Third Party': {'endIndexInSegment': 245, 'startIndexInSegment': 213, 'selectedText': 'does not sell or otherwise share', 'value': 'Receive/Shared with'}}\n",
      "907_earthkam.org.csv\n",
      "919_uh.edu.csv\n",
      "928_stlouisfed.org.csv\n",
      "{'Choice Type': {'endIndexInSegment': 167, 'startIndexInSegment': 109, 'selectedText': 'personal information you choose to provide us is voluntary', 'value': 'Other'}, 'Choice Scope': {'endIndexInSegment': 217, 'startIndexInSegment': 194, 'selectedText': 'provide any information', 'value': 'First party use'}, 'User Type': {'endIndexInSegment': -1, 'startIndexInSegment': -1, 'value': 'Unspecified'}, 'Purpose': {'endIndexInSegment': -1, 'startIndexInSegment': -1, 'value': 'Unspecified'}, 'Personal Information Type': {'endIndexInSegment': 217, 'startIndexInSegment': 202, 'selectedText': 'any information', 'value': 'Generic personal information'}}\n",
      "93_pbs.org.csv\n",
      "940_internetbrands.com.csv\n",
      "{'Choice Type': {'selectedText': 'please do not use our sites or services.', 'startIndexInSegment': 486, 'endIndexInSegment': 531, 'value': 'Dont use service/feature'}, 'Choice Scope': {'selectedText': 'collection', 'startIndexInSegment': 333, 'endIndexInSegment': 343, 'value': 'First party collection'}, 'User Type': {'selectedText': 'Not selected', 'startIndexInSegment': -1, 'endIndexInSegment': -1, 'value': 'Unspecified'}, 'Purpose': {'selectedText': 'Not selected', 'startIndexInSegment': -1, 'endIndexInSegment': -1, 'value': 'Unspecified'}, 'Personal Information Type': {'selectedText': 'personal information', 'startIndexInSegment': 384, 'endIndexInSegment': 404, 'value': 'Generic personal information'}}\n",
      "962_lynda.com.csv\n",
      "988_solarviews.com.csv\n",
      "{'Third Party Entity': {'selectedText': 'third-party companies', 'startIndexInSegment': 37, 'endIndexInSegment': 58, 'value': 'Unnamed third party'}, 'Choice Scope': {'selectedText': 'null', 'startIndexInSegment': -1, 'endIndexInSegment': -1, 'value': 'not-selected'}, 'Purpose': {'selectedText': 'during your visits to this and other Web sites in order to provide advertisements about goods and services likely to be of greater interest to you.', 'startIndexInSegment': 324, 'endIndexInSegment': 471, 'value': 'Advertising'}, 'Personal Information Type': {'selectedText': 'non-personally identifiable information (e.g., click stream information, browser type, time and date, subject of advertisements clicked or scrolled over)', 'startIndexInSegment': 170, 'endIndexInSegment': 323, 'value': 'Other'}, 'Choice Type': {'selectedText': 'null', 'startIndexInSegment': -1, 'endIndexInSegment': -1, 'value': 'not-selected'}, 'Identifiability': {'selectedText': 'anonymous information', 'startIndexInSegment': 95, 'endIndexInSegment': 116, 'value': 'Aggregated or anonymized'}, 'Does/Does Not': {'selectedText': 'null', 'startIndexInSegment': -1, 'endIndexInSegment': -1, 'value': 'Does'}, 'User Type': {'selectedText': 'null', 'startIndexInSegment': -1, 'endIndexInSegment': -1, 'value': 'not-selected'}, 'Action Third Party': {'selectedText': 'We allow third-party companies to serve ads and/or collect certain anonymous information when you visit our web site.', 'startIndexInSegment': 28, 'endIndexInSegment': 145, 'value': 'Collect on first party website/app'}}\n",
      "{'Third Party Entity': {'selectedText': 'third-party companies', 'startIndexInSegment': 37, 'endIndexInSegment': 58, 'value': 'Unnamed third party'}, 'Choice Scope': {'selectedText': 'null', 'startIndexInSegment': -1, 'endIndexInSegment': -1, 'value': 'not-selected'}, 'Purpose': {'selectedText': 'during your visits to this and other Web sites in order to provide advertisements about goods and services likely to be of greater interest to you.', 'startIndexInSegment': 324, 'endIndexInSegment': 471, 'value': 'Advertising'}, 'Personal Information Type': {'selectedText': '(e.g., click stream information, browser type, time and date, subject of advertisements clicked or scrolled over', 'startIndexInSegment': 210, 'endIndexInSegment': 322, 'value': 'User online activities'}, 'Choice Type': {'selectedText': 'To learn more about this behavioral advertising practice or to opt-out of this type of advertising, you can visit networkadvertising.org.', 'startIndexInSegment': 566, 'endIndexInSegment': 703, 'value': 'Opt-out link'}, 'Identifiability': {'selectedText': 'non-personally identifiable information', 'startIndexInSegment': 170, 'endIndexInSegment': 209, 'value': 'Aggregated or anonymized'}, 'Does/Does Not': {'selectedText': 'null', 'startIndexInSegment': -1, 'endIndexInSegment': -1, 'value': 'Does'}, 'User Type': {'selectedText': 'null', 'startIndexInSegment': -1, 'endIndexInSegment': -1, 'value': 'not-selected'}, 'Action Third Party': {'selectedText': 'These companies typically use a cookie or third party web beacon to collect this information.', 'startIndexInSegment': 472, 'endIndexInSegment': 565, 'value': 'Collect on first party website/app'}}\n",
      "{'Third Party Entity': {'selectedText': 'third-party companies', 'startIndexInSegment': 37, 'endIndexInSegment': 58, 'value': 'Unnamed third party'}, 'Choice Scope': {'selectedText': 'opt-out of this type of advertising', 'startIndexInSegment': 629, 'endIndexInSegment': 664, 'value': 'Both'}, 'Purpose': {'selectedText': 'ads', 'startIndexInSegment': 68, 'endIndexInSegment': 71, 'value': 'Advertising'}, 'Personal Information Type': {'selectedText': 'collect certain anonymous information', 'startIndexInSegment': 79, 'endIndexInSegment': 116, 'value': 'Unspecified'}, 'Choice Type': {'selectedText': 'opt-out', 'startIndexInSegment': 629, 'endIndexInSegment': 636, 'value': 'Opt-out link'}, 'Identifiability': {'selectedText': 'anonymous', 'startIndexInSegment': 95, 'endIndexInSegment': 104, 'value': 'Aggregated or anonymized'}, 'Does/Does Not': {'selectedText': 'allow third-party companies to serve ads and/or collect', 'startIndexInSegment': 31, 'endIndexInSegment': 86, 'value': 'Does'}, 'User Type': {'selectedText': 'Not selected', 'startIndexInSegment': -1, 'endIndexInSegment': -1, 'value': 'Unspecified'}, 'Action Third Party': {'selectedText': 'serve ads and/or collect certain anonymous information', 'startIndexInSegment': 62, 'endIndexInSegment': 116, 'value': 'Collect on first party website/app'}}\n",
      "{'Third Party Entity': {'selectedText': 'third-party companies', 'startIndexInSegment': 37, 'endIndexInSegment': 58, 'value': 'Unnamed third party'}, 'Choice Scope': {'selectedText': 'opt-out of this type of advertising,', 'startIndexInSegment': 629, 'endIndexInSegment': 665, 'value': 'Both'}, 'Purpose': {'selectedText': 'provide advertisements about goods and services likely to be of greater interest to you', 'startIndexInSegment': 383, 'endIndexInSegment': 470, 'value': 'Advertising'}, 'Personal Information Type': {'selectedText': 'click stream information', 'startIndexInSegment': 217, 'endIndexInSegment': 241, 'value': 'User online activities'}, 'Choice Type': {'selectedText': 'opt-out', 'startIndexInSegment': 629, 'endIndexInSegment': 636, 'value': 'Opt-out link'}, 'Identifiability': {'selectedText': 'non-personally identifiable information', 'startIndexInSegment': 170, 'endIndexInSegment': 209, 'value': 'Other'}, 'Does/Does Not': {'selectedText': 'allow third-party companies to serve ads and/or collect', 'startIndexInSegment': 31, 'endIndexInSegment': 86, 'value': 'Does'}, 'User Type': {'selectedText': 'Not selected', 'startIndexInSegment': -1, 'endIndexInSegment': -1, 'value': 'Unspecified'}, 'Action Third Party': {'selectedText': 'serve ads and/or collect certain anonymous information', 'startIndexInSegment': 62, 'endIndexInSegment': 116, 'value': 'Collect on first party website/app'}}\n",
      "98_neworleansonline.com.csv\n",
      "995_mohegansun.com.csv\n",
      "{'Third Party Entity': {'endIndexInSegment': 263, 'startIndexInSegment': 192, 'selectedText': 'Mohegan Sun does not share or sell your personal information to anyone.', 'value': 'Unnamed third party'}, 'Choice Scope': {'endIndexInSegment': -1, 'startIndexInSegment': -1, 'value': 'Unspecified'}, 'Purpose': {'endIndexInSegment': -1, 'startIndexInSegment': -1, 'value': 'Unspecified'}, 'Personal Information Type': {'endIndexInSegment': 252, 'startIndexInSegment': 232, 'selectedText': 'personal information', 'value': 'Generic personal information'}, 'Choice Type': {'endIndexInSegment': -1, 'startIndexInSegment': -1, 'value': 'Unspecified'}, 'Identifiability': {'endIndexInSegment': 252, 'startIndexInSegment': 232, 'selectedText': 'personal information', 'value': 'Identifiable'}, 'Does/Does Not': {'endIndexInSegment': 263, 'startIndexInSegment': 192, 'selectedText': 'Mohegan Sun does not share or sell your personal information to anyone.', 'value': 'Does Not'}, 'User Type': {'endIndexInSegment': -1, 'startIndexInSegment': -1, 'value': 'Unspecified'}, 'Action Third Party': {'endIndexInSegment': 263, 'startIndexInSegment': 192, 'selectedText': 'Mohegan Sun does not share or sell your personal information to anyone.', 'value': 'Receive/Shared with'}}\n"
     ]
    }
   ],
   "source": [
    "\n",
    "path = r'annotations'  # use your path\n",
    "allFiles = glob.glob(path + \"/*.csv\")\n",
    "\n",
    "data_samples3 = []\n",
    "data_number3 = []\n",
    "data_label3 = []\n",
    "\n",
    "cnt = 0\n",
    "\n",
    "for file in allFiles:\n",
    "    allFiles = allFiles[:85]\n",
    "    dictCollection = {\"Action First-Party\":[],\n",
    "                      \"Purpose\":[],\n",
    "                      \"Personal Information Type\":[]\n",
    "                      }\n",
    "\n",
    "    df = pd.read_csv(file, thousands=',', header=None)\n",
    "    len(df)\n",
    "    # df_tail = df.tail(1)[4]\n",
    "    # print(df_tail)\n",
    "    number_of_segments = 5#len(df) + 1\n",
    "\n",
    "    file = file.split('annotations/', 1)[1]\n",
    "    print(file)\n",
    "    for i in range(number_of_segments-1):\n",
    "        # print(i)\n",
    "        if df[5][i] == \"First Party Collection/Use\":\n",
    "            parse_json = json.loads(str(df[6][i]))\n",
    "            if parse_json[\"Action First-Party\"][\"endIndexInSegment\"] != -1:\n",
    "                data_samples3.append(parse_json[\"Action First-Party\"][\"selectedText\"])\n",
    "                data_number3.append(1)\n",
    "                data_label3.append(\"Other\")\n",
    "                cnt = cnt+1\n",
    "            if parse_json[\"Personal Information Type\"][\"endIndexInSegment\"] != -1:\n",
    "                data_samples3.append(parse_json[\"Personal Information Type\"][\"selectedText\"])\n",
    "                data_number3.append(1)\n",
    "                data_label3.append(\"Other\")                \n",
    "                cnt = cnt+1\n",
    "            if parse_json[\"Purpose\"][\"endIndexInSegment\"] != -1:\n",
    "                data_samples3.append(parse_json[\"Purpose\"][\"selectedText\"])\n",
    "                data_number3.append(2)\n",
    "                data_label3.append(\"Purpose\")     \n",
    "                cnt = cnt+1\n",
    "        if df[5][i] == \"Third Party Sharing/Collection\":\n",
    "            parse_json = json.loads(str(df[6][i]))\n",
    "            print(parse_json)\n",
    "            if parse_json[\"Personal Information Type\"][\"endIndexInSegment\"] != -1:\n",
    "                data_samples1.append(parse_json[\"Personal Information Type\"][\"selectedText\"])\n",
    "                data_number1.append(1)\n",
    "                data_label1.append(\"Other\")                \n",
    "                cnt = cnt+1\n",
    "            if parse_json[\"Purpose\"][\"endIndexInSegment\"] != -1:\n",
    "                data_samples1.append(parse_json[\"Purpose\"][\"selectedText\"])\n",
    "                data_number1.append(2)\n",
    "                data_label1.append(\"Purpose\")     \n",
    "                cnt = cnt+1\n",
    "        if df[5][i] == \"User Choice/Control\":\n",
    "            parse_json = json.loads(str(df[6][i]))\n",
    "            print(parse_json)\n",
    "            if parse_json[\"Personal Information Type\"][\"endIndexInSegment\"] != -1:\n",
    "                data_samples1.append(parse_json[\"Personal Information Type\"][\"selectedText\"])\n",
    "                data_number1.append(1)\n",
    "                data_label1.append(\"Other\")                \n",
    "                cnt = cnt+1\n",
    "            if parse_json[\"Purpose\"][\"endIndexInSegment\"] != -1:\n",
    "                data_samples1.append(parse_json[\"Purpose\"][\"selectedText\"])\n",
    "                data_number1.append(2)\n",
    "                data_label1.append(\"Purpose\")     \n",
    "                cnt = cnt+1\n",
    "        "
   ]
  },
  {
   "cell_type": "code",
   "execution_count": 42,
   "metadata": {
    "collapsed": false
   },
   "outputs": [
    {
     "name": "stdout",
     "output_type": "stream",
     "text": [
      "[1 1 2 1 1 2 1 1 1 1 2 1 1 2 1 1 1 1 1 1 1 1 2 1 1 1 2 1 1 2 1 1 1 1 1 1 2\n",
      " 1 1 2 1 1 1 1 2 1 1 1 2 1 1 2 1 1 2 1 1 1 1 1 1 2 1 1 2 1 1 1 2 1 1 1 1 1\n",
      " 1 2 1 1 2 1 1 2 1 1 2 1 1 2 1 1 2 1 1 2 1 1 2 1 1 1 1 2 1 1 2 1 1 2 1 1 2\n",
      " 1 1 1 1 1 1 2 1 1 2 1 1 2 1 1 2 1 1 2 1 1 2 1 1 2 1 1 2 1 1 2 1 1 2 1 1 2\n",
      " 1 2 1 1 1 1 1 1 1 1 1 1]\n"
     ]
    }
   ],
   "source": [
    "train_samples3 = np.array(data_samples3[:160])\n",
    "train_label3 = np.array(data_label3[:160])\n",
    "train_number3 = np.array(data_number3[:160])\n",
    "\n",
    "test_samples3 = np.array(data_samples3[161:204])\n",
    "test_label3 = np.array(data_label3[161:204])\n",
    "test_number3 = np.array(data_number3[161:204])\n",
    "print(train_number3)"
   ]
  },
  {
   "cell_type": "code",
   "execution_count": 43,
   "metadata": {
    "collapsed": false
   },
   "outputs": [
    {
     "data": {
      "text/plain": [
       "(160, 166)"
      ]
     },
     "execution_count": 43,
     "metadata": {},
     "output_type": "execute_result"
    }
   ],
   "source": [
    "from sklearn.feature_extraction.text import CountVectorizer\n",
    "count_vect1 = CountVectorizer(max_df=0.95, min_df=2,\n",
    "                                max_features=1000)\n",
    "X_train_counts1 = count_vect1.fit_transform(train_samples3)\n",
    "X_train_counts1\n",
    "\n",
    "from sklearn.feature_extraction.text import TfidfTransformer\n",
    "tf_transformer1 = TfidfTransformer(use_idf=False).fit(X_train_counts1)\n",
    "X_train_tf1 = tf_transformer1.transform(X_train_counts1)\n",
    "X_train_tf1.shape\n",
    "\n",
    "tfidf_transformer1 = TfidfTransformer()\n",
    "X_train_tfidf1 = tfidf_transformer1.fit_transform(X_train_counts1)\n",
    "X_train_tfidf1.shape"
   ]
  },
  {
   "cell_type": "code",
   "execution_count": 44,
   "metadata": {
    "collapsed": false
   },
   "outputs": [
    {
     "data": {
      "text/plain": [
       "0.83333333333333337"
      ]
     },
     "execution_count": 44,
     "metadata": {},
     "output_type": "execute_result"
    }
   ],
   "source": [
    "from sklearn.pipeline import Pipeline\n",
    "from sklearn.naive_bayes import MultinomialNB\n",
    "text_clf1 = Pipeline([('vect', CountVectorizer()), ('tfidf', TfidfTransformer()), ('clf', MultinomialNB())])\n",
    "text_clf1 = text_clf1.fit(train_samples3, train_number3)\n",
    "\n",
    "import numpy as np\n",
    "predicted = text_clf1.predict(test_samples3)\n",
    "np.mean(predicted == test_number3)"
   ]
  },
  {
   "cell_type": "code",
   "execution_count": 45,
   "metadata": {
    "collapsed": false
   },
   "outputs": [
    {
     "data": {
      "text/plain": [
       "0.66666666666666663"
      ]
     },
     "execution_count": 45,
     "metadata": {},
     "output_type": "execute_result"
    }
   ],
   "source": [
    "from sklearn.linear_model import SGDClassifier\n",
    "text_clf1 = Pipeline([('vect', CountVectorizer()), \n",
    "                     ('tfidf', TfidfTransformer()),\n",
    "                     ('clf', SGDClassifier(loss='hinge', penalty='l2',\n",
    "                                           alpha=1e-3, n_iter=5, random_state=42))])\n",
    "_ = text_clf1.fit(train_samples3, train_number3)\n",
    "\n",
    "import numpy as np\n",
    "predicted = text_clf1.predict(test_samples3)\n",
    "np.mean(predicted == test_number3)  "
   ]
  }
 ],
 "metadata": {
  "kernelspec": {
   "display_name": "Python 3",
   "language": "python",
   "name": "python3"
  },
  "language_info": {
   "codemirror_mode": {
    "name": "ipython",
    "version": 3
   },
   "file_extension": ".py",
   "mimetype": "text/x-python",
   "name": "python",
   "nbconvert_exporter": "python",
   "pygments_lexer": "ipython3",
   "version": "3.6.0"
  }
 },
 "nbformat": 4,
 "nbformat_minor": 2
}
