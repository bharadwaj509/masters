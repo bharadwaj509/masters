{
 "cells": [
  {
   "cell_type": "code",
   "execution_count": 51,
   "metadata": {
    "collapsed": false
   },
   "outputs": [
    {
     "name": "stdout",
     "output_type": "stream",
     "text": [
      "1017_sci-news.com.csv\n",
      "{'Collection Mode': {'selectedText': 'nformation that you provide by filling in forms on our site', 'startIndexInSegment': 139, 'endIndexInSegment': 198, 'value': 'Explicit'}, 'Choice Scope': {'selectedText': 'null', 'startIndexInSegment': -1, 'endIndexInSegment': -1, 'value': 'not-selected'}, 'Action First-Party': {'selectedText': 'Sci-News.com may collect and process', 'startIndexInSegment': 59, 'endIndexInSegment': 95, 'value': 'Unspecified'}, 'Personal Information Type': {'selectedText': 'including', 'startIndexInSegment': 200, 'endIndexInSegment': 209, 'value': 'Unspecified'}, 'Choice Type': {'selectedText': 'Not selected', 'startIndexInSegment': -1, 'endIndexInSegment': -1, 'value': 'Unspecified'}, 'Identifiability': {'selectedText': 'null', 'startIndexInSegment': -1, 'endIndexInSegment': -1, 'value': 'not-selected'}, 'Does/Does Not': {'selectedText': 'null', 'startIndexInSegment': -1, 'endIndexInSegment': -1, 'value': 'Does'}, 'User Type': {'selectedText': 'Not selected', 'startIndexInSegment': -1, 'endIndexInSegment': -1, 'value': 'Unspecified'}, 'Purpose': {'selectedText': 'other purposes, for example when you report a problem with our site', 'startIndexInSegment': 287, 'endIndexInSegment': 354, 'value': 'Basic service/feature'}}\n",
      "{'Collection Mode': {'selectedText': 'nformation that you provide by filling in forms on our site', 'startIndexInSegment': 139, 'endIndexInSegment': 198, 'value': 'Explicit'}, 'Choice Scope': {'selectedText': 'null', 'startIndexInSegment': -1, 'endIndexInSegment': -1, 'value': 'not-selected'}, 'Action First-Party': {'selectedText': 'Sci-News.com may collect and process', 'startIndexInSegment': 59, 'endIndexInSegment': 95, 'value': 'Unspecified'}, 'Personal Information Type': {'selectedText': 'names, e-mail and website addresses', 'startIndexInSegment': 210, 'endIndexInSegment': 245, 'value': 'Contact'}, 'Choice Type': {'selectedText': 'Not selected', 'startIndexInSegment': -1, 'endIndexInSegment': -1, 'value': 'Unspecified'}, 'Identifiability': {'selectedText': 'null', 'startIndexInSegment': -1, 'endIndexInSegment': -1, 'value': 'not-selected'}, 'Does/Does Not': {'selectedText': 'null', 'startIndexInSegment': -1, 'endIndexInSegment': -1, 'value': 'Does'}, 'User Type': {'selectedText': 'Not selected', 'startIndexInSegment': -1, 'endIndexInSegment': -1, 'value': 'Unspecified'}, 'Purpose': {'selectedText': 'other purposes, for example when you report a problem with our site', 'startIndexInSegment': 287, 'endIndexInSegment': 354, 'value': 'Basic service/feature'}}\n",
      "1028_redorbit.com.csv\n",
      "{'Collection Mode': {'selectedText': 'Not selected', 'startIndexInSegment': -1, 'endIndexInSegment': -1, 'value': 'Unspecified'}, 'Choice Scope': {'selectedText': 'null', 'startIndexInSegment': -1, 'endIndexInSegment': -1, 'value': 'not-selected'}, 'Action First-Party': {'selectedText': 'collects information from our users at several different points on our Web site.', 'startIndexInSegment': 187, 'endIndexInSegment': 267, 'value': 'Collect on website'}, 'Personal Information Type': {'selectedText': 'information', 'startIndexInSegment': 196, 'endIndexInSegment': 207, 'value': 'Unspecified'}, 'Choice Type': {'selectedText': 'null', 'startIndexInSegment': -1, 'endIndexInSegment': -1, 'value': 'not-selected'}, 'Identifiability': {'selectedText': 'Not selected', 'startIndexInSegment': -1, 'endIndexInSegment': -1, 'value': 'Unspecified'}, 'Does/Does Not': {'selectedText': 'collects', 'startIndexInSegment': 187, 'endIndexInSegment': 195, 'value': 'Does'}, 'User Type': {'selectedText': 'users', 'startIndexInSegment': 217, 'endIndexInSegment': 222, 'value': 'Unspecified'}, 'Purpose': {'selectedText': 'Not selected', 'startIndexInSegment': -1, 'endIndexInSegment': -1, 'value': 'Unspecified'}}\n",
      "1034_aol.com.csv\n",
      "{'Collection Mode': {'endIndexInSegment': -1, 'startIndexInSegment': -1, 'value': 'not-selected'}, 'Choice Scope': {'endIndexInSegment': -1, 'startIndexInSegment': -1, 'value': 'Unspecified'}, 'Action First-Party': {'endIndexInSegment': 132, 'startIndexInSegment': 110, 'selectedText': 'we collect and receive', 'value': 'Unspecified'}, 'Personal Information Type': {'endIndexInSegment': 109, 'startIndexInSegment': 98, 'selectedText': 'information', 'value': 'Unspecified'}, 'Choice Type': {'endIndexInSegment': -1, 'startIndexInSegment': -1, 'value': 'Unspecified'}, 'Identifiability': {'endIndexInSegment': 109, 'startIndexInSegment': 98, 'selectedText': 'information', 'value': 'Unspecified'}, 'Does/Does Not': {'endIndexInSegment': -1, 'startIndexInSegment': -1, 'value': 'Does'}, 'User Type': {'endIndexInSegment': -1, 'startIndexInSegment': -1, 'value': 'Unspecified'}, 'Purpose': {'endIndexInSegment': 109, 'startIndexInSegment': 0, 'selectedText': \"We're always working to make our services even better. One of the ways we do that is by analyzing information\", 'value': 'Analytics/Research'}}\n",
      "1050_honda.com.csv\n",
      "105_amazon.com.csv\n",
      "1070_wnep.com.csv\n",
      "1083_highgearmedia.com.csv\n",
      "{'Collection Mode': {'selectedText': 'you choose to publicly post to or display on a Site', 'startIndexInSegment': 55, 'endIndexInSegment': 106, 'value': 'Explicit'}, 'Choice Scope': {'selectedText': 'null', 'startIndexInSegment': -1, 'endIndexInSegment': -1, 'value': 'not-selected'}, 'Action First-Party': {'selectedText': 'information that you choose to publicly post to or display on a Site.', 'startIndexInSegment': 38, 'endIndexInSegment': 107, 'value': 'Collect on website'}, 'Personal Information Type': {'selectedText': 'to information that you choose to publicly post to or display on a Site', 'startIndexInSegment': 35, 'endIndexInSegment': 106, 'value': 'Other'}, 'Choice Type': {'selectedText': 'null', 'startIndexInSegment': -1, 'endIndexInSegment': -1, 'value': 'not-selected'}, 'Identifiability': {'selectedText': 'null', 'startIndexInSegment': -1, 'endIndexInSegment': -1, 'value': 'not-selected'}, 'Does/Does Not': {'selectedText': 'does not apply to information that you choose to publicly post to or display on a Site.', 'startIndexInSegment': 20, 'endIndexInSegment': 107, 'value': 'Does Not'}, 'User Type': {'selectedText': 'null', 'startIndexInSegment': -1, 'endIndexInSegment': -1, 'value': 'not-selected'}, 'Purpose': {'selectedText': 'This privacy policy does not apply to information that you choose to publicly post to or display on a Site.', 'startIndexInSegment': 0, 'endIndexInSegment': 107, 'value': 'Unspecified'}}\n",
      "1089_freep.com.csv\n",
      "1099_enthusiastnetwork.com.csv\n",
      "{'Collection Mode': {'selectedText': 'null', 'startIndexInSegment': -1, 'endIndexInSegment': -1, 'value': 'not-selected'}, 'Choice Scope': {'selectedText': 'Not selected', 'startIndexInSegment': -1, 'endIndexInSegment': -1, 'value': 'Unspecified'}, 'Action First-Party': {'selectedText': 'when you subscribe to one of our magazines or place an order', 'startIndexInSegment': 302, 'endIndexInSegment': 362, 'value': 'Unspecified'}, 'Personal Information Type': {'selectedText': 'names, mailing addresses, e-mail addresses', 'startIndexInSegment': 133, 'endIndexInSegment': 175, 'value': 'Contact'}, 'Choice Type': {'selectedText': 'Not selected', 'startIndexInSegment': -1, 'endIndexInSegment': -1, 'value': 'Unspecified'}, 'Identifiability': {'selectedText': 'personally identifiable information', 'startIndexInSegment': 88, 'endIndexInSegment': 123, 'value': 'Identifiable'}, 'Does/Does Not': {'selectedText': 'We collect', 'startIndexInSegment': 77, 'endIndexInSegment': 87, 'value': 'Does'}, 'User Type': {'selectedText': 'Not selected', 'startIndexInSegment': -1, 'endIndexInSegment': -1, 'value': 'Unspecified'}, 'Purpose': {'selectedText': 'Not selected', 'startIndexInSegment': -1, 'endIndexInSegment': -1, 'value': 'Unspecified'}}\n",
      "{'Collection Mode': {'selectedText': 'null', 'startIndexInSegment': -1, 'endIndexInSegment': -1, 'value': 'not-selected'}, 'Choice Scope': {'selectedText': 'Not selected', 'startIndexInSegment': -1, 'endIndexInSegment': -1, 'value': 'Unspecified'}, 'Action First-Party': {'selectedText': 'when you subscribe to one of our magazines or place an order', 'startIndexInSegment': 302, 'endIndexInSegment': 362, 'value': 'Other'}, 'Personal Information Type': {'selectedText': 'information, such as', 'startIndexInSegment': 112, 'endIndexInSegment': 132, 'value': 'Unspecified'}, 'Choice Type': {'selectedText': 'Not selected', 'startIndexInSegment': -1, 'endIndexInSegment': -1, 'value': 'Unspecified'}, 'Identifiability': {'selectedText': 'personally identifiable', 'startIndexInSegment': 88, 'endIndexInSegment': 111, 'value': 'Identifiable'}, 'Does/Does Not': {'selectedText': 'We collect', 'startIndexInSegment': 77, 'endIndexInSegment': 87, 'value': 'Does'}, 'User Type': {'selectedText': 'Not selected', 'startIndexInSegment': -1, 'endIndexInSegment': -1, 'value': 'Unspecified'}, 'Purpose': {'selectedText': 'Not selected', 'startIndexInSegment': -1, 'endIndexInSegment': -1, 'value': 'Unspecified'}}\n",
      "{'Collection Mode': {'selectedText': 'null', 'startIndexInSegment': -1, 'endIndexInSegment': -1, 'value': 'not-selected'}, 'Choice Scope': {'selectedText': 'Not selected', 'startIndexInSegment': -1, 'endIndexInSegment': -1, 'value': 'Unspecified'}, 'Action First-Party': {'selectedText': 'when you subscribe to one of our magazines or place an order', 'startIndexInSegment': 302, 'endIndexInSegment': 362, 'value': 'Other'}, 'Personal Information Type': {'selectedText': 'names, mailing addresses, e-mail addresses', 'startIndexInSegment': 133, 'endIndexInSegment': 175, 'value': 'Contact'}, 'Choice Type': {'selectedText': 'Not selected', 'startIndexInSegment': -1, 'endIndexInSegment': -1, 'value': 'Unspecified'}, 'Identifiability': {'selectedText': 'personally identifiable', 'startIndexInSegment': 88, 'endIndexInSegment': 111, 'value': 'Identifiable'}, 'Does/Does Not': {'selectedText': 'We collect', 'startIndexInSegment': 77, 'endIndexInSegment': 87, 'value': 'Does'}, 'User Type': {'selectedText': 'Not selected', 'startIndexInSegment': -1, 'endIndexInSegment': -1, 'value': 'Unspecified'}, 'Purpose': {'selectedText': 'Not selected', 'startIndexInSegment': -1, 'endIndexInSegment': -1, 'value': 'Unspecified'}}\n",
      "1106_allstate.com.csv\n",
      "1164_acbj.com.csv\n",
      "1205_opensecrets.org.csv\n",
      "{'Third Party Entity': {'endIndexInSegment': 89, 'startIndexInSegment': 76, 'selectedText': 'third parties', 'value': 'Unnamed third party'}, 'Choice Scope': {'endIndexInSegment': -1, 'startIndexInSegment': -1, 'value': 'Unspecified'}, 'Purpose': {'endIndexInSegment': -1, 'startIndexInSegment': -1, 'value': 'Unspecified'}, 'Personal Information Type': {'endIndexInSegment': 68, 'startIndexInSegment': 33, 'selectedText': 'personally identifiable information', 'value': 'Generic personal information'}, 'Choice Type': {'endIndexInSegment': -1, 'startIndexInSegment': -1, 'value': 'Unspecified'}, 'Identifiability': {'endIndexInSegment': 68, 'startIndexInSegment': 33, 'selectedText': 'personally identifiable information', 'value': 'Identifiable'}, 'Does/Does Not': {'endIndexInSegment': 12, 'startIndexInSegment': 4, 'selectedText': 'will not', 'value': 'Does Not'}, 'User Type': {'endIndexInSegment': -1, 'startIndexInSegment': -1, 'value': 'Unspecified'}, 'Action Third Party': {'endIndexInSegment': 18, 'startIndexInSegment': 13, 'selectedText': 'share', 'value': 'Receive/Shared with'}}\n",
      "1206_dcccd.edu.csv\n",
      "1221_gwdocs.com.csv\n",
      "1224_austincc.edu.csv\n",
      "1252_cincymuseum.org.csv\n",
      "{'Collection Mode': {'selectedText': 'we automatically collect', 'startIndexInSegment': 95, 'endIndexInSegment': 119, 'value': 'Implicit'}, 'Choice Scope': {'selectedText': 'null', 'startIndexInSegment': -1, 'endIndexInSegment': -1, 'value': 'not-selected'}, 'Action First-Party': {'selectedText': 'each time you visit the Site, we automatically collect', 'startIndexInSegment': 65, 'endIndexInSegment': 119, 'value': 'Collect on website'}, 'Personal Information Type': {'selectedText': 'IP address', 'startIndexInSegment': 125, 'endIndexInSegment': 135, 'value': 'IP address and device IDs'}, 'Choice Type': {'selectedText': 'null', 'startIndexInSegment': -1, 'endIndexInSegment': -1, 'value': 'not-selected'}, 'Identifiability': {'selectedText': 'null', 'startIndexInSegment': -1, 'endIndexInSegment': -1, 'value': 'not-selected'}, 'Does/Does Not': {'selectedText': 'null', 'startIndexInSegment': -1, 'endIndexInSegment': -1, 'value': 'Does'}, 'User Type': {'selectedText': 'null', 'startIndexInSegment': -1, 'endIndexInSegment': -1, 'value': 'not-selected'}, 'Purpose': {'selectedText': 'to administer and optimize the Site for you', 'startIndexInSegment': 206, 'endIndexInSegment': 249, 'value': 'Personalization/Customization'}}\n",
      "1259_fool.com.csv\n",
      "1261_zacks.com.csv\n",
      "{'Collection Mode': {'endIndexInSegment': 290, 'startIndexInSegment': 249, 'selectedText': 'The information you may choose to provide', 'value': 'Explicit'}, 'Choice Scope': {'endIndexInSegment': -1, 'startIndexInSegment': -1, 'value': 'not-selected'}, 'Action First-Party': {'endIndexInSegment': -1, 'startIndexInSegment': -1, 'value': 'Unspecified'}, 'Personal Information Type': {'endIndexInSegment': 383, 'startIndexInSegment': 329, 'selectedText': 'email address, name, postal address, and phone number.', 'value': 'Contact'}, 'Choice Type': {'endIndexInSegment': 595, 'startIndexInSegment': 383, 'selectedText': 'In fact, we only disclose the information you provide us or send you information if you authorize us to do so by choosing to receive e-mail services on our Zacks.com Web site or opting into third party mailings.', 'value': 'Opt-in'}, 'Identifiability': {'endIndexInSegment': -1, 'startIndexInSegment': -1, 'value': 'not-selected'}, 'Does/Does Not': {'endIndexInSegment': -1, 'startIndexInSegment': -1, 'value': 'Does'}, 'User Type': {'endIndexInSegment': -1, 'startIndexInSegment': -1, 'value': 'not-selected'}, 'Purpose': {'endIndexInSegment': -1, 'startIndexInSegment': -1, 'value': 'Unspecified'}}\n",
      "{'Third Party Entity': {'endIndexInSegment': 585, 'startIndexInSegment': 574, 'selectedText': 'third party', 'value': 'Unnamed third party'}, 'Choice Scope': {'endIndexInSegment': 595, 'startIndexInSegment': 401, 'selectedText': 'disclose the information you provide us or send you information if you authorize us to do so by choosing to receive e-mail services on our Zacks.com Web site or opting into third party mailings.', 'value': 'Both'}, 'Purpose': {'endIndexInSegment': -1, 'startIndexInSegment': -1, 'value': 'Unspecified'}, 'Personal Information Type': {'endIndexInSegment': 383, 'startIndexInSegment': 329, 'selectedText': 'email address, name, postal address, and phone number.', 'value': 'Contact'}, 'Choice Type': {'endIndexInSegment': 595, 'startIndexInSegment': 465, 'selectedText': 'if you authorize us to do so by choosing to receive e-mail services on our Zacks.com Web site or opting into third party mailings.', 'value': 'Opt-in'}, 'Identifiability': {'endIndexInSegment': -1, 'startIndexInSegment': -1, 'value': 'not-selected'}, 'Does/Does Not': {'endIndexInSegment': -1, 'startIndexInSegment': -1, 'value': 'Does'}, 'User Type': {'endIndexInSegment': -1, 'startIndexInSegment': -1, 'value': 'not-selected'}, 'Action Third Party': {'endIndexInSegment': 493, 'startIndexInSegment': 393, 'selectedText': 'we only disclose the information you provide us or send you information if you authorize us to do so', 'value': 'Receive/Shared with'}}\n",
      "1264_citizen.org.csv\n",
      "{'Collection Mode': {'endIndexInSegment': 114, 'startIndexInSegment': 101, 'selectedText': 'automatically', 'value': 'Implicit'}, 'Choice Scope': {'endIndexInSegment': -1, 'startIndexInSegment': -1, 'value': 'not-selected'}, 'Action First-Party': {'endIndexInSegment': 122, 'startIndexInSegment': 115, 'selectedText': 'collect', 'value': 'Collect on website'}, 'Personal Information Type': {'endIndexInSegment': 143, 'startIndexInSegment': 123, 'selectedText': 'personal information', 'value': 'Generic personal information'}, 'Choice Type': {'endIndexInSegment': -1, 'startIndexInSegment': -1, 'value': 'not-selected'}, 'Identifiability': {'endIndexInSegment': -1, 'startIndexInSegment': -1, 'value': 'not-selected'}, 'Does/Does Not': {'endIndexInSegment': 100, 'startIndexInSegment': 92, 'selectedText': 'does not', 'value': 'Does Not'}, 'User Type': {'endIndexInSegment': -1, 'startIndexInSegment': -1, 'value': 'not-selected'}, 'Purpose': {'endIndexInSegment': 195, 'startIndexInSegment': 44, 'selectedText': 'Your privacy is important to us. Public Citizen does not automatically collect personal information from people who visit or interact with our website.', 'value': 'Unspecified'}}\n",
      "{'Collection Mode': {'endIndexInSegment': 14, 'startIndexInSegment': 3, 'selectedText': 'you provide', 'value': 'Explicit'}, 'Choice Scope': {'endIndexInSegment': -1, 'startIndexInSegment': -1, 'value': 'not-selected'}, 'Action First-Party': {'endIndexInSegment': 131, 'startIndexInSegment': 103, 'selectedText': 'on the website, we may store', 'value': 'Collect on website'}, 'Personal Information Type': {'endIndexInSegment': 69, 'startIndexInSegment': 15, 'selectedText': 'your name, postal address, email address, phone number', 'value': 'Contact'}, 'Choice Type': {'endIndexInSegment': -1, 'startIndexInSegment': -1, 'value': 'not-selected'}, 'Identifiability': {'endIndexInSegment': -1, 'startIndexInSegment': -1, 'value': 'not-selected'}, 'Does/Does Not': {'endIndexInSegment': -1, 'startIndexInSegment': -1, 'value': 'Does'}, 'User Type': {'endIndexInSegment': -1, 'startIndexInSegment': -1, 'value': 'not-selected'}, 'Purpose': {'endIndexInSegment': 179, 'startIndexInSegment': 153, 'selectedText': 'contact you about our work', 'value': 'Other'}}\n",
      "1300_bankofamerica.com.csv\n",
      "1306_chasepaymentech.com.csv\n",
      "133_fortune.com.csv\n",
      "135_instagram.com.csv\n",
      "1360_thehill.com.csv\n",
      "{'Collection Mode': {'endIndexInSegment': 128, 'startIndexInSegment': 121, 'selectedText': 'collect', 'value': 'Implicit'}, 'Choice Scope': {'endIndexInSegment': -1, 'startIndexInSegment': -1, 'value': 'Unspecified'}, 'Action First-Party': {'endIndexInSegment': 225, 'startIndexInSegment': 221, 'selectedText': 'Site', 'value': 'Collect on website'}, 'Personal Information Type': {'endIndexInSegment': 375, 'startIndexInSegment': 367, 'selectedText': 'Protocol', 'value': 'IP address and device IDs'}, 'Choice Type': {'endIndexInSegment': -1, 'startIndexInSegment': -1, 'value': 'Unspecified'}, 'Identifiability': {'endIndexInSegment': 164, 'startIndexInSegment': 137, 'selectedText': 'non-personally identifiable', 'value': 'Aggregated or anonymized'}, 'Does/Does Not': {'endIndexInSegment': 120, 'startIndexInSegment': 117, 'selectedText': 'may', 'value': 'Does'}, 'User Type': {'endIndexInSegment': -1, 'startIndexInSegment': -1, 'value': 'Unspecified'}, 'Purpose': {'endIndexInSegment': -1, 'startIndexInSegment': -1, 'value': 'Unspecified'}}\n",
      "1361_yahoo.com.csv\n",
      "1419_miaminewtimes.com.csv\n",
      "144_style.com.csv\n",
      "{'Collection Mode': {'endIndexInSegment': -1, 'startIndexInSegment': -1, 'value': 'Unspecified'}, 'Choice Scope': {'endIndexInSegment': 30, 'startIndexInSegment': 22, 'selectedText': 'collects', 'value': 'Collection'}, 'Action First-Party': {'endIndexInSegment': 30, 'startIndexInSegment': 22, 'selectedText': 'collects', 'value': 'Unspecified'}, 'Personal Information Type': {'endIndexInSegment': 66, 'startIndexInSegment': 31, 'selectedText': 'personally identifiable information', 'value': 'Generic personal information'}, 'Choice Type': {'endIndexInSegment': 107, 'startIndexInSegment': 100, 'selectedText': 'consent', 'value': 'Opt-in'}, 'Identifiability': {'endIndexInSegment': 54, 'startIndexInSegment': 42, 'selectedText': 'identifiable', 'value': 'Identifiable'}, 'Does/Does Not': {'endIndexInSegment': 30, 'startIndexInSegment': 22, 'selectedText': 'collects', 'value': 'Does'}, 'User Type': {'endIndexInSegment': -1, 'startIndexInSegment': -1, 'value': 'not-selected'}, 'Purpose': {'endIndexInSegment': -1, 'startIndexInSegment': -1, 'value': 'Unspecified'}}\n",
      "1468_rockstargames.com.csv\n",
      "1470_steampowered.com.csv\n",
      "1498_ticketmaster.com.csv\n",
      "1510_jibjab.com.csv\n",
      "1539_geocaching.com.csv\n",
      "1545_taylorswift.com.csv\n",
      "1582_msn.com.csv\n",
      "{'Collection Mode': {'endIndexInSegment': -1, 'startIndexInSegment': -1, 'value': 'not-selected'}, 'Choice Scope': {'endIndexInSegment': -1, 'startIndexInSegment': -1, 'value': 'not-selected'}, 'Action First-Party': {'endIndexInSegment': 139, 'startIndexInSegment': 115, 'selectedText': 'we will place one or mor', 'value': 'Collect on website'}, 'Personal Information Type': {'endIndexInSegment': 150, 'startIndexInSegment': 141, 'selectedText': '\"cookies\"', 'value': 'Cookies and tracking elements'}, 'Choice Type': {'endIndexInSegment': -1, 'startIndexInSegment': -1, 'value': 'not-selected'}, 'Identifiability': {'endIndexInSegment': -1, 'startIndexInSegment': -1, 'value': 'not-selected'}, 'Does/Does Not': {'endIndexInSegment': -1, 'startIndexInSegment': -1, 'value': 'Does'}, 'User Type': {'endIndexInSegment': -1, 'startIndexInSegment': -1, 'value': 'not-selected'}, 'Purpose': {'endIndexInSegment': 167, 'startIndexInSegment': 60, 'selectedText': 'When you use Bing and MSN services with a web browser, we will place one or more \"cookies\" on your machine.', 'value': 'Unspecified'}}\n",
      "{'Collection Mode': {'endIndexInSegment': -1, 'startIndexInSegment': -1, 'value': 'not-selected'}, 'Choice Scope': {'endIndexInSegment': -1, 'startIndexInSegment': -1, 'value': 'not-selected'}, 'Action First-Party': {'endIndexInSegment': 190, 'startIndexInSegment': 181, 'selectedText': 'Bing uses', 'value': 'Unspecified'}, 'Personal Information Type': {'endIndexInSegment': 199, 'startIndexInSegment': 193, 'selectedText': 'cookie', 'value': 'Cookies and tracking elements'}, 'Choice Type': {'endIndexInSegment': -1, 'startIndexInSegment': -1, 'value': 'not-selected'}, 'Identifiability': {'endIndexInSegment': -1, 'startIndexInSegment': -1, 'value': 'not-selected'}, 'Does/Does Not': {'endIndexInSegment': -1, 'startIndexInSegment': -1, 'value': 'Does'}, 'User Type': {'endIndexInSegment': -1, 'startIndexInSegment': -1, 'value': 'not-selected'}, 'Purpose': {'endIndexInSegment': 305, 'startIndexInSegment': 248, 'selectedText': 'to operate the service and enable certain search features', 'value': 'Basic service/feature'}}\n",
      "1610_post-gazette.com.csv\n",
      "1618_sltrib.com.csv\n",
      "1636_sidearmsports.com.csv\n",
      "1637_dailyillini.com.csv\n",
      "164_adweek.com.csv\n",
      "{'Collection Mode': {'endIndexInSegment': -1, 'startIndexInSegment': -1, 'value': 'Unspecified'}, 'Choice Scope': {'endIndexInSegment': -1, 'startIndexInSegment': -1, 'value': 'Unspecified'}, 'Action First-Party': {'endIndexInSegment': 456, 'startIndexInSegment': 410, 'selectedText': 'collect information from users of the Websites', 'value': 'Collect on website'}, 'Personal Information Type': {'endIndexInSegment': 429, 'startIndexInSegment': 418, 'selectedText': 'information', 'value': 'Generic personal information'}, 'Choice Type': {'endIndexInSegment': 566, 'startIndexInSegment': 490, 'selectedText': 'Your use of the Websites constitutes your acceptance of this Privacy Policy.', 'value': 'Other'}, 'Identifiability': {'endIndexInSegment': -1, 'startIndexInSegment': -1, 'value': 'Unspecified'}, 'Does/Does Not': {'endIndexInSegment': 488, 'startIndexInSegment': 403, 'selectedText': 'how we collect information from users of the Websites and how we use such information', 'value': 'Does'}, 'User Type': {'endIndexInSegment': -1, 'startIndexInSegment': -1, 'value': 'Unspecified'}, 'Purpose': {'endIndexInSegment': -1, 'startIndexInSegment': -1, 'value': 'Unspecified'}}\n",
      "1666_wsmv.com.csv\n",
      "1673_tulsaworld.com.csv\n",
      "1683_dailynews.com.csv\n",
      "1694_lids.com.csv\n",
      "1703_sports-reference.com.csv\n",
      "{'Collection Mode': {'selectedText': 'null', 'startIndexInSegment': -1, 'endIndexInSegment': -1, 'value': 'not-selected'}, 'Choice Scope': {'selectedText': 'null', 'startIndexInSegment': -1, 'endIndexInSegment': -1, 'value': 'not-selected'}, 'Action First-Party': {'selectedText': \"This Privacy Statement addresses SRL's practices regarding information collected only directly through or from the Site\", 'startIndexInSegment': 467, 'endIndexInSegment': 586, 'value': 'Collect on website'}, 'Personal Information Type': {'selectedText': 'information', 'startIndexInSegment': 526, 'endIndexInSegment': 537, 'value': 'Unspecified'}, 'Choice Type': {'selectedText': 'null', 'startIndexInSegment': -1, 'endIndexInSegment': -1, 'value': 'not-selected'}, 'Identifiability': {'selectedText': 'null', 'startIndexInSegment': -1, 'endIndexInSegment': -1, 'value': 'not-selected'}, 'Does/Does Not': {'selectedText': 'null', 'startIndexInSegment': -1, 'endIndexInSegment': -1, 'value': 'Does'}, 'User Type': {'selectedText': 'null', 'startIndexInSegment': -1, 'endIndexInSegment': -1, 'value': 'not-selected'}, 'Purpose': {'selectedText': \"This Privacy Statement addresses SRL's practices regarding information collected only directly through or from the Site - it does not address or govern any information gathering, use, or dissemination practices related to information collected other than directly through or from the Site, including, without limitation, from or via telephone, facsimile, postal mail, personal delivery, or other or additional offline means or media. SRL can be contacted by mail, phone, facsimile, or by e-mail at SRL, as provided in Paragraph 3 of this Privacy Statement.\", 'startIndexInSegment': 467, 'endIndexInSegment': 1023, 'value': 'Other'}}\n",
      "1708_foxsports.com.csv\n",
      "1713_latinpost.com.csv\n",
      "{'Collection Mode': {'selectedText': 'null', 'startIndexInSegment': -1, 'endIndexInSegment': -1, 'value': 'not-selected'}, 'Choice Scope': {'selectedText': 'null', 'startIndexInSegment': -1, 'endIndexInSegment': -1, 'value': 'not-selected'}, 'Action First-Party': {'selectedText': 'a mobile device or any other technology or devices now known or hereafter developed or discovered (each, a \"Device\")', 'startIndexInSegment': 154, 'endIndexInSegment': 270, 'value': 'Collect on mobile website'}, 'Personal Information Type': {'selectedText': 'null', 'startIndexInSegment': -1, 'endIndexInSegment': -1, 'value': 'Unspecified'}, 'Choice Type': {'selectedText': 'null', 'startIndexInSegment': -1, 'endIndexInSegment': -1, 'value': 'not-selected'}, 'Identifiability': {'selectedText': 'null', 'startIndexInSegment': -1, 'endIndexInSegment': -1, 'value': 'not-selected'}, 'Does/Does Not': {'selectedText': 'null', 'startIndexInSegment': -1, 'endIndexInSegment': -1, 'value': 'Does'}, 'User Type': {'selectedText': 'null', 'startIndexInSegment': -1, 'endIndexInSegment': -1, 'value': 'User with account'}, 'Purpose': {'selectedText': 'null', 'startIndexInSegment': -1, 'endIndexInSegment': -1, 'value': 'Other'}}\n",
      "175_mlb.mlb.com.csv\n",
      "186_abcnews.com.csv\n",
      "200_washingtonpost.com.csv\n",
      "202_foodallergy.org.csv\n",
      "207_reference.com.csv\n",
      "{'Collection Mode': {'endIndexInSegment': 215, 'startIndexInSegment': 208, 'selectedText': 'collect', 'value': 'Unspecified'}, 'Choice Scope': {'endIndexInSegment': -1, 'startIndexInSegment': -1, 'value': 'Unspecified'}, 'Action First-Party': {'endIndexInSegment': 215, 'startIndexInSegment': 208, 'selectedText': 'collect', 'value': 'Unspecified'}, 'Personal Information Type': {'endIndexInSegment': 227, 'startIndexInSegment': 216, 'selectedText': 'information', 'value': 'Unspecified'}, 'Choice Type': {'endIndexInSegment': -1, 'startIndexInSegment': -1, 'value': 'Unspecified'}, 'Identifiability': {'endIndexInSegment': -1, 'startIndexInSegment': -1, 'value': 'Unspecified'}, 'Does/Does Not': {'endIndexInSegment': 215, 'startIndexInSegment': 208, 'selectedText': 'collect', 'value': 'Does'}, 'User Type': {'endIndexInSegment': -1, 'startIndexInSegment': -1, 'value': 'Unspecified'}, 'Purpose': {'endIndexInSegment': 287, 'startIndexInSegment': 252, 'selectedText': 'facilitate and improve our services', 'value': 'Personalization/Customization'}}\n",
      "20_theatlantic.com.csv\n",
      "21_imdb.com.csv\n",
      "228_gawker.com.csv\n",
      "{'Collection Mode': {'endIndexInSegment': -1, 'startIndexInSegment': -1, 'value': 'Unspecified'}, 'Choice Scope': {'endIndexInSegment': -1, 'startIndexInSegment': -1, 'value': 'Unspecified'}, 'Action First-Party': {'endIndexInSegment': -1, 'startIndexInSegment': -1, 'value': 'Unspecified'}, 'Personal Information Type': {'endIndexInSegment': -1, 'startIndexInSegment': -1, 'value': 'Unspecified'}, 'Choice Type': {'endIndexInSegment': -1, 'startIndexInSegment': -1, 'value': 'Unspecified'}, 'Identifiability': {'endIndexInSegment': -1, 'startIndexInSegment': -1, 'value': 'Unspecified'}, 'Does/Does Not': {'endIndexInSegment': 81, 'startIndexInSegment': 78, 'selectedText': 'may', 'value': 'Does'}, 'User Type': {'endIndexInSegment': -1, 'startIndexInSegment': -1, 'value': 'Unspecified'}, 'Purpose': {'endIndexInSegment': -1, 'startIndexInSegment': -1, 'value': 'Unspecified'}}\n",
      "{'Third Party Entity': {'endIndexInSegment': 81, 'startIndexInSegment': 64, 'selectedText': 'third parties may', 'value': 'Unnamed third party'}, 'Choice Scope': {'endIndexInSegment': -1, 'startIndexInSegment': -1, 'value': 'Unspecified'}, 'Purpose': {'endIndexInSegment': -1, 'startIndexInSegment': -1, 'value': 'Unspecified'}, 'Personal Information Type': {'endIndexInSegment': -1, 'startIndexInSegment': -1, 'value': 'Unspecified'}, 'Choice Type': {'endIndexInSegment': -1, 'startIndexInSegment': -1, 'value': 'Unspecified'}, 'Identifiability': {'endIndexInSegment': 101, 'startIndexInSegment': 82, 'selectedText': 'collect information', 'value': 'Unspecified'}, 'Does/Does Not': {'endIndexInSegment': 89, 'startIndexInSegment': 82, 'selectedText': 'collect', 'value': 'Does'}, 'User Type': {'endIndexInSegment': -1, 'startIndexInSegment': -1, 'value': 'Unspecified'}, 'Action Third Party': {'endIndexInSegment': 101, 'startIndexInSegment': 82, 'selectedText': 'collect information', 'value': 'Collect on first party website/app'}}\n",
      "26_nytimes.com.csv\n",
      "303_reddit.com.csv\n",
      "320_timeinc.com.csv\n",
      "325_ocregister.com.csv\n",
      "{'Third Party Entity': {'endIndexInSegment': 126, 'startIndexInSegment': 22, 'selectedText': 'Freedom will be transferring to Publisher customer data collected from users of the Properties websites.', 'value': 'Named third party'}, 'Choice Scope': {'endIndexInSegment': -1, 'startIndexInSegment': -1, 'value': 'Unspecified'}, 'Purpose': {'endIndexInSegment': 20, 'startIndexInSegment': 16, 'selectedText': 'sale', 'value': 'Merger/Acquisition'}, 'Personal Information Type': {'endIndexInSegment': -1, 'startIndexInSegment': -1, 'value': 'Unspecified'}, 'Choice Type': {'endIndexInSegment': -1, 'startIndexInSegment': -1, 'value': 'Unspecified'}, 'Identifiability': {'endIndexInSegment': -1, 'startIndexInSegment': -1, 'value': 'Unspecified'}, 'Does/Does Not': {'endIndexInSegment': 37, 'startIndexInSegment': 30, 'selectedText': 'will be', 'value': 'Does'}, 'User Type': {'endIndexInSegment': -1, 'startIndexInSegment': -1, 'value': 'Unspecified'}, 'Action Third Party': {'endIndexInSegment': 50, 'startIndexInSegment': 38, 'selectedText': 'transferring', 'value': 'Receive/Shared with'}}\n",
      "32_voxmedia.com.csv\n",
      "331_tgifridays.com.csv\n",
      "{'Collection Mode': {'endIndexInSegment': 354, 'startIndexInSegment': 320, 'selectedText': 'we may initiate a program, service', 'value': 'Unspecified'}, 'Choice Scope': {'endIndexInSegment': -1, 'startIndexInSegment': -1, 'value': 'Unspecified'}, 'Action First-Party': {'endIndexInSegment': 24, 'startIndexInSegment': 17, 'selectedText': 'digital', 'value': 'Collect on website'}, 'Personal Information Type': {'endIndexInSegment': 442, 'startIndexInSegment': 379, 'selectedText': 'your name, birthday, email address, city of residence, ZIP code', 'value': 'Contact'}, 'Choice Type': {'endIndexInSegment': -1, 'startIndexInSegment': -1, 'value': 'Unspecified'}, 'Identifiability': {'endIndexInSegment': 414, 'startIndexInSegment': 379, 'selectedText': 'your name, birthday, email address,', 'value': 'Identifiable'}, 'Does/Does Not': {'endIndexInSegment': 100, 'startIndexInSegment': 48, 'selectedText': 'certain information about your activity is collected', 'value': 'Does'}, 'User Type': {'endIndexInSegment': -1, 'startIndexInSegment': -1, 'value': 'Unspecified'}, 'Purpose': {'endIndexInSegment': 210, 'startIndexInSegment': 129, 'selectedText': \"determine our users' preferences, to design initiatives to meet those preferences\", 'value': 'Personalization/Customization'}}\n",
      "{'Collection Mode': {'endIndexInSegment': 354, 'startIndexInSegment': 320, 'selectedText': 'we may initiate a program, service', 'value': 'Unspecified'}, 'Choice Scope': {'endIndexInSegment': -1, 'startIndexInSegment': -1, 'value': 'Unspecified'}, 'Action First-Party': {'endIndexInSegment': 24, 'startIndexInSegment': 17, 'selectedText': 'digital', 'value': 'Collect on website'}, 'Personal Information Type': {'endIndexInSegment': 398, 'startIndexInSegment': 390, 'selectedText': 'birthday', 'value': 'Demographic'}, 'Choice Type': {'endIndexInSegment': -1, 'startIndexInSegment': -1, 'value': 'Unspecified'}, 'Identifiability': {'endIndexInSegment': 414, 'startIndexInSegment': 379, 'selectedText': 'your name, birthday, email address,', 'value': 'Identifiable'}, 'Does/Does Not': {'endIndexInSegment': 100, 'startIndexInSegment': 48, 'selectedText': 'certain information about your activity is collected', 'value': 'Does'}, 'User Type': {'endIndexInSegment': -1, 'startIndexInSegment': -1, 'value': 'Unspecified'}, 'Purpose': {'endIndexInSegment': 210, 'startIndexInSegment': 129, 'selectedText': \"determine our users' preferences, to design initiatives to meet those preferences\", 'value': 'Personalization/Customization'}}\n",
      "33_nbcuniversal.com.csv\n",
      "348_walmart.com.csv\n",
      "359_vikings.com.csv\n",
      "394_newsbusters.org.csv\n",
      "414_washingtonian.com.csv\n",
      "{'Collection Mode': {'selectedText': 'null', 'startIndexInSegment': -1, 'endIndexInSegment': -1, 'value': 'not-selected'}, 'Choice Scope': {'selectedText': 'Not selected', 'startIndexInSegment': -1, 'endIndexInSegment': -1, 'value': 'Unspecified'}, 'Action First-Party': {'selectedText': 'visit the Washingtonian.com site.', 'startIndexInSegment': 297, 'endIndexInSegment': 330, 'value': 'Collect on website'}, 'Personal Information Type': {'selectedText': 'information (your name, e-mail address, street address, telephone number)', 'startIndexInSegment': 75, 'endIndexInSegment': 148, 'value': 'Contact'}, 'Choice Type': {'selectedText': 'Not selected', 'startIndexInSegment': -1, 'endIndexInSegment': -1, 'value': 'Unspecified'}, 'Identifiability': {'selectedText': 'personally identifiable', 'startIndexInSegment': 51, 'endIndexInSegment': 74, 'value': 'Identifiable'}, 'Does/Does Not': {'selectedText': 'null', 'startIndexInSegment': -1, 'endIndexInSegment': -1, 'value': 'Does'}, 'User Type': {'selectedText': 'Not selected', 'startIndexInSegment': -1, 'endIndexInSegment': -1, 'value': 'Unspecified'}, 'Purpose': {'selectedText': 'Not selected', 'startIndexInSegment': -1, 'endIndexInSegment': -1, 'value': 'Unspecified'}}\n",
      "{'Collection Mode': {'selectedText': 'null', 'startIndexInSegment': -1, 'endIndexInSegment': -1, 'value': 'not-selected'}, 'Choice Scope': {'selectedText': 'Not selected', 'startIndexInSegment': -1, 'endIndexInSegment': -1, 'value': 'Unspecified'}, 'Action First-Party': {'selectedText': 'when you subscribe to Washingtonian magazine', 'startIndexInSegment': 248, 'endIndexInSegment': 292, 'value': 'Other'}, 'Personal Information Type': {'selectedText': 'information (your name, e-mail address, street address, telephone number)', 'startIndexInSegment': 75, 'endIndexInSegment': 148, 'value': 'Contact'}, 'Choice Type': {'selectedText': 'Not selected', 'startIndexInSegment': -1, 'endIndexInSegment': -1, 'value': 'Unspecified'}, 'Identifiability': {'selectedText': 'personally identifiable', 'startIndexInSegment': 51, 'endIndexInSegment': 74, 'value': 'Identifiable'}, 'Does/Does Not': {'selectedText': 'null', 'startIndexInSegment': -1, 'endIndexInSegment': -1, 'value': 'Does'}, 'User Type': {'selectedText': 'Not selected', 'startIndexInSegment': -1, 'endIndexInSegment': -1, 'value': 'Unspecified'}, 'Purpose': {'selectedText': 'Not selected', 'startIndexInSegment': -1, 'endIndexInSegment': -1, 'value': 'Unspecified'}}\n",
      "{'Collection Mode': {'selectedText': 'null', 'startIndexInSegment': -1, 'endIndexInSegment': -1, 'value': 'not-selected'}, 'Choice Scope': {'selectedText': 'null', 'startIndexInSegment': -1, 'endIndexInSegment': -1, 'value': 'not-selected'}, 'Action First-Party': {'selectedText': 'On certain pages, however, you may be asked to provide', 'startIndexInSegment': 219, 'endIndexInSegment': 273, 'value': 'Collect on website'}, 'Personal Information Type': {'selectedText': 'personal information', 'startIndexInSegment': 274, 'endIndexInSegment': 294, 'value': 'Generic personal information'}, 'Choice Type': {'selectedText': 'null', 'startIndexInSegment': -1, 'endIndexInSegment': -1, 'value': 'not-selected'}, 'Identifiability': {'selectedText': 'null', 'startIndexInSegment': -1, 'endIndexInSegment': -1, 'value': 'not-selected'}, 'Does/Does Not': {'selectedText': 'null', 'startIndexInSegment': -1, 'endIndexInSegment': -1, 'value': 'Does'}, 'User Type': {'selectedText': 'null', 'startIndexInSegment': -1, 'endIndexInSegment': -1, 'value': 'not-selected'}, 'Purpose': {'selectedText': 'subscribe to Washingtonian Magazine, renew your subscription, purchase a holiday gift subscription, submit a customer service inquiry, or make a purchase', 'startIndexInSegment': 318, 'endIndexInSegment': 471, 'value': 'Basic service/feature'}}\n",
      "{'Collection Mode': {'selectedText': 'null', 'startIndexInSegment': -1, 'endIndexInSegment': -1, 'value': 'not-selected'}, 'Choice Scope': {'selectedText': 'null', 'startIndexInSegment': -1, 'endIndexInSegment': -1, 'value': 'not-selected'}, 'Action First-Party': {'selectedText': 'On certain pages, however, you may be asked to provide', 'startIndexInSegment': 219, 'endIndexInSegment': 273, 'value': 'Collect on website'}, 'Personal Information Type': {'selectedText': 'personal information', 'startIndexInSegment': 274, 'endIndexInSegment': 294, 'value': 'Generic personal information'}, 'Choice Type': {'selectedText': 'null', 'startIndexInSegment': -1, 'endIndexInSegment': -1, 'value': 'not-selected'}, 'Identifiability': {'selectedText': 'null', 'startIndexInSegment': -1, 'endIndexInSegment': -1, 'value': 'not-selected'}, 'Does/Does Not': {'selectedText': 'null', 'startIndexInSegment': -1, 'endIndexInSegment': -1, 'value': 'Does'}, 'User Type': {'selectedText': 'null', 'startIndexInSegment': -1, 'endIndexInSegment': -1, 'value': 'not-selected'}, 'Purpose': {'selectedText': 'if you participate in sweepstakes and contests, surveys, message boards and chat rooms, or other interactive areas of our site.', 'startIndexInSegment': 527, 'endIndexInSegment': 659, 'value': 'Marketing'}}\n",
      "453_barnesandnoble.com.csv\n",
      "456_boardgamegeek.com.csv\n",
      "{'Third Party Entity': {'endIndexInSegment': 98, 'startIndexInSegment': 73, 'selectedText': 'other people or companies', 'value': 'Unnamed third party'}, 'Choice Scope': {'endIndexInSegment': -1, 'startIndexInSegment': -1, 'value': 'Unspecified'}, 'Purpose': {'endIndexInSegment': -1, 'startIndexInSegment': -1, 'value': 'Unspecified'}, 'Personal Information Type': {'endIndexInSegment': 57, 'startIndexInSegment': 37, 'selectedText': 'personal information', 'value': 'Unspecified'}, 'Choice Type': {'endIndexInSegment': 145, 'startIndexInSegment': 101, 'selectedText': 'except when we have your explicit permission', 'value': 'Opt-in'}, 'Identifiability': {'endIndexInSegment': -1, 'startIndexInSegment': -1, 'value': 'Unspecified'}, 'Does/Does Not': {'endIndexInSegment': 11, 'startIndexInSegment': 7, 'selectedText': 'does', 'value': 'Does'}, 'User Type': {'endIndexInSegment': -1, 'startIndexInSegment': -1, 'value': 'Unspecified'}, 'Action Third Party': {'endIndexInSegment': 26, 'startIndexInSegment': 22, 'selectedText': 'sell', 'value': 'Receive/Shared with'}}\n",
      "481_fredericknewspost.com.csv\n",
      "{'Collection Mode': {'endIndexInSegment': -1, 'startIndexInSegment': -1, 'value': 'Unspecified'}, 'Choice Scope': {'endIndexInSegment': -1, 'startIndexInSegment': -1, 'value': 'Unspecified'}, 'Action First-Party': {'endIndexInSegment': -1, 'startIndexInSegment': -1, 'value': 'Unspecified'}, 'Personal Information Type': {'endIndexInSegment': 401, 'startIndexInSegment': 391, 'selectedText': 'nformation', 'value': 'Generic personal information'}, 'Choice Type': {'endIndexInSegment': -1, 'startIndexInSegment': -1, 'value': 'Unspecified'}, 'Identifiability': {'endIndexInSegment': 389, 'startIndexInSegment': 366, 'selectedText': 'personally identifiable', 'value': 'Identifiable'}, 'Does/Does Not': {'endIndexInSegment': 420, 'startIndexInSegment': 402, 'selectedText': 'collected about yo', 'value': 'Does'}, 'User Type': {'endIndexInSegment': -1, 'startIndexInSegment': -1, 'value': 'Unspecified'}, 'Purpose': {'endIndexInSegment': -1, 'startIndexInSegment': -1, 'value': 'Unspecified'}}\n",
      "503_buffalowildwings.com.csv\n",
      "{'Collection Mode': {'endIndexInSegment': 110, 'startIndexInSegment': 45, 'selectedText': 'We collect the information you affirmatively choose to provide us', 'value': 'Explicit'}, 'Choice Scope': {'endIndexInSegment': -1, 'startIndexInSegment': -1, 'value': 'not-selected'}, 'Action First-Party': {'endIndexInSegment': 502, 'startIndexInSegment': 479, 'selectedText': 'By accessing the Sites,', 'value': 'Collect on website'}, 'Personal Information Type': {'endIndexInSegment': 167, 'startIndexInSegment': 112, 'selectedText': 'such as when you provide your name, contact information', 'value': 'Contact'}, 'Choice Type': {'endIndexInSegment': -1, 'startIndexInSegment': -1, 'value': 'not-selected'}, 'Identifiability': {'endIndexInSegment': -1, 'startIndexInSegment': -1, 'value': 'not-selected'}, 'Does/Does Not': {'endIndexInSegment': -1, 'startIndexInSegment': -1, 'value': 'Does'}, 'User Type': {'endIndexInSegment': -1, 'startIndexInSegment': -1, 'value': 'not-selected'}, 'Purpose': {'endIndexInSegment': 478, 'startIndexInSegment': 214, 'selectedText': 'for such purposes as purchasing products, creating an account, joining our loyalty programs, filling out a survey, entering contests, participating in promotions or electronic activities, posting comments on bulletin boards or otherwise interacting with our Sites.', 'value': 'Basic service/feature'}}\n",
      "517_kaleidahealth.org.csv\n",
      "523_usa.gov.csv\n",
      "{'Collection Mode': {'endIndexInSegment': 119, 'startIndexInSegment': 73, 'selectedText': 'unless you choose to provide that information.', 'value': 'Implicit'}, 'Choice Scope': {'endIndexInSegment': -1, 'startIndexInSegment': -1, 'value': 'Unspecified'}, 'Action First-Party': {'endIndexInSegment': 72, 'startIndexInSegment': 45, 'selectedText': 'when you visit our web site', 'value': 'Collect on website'}, 'Personal Information Type': {'endIndexInSegment': 44, 'startIndexInSegment': 24, 'selectedText': 'personal information', 'value': 'Generic personal information'}, 'Choice Type': {'endIndexInSegment': 119, 'startIndexInSegment': 73, 'selectedText': 'unless you choose to provide that information.', 'value': 'Opt-in'}, 'Identifiability': {'endIndexInSegment': -1, 'startIndexInSegment': -1, 'value': 'Unspecified'}, 'Does/Does Not': {'endIndexInSegment': 23, 'startIndexInSegment': 8, 'selectedText': \"doesn't collect\", 'value': 'Does Not'}, 'User Type': {'endIndexInSegment': -1, 'startIndexInSegment': -1, 'value': 'not-selected'}, 'Purpose': {'endIndexInSegment': -1, 'startIndexInSegment': -1, 'value': 'Unspecified'}}\n",
      "{'Collection Mode': {'endIndexInSegment': 55, 'startIndexInSegment': 42, 'selectedText': 'Automatically', 'value': 'Implicit'}, 'Choice Scope': {'endIndexInSegment': -1, 'startIndexInSegment': -1, 'value': 'Unspecified'}, 'Action First-Party': {'endIndexInSegment': 98, 'startIndexInSegment': 76, 'selectedText': 'When you visit USA.gov', 'value': 'Collect on website'}, 'Personal Information Type': {'endIndexInSegment': 172, 'startIndexInSegment': 143, 'selectedText': 'the Internet protocol address', 'value': 'IP address and device IDs'}, 'Choice Type': {'endIndexInSegment': -1, 'startIndexInSegment': -1, 'value': 'Unspecified'}, 'Identifiability': {'endIndexInSegment': -1, 'startIndexInSegment': -1, 'value': 'not-selected'}, 'Does/Does Not': {'endIndexInSegment': 30, 'startIndexInSegment': 21, 'selectedText': 'Collected', 'value': 'Does'}, 'User Type': {'endIndexInSegment': -1, 'startIndexInSegment': -1, 'value': 'Unspecified'}, 'Purpose': {'endIndexInSegment': -1, 'startIndexInSegment': -1, 'value': 'Unspecified'}}\n",
      "531_archives.gov.csv\n",
      "541_ifsa-butler.org.csv\n",
      "{'Collection Mode': {'endIndexInSegment': 269, 'startIndexInSegment': 199, 'selectedText': 'we collect from users who visit and submit applications to our website', 'value': 'Unspecified'}, 'Choice Scope': {'endIndexInSegment': -1, 'startIndexInSegment': -1, 'value': 'Unspecified'}, 'Action First-Party': {'endIndexInSegment': 269, 'startIndexInSegment': 199, 'selectedText': 'we collect from users who visit and submit applications to our website', 'value': 'Collect on website'}, 'Personal Information Type': {'endIndexInSegment': 198, 'startIndexInSegment': 187, 'selectedText': 'information', 'value': 'Unspecified'}, 'Choice Type': {'endIndexInSegment': -1, 'startIndexInSegment': -1, 'value': 'Unspecified'}, 'Identifiability': {'endIndexInSegment': -1, 'startIndexInSegment': -1, 'value': 'Unspecified'}, 'Does/Does Not': {'endIndexInSegment': 220, 'startIndexInSegment': 187, 'selectedText': 'information we collect from users', 'value': 'Does'}, 'User Type': {'endIndexInSegment': -1, 'startIndexInSegment': -1, 'value': 'Unspecified'}, 'Purpose': {'endIndexInSegment': 315, 'startIndexInSegment': 274, 'selectedText': 'how we use and disclose that information.', 'value': 'Unspecified'}}\n",
      "559_www.loc.gov.csv\n",
      "{'Collection Mode': {'endIndexInSegment': 364, 'startIndexInSegment': 341, 'selectedText': 'you voluntarily provide', 'value': 'Explicit'}, 'Choice Scope': {'endIndexInSegment': 314, 'startIndexInSegment': 307, 'selectedText': 'collect', 'value': 'Collection'}, 'Action First-Party': {'endIndexInSegment': 194, 'startIndexInSegment': 161, 'selectedText': 'obtained from our online visitors', 'value': 'Collect on website'}, 'Personal Information Type': {'endIndexInSegment': 335, 'startIndexInSegment': 315, 'selectedText': 'personal information', 'value': 'Generic personal information'}, 'Choice Type': {'endIndexInSegment': 364, 'startIndexInSegment': 341, 'selectedText': 'you voluntarily provide', 'value': 'Opt-in'}, 'Identifiability': {'endIndexInSegment': -1, 'startIndexInSegment': -1, 'value': 'Unspecified'}, 'Does/Does Not': {'endIndexInSegment': 335, 'startIndexInSegment': 294, 'selectedText': 'We will only collect personal information', 'value': 'Does'}, 'User Type': {'endIndexInSegment': -1, 'startIndexInSegment': -1, 'value': 'Unspecified'}, 'Purpose': {'endIndexInSegment': 454, 'startIndexInSegment': 438, 'selectedText': 'intended purpose', 'value': 'Unspecified'}}\n",
      "{'Third Party Entity': {'endIndexInSegment': 531, 'startIndexInSegment': 514, 'selectedText': 'government agency', 'value': 'Other part of company/affiliate'}, 'Choice Scope': {'endIndexInSegment': -1, 'startIndexInSegment': -1, 'value': 'Unspecified'}, 'Purpose': {'endIndexInSegment': 550, 'startIndexInSegment': 535, 'selectedText': 'required by law', 'value': 'Legal requirement'}, 'Personal Information Type': {'endIndexInSegment': 508, 'startIndexInSegment': 488, 'selectedText': 'personal information', 'value': 'Generic personal information'}, 'Choice Type': {'endIndexInSegment': -1, 'startIndexInSegment': -1, 'value': 'Unspecified'}, 'Identifiability': {'endIndexInSegment': -1, 'startIndexInSegment': -1, 'value': 'Unspecified'}, 'Does/Does Not': {'endIndexInSegment': 487, 'startIndexInSegment': 466, 'selectedText': 'We will only disclose', 'value': 'Does'}, 'User Type': {'endIndexInSegment': -1, 'startIndexInSegment': -1, 'value': 'Unspecified'}, 'Action Third Party': {'endIndexInSegment': 487, 'startIndexInSegment': 479, 'selectedText': 'disclose', 'value': 'Receive/Shared with'}}\n",
      "{'Third Party Entity': {'endIndexInSegment': 633, 'startIndexInSegment': 608, 'selectedText': 'contractors or associates', 'value': 'Unnamed third party'}, 'Choice Scope': {'endIndexInSegment': -1, 'startIndexInSegment': -1, 'value': 'Unspecified'}, 'Purpose': {'endIndexInSegment': 660, 'startIndexInSegment': 637, 'selectedText': 'carry out your requests', 'value': 'Basic service/feature'}, 'Personal Information Type': {'endIndexInSegment': 508, 'startIndexInSegment': 488, 'selectedText': 'personal information', 'value': 'Generic personal information'}, 'Choice Type': {'endIndexInSegment': -1, 'startIndexInSegment': -1, 'value': 'Unspecified'}, 'Identifiability': {'endIndexInSegment': -1, 'startIndexInSegment': -1, 'value': 'Unspecified'}, 'Does/Does Not': {'endIndexInSegment': 583, 'startIndexInSegment': 562, 'selectedText': 'We will only disclose', 'value': 'Does'}, 'User Type': {'endIndexInSegment': -1, 'startIndexInSegment': -1, 'value': 'Unspecified'}, 'Action Third Party': {'endIndexInSegment': 487, 'startIndexInSegment': 479, 'selectedText': 'disclose', 'value': 'Receive/Shared with'}}\n",
      "{'Third Party Entity': {'endIndexInSegment': 823, 'startIndexInSegment': 802, 'selectedText': 'other outside parties', 'value': 'Unnamed third party'}, 'Choice Scope': {'endIndexInSegment': 772, 'startIndexInSegment': 764, 'selectedText': 'disclose', 'value': 'Use'}, 'Purpose': {'endIndexInSegment': -1, 'startIndexInSegment': -1, 'value': 'Unspecified'}, 'Personal Information Type': {'endIndexInSegment': 798, 'startIndexInSegment': 778, 'selectedText': 'personal information', 'value': 'Generic personal information'}, 'Choice Type': {'endIndexInSegment': 863, 'startIndexInSegment': 824, 'selectedText': 'without first obtaining your permission', 'value': 'Opt-in'}, 'Identifiability': {'endIndexInSegment': -1, 'startIndexInSegment': -1, 'value': 'Unspecified'}, 'Does/Does Not': {'endIndexInSegment': 763, 'startIndexInSegment': 755, 'selectedText': 'will not', 'value': 'Does Not'}, 'User Type': {'endIndexInSegment': -1, 'startIndexInSegment': -1, 'value': 'Unspecified'}, 'Action Third Party': {'endIndexInSegment': 772, 'startIndexInSegment': 764, 'selectedText': 'disclose', 'value': 'Receive/Shared with'}}\n",
      "571_abita.com.csv\n",
      "{'Choice Type': {'endIndexInSegment': 177, 'startIndexInSegment': 47, 'selectedText': 'By accessing this website, you are consenting to the information collection and use practices described in this privacy statement.', 'value': 'Dont use service/feature'}, 'Choice Scope': {'endIndexInSegment': 130, 'startIndexInSegment': 113, 'selectedText': 'ollection and use', 'value': 'Unspecified'}, 'User Type': {'endIndexInSegment': -1, 'startIndexInSegment': -1, 'value': 'not-selected'}, 'Purpose': {'endIndexInSegment': -1, 'startIndexInSegment': -1, 'value': 'Unspecified'}, 'Personal Information Type': {'endIndexInSegment': 111, 'startIndexInSegment': 100, 'selectedText': 'information', 'value': 'Unspecified'}}\n",
      "{'Collection Mode': {'endIndexInSegment': -1, 'startIndexInSegment': -1, 'value': 'not-selected'}, 'Choice Scope': {'endIndexInSegment': -1, 'startIndexInSegment': -1, 'value': 'not-selected'}, 'Action First-Party': {'endIndexInSegment': 531, 'startIndexInSegment': 500, 'selectedText': 'personal information we collect', 'value': 'Unspecified'}, 'Personal Information Type': {'endIndexInSegment': 543, 'startIndexInSegment': 532, 'selectedText': 'may include', 'value': 'Other'}, 'Choice Type': {'endIndexInSegment': -1, 'startIndexInSegment': -1, 'value': 'not-selected'}, 'Identifiability': {'endIndexInSegment': -1, 'startIndexInSegment': -1, 'value': 'not-selected'}, 'Does/Does Not': {'endIndexInSegment': -1, 'startIndexInSegment': -1, 'value': 'Does'}, 'User Type': {'endIndexInSegment': -1, 'startIndexInSegment': -1, 'value': 'not-selected'}, 'Purpose': {'endIndexInSegment': 494, 'startIndexInSegment': 168, 'selectedText': 'allows us to contact you to provide a service or carry out a transaction that you have requested such as receiving information about Abita products and services, entering a contest, ordering e-mail newsletters, joining a limited-access premium site or service, or when purchasing, downloading and/or registering Abita products', 'value': 'Basic service/feature'}}\n",
      "581_coffeereview.com.csv\n",
      "{'Collection Mode': {'endIndexInSegment': -1, 'startIndexInSegment': -1, 'value': 'Unspecified'}, 'Choice Scope': {'endIndexInSegment': -1, 'startIndexInSegment': -1, 'value': 'Unspecified'}, 'Action First-Party': {'endIndexInSegment': 110, 'startIndexInSegment': 102, 'selectedText': 'Web site', 'value': 'Collect on website'}, 'Personal Information Type': {'endIndexInSegment': 28, 'startIndexInSegment': 26, 'selectedText': 'IP', 'value': 'IP address and device IDs'}, 'Choice Type': {'endIndexInSegment': -1, 'startIndexInSegment': -1, 'value': 'Unspecified'}, 'Identifiability': {'endIndexInSegment': -1, 'startIndexInSegment': -1, 'value': 'Unspecified'}, 'Does/Does Not': {'endIndexInSegment': 20, 'startIndexInSegment': 17, 'selectedText': 'use', 'value': 'Does'}, 'User Type': {'endIndexInSegment': -1, 'startIndexInSegment': -1, 'value': 'Unspecified'}, 'Purpose': {'endIndexInSegment': 97, 'startIndexInSegment': 87, 'selectedText': 'administer', 'value': 'Basic service/feature'}}\n",
      "584_communitycoffee.com.csv\n",
      "{'Collection Mode': {'endIndexInSegment': 229, 'startIndexInSegment': 193, 'selectedText': 'we give you opportunities to provide', 'value': 'Explicit'}, 'Choice Scope': {'endIndexInSegment': 286, 'startIndexInSegment': 222, 'selectedText': 'provide your name, address, email and other relevant information', 'value': 'Collection'}, 'Action First-Party': {'endIndexInSegment': 191, 'startIndexInSegment': 180, 'selectedText': 'In our site', 'value': 'Collect on website'}, 'Personal Information Type': {'endIndexInSegment': 255, 'startIndexInSegment': 235, 'selectedText': 'name, address, email', 'value': 'Contact'}, 'Choice Type': {'endIndexInSegment': 229, 'startIndexInSegment': 193, 'selectedText': 'we give you opportunities to provide', 'value': 'Dont use service/feature'}, 'Identifiability': {'endIndexInSegment': 255, 'startIndexInSegment': 235, 'selectedText': 'name, address, email', 'value': 'Identifiable'}, 'Does/Does Not': {'endIndexInSegment': 229, 'startIndexInSegment': 193, 'selectedText': 'we give you opportunities to provide', 'value': 'Does'}, 'User Type': {'endIndexInSegment': -1, 'startIndexInSegment': -1, 'value': 'Unspecified'}, 'Purpose': {'endIndexInSegment': 350, 'startIndexInSegment': 302, 'selectedText': 'give you a more personalized shopping experience', 'value': 'Personalization/Customization'}}\n",
      "{'Collection Mode': {'endIndexInSegment': 229, 'startIndexInSegment': 193, 'selectedText': 'we give you opportunities to provide', 'value': 'Explicit'}, 'Choice Scope': {'endIndexInSegment': 286, 'startIndexInSegment': 222, 'selectedText': 'provide your name, address, email and other relevant information', 'value': 'Collection'}, 'Action First-Party': {'endIndexInSegment': 191, 'startIndexInSegment': 180, 'selectedText': 'In our site', 'value': 'Collect on website'}, 'Personal Information Type': {'endIndexInSegment': 255, 'startIndexInSegment': 235, 'selectedText': 'name, address, email', 'value': 'Contact'}, 'Choice Type': {'endIndexInSegment': 229, 'startIndexInSegment': 193, 'selectedText': 'we give you opportunities to provide', 'value': 'Dont use service/feature'}, 'Identifiability': {'endIndexInSegment': 255, 'startIndexInSegment': 235, 'selectedText': 'name, address, email', 'value': 'Identifiable'}, 'Does/Does Not': {'endIndexInSegment': 229, 'startIndexInSegment': 193, 'selectedText': 'we give you opportunities to provide', 'value': 'Does'}, 'User Type': {'endIndexInSegment': -1, 'startIndexInSegment': -1, 'value': 'Unspecified'}, 'Purpose': {'endIndexInSegment': 401, 'startIndexInSegment': 358, 'selectedText': 'make ordering and reordering easier for you', 'value': 'Additional service/feature'}}\n",
      "{'Collection Mode': {'endIndexInSegment': 229, 'startIndexInSegment': 193, 'selectedText': 'we give you opportunities to provide', 'value': 'Explicit'}, 'Choice Scope': {'endIndexInSegment': 286, 'startIndexInSegment': 222, 'selectedText': 'provide your name, address, email and other relevant information', 'value': 'Collection'}, 'Action First-Party': {'endIndexInSegment': 191, 'startIndexInSegment': 180, 'selectedText': 'In our site', 'value': 'Collect on website'}, 'Personal Information Type': {'endIndexInSegment': 286, 'startIndexInSegment': 260, 'selectedText': 'other relevant information', 'value': 'Unspecified'}, 'Choice Type': {'endIndexInSegment': 229, 'startIndexInSegment': 193, 'selectedText': 'we give you opportunities to provide', 'value': 'Dont use service/feature'}, 'Identifiability': {'endIndexInSegment': 255, 'startIndexInSegment': 235, 'selectedText': 'name, address, email', 'value': 'Identifiable'}, 'Does/Does Not': {'endIndexInSegment': 229, 'startIndexInSegment': 193, 'selectedText': 'we give you opportunities to provide', 'value': 'Does'}, 'User Type': {'endIndexInSegment': -1, 'startIndexInSegment': -1, 'value': 'Unspecified'}, 'Purpose': {'endIndexInSegment': 350, 'startIndexInSegment': 302, 'selectedText': 'give you a more personalized shopping experience', 'value': 'Personalization/Customization'}}\n",
      "{'Collection Mode': {'endIndexInSegment': 229, 'startIndexInSegment': 193, 'selectedText': 'we give you opportunities to provide', 'value': 'Explicit'}, 'Choice Scope': {'endIndexInSegment': 286, 'startIndexInSegment': 222, 'selectedText': 'provide your name, address, email and other relevant information', 'value': 'Collection'}, 'Action First-Party': {'endIndexInSegment': 191, 'startIndexInSegment': 180, 'selectedText': 'In our site', 'value': 'Collect on website'}, 'Personal Information Type': {'endIndexInSegment': 286, 'startIndexInSegment': 260, 'selectedText': 'other relevant information', 'value': 'Unspecified'}, 'Choice Type': {'endIndexInSegment': 229, 'startIndexInSegment': 193, 'selectedText': 'we give you opportunities to provide', 'value': 'Dont use service/feature'}, 'Identifiability': {'endIndexInSegment': 255, 'startIndexInSegment': 235, 'selectedText': 'name, address, email', 'value': 'Identifiable'}, 'Does/Does Not': {'endIndexInSegment': 229, 'startIndexInSegment': 193, 'selectedText': 'we give you opportunities to provide', 'value': 'Does'}, 'User Type': {'endIndexInSegment': -1, 'startIndexInSegment': -1, 'value': 'Unspecified'}, 'Purpose': {'endIndexInSegment': 401, 'startIndexInSegment': 358, 'selectedText': 'make ordering and reordering easier for you', 'value': 'Additional service/feature'}}\n",
      "586_cariboucoffee.com.csv\n",
      "58_esquire.com.csv\n",
      "{'Collection Mode': {'endIndexInSegment': 1008, 'startIndexInSegment': 926, 'selectedText': 'By submitting PersonallyIdentifiable Information through any of our Covered Sites,', 'value': 'Explicit'}, 'Choice Scope': {'endIndexInSegment': 1103, 'startIndexInSegment': 1088, 'selectedText': 'collection, use', 'value': 'Both'}, 'Action First-Party': {'endIndexInSegment': 1008, 'startIndexInSegment': 926, 'selectedText': 'By submitting PersonallyIdentifiable Information through any of our Covered Sites,', 'value': 'Collect on website'}, 'Personal Information Type': {'endIndexInSegment': 854, 'startIndexInSegment': 809, 'selectedText': 'name, email address, address,telephone number', 'value': 'Contact'}, 'Choice Type': {'endIndexInSegment': 1008, 'startIndexInSegment': 926, 'selectedText': 'By submitting PersonallyIdentifiable Information through any of our Covered Sites,', 'value': 'Dont use service/feature'}, 'Identifiability': {'endIndexInSegment': 714, 'startIndexInSegment': 678, 'selectedText': '\"PersonallyIdentifiable Information\"', 'value': 'Identifiable'}, 'Does/Does Not': {'endIndexInSegment': 1103, 'startIndexInSegment': 926, 'selectedText': 'By submitting PersonallyIdentifiable Information through any of our Covered Sites, you agree to the terms of this privacy policy and you expressly consent to the collection, use', 'value': 'Does'}, 'User Type': {'endIndexInSegment': -1, 'startIndexInSegment': -1, 'value': 'Unspecified'}, 'Purpose': {'endIndexInSegment': -1, 'startIndexInSegment': -1, 'value': 'Unspecified'}}\n",
      "591_google.com.csv\n",
      "{'Collection Mode': {'selectedText': 'When you share', 'startIndexInSegment': 153, 'endIndexInSegment': 167, 'value': 'Explicit'}, 'Choice Scope': {'selectedText': 'null', 'startIndexInSegment': -1, 'endIndexInSegment': -1, 'value': 'not-selected'}, 'Action First-Party': {'selectedText': 'When you share information with us', 'startIndexInSegment': 153, 'endIndexInSegment': 187, 'value': 'Unspecified'}, 'Personal Information Type': {'selectedText': 'information', 'startIndexInSegment': 168, 'endIndexInSegment': 179, 'value': 'Unspecified'}, 'Choice Type': {'selectedText': 'null', 'startIndexInSegment': -1, 'endIndexInSegment': -1, 'value': 'not-selected'}, 'Identifiability': {'selectedText': 'null', 'startIndexInSegment': -1, 'endIndexInSegment': -1, 'value': 'not-selected'}, 'Does/Does Not': {'selectedText': 'null', 'startIndexInSegment': -1, 'endIndexInSegment': -1, 'value': 'Does'}, 'User Type': {'selectedText': 'null', 'startIndexInSegment': -1, 'endIndexInSegment': -1, 'value': 'not-selected'}, 'Purpose': {'selectedText': 'or example by creating a Google Account', 'startIndexInSegment': 190, 'endIndexInSegment': 229, 'value': 'Additional service/feature'}}\n",
      "59_liquor.com.csv\n",
      "{'Collection Mode': {'endIndexInSegment': 383, 'startIndexInSegment': 374, 'selectedText': 'expressly', 'value': 'Explicit'}, 'Choice Scope': {'endIndexInSegment': -1, 'startIndexInSegment': -1, 'value': 'not-selected'}, 'Action First-Party': {'endIndexInSegment': 222, 'startIndexInSegment': 208, 'selectedText': 'we may request', 'value': 'Other'}, 'Personal Information Type': {'endIndexInSegment': 297, 'startIndexInSegment': 262, 'selectedText': 'name, zip code and telephone number', 'value': 'Contact'}, 'Choice Type': {'endIndexInSegment': -1, 'startIndexInSegment': -1, 'value': 'not-selected'}, 'Identifiability': {'endIndexInSegment': -1, 'startIndexInSegment': -1, 'value': 'not-selected'}, 'Does/Does Not': {'endIndexInSegment': -1, 'startIndexInSegment': -1, 'value': 'Does'}, 'User Type': {'endIndexInSegment': -1, 'startIndexInSegment': -1, 'value': 'not-selected'}, 'Purpose': {'endIndexInSegment': 206, 'startIndexInSegment': 138, 'selectedText': 'additional services as well as more interesting and relevant content', 'value': 'Additional service/feature'}}\n",
      "{'Collection Mode': {'endIndexInSegment': 383, 'startIndexInSegment': 374, 'selectedText': 'expressly', 'value': 'Explicit'}, 'Choice Scope': {'endIndexInSegment': -1, 'startIndexInSegment': -1, 'value': 'not-selected'}, 'Action First-Party': {'endIndexInSegment': 222, 'startIndexInSegment': 208, 'selectedText': 'we may request', 'value': 'Other'}, 'Personal Information Type': {'endIndexInSegment': 104, 'startIndexInSegment': 90, 'selectedText': 'e-mail address', 'value': 'Contact'}, 'Choice Type': {'endIndexInSegment': -1, 'startIndexInSegment': -1, 'value': 'not-selected'}, 'Identifiability': {'endIndexInSegment': -1, 'startIndexInSegment': -1, 'value': 'not-selected'}, 'Does/Does Not': {'endIndexInSegment': -1, 'startIndexInSegment': -1, 'value': 'Does'}, 'User Type': {'endIndexInSegment': -1, 'startIndexInSegment': -1, 'value': 'not-selected'}, 'Purpose': {'endIndexInSegment': 75, 'startIndexInSegment': 31, 'selectedText': 'In order to distribute our email publication', 'value': 'Marketing'}}\n",
      "{'Collection Mode': {'endIndexInSegment': 383, 'startIndexInSegment': 374, 'selectedText': 'expressly', 'value': 'Explicit'}, 'Choice Scope': {'endIndexInSegment': -1, 'startIndexInSegment': -1, 'value': 'not-selected'}, 'Action First-Party': {'endIndexInSegment': 222, 'startIndexInSegment': 208, 'selectedText': 'we may request', 'value': 'Other'}, 'Personal Information Type': {'endIndexInSegment': 104, 'startIndexInSegment': 90, 'selectedText': 'e-mail address', 'value': 'Contact'}, 'Choice Type': {'endIndexInSegment': -1, 'startIndexInSegment': -1, 'value': 'not-selected'}, 'Identifiability': {'endIndexInSegment': -1, 'startIndexInSegment': -1, 'value': 'not-selected'}, 'Does/Does Not': {'endIndexInSegment': -1, 'startIndexInSegment': -1, 'value': 'Does'}, 'User Type': {'endIndexInSegment': -1, 'startIndexInSegment': -1, 'value': 'not-selected'}, 'Purpose': {'endIndexInSegment': 206, 'startIndexInSegment': 169, 'selectedText': 'more interesting and relevant content', 'value': 'Personalization/Customization'}}\n",
      "627_dairyqueen.com.csv\n",
      "{'Choice Type': {'selectedText': 'by using our website, you accept and agree to the terms stated below.', 'startIndexInSegment': 134, 'endIndexInSegment': 203, 'value': 'Dont use service/feature'}, 'Choice Scope': {'selectedText': 'Not selected', 'startIndexInSegment': -1, 'endIndexInSegment': -1, 'value': 'Unspecified'}, 'User Type': {'selectedText': 'Not selected', 'startIndexInSegment': -1, 'endIndexInSegment': -1, 'value': 'Unspecified'}, 'Purpose': {'selectedText': 'Not selected', 'startIndexInSegment': -1, 'endIndexInSegment': -1, 'value': 'Unspecified'}, 'Personal Information Type': {'selectedText': 'Not selected', 'startIndexInSegment': -1, 'endIndexInSegment': -1, 'value': 'Unspecified'}}\n",
      "{'Collection Mode': {'selectedText': 'You give u', 'startIndexInSegment': 24, 'endIndexInSegment': 34, 'value': 'Explicit'}, 'Choice Scope': {'selectedText': 'Not selected', 'startIndexInSegment': -1, 'endIndexInSegment': -1, 'value': 'Unspecified'}, 'Action First-Party': {'selectedText': 'when you join one of our loyalty clubs, enter one of our surveys, contests or sweepstakes, if you submit a question, comment or complaint, if you request or submit information about becoming a franchisee, if you submit an employment application, or for an online cake order.', 'startIndexInSegment': 57, 'endIndexInSegment': 331, 'value': 'Other'}, 'Personal Information Type': {'selectedText': 'such as', 'startIndexInSegment': 411, 'endIndexInSegment': 418, 'value': 'Other'}, 'Choice Type': {'selectedText': 'Not selected', 'startIndexInSegment': -1, 'endIndexInSegment': -1, 'value': 'Unspecified'}, 'Identifiability': {'selectedText': 'identifiable individual', 'startIndexInSegment': 386, 'endIndexInSegment': 409, 'value': 'Identifiable'}, 'Does/Does Not': {'selectedText': 'null', 'startIndexInSegment': -1, 'endIndexInSegment': -1, 'value': 'Does'}, 'User Type': {'selectedText': 'Not selected', 'startIndexInSegment': -1, 'endIndexInSegment': -1, 'value': 'Unspecified'}, 'Purpose': {'selectedText': 'Not selected', 'startIndexInSegment': -1, 'endIndexInSegment': -1, 'value': 'Unspecified'}}\n",
      "635_playstation.com.csv\n",
      "640_gamestop.com.csv\n",
      "{'Collection Mode': {'endIndexInSegment': -1, 'startIndexInSegment': -1, 'value': 'not-selected'}, 'Choice Scope': {'endIndexInSegment': -1, 'startIndexInSegment': -1, 'value': 'not-selected'}, 'Action First-Party': {'endIndexInSegment': 428, 'startIndexInSegment': 218, 'selectedText': 'This Privacy Policy applies to information we collect about you from any source - through our Websites, in our retail stores, through our Power-Up Rewards Program, in any contest or promotion, or any other way.', 'value': 'Other'}, 'Personal Information Type': {'endIndexInSegment': 297, 'startIndexInSegment': 249, 'selectedText': 'information we collect about you from any source', 'value': 'Unspecified'}, 'Choice Type': {'endIndexInSegment': -1, 'startIndexInSegment': -1, 'value': 'not-selected'}, 'Identifiability': {'endIndexInSegment': -1, 'startIndexInSegment': -1, 'value': 'not-selected'}, 'Does/Does Not': {'endIndexInSegment': -1, 'startIndexInSegment': -1, 'value': 'Does'}, 'User Type': {'endIndexInSegment': -1, 'startIndexInSegment': -1, 'value': 'not-selected'}, 'Purpose': {'endIndexInSegment': -1, 'startIndexInSegment': -1, 'value': 'Unspecified'}}\n",
      "641_cbsinteractive.com.csv\n",
      "642_thefreedictionary.com.csv\n",
      "652_randomhouse.com.csv\n",
      "{'Choice Type': {'endIndexInSegment': 621, 'startIndexInSegment': 450, 'selectedText': 'By using our Sites, you are accepting the practices described in this Privacy Policy. If you do not agree to the terms of this Privacy Policy, please do not use the Sites.', 'value': 'Dont use service/feature'}, 'Choice Scope': {'endIndexInSegment': -1, 'startIndexInSegment': -1, 'value': 'Unspecified'}, 'User Type': {'endIndexInSegment': 469, 'startIndexInSegment': 450, 'selectedText': 'By using our Sites,', 'value': 'Other'}, 'Purpose': {'endIndexInSegment': -1, 'startIndexInSegment': -1, 'value': 'Unspecified'}, 'Personal Information Type': {'endIndexInSegment': -1, 'startIndexInSegment': -1, 'value': 'Unspecified'}}\n",
      "676_restaurantnews.com.csv\n",
      "{'Third Party Entity': {'endIndexInSegment': 102, 'startIndexInSegment': 57, 'selectedText': 'Google, as a third party advertisement vendor', 'value': 'Named third party'}, 'Choice Scope': {'endIndexInSegment': -1, 'startIndexInSegment': -1, 'value': 'not-selected'}, 'Purpose': {'endIndexInSegment': 306, 'startIndexInSegment': 117, 'selectedText': 'to serve ads on this site. The use of DART cookies by Google enables them to serve adverts to visitors that are based on their visits to this website as well as other sites on the internet.', 'value': 'Advertising'}, 'Personal Information Type': {'endIndexInSegment': 167, 'startIndexInSegment': 104, 'selectedText': 'uses cookies to serve ads on this site. The use of DART cookies', 'value': 'Cookies and tracking elements'}, 'Choice Type': {'endIndexInSegment': -1, 'startIndexInSegment': -1, 'value': 'not-selected'}, 'Identifiability': {'endIndexInSegment': -1, 'startIndexInSegment': -1, 'value': 'not-selected'}, 'Does/Does Not': {'endIndexInSegment': -1, 'startIndexInSegment': -1, 'value': 'Does'}, 'User Type': {'endIndexInSegment': 219, 'startIndexInSegment': 211, 'selectedText': 'visitors', 'value': 'Other'}, 'Action Third Party': {'endIndexInSegment': 306, 'startIndexInSegment': 57, 'selectedText': 'Google, as a third party advertisement vendor, uses cookies to serve ads on this site. The use of DART cookies by Google enables them to serve adverts to visitors that are based on their visits to this website as well as other sites on the internet.', 'value': 'Track on first party website/app'}}\n",
      "686_military.com.csv\n",
      "701_tangeroutlet.com.csv\n",
      "{'Collection Mode': {'endIndexInSegment': -1, 'startIndexInSegment': -1, 'value': 'not-selected'}, 'Choice Scope': {'endIndexInSegment': -1, 'startIndexInSegment': -1, 'value': 'not-selected'}, 'Action First-Party': {'endIndexInSegment': 152, 'startIndexInSegment': 78, 'selectedText': 'Any and all personal identifiable information collected from our customers', 'value': 'Unspecified'}, 'Personal Information Type': {'endIndexInSegment': 123, 'startIndexInSegment': 90, 'selectedText': 'personal identifiable information', 'value': 'Generic personal information'}, 'Choice Type': {'endIndexInSegment': -1, 'startIndexInSegment': -1, 'value': 'not-selected'}, 'Identifiability': {'endIndexInSegment': 111, 'startIndexInSegment': 90, 'selectedText': 'personal identifiable', 'value': 'Identifiable'}, 'Does/Does Not': {'endIndexInSegment': -1, 'startIndexInSegment': -1, 'value': 'Does'}, 'User Type': {'endIndexInSegment': -1, 'startIndexInSegment': -1, 'value': 'not-selected'}, 'Purpose': {'endIndexInSegment': 184, 'startIndexInSegment': 153, 'selectedText': 'is used by Tanger Outlets only,', 'value': 'Unspecified'}}\n",
      "{'Third Party Entity': {'endIndexInSegment': 243, 'startIndexInSegment': 227, 'selectedText': 'any third party.', 'value': 'Unnamed third party'}, 'Choice Scope': {'endIndexInSegment': -1, 'startIndexInSegment': -1, 'value': 'not-selected'}, 'Purpose': {'endIndexInSegment': -1, 'startIndexInSegment': -1, 'value': 'Unspecified'}, 'Personal Information Type': {'endIndexInSegment': 123, 'startIndexInSegment': 90, 'selectedText': 'personal identifiable information', 'value': 'Generic personal information'}, 'Choice Type': {'endIndexInSegment': -1, 'startIndexInSegment': -1, 'value': 'not-selected'}, 'Identifiability': {'endIndexInSegment': 111, 'startIndexInSegment': 90, 'selectedText': 'personal identifiable', 'value': 'Identifiable'}, 'Does/Does Not': {'endIndexInSegment': 243, 'startIndexInSegment': 185, 'selectedText': 'and is not sold, shared or distributed to any third party.', 'value': 'Does Not'}, 'User Type': {'endIndexInSegment': 152, 'startIndexInSegment': 134, 'selectedText': 'from our customers', 'value': 'Other'}, 'Action Third Party': {'endIndexInSegment': 223, 'startIndexInSegment': 193, 'selectedText': 'ot sold, shared or distributed', 'value': 'Receive/Shared with'}}\n",
      "70_meredith.com.csv\n",
      "723_dogbreedinfo.com.csv\n",
      "{'Collection Mode': {'endIndexInSegment': -1, 'startIndexInSegment': -1, 'value': 'not-selected'}, 'Choice Scope': {'endIndexInSegment': -1, 'startIndexInSegment': -1, 'value': 'not-selected'}, 'Action First-Party': {'endIndexInSegment': 45, 'startIndexInSegment': 31, 'selectedText': 'collect or use', 'value': 'Unspecified'}, 'Personal Information Type': {'endIndexInSegment': 71, 'startIndexInSegment': 46, 'selectedText': 'your personal information', 'value': 'Unspecified'}, 'Choice Type': {'endIndexInSegment': -1, 'startIndexInSegment': -1, 'value': 'not-selected'}, 'Identifiability': {'endIndexInSegment': -1, 'startIndexInSegment': -1, 'value': 'not-selected'}, 'Does/Does Not': {'endIndexInSegment': 30, 'startIndexInSegment': 0, 'selectedText': 'Dog Breed Info Center does not', 'value': 'Does Not'}, 'User Type': {'endIndexInSegment': -1, 'startIndexInSegment': -1, 'value': 'not-selected'}, 'Purpose': {'endIndexInSegment': 72, 'startIndexInSegment': 0, 'selectedText': 'Dog Breed Info Center does not collect or use your personal information,', 'value': 'Basic service/feature'}}\n",
      "{'Collection Mode': {'endIndexInSegment': -1, 'startIndexInSegment': -1, 'value': 'not-selected'}, 'Choice Scope': {'endIndexInSegment': -1, 'startIndexInSegment': -1, 'value': 'not-selected'}, 'Action First-Party': {'endIndexInSegment': 45, 'startIndexInSegment': 31, 'selectedText': 'collect or use', 'value': 'Unspecified'}, 'Personal Information Type': {'endIndexInSegment': 71, 'startIndexInSegment': 46, 'selectedText': 'your personal information', 'value': 'Unspecified'}, 'Choice Type': {'endIndexInSegment': -1, 'startIndexInSegment': -1, 'value': 'not-selected'}, 'Identifiability': {'endIndexInSegment': -1, 'startIndexInSegment': -1, 'value': 'not-selected'}, 'Does/Does Not': {'endIndexInSegment': 81, 'startIndexInSegment': 73, 'selectedText': 'except i', 'value': 'Does'}, 'User Type': {'endIndexInSegment': -1, 'startIndexInSegment': -1, 'value': 'not-selected'}, 'Purpose': {'endIndexInSegment': 105, 'startIndexInSegment': 81, 'selectedText': 'n limited circumstances.', 'value': 'Unspecified'}}\n",
      "{'Collection Mode': {'endIndexInSegment': 178, 'startIndexInSegment': 106, 'selectedText': 'When submitting photos, listing in our classifieds, or taking our survey', 'value': 'Explicit'}, 'Choice Scope': {'endIndexInSegment': -1, 'startIndexInSegment': -1, 'value': 'not-selected'}, 'Action First-Party': {'endIndexInSegment': 213, 'startIndexInSegment': 202, 'selectedText': 'may collect', 'value': 'Unspecified'}, 'Personal Information Type': {'endIndexInSegment': 273, 'startIndexInSegment': 214, 'selectedText': 'your name, email address, home address and/or phone number.', 'value': 'Contact'}, 'Choice Type': {'endIndexInSegment': -1, 'startIndexInSegment': -1, 'value': 'not-selected'}, 'Identifiability': {'endIndexInSegment': -1, 'startIndexInSegment': -1, 'value': 'not-selected'}, 'Does/Does Not': {'endIndexInSegment': -1, 'startIndexInSegment': -1, 'value': 'Does'}, 'User Type': {'endIndexInSegment': -1, 'startIndexInSegment': -1, 'value': 'not-selected'}, 'Purpose': {'endIndexInSegment': 178, 'startIndexInSegment': 106, 'selectedText': 'When submitting photos, listing in our classifieds, or taking our survey', 'value': 'Additional service/feature'}}\n",
      "744_minecraft.gamepedia.com.csv\n",
      "745_eatchicken.com.csv\n",
      "{'Collection Mode': {'endIndexInSegment': -1, 'startIndexInSegment': -1, 'value': 'not-selected'}, 'Choice Scope': {'endIndexInSegment': -1, 'startIndexInSegment': -1, 'value': 'not-selected'}, 'Action First-Party': {'endIndexInSegment': 32, 'startIndexInSegment': 9, 'selectedText': 'visitor to our Web site', 'value': 'Collect on website'}, 'Personal Information Type': {'endIndexInSegment': 147, 'startIndexInSegment': 93, 'selectedText': 'domain name, operating system, and web browser version', 'value': 'Computer information'}, 'Choice Type': {'endIndexInSegment': -1, 'startIndexInSegment': -1, 'value': 'not-selected'}, 'Identifiability': {'endIndexInSegment': -1, 'startIndexInSegment': -1, 'value': 'not-selected'}, 'Does/Does Not': {'endIndexInSegment': -1, 'startIndexInSegment': -1, 'value': 'Does'}, 'User Type': {'endIndexInSegment': -1, 'startIndexInSegment': -1, 'value': 'not-selected'}, 'Purpose': {'endIndexInSegment': 311, 'startIndexInSegment': 258, 'selectedText': 'make your return visits to a Web site more convenient', 'value': 'Unspecified'}}\n",
      "746_kraftrecipes.com.csv\n",
      "{'Collection Mode': {'endIndexInSegment': -1, 'startIndexInSegment': -1, 'value': 'not-selected'}, 'Choice Scope': {'endIndexInSegment': 126, 'startIndexInSegment': 120, 'selectedText': 'collec', 'value': 'Collection'}, 'Action First-Party': {'endIndexInSegment': 323, 'startIndexInSegment': 258, 'selectedText': 'register on our website or participate in our offers and programs', 'value': 'Collect on website'}, 'Personal Information Type': {'endIndexInSegment': 180, 'startIndexInSegment': 136, 'selectedText': 'personally-identifiable information, such as', 'value': 'Generic personal information'}, 'Choice Type': {'endIndexInSegment': 323, 'startIndexInSegment': 241, 'selectedText': 'if you choose to register on our website or participate in our offers and programs', 'value': 'Opt-in'}, 'Identifiability': {'endIndexInSegment': -1, 'startIndexInSegment': -1, 'value': 'Unspecified'}, 'Does/Does Not': {'endIndexInSegment': 127, 'startIndexInSegment': 117, 'selectedText': 'We collect', 'value': 'Does'}, 'User Type': {'endIndexInSegment': -1, 'startIndexInSegment': -1, 'value': 'Unspecified'}, 'Purpose': {'endIndexInSegment': 655, 'startIndexInSegment': 522, 'selectedText': 'certain additional features that allow you to receive or access your favorite recipes and participate in our interactive communities.', 'value': 'Additional service/feature'}}\n",
      "{'Collection Mode': {'endIndexInSegment': -1, 'startIndexInSegment': -1, 'value': 'not-selected'}, 'Choice Scope': {'endIndexInSegment': 126, 'startIndexInSegment': 120, 'selectedText': 'collec', 'value': 'Collection'}, 'Action First-Party': {'endIndexInSegment': 323, 'startIndexInSegment': 258, 'selectedText': 'register on our website or participate in our offers and programs', 'value': 'Collect on website'}, 'Personal Information Type': {'endIndexInSegment': 180, 'startIndexInSegment': 136, 'selectedText': 'personally-identifiable information, such as', 'value': 'Generic personal information'}, 'Choice Type': {'endIndexInSegment': 323, 'startIndexInSegment': 241, 'selectedText': 'if you choose to register on our website or participate in our offers and programs', 'value': 'Opt-in'}, 'Identifiability': {'endIndexInSegment': -1, 'startIndexInSegment': -1, 'value': 'Unspecified'}, 'Does/Does Not': {'endIndexInSegment': 127, 'startIndexInSegment': 117, 'selectedText': 'We collect', 'value': 'Does'}, 'User Type': {'endIndexInSegment': -1, 'startIndexInSegment': -1, 'value': 'Unspecified'}, 'Purpose': {'endIndexInSegment': 748, 'startIndexInSegment': 656, 'selectedText': 'Sharing this additional information with us also helps us customize your website experience.', 'value': 'Personalization/Customization'}}\n",
      "{'Collection Mode': {'endIndexInSegment': -1, 'startIndexInSegment': -1, 'value': 'not-selected'}, 'Choice Scope': {'endIndexInSegment': 126, 'startIndexInSegment': 120, 'selectedText': 'collec', 'value': 'Collection'}, 'Action First-Party': {'endIndexInSegment': 323, 'startIndexInSegment': 258, 'selectedText': 'register on our website or participate in our offers and programs', 'value': 'Collect on website'}, 'Personal Information Type': {'endIndexInSegment': 180, 'startIndexInSegment': 136, 'selectedText': 'personally-identifiable information, such as', 'value': 'Generic personal information'}, 'Choice Type': {'endIndexInSegment': 323, 'startIndexInSegment': 241, 'selectedText': 'if you choose to register on our website or participate in our offers and programs', 'value': 'Opt-in'}, 'Identifiability': {'endIndexInSegment': -1, 'startIndexInSegment': -1, 'value': 'Unspecified'}, 'Does/Does Not': {'endIndexInSegment': 127, 'startIndexInSegment': 117, 'selectedText': 'We collect', 'value': 'Does'}, 'User Type': {'endIndexInSegment': -1, 'startIndexInSegment': -1, 'value': 'Unspecified'}, 'Purpose': {'endIndexInSegment': 893, 'startIndexInSegment': 749, 'selectedText': 'In addition, we may use the information you provide us to send you offers and information about Kraft, its portfolio of brands and its partners.', 'value': 'Marketing'}}\n",
      "760_si.edu.csv\n",
      "{'Collection Mode': {'selectedText': 'null', 'startIndexInSegment': -1, 'endIndexInSegment': -1, 'value': 'not-selected'}, 'Choice Scope': {'selectedText': 'null', 'startIndexInSegment': -1, 'endIndexInSegment': -1, 'value': 'not-selected'}, 'Action First-Party': {'selectedText': 'Not selected', 'startIndexInSegment': -1, 'endIndexInSegment': -1, 'value': 'Unspecified'}, 'Personal Information Type': {'selectedText': 'personal information', 'startIndexInSegment': 191, 'endIndexInSegment': 211, 'value': 'Generic personal information'}, 'Choice Type': {'selectedText': 'unless you choose to provide that information to us.', 'startIndexInSegment': 243, 'endIndexInSegment': 295, 'value': 'Opt-in'}, 'Identifiability': {'selectedText': 'null', 'startIndexInSegment': -1, 'endIndexInSegment': -1, 'value': 'not-selected'}, 'Does/Does Not': {'selectedText': 'does not', 'startIndexInSegment': 174, 'endIndexInSegment': 182, 'value': 'Does Not'}, 'User Type': {'selectedText': 'about visitors to our Websites', 'startIndexInSegment': 212, 'endIndexInSegment': 242, 'value': 'User without account'}, 'Purpose': {'selectedText': 'Not selected', 'startIndexInSegment': -1, 'endIndexInSegment': -1, 'value': 'Unspecified'}}\n",
      "{'Collection Mode': {'selectedText': 'unless you choose to provide that information to us.', 'startIndexInSegment': 243, 'endIndexInSegment': 295, 'value': 'Explicit'}, 'Choice Scope': {'selectedText': 'provide that information to us', 'startIndexInSegment': 264, 'endIndexInSegment': 294, 'value': 'Collection'}, 'Action First-Party': {'selectedText': 'Not selected', 'startIndexInSegment': -1, 'endIndexInSegment': -1, 'value': 'Unspecified'}, 'Personal Information Type': {'selectedText': 'personal information', 'startIndexInSegment': 191, 'endIndexInSegment': 211, 'value': 'Generic personal information'}, 'Choice Type': {'selectedText': 'unless you choose to provide that information to us.', 'startIndexInSegment': 243, 'endIndexInSegment': 295, 'value': 'Opt-in'}, 'Identifiability': {'selectedText': 'Not selected', 'startIndexInSegment': -1, 'endIndexInSegment': -1, 'value': 'Unspecified'}, 'Does/Does Not': {'selectedText': 'The Smithsonian Institution does not collect personal information about visitors to our Websites unless you choose to provide that information to us.', 'startIndexInSegment': 146, 'endIndexInSegment': 295, 'value': 'Does'}, 'User Type': {'selectedText': 'Not selected', 'startIndexInSegment': -1, 'endIndexInSegment': -1, 'value': 'Unspecified'}, 'Purpose': {'selectedText': 'The Smithsonian will use that information to respond to your message and to help us get you the information you have requested.', 'startIndexInSegment': 296, 'endIndexInSegment': 428, 'value': 'Basic service/feature'}}\n",
      "777_education.jlab.org.csv\n",
      "{'Collection Mode': {'selectedText': 'Not selected', 'startIndexInSegment': -1, 'endIndexInSegment': -1, 'value': 'Unspecified'}, 'Choice Scope': {'selectedText': 'Not selected', 'startIndexInSegment': -1, 'endIndexInSegment': -1, 'value': 'Unspecified'}, 'Action First-Party': {'selectedText': 'may be intercepted, monitored, recorded, copied, audited, inspected, and disclosed', 'startIndexInSegment': 383, 'endIndexInSegment': 465, 'value': 'Unspecified'}, 'Personal Information Type': {'selectedText': 'all files', 'startIndexInSegment': 373, 'endIndexInSegment': 382, 'value': 'Other'}, 'Choice Type': {'selectedText': 'By using this system, the user consents to such interception, monitoring, recording, copying, auditing, inspection, and disclosure at the discretion of authorized site or Department of Energy personnel.', 'startIndexInSegment': 617, 'endIndexInSegment': 819, 'value': 'Dont use service/feature'}, 'Identifiability': {'selectedText': 'Not selected', 'startIndexInSegment': -1, 'endIndexInSegment': -1, 'value': 'Unspecified'}, 'Does/Does Not': {'selectedText': 'null', 'startIndexInSegment': -1, 'endIndexInSegment': -1, 'value': 'Does'}, 'User Type': {'selectedText': 'Not selected', 'startIndexInSegment': -1, 'endIndexInSegment': -1, 'value': 'Unspecified'}, 'Purpose': {'selectedText': 'em you indicate your awareness of and consent to these terms and conditions of use. LOG OFF IMMEDIATELY if you do not agree to the conditions stated in this warning.', 'startIndexInSegment': 977, 'endIndexInSegment': 1147, 'value': 'Unspecified'}}\n",
      "{'Third Party Entity': {'selectedText': 'Department of Energy, and law enforcement personnel, as well as authorized officials of other agencies, both domestic and foreign', 'startIndexInSegment': 486, 'endIndexInSegment': 615, 'value': 'Named third party'}, 'Choice Scope': {'selectedText': 'Not selected', 'startIndexInSegment': -1, 'endIndexInSegment': -1, 'value': 'Unspecified'}, 'Purpose': {'selectedText': 'Not selected', 'startIndexInSegment': -1, 'endIndexInSegment': -1, 'value': 'Unspecified'}, 'Personal Information Type': {'selectedText': 'all files', 'startIndexInSegment': 373, 'endIndexInSegment': 382, 'value': 'Other'}, 'Choice Type': {'selectedText': 'By continuing to use this system you indicate your awareness of and consent to these terms and conditions of use. LOG OFF IMMEDIATELY if you do not agree to the conditions stated in this warning.', 'startIndexInSegment': 947, 'endIndexInSegment': 1152, 'value': 'Dont use service/feature'}, 'Identifiability': {'selectedText': 'Not selected', 'startIndexInSegment': -1, 'endIndexInSegment': -1, 'value': 'Unspecified'}, 'Does/Does Not': {'selectedText': 'null', 'startIndexInSegment': -1, 'endIndexInSegment': -1, 'value': 'Does'}, 'User Type': {'selectedText': 'Not selected', 'startIndexInSegment': -1, 'endIndexInSegment': -1, 'value': 'Unspecified'}, 'Action Third Party': {'selectedText': 'disclosed', 'startIndexInSegment': 456, 'endIndexInSegment': 465, 'value': 'Receive/Shared with'}}\n",
      "{'Collection Mode': {'selectedText': 'only if it is specifically and knowingly provided by you', 'startIndexInSegment': 160, 'endIndexInSegment': 216, 'value': 'Explicit'}, 'Choice Scope': {'selectedText': 'null', 'startIndexInSegment': -1, 'endIndexInSegment': -1, 'value': 'not-selected'}, 'Action First-Party': {'selectedText': 'is collected', 'startIndexInSegment': 147, 'endIndexInSegment': 159, 'value': 'Unspecified'}, 'Personal Information Type': {'selectedText': 'information', 'startIndexInSegment': 135, 'endIndexInSegment': 146, 'value': 'Unspecified'}, 'Choice Type': {'selectedText': 'null', 'startIndexInSegment': -1, 'endIndexInSegment': -1, 'value': 'not-selected'}, 'Identifiability': {'selectedText': 'Personally identifiable', 'startIndexInSegment': 111, 'endIndexInSegment': 134, 'value': 'Identifiable'}, 'Does/Does Not': {'selectedText': 'null', 'startIndexInSegment': -1, 'endIndexInSegment': -1, 'value': 'Does'}, 'User Type': {'selectedText': 'null', 'startIndexInSegment': -1, 'endIndexInSegment': -1, 'value': 'not-selected'}, 'Purpose': {'selectedText': 'it will be used solely in connection with Jefferson Lab or for such other purposes as are described at the point of collection', 'startIndexInSegment': 252, 'endIndexInSegment': 378, 'value': 'Other'}}\n",
      "807_lodgemfg.com.csv\n",
      "817_ironhorsevineyards.com.csv\n",
      "{'Third Party Entity': {'selectedText': 'third party marketing companies', 'startIndexInSegment': 126, 'endIndexInSegment': 157, 'value': 'Named third party'}, 'Choice Scope': {'selectedText': 'Not selected', 'startIndexInSegment': -1, 'endIndexInSegment': -1, 'value': 'Unspecified'}, 'Purpose': {'selectedText': 'advertisements', 'startIndexInSegment': 167, 'endIndexInSegment': 181, 'value': 'Advertising'}, 'Personal Information Type': {'selectedText': 'non-personal information about your visits to our website, and your interaction with our products and services', 'startIndexInSegment': 234, 'endIndexInSegment': 344, 'value': 'User online activities'}, 'Choice Type': {'selectedText': 'Not selected', 'startIndexInSegment': -1, 'endIndexInSegment': -1, 'value': 'Unspecified'}, 'Identifiability': {'selectedText': 'No Personally Identifiable Information (\"PII\") is collected in this process', 'startIndexInSegment': 689, 'endIndexInSegment': 764, 'value': 'Aggregated or anonymized'}, 'Does/Does Not': {'selectedText': 'null', 'startIndexInSegment': -1, 'endIndexInSegment': -1, 'value': 'Does'}, 'User Type': {'selectedText': 'Not selected', 'startIndexInSegment': -1, 'endIndexInSegment': -1, 'value': 'Unspecified'}, 'Action Third Party': {'selectedText': 'They may collect', 'startIndexInSegment': 217, 'endIndexInSegment': 233, 'value': 'Collect on first party website/app'}}\n",
      "{'Third Party Entity': {'selectedText': 'third party marketing companies', 'startIndexInSegment': 126, 'endIndexInSegment': 157, 'value': 'Named third party'}, 'Choice Scope': {'selectedText': 'Not selected', 'startIndexInSegment': -1, 'endIndexInSegment': -1, 'value': 'Unspecified'}, 'Purpose': {'selectedText': 'advertisements', 'startIndexInSegment': 167, 'endIndexInSegment': 181, 'value': 'Advertising'}, 'Personal Information Type': {'selectedText': 'Cookies and Web Beacons', 'startIndexInSegment': 635, 'endIndexInSegment': 658, 'value': 'Cookies and tracking elements'}, 'Choice Type': {'selectedText': 'Not selected', 'startIndexInSegment': -1, 'endIndexInSegment': -1, 'value': 'Unspecified'}, 'Identifiability': {'selectedText': 'No Personally Identifiable Information (\"PII\") is collected in this process', 'startIndexInSegment': 689, 'endIndexInSegment': 764, 'value': 'Aggregated or anonymized'}, 'Does/Does Not': {'selectedText': 'null', 'startIndexInSegment': -1, 'endIndexInSegment': -1, 'value': 'Does'}, 'User Type': {'selectedText': 'Not selected', 'startIndexInSegment': -1, 'endIndexInSegment': -1, 'value': 'Unspecified'}, 'Action Third Party': {'selectedText': 'They may collect', 'startIndexInSegment': 217, 'endIndexInSegment': 233, 'value': 'Collect on first party website/app'}}\n",
      "{'Collection Mode': {'selectedText': 'null', 'startIndexInSegment': -1, 'endIndexInSegment': -1, 'value': 'not-selected'}, 'Choice Scope': {'selectedText': 'Not selected', 'startIndexInSegment': -1, 'endIndexInSegment': -1, 'value': 'Unspecified'}, 'Action First-Party': {'selectedText': 'Not selected', 'startIndexInSegment': -1, 'endIndexInSegment': -1, 'value': 'Unspecified'}, 'Personal Information Type': {'selectedText': 'personal information', 'startIndexInSegment': 16, 'endIndexInSegment': 36, 'value': 'Generic personal information'}, 'Choice Type': {'selectedText': 'Not selected', 'startIndexInSegment': -1, 'endIndexInSegment': -1, 'value': 'Unspecified'}, 'Identifiability': {'selectedText': 'null', 'startIndexInSegment': -1, 'endIndexInSegment': -1, 'value': 'not-selected'}, 'Does/Does Not': {'selectedText': 'null', 'startIndexInSegment': -1, 'endIndexInSegment': -1, 'value': 'Does'}, 'User Type': {'selectedText': 'Not selected', 'startIndexInSegment': -1, 'endIndexInSegment': -1, 'value': 'Unspecified'}, 'Purpose': {'selectedText': 'We need this information to process payment and ship merchandise to you.', 'startIndexInSegment': 139, 'endIndexInSegment': 211, 'value': 'Basic service/feature'}}\n",
      "82_sheknows.com.csv\n",
      "856_sciencemag.org.csv\n",
      "{'Collection Mode': {'selectedText': 'you knowingly choose to disclose', 'startIndexInSegment': 149, 'endIndexInSegment': 181, 'value': 'Explicit'}, 'Choice Scope': {'selectedText': 'Not selected', 'startIndexInSegment': -1, 'endIndexInSegment': -1, 'value': 'Unspecified'}, 'Action First-Party': {'selectedText': 'When you visit the Science Website there are two types of information you might provide to us', 'startIndexInSegment': 33, 'endIndexInSegment': 126, 'value': 'Collect on website'}, 'Personal Information Type': {'selectedText': 'personal information', 'startIndexInSegment': 128, 'endIndexInSegment': 148, 'value': 'Generic personal information'}, 'Choice Type': {'selectedText': 'Not selected', 'startIndexInSegment': -1, 'endIndexInSegment': -1, 'value': 'Unspecified'}, 'Identifiability': {'selectedText': 'null', 'startIndexInSegment': -1, 'endIndexInSegment': -1, 'value': 'not-selected'}, 'Does/Does Not': {'selectedText': 'null', 'startIndexInSegment': -1, 'endIndexInSegment': -1, 'value': 'Does'}, 'User Type': {'selectedText': 'Not selected', 'startIndexInSegment': -1, 'endIndexInSegment': -1, 'value': 'Unspecified'}, 'Purpose': {'selectedText': 'Not selected', 'startIndexInSegment': -1, 'endIndexInSegment': -1, 'value': 'Unspecified'}}\n",
      "{'Collection Mode': {'selectedText': 'as you interact with our website.', 'startIndexInSegment': 226, 'endIndexInSegment': 264, 'value': 'Implicit'}, 'Choice Scope': {'selectedText': 'Not selected', 'startIndexInSegment': -1, 'endIndexInSegment': -1, 'value': 'Unspecified'}, 'Action First-Party': {'selectedText': 'collected by us as you interact with our website.', 'startIndexInSegment': 210, 'endIndexInSegment': 259, 'value': 'Collect on website'}, 'Personal Information Type': {'selectedText': 'website use information', 'startIndexInSegment': 186, 'endIndexInSegment': 209, 'value': 'User online activities'}, 'Choice Type': {'selectedText': 'Not selected', 'startIndexInSegment': -1, 'endIndexInSegment': -1, 'value': 'Unspecified'}, 'Identifiability': {'selectedText': 'null', 'startIndexInSegment': -1, 'endIndexInSegment': -1, 'value': 'not-selected'}, 'Does/Does Not': {'selectedText': 'null', 'startIndexInSegment': -1, 'endIndexInSegment': -1, 'value': 'Does'}, 'User Type': {'selectedText': 'Not selected', 'startIndexInSegment': -1, 'endIndexInSegment': -1, 'value': 'Unspecified'}, 'Purpose': {'selectedText': 'Not selected', 'startIndexInSegment': -1, 'endIndexInSegment': -1, 'value': 'Unspecified'}}\n",
      "862_disinfo.com.csv\n",
      "883_ted.com.csv\n",
      "{'Collection Mode': {'selectedText': 'Personal information that you directly provide to us, which includes information you supply when you register an account with us', 'startIndexInSegment': 79, 'endIndexInSegment': 207, 'value': 'Explicit'}, 'Choice Scope': {'selectedText': 'Not selected', 'startIndexInSegment': -1, 'endIndexInSegment': -1, 'value': 'Unspecified'}, 'Action First-Party': {'selectedText': 'Not selected', 'startIndexInSegment': -1, 'endIndexInSegment': -1, 'value': 'Unspecified'}, 'Personal Information Type': {'selectedText': 'Personal information', 'startIndexInSegment': 79, 'endIndexInSegment': 99, 'value': 'Generic personal information'}, 'Choice Type': {'selectedText': 'Not selected', 'startIndexInSegment': -1, 'endIndexInSegment': -1, 'value': 'Unspecified'}, 'Identifiability': {'selectedText': 'Not selected', 'startIndexInSegment': -1, 'endIndexInSegment': -1, 'value': 'Unspecified'}, 'Does/Does Not': {'selectedText': 'We collect', 'startIndexInSegment': 42, 'endIndexInSegment': 52, 'value': 'Does'}, 'User Type': {'selectedText': 'Not selected', 'startIndexInSegment': -1, 'endIndexInSegment': -1, 'value': 'Unspecified'}, 'Purpose': {'selectedText': 'Not selected', 'startIndexInSegment': -1, 'endIndexInSegment': -1, 'value': 'Unspecified'}}\n",
      "{'Collection Mode': {'selectedText': 'Automatically collected', 'startIndexInSegment': 214, 'endIndexInSegment': 237, 'value': 'Implicit'}, 'Choice Scope': {'selectedText': 'Not selected', 'startIndexInSegment': -1, 'endIndexInSegment': -1, 'value': 'Unspecified'}, 'Action First-Party': {'selectedText': 'Not selected', 'startIndexInSegment': -1, 'endIndexInSegment': -1, 'value': 'Unspecified'}, 'Personal Information Type': {'selectedText': 'non-personal information', 'startIndexInSegment': 239, 'endIndexInSegment': 263, 'value': 'Other'}, 'Choice Type': {'selectedText': 'Not selected', 'startIndexInSegment': -1, 'endIndexInSegment': -1, 'value': 'Unspecified'}, 'Identifiability': {'selectedText': 'Not selected', 'startIndexInSegment': -1, 'endIndexInSegment': -1, 'value': 'Unspecified'}, 'Does/Does Not': {'selectedText': 'We collect', 'startIndexInSegment': 42, 'endIndexInSegment': 52, 'value': 'Does'}, 'User Type': {'selectedText': 'Not selected', 'startIndexInSegment': -1, 'endIndexInSegment': -1, 'value': 'Unspecified'}, 'Purpose': {'selectedText': 'Not selected', 'startIndexInSegment': -1, 'endIndexInSegment': -1, 'value': 'Unspecified'}}\n",
      "{'Collection Mode': {'selectedText': 'Automatically collected', 'startIndexInSegment': 214, 'endIndexInSegment': 237, 'value': 'Implicit'}, 'Choice Scope': {'selectedText': 'Not selected', 'startIndexInSegment': -1, 'endIndexInSegment': -1, 'value': 'Unspecified'}, 'Action First-Party': {'selectedText': 'gathered as you use TED.com', 'startIndexInSegment': 301, 'endIndexInSegment': 328, 'value': 'Collect on website'}, 'Personal Information Type': {'selectedText': 'tracking information', 'startIndexInSegment': 280, 'endIndexInSegment': 300, 'value': 'Cookies and tracking elements'}, 'Choice Type': {'selectedText': 'Not selected', 'startIndexInSegment': -1, 'endIndexInSegment': -1, 'value': 'Unspecified'}, 'Identifiability': {'selectedText': 'Not selected', 'startIndexInSegment': -1, 'endIndexInSegment': -1, 'value': 'Unspecified'}, 'Does/Does Not': {'selectedText': 'We collect', 'startIndexInSegment': 42, 'endIndexInSegment': 52, 'value': 'Does'}, 'User Type': {'selectedText': 'Not selected', 'startIndexInSegment': -1, 'endIndexInSegment': -1, 'value': 'Unspecified'}, 'Purpose': {'selectedText': 'Not selected', 'startIndexInSegment': -1, 'endIndexInSegment': -1, 'value': 'Unspecified'}}\n",
      "884_naturalnews.com.csv\n",
      "{'Third Party Entity': {'endIndexInSegment': 85, 'startIndexInSegment': 72, 'selectedText': 'third parties', 'value': 'Unnamed third party'}, 'Choice Scope': {'endIndexInSegment': -1, 'startIndexInSegment': -1, 'value': 'Unspecified'}, 'Purpose': {'endIndexInSegment': -1, 'startIndexInSegment': -1, 'value': 'Unspecified'}, 'Personal Information Type': {'endIndexInSegment': 68, 'startIndexInSegment': 62, 'selectedText': 'emails', 'value': 'Contact'}, 'Choice Type': {'endIndexInSegment': -1, 'startIndexInSegment': -1, 'value': 'Unspecified'}, 'Identifiability': {'endIndexInSegment': -1, 'startIndexInSegment': -1, 'value': 'Unspecified'}, 'Does/Does Not': {'endIndexInSegment': 46, 'startIndexInSegment': 41, 'selectedText': 'never', 'value': 'Does Not'}, 'User Type': {'endIndexInSegment': -1, 'startIndexInSegment': -1, 'value': 'Unspecified'}, 'Action Third Party': {'endIndexInSegment': 52, 'startIndexInSegment': 47, 'selectedText': 'rents', 'value': 'Receive/Shared with'}}\n",
      "{'Third Party Entity': {'endIndexInSegment': 85, 'startIndexInSegment': 72, 'selectedText': 'third parties', 'value': 'Unnamed third party'}, 'Choice Scope': {'endIndexInSegment': -1, 'startIndexInSegment': -1, 'value': 'Unspecified'}, 'Purpose': {'endIndexInSegment': 226, 'startIndexInSegment': 215, 'selectedText': 'advertisers', 'value': 'Advertising'}, 'Personal Information Type': {'endIndexInSegment': 209, 'startIndexInSegment': 202, 'selectedText': 'details', 'value': 'Unspecified'}, 'Choice Type': {'endIndexInSegment': -1, 'startIndexInSegment': -1, 'value': 'Unspecified'}, 'Identifiability': {'endIndexInSegment': -1, 'startIndexInSegment': -1, 'value': 'Unspecified'}, 'Does/Does Not': {'endIndexInSegment': 46, 'startIndexInSegment': 41, 'selectedText': 'never', 'value': 'Does Not'}, 'User Type': {'endIndexInSegment': -1, 'startIndexInSegment': -1, 'value': 'Unspecified'}, 'Action Third Party': {'endIndexInSegment': 52, 'startIndexInSegment': 47, 'selectedText': 'rents', 'value': 'Receive/Shared with'}}\n",
      "{'Third Party Entity': {'endIndexInSegment': 227, 'startIndexInSegment': 181, 'selectedText': 'we DO NOT share user details with advertisers.', 'value': 'Unnamed third party'}, 'Choice Scope': {'endIndexInSegment': -1, 'startIndexInSegment': -1, 'value': 'Unspecified'}, 'Purpose': {'endIndexInSegment': 227, 'startIndexInSegment': 215, 'selectedText': 'advertisers.', 'value': 'Advertising'}, 'Personal Information Type': {'endIndexInSegment': 209, 'startIndexInSegment': 197, 'selectedText': 'user details', 'value': 'Generic personal information'}, 'Choice Type': {'endIndexInSegment': -1, 'startIndexInSegment': -1, 'value': 'Unspecified'}, 'Identifiability': {'endIndexInSegment': 209, 'startIndexInSegment': 197, 'selectedText': 'user details', 'value': 'Identifiable'}, 'Does/Does Not': {'endIndexInSegment': 190, 'startIndexInSegment': 181, 'selectedText': 'we DO NOT', 'value': 'Does Not'}, 'User Type': {'endIndexInSegment': -1, 'startIndexInSegment': -1, 'value': 'Unspecified'}, 'Action Third Party': {'endIndexInSegment': 196, 'startIndexInSegment': 191, 'selectedText': 'share', 'value': 'Receive/Shared with'}}\n",
      "{'Third Party Entity': {'endIndexInSegment': 226, 'startIndexInSegment': 215, 'selectedText': 'advertisers', 'value': 'Named third party'}, 'Choice Scope': {'endIndexInSegment': -1, 'startIndexInSegment': -1, 'value': 'Unspecified'}, 'Purpose': {'endIndexInSegment': 226, 'startIndexInSegment': 216, 'selectedText': 'dvertisers', 'value': 'Advertising'}, 'Personal Information Type': {'endIndexInSegment': -1, 'startIndexInSegment': -1, 'value': 'Unspecified'}, 'Choice Type': {'endIndexInSegment': -1, 'startIndexInSegment': -1, 'value': 'Unspecified'}, 'Identifiability': {'endIndexInSegment': -1, 'startIndexInSegment': -1, 'value': 'Unspecified'}, 'Does/Does Not': {'endIndexInSegment': 190, 'startIndexInSegment': 184, 'selectedText': 'DO NOT', 'value': 'Does Not'}, 'User Type': {'endIndexInSegment': -1, 'startIndexInSegment': -1, 'value': 'Unspecified'}, 'Action Third Party': {'endIndexInSegment': 196, 'startIndexInSegment': 191, 'selectedText': 'share', 'value': 'Receive/Shared with'}}\n",
      "891_everydayhealth.com.csv\n",
      "898_uptodate.com.csv\n",
      "{'Third Party Entity': {'endIndexInSegment': 312, 'startIndexInSegment': 306, 'selectedText': 'anyone', 'value': 'Unnamed third party'}, 'Choice Scope': {'endIndexInSegment': -1, 'startIndexInSegment': -1, 'value': 'Unspecified'}, 'Purpose': {'endIndexInSegment': -1, 'startIndexInSegment': -1, 'value': 'Unspecified'}, 'Personal Information Type': {'endIndexInSegment': -1, 'startIndexInSegment': -1, 'value': 'Unspecified'}, 'Choice Type': {'endIndexInSegment': -1, 'startIndexInSegment': -1, 'value': 'Unspecified'}, 'Identifiability': {'endIndexInSegment': -1, 'startIndexInSegment': -1, 'value': 'Unspecified'}, 'Does/Does Not': {'endIndexInSegment': 220, 'startIndexInSegment': 213, 'selectedText': 'does no', 'value': 'Does Not'}, 'User Type': {'endIndexInSegment': -1, 'startIndexInSegment': -1, 'value': 'Unspecified'}, 'Action Third Party': {'endIndexInSegment': 226, 'startIndexInSegment': 222, 'selectedText': 'sell', 'value': 'Receive/Shared with'}}\n",
      "{'Third Party Entity': {'endIndexInSegment': 313, 'startIndexInSegment': 204, 'selectedText': \"UpToDate does not sell or otherwise share subscribers' or website visitors' personal information with anyone.\", 'value': 'Unnamed third party'}, 'Choice Scope': {'endIndexInSegment': -1, 'startIndexInSegment': -1, 'value': 'Unspecified'}, 'Purpose': {'endIndexInSegment': -1, 'startIndexInSegment': -1, 'value': 'Unspecified'}, 'Personal Information Type': {'endIndexInSegment': 300, 'startIndexInSegment': 280, 'selectedText': 'personal information', 'value': 'Generic personal information'}, 'Choice Type': {'endIndexInSegment': -1, 'startIndexInSegment': -1, 'value': 'Unspecified'}, 'Identifiability': {'endIndexInSegment': 300, 'startIndexInSegment': 280, 'selectedText': 'personal information', 'value': 'Identifiable'}, 'Does/Does Not': {'endIndexInSegment': 313, 'startIndexInSegment': 204, 'selectedText': \"UpToDate does not sell or otherwise share subscribers' or website visitors' personal information with anyone.\", 'value': 'Does Not'}, 'User Type': {'endIndexInSegment': -1, 'startIndexInSegment': -1, 'value': 'Unspecified'}, 'Action Third Party': {'endIndexInSegment': 313, 'startIndexInSegment': 204, 'selectedText': \"UpToDate does not sell or otherwise share subscribers' or website visitors' personal information with anyone.\", 'value': 'Receive/Shared with'}}\n",
      "{'Third Party Entity': {'endIndexInSegment': 312, 'startIndexInSegment': 307, 'selectedText': 'nyone', 'value': 'Unnamed third party'}, 'Choice Scope': {'endIndexInSegment': -1, 'startIndexInSegment': -1, 'value': 'Unspecified'}, 'Purpose': {'endIndexInSegment': -1, 'startIndexInSegment': -1, 'value': 'Unspecified'}, 'Personal Information Type': {'endIndexInSegment': 300, 'startIndexInSegment': 280, 'selectedText': 'personal information', 'value': 'Generic personal information'}, 'Choice Type': {'endIndexInSegment': -1, 'startIndexInSegment': -1, 'value': 'Unspecified'}, 'Identifiability': {'endIndexInSegment': -1, 'startIndexInSegment': -1, 'value': 'Unspecified'}, 'Does/Does Not': {'endIndexInSegment': 221, 'startIndexInSegment': 213, 'selectedText': 'does not', 'value': 'Does Not'}, 'User Type': {'endIndexInSegment': -1, 'startIndexInSegment': -1, 'value': 'Unspecified'}, 'Action Third Party': {'endIndexInSegment': 245, 'startIndexInSegment': 213, 'selectedText': 'does not sell or otherwise share', 'value': 'Receive/Shared with'}}\n",
      "907_earthkam.org.csv\n",
      "919_uh.edu.csv\n",
      "{'Collection Mode': {'endIndexInSegment': 32, 'startIndexInSegment': 21, 'selectedText': 'use cookies', 'value': 'Unspecified'}, 'Choice Scope': {'endIndexInSegment': -1, 'startIndexInSegment': -1, 'value': 'Unspecified'}, 'Action First-Party': {'endIndexInSegment': 32, 'startIndexInSegment': 21, 'selectedText': 'use cookies', 'value': 'Other'}, 'Personal Information Type': {'endIndexInSegment': 55, 'startIndexInSegment': 44, 'selectedText': 'information', 'value': 'Unspecified'}, 'Choice Type': {'endIndexInSegment': -1, 'startIndexInSegment': -1, 'value': 'Unspecified'}, 'Identifiability': {'endIndexInSegment': 55, 'startIndexInSegment': 44, 'selectedText': 'information', 'value': 'Unspecified'}, 'Does/Does Not': {'endIndexInSegment': 20, 'startIndexInSegment': 11, 'selectedText': 'we do not', 'value': 'Does Not'}, 'User Type': {'endIndexInSegment': -1, 'startIndexInSegment': -1, 'value': 'Unspecified'}, 'Purpose': {'endIndexInSegment': -1, 'startIndexInSegment': -1, 'value': 'Unspecified'}}\n",
      "928_stlouisfed.org.csv\n",
      "{'Choice Type': {'endIndexInSegment': 167, 'startIndexInSegment': 109, 'selectedText': 'personal information you choose to provide us is voluntary', 'value': 'Other'}, 'Choice Scope': {'endIndexInSegment': 217, 'startIndexInSegment': 194, 'selectedText': 'provide any information', 'value': 'First party use'}, 'User Type': {'endIndexInSegment': -1, 'startIndexInSegment': -1, 'value': 'Unspecified'}, 'Purpose': {'endIndexInSegment': -1, 'startIndexInSegment': -1, 'value': 'Unspecified'}, 'Personal Information Type': {'endIndexInSegment': 217, 'startIndexInSegment': 202, 'selectedText': 'any information', 'value': 'Generic personal information'}}\n",
      "{'Collection Mode': {'endIndexInSegment': 54, 'startIndexInSegment': 8, 'selectedText': 'choose to provide us with personal information', 'value': 'Explicit'}, 'Choice Scope': {'endIndexInSegment': 28, 'startIndexInSegment': 18, 'selectedText': 'provide us', 'value': 'Collection'}, 'Action First-Party': {'endIndexInSegment': 275, 'startIndexInSegment': 72, 'selectedText': 'you subscribe to our publications or mail lists, send us questions through e-mail, answer our user surveys, register for an event or user account, apply for a job or participate in our online activities.', 'value': 'Other'}, 'Personal Information Type': {'endIndexInSegment': 54, 'startIndexInSegment': 34, 'selectedText': 'personal information', 'value': 'Generic personal information'}, 'Choice Type': {'endIndexInSegment': 25, 'startIndexInSegment': 8, 'selectedText': 'choose to provide', 'value': 'Other'}, 'Identifiability': {'endIndexInSegment': -1, 'startIndexInSegment': -1, 'value': 'Unspecified'}, 'Does/Does Not': {'endIndexInSegment': 54, 'startIndexInSegment': 4, 'selectedText': 'may choose to provide us with personal information', 'value': 'Does'}, 'User Type': {'endIndexInSegment': 217, 'startIndexInSegment': 205, 'selectedText': 'user account', 'value': 'User with account'}, 'Purpose': {'endIndexInSegment': -1, 'startIndexInSegment': -1, 'value': 'Unspecified'}}\n",
      "{'Collection Mode': {'endIndexInSegment': 54, 'startIndexInSegment': 8, 'selectedText': 'choose to provide us with personal information', 'value': 'Explicit'}, 'Choice Scope': {'endIndexInSegment': 28, 'startIndexInSegment': 18, 'selectedText': 'provide us', 'value': 'Collection'}, 'Action First-Party': {'endIndexInSegment': 275, 'startIndexInSegment': 72, 'selectedText': 'you subscribe to our publications or mail lists, send us questions through e-mail, answer our user surveys, register for an event or user account, apply for a job or participate in our online activities.', 'value': 'Other'}, 'Personal Information Type': {'endIndexInSegment': 54, 'startIndexInSegment': 34, 'selectedText': 'personal information', 'value': 'Generic personal information'}, 'Choice Type': {'endIndexInSegment': 25, 'startIndexInSegment': 8, 'selectedText': 'choose to provide', 'value': 'Other'}, 'Identifiability': {'endIndexInSegment': -1, 'startIndexInSegment': -1, 'value': 'Unspecified'}, 'Does/Does Not': {'endIndexInSegment': 54, 'startIndexInSegment': 4, 'selectedText': 'may choose to provide us with personal information', 'value': 'Does'}, 'User Type': {'endIndexInSegment': 201, 'startIndexInSegment': 72, 'selectedText': 'you subscribe to our publications or mail lists, send us questions through e-mail, answer our user surveys, register for an event', 'value': 'Unspecified'}, 'Purpose': {'endIndexInSegment': -1, 'startIndexInSegment': -1, 'value': 'Unspecified'}}\n",
      "93_pbs.org.csv\n",
      "{'Collection Mode': {'selectedText': 'null', 'startIndexInSegment': -1, 'endIndexInSegment': -1, 'value': 'not-selected'}, 'Choice Scope': {'selectedText': 'Not selected', 'startIndexInSegment': -1, 'endIndexInSegment': -1, 'value': 'Unspecified'}, 'Action First-Party': {'selectedText': 'from visitors to the Site', 'startIndexInSegment': 83, 'endIndexInSegment': 108, 'value': 'Collect on website'}, 'Personal Information Type': {'selectedText': 'information', 'startIndexInSegment': 200, 'endIndexInSegment': 211, 'value': 'Generic personal information'}, 'Choice Type': {'selectedText': 'Not selected', 'startIndexInSegment': -1, 'endIndexInSegment': -1, 'value': 'Unspecified'}, 'Identifiability': {'selectedText': 'Personally Identifiable', 'startIndexInSegment': 114, 'endIndexInSegment': 137, 'value': 'Identifiable'}, 'Does/Does Not': {'selectedText': 'PBS collects', 'startIndexInSegment': 45, 'endIndexInSegment': 57, 'value': 'Does'}, 'User Type': {'selectedText': 'Not selected', 'startIndexInSegment': -1, 'endIndexInSegment': -1, 'value': 'Unspecified'}, 'Purpose': {'selectedText': 'Uses of this information are discussed in Section III.', 'startIndexInSegment': 289, 'endIndexInSegment': 343, 'value': 'Unspecified'}}\n",
      "940_internetbrands.com.csv\n",
      "{'Choice Type': {'selectedText': 'please do not use our sites or services.', 'startIndexInSegment': 486, 'endIndexInSegment': 531, 'value': 'Dont use service/feature'}, 'Choice Scope': {'selectedText': 'collection', 'startIndexInSegment': 333, 'endIndexInSegment': 343, 'value': 'First party collection'}, 'User Type': {'selectedText': 'Not selected', 'startIndexInSegment': -1, 'endIndexInSegment': -1, 'value': 'Unspecified'}, 'Purpose': {'selectedText': 'Not selected', 'startIndexInSegment': -1, 'endIndexInSegment': -1, 'value': 'Unspecified'}, 'Personal Information Type': {'selectedText': 'personal information', 'startIndexInSegment': 384, 'endIndexInSegment': 404, 'value': 'Generic personal information'}}\n",
      "962_lynda.com.csv\n",
      "988_solarviews.com.csv\n",
      "{'Third Party Entity': {'selectedText': 'third-party companies', 'startIndexInSegment': 37, 'endIndexInSegment': 58, 'value': 'Unnamed third party'}, 'Choice Scope': {'selectedText': 'null', 'startIndexInSegment': -1, 'endIndexInSegment': -1, 'value': 'not-selected'}, 'Purpose': {'selectedText': 'during your visits to this and other Web sites in order to provide advertisements about goods and services likely to be of greater interest to you.', 'startIndexInSegment': 324, 'endIndexInSegment': 471, 'value': 'Advertising'}, 'Personal Information Type': {'selectedText': 'non-personally identifiable information (e.g., click stream information, browser type, time and date, subject of advertisements clicked or scrolled over)', 'startIndexInSegment': 170, 'endIndexInSegment': 323, 'value': 'Other'}, 'Choice Type': {'selectedText': 'null', 'startIndexInSegment': -1, 'endIndexInSegment': -1, 'value': 'not-selected'}, 'Identifiability': {'selectedText': 'anonymous information', 'startIndexInSegment': 95, 'endIndexInSegment': 116, 'value': 'Aggregated or anonymized'}, 'Does/Does Not': {'selectedText': 'null', 'startIndexInSegment': -1, 'endIndexInSegment': -1, 'value': 'Does'}, 'User Type': {'selectedText': 'null', 'startIndexInSegment': -1, 'endIndexInSegment': -1, 'value': 'not-selected'}, 'Action Third Party': {'selectedText': 'We allow third-party companies to serve ads and/or collect certain anonymous information when you visit our web site.', 'startIndexInSegment': 28, 'endIndexInSegment': 145, 'value': 'Collect on first party website/app'}}\n",
      "{'Third Party Entity': {'selectedText': 'third-party companies', 'startIndexInSegment': 37, 'endIndexInSegment': 58, 'value': 'Unnamed third party'}, 'Choice Scope': {'selectedText': 'null', 'startIndexInSegment': -1, 'endIndexInSegment': -1, 'value': 'not-selected'}, 'Purpose': {'selectedText': 'during your visits to this and other Web sites in order to provide advertisements about goods and services likely to be of greater interest to you.', 'startIndexInSegment': 324, 'endIndexInSegment': 471, 'value': 'Advertising'}, 'Personal Information Type': {'selectedText': '(e.g., click stream information, browser type, time and date, subject of advertisements clicked or scrolled over', 'startIndexInSegment': 210, 'endIndexInSegment': 322, 'value': 'User online activities'}, 'Choice Type': {'selectedText': 'To learn more about this behavioral advertising practice or to opt-out of this type of advertising, you can visit networkadvertising.org.', 'startIndexInSegment': 566, 'endIndexInSegment': 703, 'value': 'Opt-out link'}, 'Identifiability': {'selectedText': 'non-personally identifiable information', 'startIndexInSegment': 170, 'endIndexInSegment': 209, 'value': 'Aggregated or anonymized'}, 'Does/Does Not': {'selectedText': 'null', 'startIndexInSegment': -1, 'endIndexInSegment': -1, 'value': 'Does'}, 'User Type': {'selectedText': 'null', 'startIndexInSegment': -1, 'endIndexInSegment': -1, 'value': 'not-selected'}, 'Action Third Party': {'selectedText': 'These companies typically use a cookie or third party web beacon to collect this information.', 'startIndexInSegment': 472, 'endIndexInSegment': 565, 'value': 'Collect on first party website/app'}}\n",
      "{'Third Party Entity': {'selectedText': 'third-party companies', 'startIndexInSegment': 37, 'endIndexInSegment': 58, 'value': 'Unnamed third party'}, 'Choice Scope': {'selectedText': 'opt-out of this type of advertising', 'startIndexInSegment': 629, 'endIndexInSegment': 664, 'value': 'Both'}, 'Purpose': {'selectedText': 'ads', 'startIndexInSegment': 68, 'endIndexInSegment': 71, 'value': 'Advertising'}, 'Personal Information Type': {'selectedText': 'collect certain anonymous information', 'startIndexInSegment': 79, 'endIndexInSegment': 116, 'value': 'Unspecified'}, 'Choice Type': {'selectedText': 'opt-out', 'startIndexInSegment': 629, 'endIndexInSegment': 636, 'value': 'Opt-out link'}, 'Identifiability': {'selectedText': 'anonymous', 'startIndexInSegment': 95, 'endIndexInSegment': 104, 'value': 'Aggregated or anonymized'}, 'Does/Does Not': {'selectedText': 'allow third-party companies to serve ads and/or collect', 'startIndexInSegment': 31, 'endIndexInSegment': 86, 'value': 'Does'}, 'User Type': {'selectedText': 'Not selected', 'startIndexInSegment': -1, 'endIndexInSegment': -1, 'value': 'Unspecified'}, 'Action Third Party': {'selectedText': 'serve ads and/or collect certain anonymous information', 'startIndexInSegment': 62, 'endIndexInSegment': 116, 'value': 'Collect on first party website/app'}}\n",
      "{'Third Party Entity': {'selectedText': 'third-party companies', 'startIndexInSegment': 37, 'endIndexInSegment': 58, 'value': 'Unnamed third party'}, 'Choice Scope': {'selectedText': 'opt-out of this type of advertising,', 'startIndexInSegment': 629, 'endIndexInSegment': 665, 'value': 'Both'}, 'Purpose': {'selectedText': 'provide advertisements about goods and services likely to be of greater interest to you', 'startIndexInSegment': 383, 'endIndexInSegment': 470, 'value': 'Advertising'}, 'Personal Information Type': {'selectedText': 'click stream information', 'startIndexInSegment': 217, 'endIndexInSegment': 241, 'value': 'User online activities'}, 'Choice Type': {'selectedText': 'opt-out', 'startIndexInSegment': 629, 'endIndexInSegment': 636, 'value': 'Opt-out link'}, 'Identifiability': {'selectedText': 'non-personally identifiable information', 'startIndexInSegment': 170, 'endIndexInSegment': 209, 'value': 'Other'}, 'Does/Does Not': {'selectedText': 'allow third-party companies to serve ads and/or collect', 'startIndexInSegment': 31, 'endIndexInSegment': 86, 'value': 'Does'}, 'User Type': {'selectedText': 'Not selected', 'startIndexInSegment': -1, 'endIndexInSegment': -1, 'value': 'Unspecified'}, 'Action Third Party': {'selectedText': 'serve ads and/or collect certain anonymous information', 'startIndexInSegment': 62, 'endIndexInSegment': 116, 'value': 'Collect on first party website/app'}}\n",
      "98_neworleansonline.com.csv\n",
      "995_mohegansun.com.csv\n",
      "{'Third Party Entity': {'endIndexInSegment': 263, 'startIndexInSegment': 192, 'selectedText': 'Mohegan Sun does not share or sell your personal information to anyone.', 'value': 'Unnamed third party'}, 'Choice Scope': {'endIndexInSegment': -1, 'startIndexInSegment': -1, 'value': 'Unspecified'}, 'Purpose': {'endIndexInSegment': -1, 'startIndexInSegment': -1, 'value': 'Unspecified'}, 'Personal Information Type': {'endIndexInSegment': 252, 'startIndexInSegment': 232, 'selectedText': 'personal information', 'value': 'Generic personal information'}, 'Choice Type': {'endIndexInSegment': -1, 'startIndexInSegment': -1, 'value': 'Unspecified'}, 'Identifiability': {'endIndexInSegment': 252, 'startIndexInSegment': 232, 'selectedText': 'personal information', 'value': 'Identifiable'}, 'Does/Does Not': {'endIndexInSegment': 263, 'startIndexInSegment': 192, 'selectedText': 'Mohegan Sun does not share or sell your personal information to anyone.', 'value': 'Does Not'}, 'User Type': {'endIndexInSegment': -1, 'startIndexInSegment': -1, 'value': 'Unspecified'}, 'Action Third Party': {'endIndexInSegment': 263, 'startIndexInSegment': 192, 'selectedText': 'Mohegan Sun does not share or sell your personal information to anyone.', 'value': 'Receive/Shared with'}}\n"
     ]
    }
   ],
   "source": [
    "import glob\n",
    "import pandas as pd\n",
    "import json\n",
    "import csv\n",
    "\n",
    "\n",
    "\n",
    "path = r'annotations'  # use your path\n",
    "allFiles = glob.glob(path + \"/*.csv\")\n",
    "\n",
    "data_samples1 = []\n",
    "data_number1 = []\n",
    "data_label1 = []\n",
    "\n",
    "cnt = 0\n",
    "\n",
    "for file in allFiles:\n",
    "    allFiles = allFiles[:85]\n",
    "    dictCollection = {\"Action First-Party\":[],\n",
    "                      \"Purpose\":[],\n",
    "                      \"Personal Information Type\":[]\n",
    "                      }\n",
    "\n",
    "    df = pd.read_csv(file, thousands=',', header=None)\n",
    "    len(df)\n",
    "    # df_tail = df.tail(1)[4]\n",
    "    # print(df_tail)\n",
    "    number_of_segments = 5#len(df) + 1\n",
    "\n",
    "    file = file.split('annotations/', 1)[1]\n",
    "    print(file)\n",
    "    for i in range(number_of_segments-1):\n",
    "        # print(i)\n",
    "        if df[5][i] == \"First Party Collection/Use\":\n",
    "            parse_json = json.loads(str(df[6][i]))\n",
    "            print(parse_json)\n",
    "            if parse_json[\"Action First-Party\"][\"endIndexInSegment\"] != -1:\n",
    "                data_samples1.append(parse_json[\"Action First-Party\"][\"selectedText\"])\n",
    "                data_number1.append(1)\n",
    "                data_label1.append(\"Action First-Party\")\n",
    "                cnt = cnt+1\n",
    "            if parse_json[\"Personal Information Type\"][\"endIndexInSegment\"] != -1:\n",
    "                data_samples1.append(parse_json[\"Personal Information Type\"][\"selectedText\"])\n",
    "                data_number1.append(2)\n",
    "                data_label1.append(\"Personal Information Type\")                \n",
    "                cnt = cnt+1\n",
    "            if parse_json[\"Purpose\"][\"endIndexInSegment\"] != -1:\n",
    "                data_samples1.append(parse_json[\"Purpose\"][\"selectedText\"])\n",
    "                data_number1.append(3)\n",
    "                data_label1.append(\"Purpose\")     \n",
    "                cnt = cnt+1\n",
    "        if df[5][i] == \"Third Party Sharing/Collection\":\n",
    "            parse_json = json.loads(str(df[6][i]))\n",
    "            print(parse_json)\n",
    "            if parse_json[\"Personal Information Type\"][\"endIndexInSegment\"] != -1:\n",
    "                data_samples1.append(parse_json[\"Personal Information Type\"][\"selectedText\"])\n",
    "                data_number1.append(2)\n",
    "                data_label1.append(\"Personal Information Type\")                \n",
    "                cnt = cnt+1\n",
    "            if parse_json[\"Purpose\"][\"endIndexInSegment\"] != -1:\n",
    "                data_samples1.append(parse_json[\"Purpose\"][\"selectedText\"])\n",
    "                data_number1.append(3)\n",
    "                data_label1.append(\"Purpose\")     \n",
    "                cnt = cnt+1\n",
    "        if df[5][i] == \"User Choice/Control\":\n",
    "            parse_json = json.loads(str(df[6][i]))\n",
    "            print(parse_json)\n",
    "            if parse_json[\"Personal Information Type\"][\"endIndexInSegment\"] != -1:\n",
    "                data_samples1.append(parse_json[\"Personal Information Type\"][\"selectedText\"])\n",
    "                data_number1.append(2)\n",
    "                data_label1.append(\"Personal Information Type\")                \n",
    "                cnt = cnt+1\n",
    "            if parse_json[\"Purpose\"][\"endIndexInSegment\"] != -1:\n",
    "                data_samples1.append(parse_json[\"Purpose\"][\"selectedText\"])\n",
    "                data_number1.append(3)\n",
    "                data_label1.append(\"Purpose\")     \n",
    "                cnt = cnt+1\n",
    "        "
   ]
  },
  {
   "cell_type": "code",
   "execution_count": 52,
   "metadata": {
    "collapsed": false
   },
   "outputs": [
    {
     "name": "stdout",
     "output_type": "stream",
     "text": [
      "['Action First-Party', 'Personal Information Type', 'Purpose', 'Action First-Party', 'Personal Information Type']\n",
      "204\n"
     ]
    }
   ],
   "source": [
    "print(data_label1[:5])\n",
    "print(len(data_label1))"
   ]
  },
  {
   "cell_type": "code",
   "execution_count": 53,
   "metadata": {
    "collapsed": false
   },
   "outputs": [
    {
     "name": "stdout",
     "output_type": "stream",
     "text": [
      "[1, 2, 3, 1, 2]\n",
      "204\n"
     ]
    }
   ],
   "source": [
    "print(data_number1[:5])\n",
    "print(len(data_number1))"
   ]
  },
  {
   "cell_type": "code",
   "execution_count": 54,
   "metadata": {
    "collapsed": false
   },
   "outputs": [
    {
     "name": "stdout",
     "output_type": "stream",
     "text": [
      "['Sci-News.com may collect and process', 'including', 'other purposes, for example when you report a problem with our site', 'Sci-News.com may collect and process', 'names, e-mail and website addresses']\n",
      "204\n",
      "['Sci-News.com may collect and process' 'including'\n",
      " 'other purposes, for example when you report a problem with our site'\n",
      " 'Sci-News.com may collect and process'\n",
      " 'names, e-mail and website addresses'\n",
      " 'other purposes, for example when you report a problem with our site'\n",
      " 'collects information from our users at several different points on our Web site.'\n",
      " 'information' 'we collect and receive' 'information'\n",
      " \"We're always working to make our services even better. One of the ways we do that is by analyzing information\"\n",
      " 'information that you choose to publicly post to or display on a Site.'\n",
      " 'to information that you choose to publicly post to or display on a Site'\n",
      " 'This privacy policy does not apply to information that you choose to publicly post to or display on a Site.'\n",
      " 'when you subscribe to one of our magazines or place an order'\n",
      " 'names, mailing addresses, e-mail addresses'\n",
      " 'when you subscribe to one of our magazines or place an order'\n",
      " 'information, such as'\n",
      " 'when you subscribe to one of our magazines or place an order'\n",
      " 'names, mailing addresses, e-mail addresses'\n",
      " 'personally identifiable information'\n",
      " 'each time you visit the Site, we automatically collect' 'IP address'\n",
      " 'to administer and optimize the Site for you'\n",
      " 'email address, name, postal address, and phone number.'\n",
      " 'email address, name, postal address, and phone number.' 'collect'\n",
      " 'personal information'\n",
      " 'Your privacy is important to us. Public Citizen does not automatically collect personal information from people who visit or interact with our website.'\n",
      " 'on the website, we may store'\n",
      " 'your name, postal address, email address, phone number'\n",
      " 'contact you about our work' 'Site' 'Protocol' 'collects'\n",
      " 'personally identifiable information' 'we will place one or mor'\n",
      " '\"cookies\"'\n",
      " 'When you use Bing and MSN services with a web browser, we will place one or more \"cookies\" on your machine.'\n",
      " 'Bing uses' 'cookie'\n",
      " 'to operate the service and enable certain search features'\n",
      " 'collect information from users of the Websites' 'information'\n",
      " \"This Privacy Statement addresses SRL's practices regarding information collected only directly through or from the Site\"\n",
      " 'information'\n",
      " \"This Privacy Statement addresses SRL's practices regarding information collected only directly through or from the Site - it does not address or govern any information gathering, use, or dissemination practices related to information collected other than directly through or from the Site, including, without limitation, from or via telephone, facsimile, postal mail, personal delivery, or other or additional offline means or media. SRL can be contacted by mail, phone, facsimile, or by e-mail at SRL, as provided in Paragraph 3 of this Privacy Statement.\"\n",
      " 'a mobile device or any other technology or devices now known or hereafter developed or discovered (each, a \"Device\")'\n",
      " 'collect' 'information' 'facilitate and improve our services' 'sale'\n",
      " 'digital'\n",
      " 'your name, birthday, email address, city of residence, ZIP code'\n",
      " \"determine our users' preferences, to design initiatives to meet those preferences\"\n",
      " 'digital' 'birthday'\n",
      " \"determine our users' preferences, to design initiatives to meet those preferences\"\n",
      " 'visit the Washingtonian.com site.'\n",
      " 'information (your name, e-mail address, street address, telephone number)'\n",
      " 'when you subscribe to Washingtonian magazine'\n",
      " 'information (your name, e-mail address, street address, telephone number)'\n",
      " 'On certain pages, however, you may be asked to provide'\n",
      " 'personal information'\n",
      " 'subscribe to Washingtonian Magazine, renew your subscription, purchase a holiday gift subscription, submit a customer service inquiry, or make a purchase'\n",
      " 'On certain pages, however, you may be asked to provide'\n",
      " 'personal information'\n",
      " 'if you participate in sweepstakes and contests, surveys, message boards and chat rooms, or other interactive areas of our site.'\n",
      " 'personal information' 'nformation' 'By accessing the Sites,'\n",
      " 'such as when you provide your name, contact information'\n",
      " 'for such purposes as purchasing products, creating an account, joining our loyalty programs, filling out a survey, entering contests, participating in promotions or electronic activities, posting comments on bulletin boards or otherwise interacting with our Sites.'\n",
      " 'when you visit our web site' 'personal information'\n",
      " 'When you visit USA.gov' 'the Internet protocol address'\n",
      " 'we collect from users who visit and submit applications to our website'\n",
      " 'information' 'how we use and disclose that information.'\n",
      " 'obtained from our online visitors' 'personal information'\n",
      " 'intended purpose' 'personal information' 'required by law'\n",
      " 'personal information' 'carry out your requests' 'personal information'\n",
      " 'information' 'personal information we collect' 'may include'\n",
      " 'allows us to contact you to provide a service or carry out a transaction that you have requested such as receiving information about Abita products and services, entering a contest, ordering e-mail newsletters, joining a limited-access premium site or service, or when purchasing, downloading and/or registering Abita products'\n",
      " 'Web site' 'IP' 'administer' 'In our site' 'name, address, email'\n",
      " 'give you a more personalized shopping experience' 'In our site'\n",
      " 'name, address, email' 'make ordering and reordering easier for you'\n",
      " 'In our site' 'other relevant information'\n",
      " 'give you a more personalized shopping experience' 'In our site'\n",
      " 'other relevant information' 'make ordering and reordering easier for you'\n",
      " 'By submitting PersonallyIdentifiable Information through any of our Covered Sites,'\n",
      " 'name, email address, address,telephone number'\n",
      " 'When you share information with us' 'information'\n",
      " 'or example by creating a Google Account' 'we may request'\n",
      " 'name, zip code and telephone number'\n",
      " 'additional services as well as more interesting and relevant content'\n",
      " 'we may request' 'e-mail address'\n",
      " 'In order to distribute our email publication' 'we may request'\n",
      " 'e-mail address' 'more interesting and relevant content'\n",
      " 'when you join one of our loyalty clubs, enter one of our surveys, contests or sweepstakes, if you submit a question, comment or complaint, if you request or submit information about becoming a franchisee, if you submit an employment application, or for an online cake order.'\n",
      " 'such as'\n",
      " 'This Privacy Policy applies to information we collect about you from any source - through our Websites, in our retail stores, through our Power-Up Rewards Program, in any contest or promotion, or any other way.'\n",
      " 'information we collect about you from any source'\n",
      " 'uses cookies to serve ads on this site. The use of DART cookies'\n",
      " 'to serve ads on this site. The use of DART cookies by Google enables them to serve adverts to visitors that are based on their visits to this website as well as other sites on the internet.'\n",
      " 'Any and all personal identifiable information collected from our customers'\n",
      " 'personal identifiable information' 'is used by Tanger Outlets only,'\n",
      " 'personal identifiable information' 'collect or use'\n",
      " 'your personal information'\n",
      " 'Dog Breed Info Center does not collect or use your personal information,'\n",
      " 'collect or use' 'your personal information' 'n limited circumstances.'\n",
      " 'may collect'\n",
      " 'your name, email address, home address and/or phone number.'\n",
      " 'When submitting photos, listing in our classifieds, or taking our survey'\n",
      " 'visitor to our Web site'\n",
      " 'domain name, operating system, and web browser version'\n",
      " 'make your return visits to a Web site more convenient'\n",
      " 'register on our website or participate in our offers and programs'\n",
      " 'personally-identifiable information, such as'\n",
      " 'certain additional features that allow you to receive or access your favorite recipes and participate in our interactive communities.'\n",
      " 'register on our website or participate in our offers and programs'\n",
      " 'personally-identifiable information, such as'\n",
      " 'Sharing this additional information with us also helps us customize your website experience.'\n",
      " 'register on our website or participate in our offers and programs'\n",
      " 'personally-identifiable information, such as'\n",
      " 'In addition, we may use the information you provide us to send you offers and information about Kraft, its portfolio of brands and its partners.'\n",
      " 'personal information' 'personal information'\n",
      " 'The Smithsonian will use that information to respond to your message and to help us get you the information you have requested.'\n",
      " 'may be intercepted, monitored, recorded, copied, audited, inspected, and disclosed'\n",
      " 'all files'\n",
      " 'em you indicate your awareness of and consent to these terms and conditions of use. LOG OFF IMMEDIATELY if you do not agree to the conditions stated in this warning.'\n",
      " 'all files' 'is collected']\n"
     ]
    }
   ],
   "source": [
    "import numpy as np\n",
    "print(data_samples1[:5])\n",
    "print(len(data_samples1))\n",
    "\n",
    "train_samples = np.array(data_samples1[:160])\n",
    "train_label = np.array(data_label1[:160])\n",
    "train_number = np.array(data_number1[:160])\n",
    "\n",
    "test_samples = np.array(data_samples1[161:204])\n",
    "test_label = np.array(data_label1[161:204])\n",
    "test_number = np.array(data_number1[161:204])\n",
    "print(train_samples)"
   ]
  },
  {
   "cell_type": "code",
   "execution_count": 55,
   "metadata": {
    "collapsed": true
   },
   "outputs": [],
   "source": [
    "from sklearn.feature_extraction.text import CountVectorizer\n",
    "count_vect = CountVectorizer(max_df=0.95, min_df=2,\n",
    "                                max_features=1000)\n",
    "X_train_counts = count_vect.fit_transform(train_samples)\n",
    "X_train_counts\n",
    "count_vect.get_feature_names()\n",
    "count_vect.get_stop_words()"
   ]
  },
  {
   "cell_type": "code",
   "execution_count": 56,
   "metadata": {
    "collapsed": false
   },
   "outputs": [
    {
     "data": {
      "text/plain": [
       "4"
      ]
     },
     "execution_count": 56,
     "metadata": {},
     "output_type": "execute_result"
    }
   ],
   "source": [
    "count_vect.vocabulary_.get('address')"
   ]
  },
  {
   "cell_type": "code",
   "execution_count": 58,
   "metadata": {
    "collapsed": false
   },
   "outputs": [
    {
     "data": {
      "text/plain": [
       "(160, 173)"
      ]
     },
     "execution_count": 58,
     "metadata": {},
     "output_type": "execute_result"
    }
   ],
   "source": [
    "from sklearn.feature_extraction.text import TfidfTransformer\n",
    "tf_transformer = TfidfTransformer(use_idf=False).fit(X_train_counts)\n",
    "X_train_tf = tf_transformer.transform(X_train_counts)\n",
    "X_train_tf.shape"
   ]
  },
  {
   "cell_type": "code",
   "execution_count": 59,
   "metadata": {
    "collapsed": false
   },
   "outputs": [
    {
     "data": {
      "text/plain": [
       "(160, 173)"
      ]
     },
     "execution_count": 59,
     "metadata": {},
     "output_type": "execute_result"
    }
   ],
   "source": [
    "tfidf_transformer = TfidfTransformer()\n",
    "X_train_tfidf = tfidf_transformer.fit_transform(X_train_counts)\n",
    "X_train_tfidf.shape"
   ]
  },
  {
   "cell_type": "code",
   "execution_count": 63,
   "metadata": {
    "collapsed": true
   },
   "outputs": [],
   "source": [
    "from sklearn.pipeline import Pipeline\n",
    "from sklearn.naive_bayes import MultinomialNB\n",
    "text_clf = Pipeline([('vect', CountVectorizer()), ('tfidf', TfidfTransformer()), ('clf', MultinomialNB())])\n",
    "text_clf = text_clf.fit(train_samples, train_number)"
   ]
  },
  {
   "cell_type": "code",
   "execution_count": 64,
   "metadata": {
    "collapsed": false
   },
   "outputs": [
    {
     "data": {
      "text/plain": [
       "0.7441860465116279"
      ]
     },
     "execution_count": 64,
     "metadata": {},
     "output_type": "execute_result"
    }
   ],
   "source": [
    "import numpy as np\n",
    "predicted = text_clf.predict(test_samples)\n",
    "np.mean(predicted == test_number)  "
   ]
  },
  {
   "cell_type": "code",
   "execution_count": 65,
   "metadata": {
    "collapsed": false
   },
   "outputs": [
    {
     "name": "stdout",
     "output_type": "stream",
     "text": [
      "                           precision    recall  f1-score   support\n",
      "\n",
      "                  Purpose       0.67      0.86      0.75         7\n",
      "Personal Information Type       0.76      0.92      0.83        24\n",
      "                  Purpose       0.80      0.33      0.47        12\n",
      "\n",
      "              avg / total       0.76      0.74      0.72        43\n",
      "\n"
     ]
    },
    {
     "data": {
      "text/plain": [
       "array([[ 6,  1,  0],\n",
       "       [ 1, 22,  1],\n",
       "       [ 2,  6,  4]])"
      ]
     },
     "execution_count": 65,
     "metadata": {},
     "output_type": "execute_result"
    }
   ],
   "source": [
    "from sklearn import metrics\n",
    "print(metrics.classification_report(test_number, predicted,\n",
    "                                        target_names=test_label))\n",
    "\n",
    "metrics.confusion_matrix(test_number, predicted)"
   ]
  },
  {
   "cell_type": "code",
   "execution_count": 14,
   "metadata": {
    "collapsed": false
   },
   "outputs": [
    {
     "data": {
      "text/plain": [
       "0.7441860465116279"
      ]
     },
     "execution_count": 14,
     "metadata": {},
     "output_type": "execute_result"
    }
   ],
   "source": [
    "from sklearn.linear_model import SGDClassifier\n",
    "text_clf1 = Pipeline([('vect', CountVectorizer()), \n",
    "                     ('tfidf', TfidfTransformer()),\n",
    "                     ('clf', SGDClassifier(loss='hinge', penalty='l2',\n",
    "                                           alpha=1e-3, n_iter=5, random_state=42))])\n",
    "_ = text_clf1.fit(train_samples, train_number)\n",
    "predicted1 = text_clf1.predict(test_samples)\n",
    "np.mean(predicted1 == test_number)  "
   ]
  },
  {
   "cell_type": "code",
   "execution_count": 15,
   "metadata": {
    "collapsed": false
   },
   "outputs": [
    {
     "name": "stdout",
     "output_type": "stream",
     "text": [
      "                           precision    recall  f1-score   support\n",
      "\n",
      "                  Purpose       0.67      0.86      0.75         7\n",
      "Personal Information Type       0.76      0.92      0.83        24\n",
      "                  Purpose       0.80      0.33      0.47        12\n",
      "\n",
      "              avg / total       0.76      0.74      0.72        43\n",
      "\n"
     ]
    },
    {
     "data": {
      "text/plain": [
       "array([[ 6,  1,  0],\n",
       "       [ 1, 22,  1],\n",
       "       [ 2,  6,  4]])"
      ]
     },
     "execution_count": 15,
     "metadata": {},
     "output_type": "execute_result"
    }
   ],
   "source": [
    "from sklearn import metrics\n",
    "print(metrics.classification_report(test_number, predicted,\n",
    "                                        target_names=test_label))\n",
    "\n",
    "metrics.confusion_matrix(test_number, predicted)\n"
   ]
  },
  {
   "cell_type": "code",
   "execution_count": 66,
   "metadata": {
    "collapsed": false
   },
   "outputs": [
    {
     "name": "stdout",
     "output_type": "stream",
     "text": [
      "['Sci-News.com may collect and process', 'including', 'other purposes, for example when you report a problem with our site', 'Sci-News.com may collect and process', 'names, e-mail and website addresses']\n",
      "204\n",
      "190\n"
     ]
    }
   ],
   "source": [
    "print(data_samples1[:5])\n",
    "print(len(data_samples1))\n",
    "\n",
    "train_samples1 = np.array(data_samples1[:190])\n",
    "train_label1 = np.array(data_label1[:190])\n",
    "train_number1 = np.array(data_number1[:190])\n",
    "\n",
    "test_samples1 = np.array(data_samples1[191:204])\n",
    "test_label1 = np.array(data_label1[191:204])\n",
    "test_number1 = np.array(data_number1[191:204])\n",
    "print(len(train_samples1))"
   ]
  },
  {
   "cell_type": "code",
   "execution_count": 67,
   "metadata": {
    "collapsed": false
   },
   "outputs": [
    {
     "name": "stdout",
     "output_type": "stream",
     "text": [
      "['about', 'access', 'account', 'activities', 'additional', 'address', 'addresses', 'administer', 'ads', 'advertisements', 'advertisers', 'all', 'an', 'and', 'answer', 'any', 'apply', 'are', 'as', 'asked', 'at', 'automatically', 'be', 'bing', 'birthday', 'boards', 'browser', 'by', 'carry', 'certain', 'choose', 'code', 'collect', 'collected', 'collects', 'com', 'contact', 'content', 'contest', 'contests', 'cookies', 'creating', 'dart', 'design', 'details', 'determine', 'digital', 'directly', 'display', 'do', 'does', 'each', 'easier', 'email', 'entering', 'event', 'example', 'experience', 'features', 'files', 'for', 'from', 'give', 'google', 'have', 'however', 'identifiable', 'if', 'in', 'including', 'information', 'initiatives', 'interact', 'interactive', 'interesting', 'internet', 'ip', 'is', 'it', 'job', 'joining', 'limited', 'lists', 'loyalty', 'magazine', 'magazines', 'mail', 'mailing', 'make', 'may', 'meet', 'message', 'more', 'name', 'names', 'news', 'non', 'not', 'number', 'of', 'offers', 'on', 'one', 'online', 'only', 'or', 'order', 'ordering', 'other', 'our', 'out', 'pages', 'participate', 'personal', 'personalized', 'personally', 'phone', 'place', 'policy', 'post', 'postal', 'practices', 'preferences', 'privacy', 'problem', 'process', 'products', 'programs', 'protocol', 'provide', 'publications', 'publicly', 'purchasing', 'purposes', 'questions', 'receive', 'regarding', 'register', 'relevant', 'reordering', 'report', 'request', 'requested', 'sci', 'send', 'serve', 'service', 'services', 'shopping', 'site', 'sites', 'source', 'srl', 'statement', 'street', 'submit', 'submitting', 'subscribe', 'such', 'survey', 'surveys', 'sweepstakes', 'telephone', 'that', 'the', 'this', 'those', 'through', 'to', 'us', 'use', 'used', 'user', 'users', 'uses', 'visit', 'visitors', 'visits', 'washingtonian', 'we', 'web', 'website', 'websites', 'well', 'when', 'who', 'will', 'with', 'you', 'your', 'zip']\n"
     ]
    }
   ],
   "source": [
    "from sklearn.feature_extraction.text import CountVectorizer\n",
    "count_vect1 = CountVectorizer(max_df=0.95, min_df=2,\n",
    "                                max_features=1000)\n",
    "X_train_counts1 = count_vect1.fit_transform(train_samples1)\n",
    "X_train_counts1\n",
    "print(count_vect1.get_feature_names())\n",
    "count_vect1.get_stop_words()"
   ]
  },
  {
   "cell_type": "code",
   "execution_count": 68,
   "metadata": {
    "collapsed": false
   },
   "outputs": [
    {
     "data": {
      "text/plain": [
       "(190, 191)"
      ]
     },
     "execution_count": 68,
     "metadata": {},
     "output_type": "execute_result"
    }
   ],
   "source": [
    "from sklearn.feature_extraction.text import TfidfTransformer\n",
    "tf_transformer1 = TfidfTransformer(use_idf=False).fit(X_train_counts1)\n",
    "X_train_tf1 = tf_transformer1.transform(X_train_counts1)\n",
    "X_train_tf1.shape"
   ]
  },
  {
   "cell_type": "code",
   "execution_count": 69,
   "metadata": {
    "collapsed": false
   },
   "outputs": [
    {
     "data": {
      "text/plain": [
       "(190, 191)"
      ]
     },
     "execution_count": 69,
     "metadata": {},
     "output_type": "execute_result"
    }
   ],
   "source": [
    "tfidf_transformer1 = TfidfTransformer()\n",
    "X_train_tfidf1 = tfidf_transformer1.fit_transform(X_train_counts1)\n",
    "X_train_tfidf1.shape"
   ]
  },
  {
   "cell_type": "code",
   "execution_count": 77,
   "metadata": {
    "collapsed": true
   },
   "outputs": [],
   "source": [
    "from sklearn.pipeline import Pipeline\n",
    "from sklearn.naive_bayes import MultinomialNB\n",
    "text_clf1 = Pipeline([('vect', CountVectorizer()), ('tfidf', TfidfTransformer()), ('clf', MultinomialNB())])\n",
    "text_clf1 = text_clf1.fit(train_samples1, train_number1)"
   ]
  },
  {
   "cell_type": "code",
   "execution_count": 78,
   "metadata": {
    "collapsed": false
   },
   "outputs": [
    {
     "data": {
      "text/plain": [
       "0.76923076923076927"
      ]
     },
     "execution_count": 78,
     "metadata": {},
     "output_type": "execute_result"
    }
   ],
   "source": [
    "import numpy as np\n",
    "predicted = text_clf1.predict(test_samples1)\n",
    "np.mean(predicted == test_number1)  "
   ]
  },
  {
   "cell_type": "code",
   "execution_count": 79,
   "metadata": {
    "collapsed": false
   },
   "outputs": [
    {
     "name": "stdout",
     "output_type": "stream",
     "text": [
      "                           precision    recall  f1-score   support\n",
      "\n",
      "       Action First-Party       0.33      1.00      0.50         1\n",
      "Personal Information Type       0.86      0.86      0.86         7\n",
      "                  Purpose       1.00      0.60      0.75         5\n",
      "\n",
      "              avg / total       0.87      0.77      0.79        13\n",
      "\n"
     ]
    },
    {
     "data": {
      "text/plain": [
       "array([[1, 0, 0],\n",
       "       [1, 6, 0],\n",
       "       [1, 1, 3]])"
      ]
     },
     "execution_count": 79,
     "metadata": {},
     "output_type": "execute_result"
    }
   ],
   "source": [
    "from sklearn import metrics\n",
    "print(metrics.classification_report(test_number1, predicted,\n",
    "                                        target_names=test_label1))\n",
    "\n",
    "metrics.confusion_matrix(test_number1, predicted)"
   ]
  },
  {
   "cell_type": "code",
   "execution_count": 75,
   "metadata": {
    "collapsed": false
   },
   "outputs": [
    {
     "data": {
      "text/plain": [
       "0.76923076923076927"
      ]
     },
     "execution_count": 75,
     "metadata": {},
     "output_type": "execute_result"
    }
   ],
   "source": [
    "from sklearn.linear_model import SGDClassifier\n",
    "text_clf1 = Pipeline([('vect', CountVectorizer()), \n",
    "                     ('tfidf', TfidfTransformer()),\n",
    "                     ('clf', SGDClassifier(loss='hinge', penalty='l2',\n",
    "                                           alpha=1e-3, n_iter=5, random_state=42))])\n",
    "_ = text_clf1.fit(train_samples1, train_number1)\n",
    "predicted = text_clf1.predict(test_samples1)\n",
    "np.mean(predicted == test_number1)  "
   ]
  },
  {
   "cell_type": "code",
   "execution_count": 76,
   "metadata": {
    "collapsed": false
   },
   "outputs": [
    {
     "name": "stdout",
     "output_type": "stream",
     "text": [
      "                           precision    recall  f1-score   support\n",
      "\n",
      "       Action First-Party       0.50      1.00      0.67         1\n",
      "Personal Information Type       0.83      0.71      0.77         7\n",
      "                  Purpose       0.80      0.80      0.80         5\n",
      "\n",
      "              avg / total       0.79      0.77      0.77        13\n",
      "\n"
     ]
    },
    {
     "data": {
      "text/plain": [
       "array([[1, 0, 0],\n",
       "       [1, 5, 1],\n",
       "       [0, 1, 4]])"
      ]
     },
     "execution_count": 76,
     "metadata": {},
     "output_type": "execute_result"
    }
   ],
   "source": [
    "from sklearn import metrics\n",
    "print(metrics.classification_report(test_number1, predicted,\n",
    "                                        target_names=test_label1))\n",
    "\n",
    "metrics.confusion_matrix(test_number1, predicted)"
   ]
  },
  {
   "cell_type": "code",
   "execution_count": 87,
   "metadata": {
    "collapsed": false
   },
   "outputs": [
    {
     "data": {
      "text/plain": [
       "(204, 205)"
      ]
     },
     "execution_count": 87,
     "metadata": {},
     "output_type": "execute_result"
    }
   ],
   "source": [
    "from sklearn.feature_extraction.text import CountVectorizer\n",
    "count_vect1 = CountVectorizer(max_df=0.95, min_df=2,\n",
    "                                max_features=1000)\n",
    "X_train_counts1 = count_vect1.fit_transform(data_samples1)\n",
    "X_train_counts1\n",
    "\n",
    "from sklearn.feature_extraction.text import TfidfTransformer\n",
    "tf_transformer1 = TfidfTransformer(use_idf=False).fit(X_train_counts1)\n",
    "X_train_tf1 = tf_transformer1.transform(X_train_counts1)\n",
    "X_train_tf1.shape\n",
    "\n",
    "tfidf_transformer1 = TfidfTransformer()\n",
    "X_train_tfidf1 = tfidf_transformer1.fit_transform(X_train_counts1)\n",
    "X_train_tfidf1.shape"
   ]
  },
  {
   "cell_type": "code",
   "execution_count": 89,
   "metadata": {
    "collapsed": false
   },
   "outputs": [
    {
     "data": {
      "text/plain": [
       "0.93627450980392157"
      ]
     },
     "execution_count": 89,
     "metadata": {},
     "output_type": "execute_result"
    }
   ],
   "source": [
    "from sklearn.pipeline import Pipeline\n",
    "from sklearn.naive_bayes import MultinomialNB\n",
    "text_clf1 = Pipeline([('vect', CountVectorizer()), ('tfidf', TfidfTransformer()), ('clf', MultinomialNB())])\n",
    "text_clf1 = text_clf1.fit(data_samples1, data_number1)\n",
    "\n",
    "import numpy as np\n",
    "predicted = text_clf1.predict(data_samples1)\n",
    "np.mean(predicted == data_number1)  "
   ]
  },
  {
   "cell_type": "code",
   "execution_count": 84,
   "metadata": {
    "collapsed": false
   },
   "outputs": [
    {
     "name": "stdout",
     "output_type": "stream",
     "text": [
      "                           precision    recall  f1-score   support\n",
      "\n",
      "       Action First-Party       0.88      0.95      0.91        60\n",
      "Personal Information Type       0.95      0.97      0.96        90\n",
      "                  Purpose       1.00      0.87      0.93        54\n",
      "\n",
      "              avg / total       0.94      0.94      0.94       204\n",
      "\n"
     ]
    },
    {
     "data": {
      "text/plain": [
       "array([[57,  3,  0],\n",
       "       [ 3, 87,  0],\n",
       "       [ 5,  2, 47]])"
      ]
     },
     "execution_count": 84,
     "metadata": {},
     "output_type": "execute_result"
    }
   ],
   "source": [
    "from sklearn import metrics\n",
    "print(metrics.classification_report(data_number1, predicted,\n",
    "                                        target_names=data_label1))\n",
    "\n",
    "metrics.confusion_matrix(data_number1, predicted)"
   ]
  },
  {
   "cell_type": "code",
   "execution_count": 85,
   "metadata": {
    "collapsed": false
   },
   "outputs": [
    {
     "data": {
      "text/plain": [
       "0.99509803921568629"
      ]
     },
     "execution_count": 85,
     "metadata": {},
     "output_type": "execute_result"
    }
   ],
   "source": [
    "from sklearn.linear_model import SGDClassifier\n",
    "text_clf1 = Pipeline([('vect', CountVectorizer()), \n",
    "                     ('tfidf', TfidfTransformer()),\n",
    "                     ('clf', SGDClassifier(loss='hinge', penalty='l2',\n",
    "                                           alpha=1e-3, n_iter=5, random_state=42))])\n",
    "_ = text_clf1.fit(data_samples1, data_number1)\n",
    "\n",
    "import numpy as np\n",
    "predicted = text_clf1.predict(data_samples1)\n",
    "np.mean(predicted == data_number1)  "
   ]
  },
  {
   "cell_type": "code",
   "execution_count": 86,
   "metadata": {
    "collapsed": false
   },
   "outputs": [
    {
     "name": "stdout",
     "output_type": "stream",
     "text": [
      "                           precision    recall  f1-score   support\n",
      "\n",
      "       Action First-Party       1.00      0.98      0.99        60\n",
      "Personal Information Type       0.99      1.00      0.99        90\n",
      "                  Purpose       1.00      1.00      1.00        54\n",
      "\n",
      "              avg / total       1.00      1.00      1.00       204\n",
      "\n"
     ]
    },
    {
     "data": {
      "text/plain": [
       "array([[59,  1,  0],\n",
       "       [ 0, 90,  0],\n",
       "       [ 0,  0, 54]])"
      ]
     },
     "execution_count": 86,
     "metadata": {},
     "output_type": "execute_result"
    }
   ],
   "source": [
    "from sklearn import metrics\n",
    "print(metrics.classification_report(data_number1, predicted,\n",
    "                                        target_names=data_label1))\n",
    "\n",
    "metrics.confusion_matrix(data_number1, predicted)"
   ]
  },
  {
   "cell_type": "code",
   "execution_count": 90,
   "metadata": {
    "collapsed": false
   },
   "outputs": [
    {
     "name": "stdout",
     "output_type": "stream",
     "text": [
      "1017_sci-news.com.csv\n",
      "1028_redorbit.com.csv\n",
      "1034_aol.com.csv\n",
      "1050_honda.com.csv\n",
      "105_amazon.com.csv\n",
      "1070_wnep.com.csv\n",
      "1083_highgearmedia.com.csv\n",
      "1089_freep.com.csv\n",
      "1099_enthusiastnetwork.com.csv\n",
      "1106_allstate.com.csv\n",
      "1164_acbj.com.csv\n",
      "1205_opensecrets.org.csv\n",
      "{'Third Party Entity': {'endIndexInSegment': 89, 'startIndexInSegment': 76, 'selectedText': 'third parties', 'value': 'Unnamed third party'}, 'Choice Scope': {'endIndexInSegment': -1, 'startIndexInSegment': -1, 'value': 'Unspecified'}, 'Purpose': {'endIndexInSegment': -1, 'startIndexInSegment': -1, 'value': 'Unspecified'}, 'Personal Information Type': {'endIndexInSegment': 68, 'startIndexInSegment': 33, 'selectedText': 'personally identifiable information', 'value': 'Generic personal information'}, 'Choice Type': {'endIndexInSegment': -1, 'startIndexInSegment': -1, 'value': 'Unspecified'}, 'Identifiability': {'endIndexInSegment': 68, 'startIndexInSegment': 33, 'selectedText': 'personally identifiable information', 'value': 'Identifiable'}, 'Does/Does Not': {'endIndexInSegment': 12, 'startIndexInSegment': 4, 'selectedText': 'will not', 'value': 'Does Not'}, 'User Type': {'endIndexInSegment': -1, 'startIndexInSegment': -1, 'value': 'Unspecified'}, 'Action Third Party': {'endIndexInSegment': 18, 'startIndexInSegment': 13, 'selectedText': 'share', 'value': 'Receive/Shared with'}}\n",
      "1206_dcccd.edu.csv\n",
      "1221_gwdocs.com.csv\n",
      "1224_austincc.edu.csv\n",
      "1252_cincymuseum.org.csv\n",
      "1259_fool.com.csv\n",
      "1261_zacks.com.csv\n",
      "{'Third Party Entity': {'endIndexInSegment': 585, 'startIndexInSegment': 574, 'selectedText': 'third party', 'value': 'Unnamed third party'}, 'Choice Scope': {'endIndexInSegment': 595, 'startIndexInSegment': 401, 'selectedText': 'disclose the information you provide us or send you information if you authorize us to do so by choosing to receive e-mail services on our Zacks.com Web site or opting into third party mailings.', 'value': 'Both'}, 'Purpose': {'endIndexInSegment': -1, 'startIndexInSegment': -1, 'value': 'Unspecified'}, 'Personal Information Type': {'endIndexInSegment': 383, 'startIndexInSegment': 329, 'selectedText': 'email address, name, postal address, and phone number.', 'value': 'Contact'}, 'Choice Type': {'endIndexInSegment': 595, 'startIndexInSegment': 465, 'selectedText': 'if you authorize us to do so by choosing to receive e-mail services on our Zacks.com Web site or opting into third party mailings.', 'value': 'Opt-in'}, 'Identifiability': {'endIndexInSegment': -1, 'startIndexInSegment': -1, 'value': 'not-selected'}, 'Does/Does Not': {'endIndexInSegment': -1, 'startIndexInSegment': -1, 'value': 'Does'}, 'User Type': {'endIndexInSegment': -1, 'startIndexInSegment': -1, 'value': 'not-selected'}, 'Action Third Party': {'endIndexInSegment': 493, 'startIndexInSegment': 393, 'selectedText': 'we only disclose the information you provide us or send you information if you authorize us to do so', 'value': 'Receive/Shared with'}}\n",
      "1264_citizen.org.csv\n",
      "1300_bankofamerica.com.csv\n",
      "1306_chasepaymentech.com.csv\n",
      "133_fortune.com.csv\n",
      "135_instagram.com.csv\n",
      "1360_thehill.com.csv\n",
      "1361_yahoo.com.csv\n",
      "1419_miaminewtimes.com.csv\n",
      "144_style.com.csv\n",
      "1468_rockstargames.com.csv\n",
      "1470_steampowered.com.csv\n",
      "1498_ticketmaster.com.csv\n",
      "1510_jibjab.com.csv\n",
      "1539_geocaching.com.csv\n",
      "1545_taylorswift.com.csv\n",
      "1582_msn.com.csv\n",
      "1610_post-gazette.com.csv\n",
      "1618_sltrib.com.csv\n",
      "1636_sidearmsports.com.csv\n",
      "1637_dailyillini.com.csv\n",
      "164_adweek.com.csv\n",
      "1666_wsmv.com.csv\n",
      "1673_tulsaworld.com.csv\n",
      "1683_dailynews.com.csv\n",
      "1694_lids.com.csv\n",
      "1703_sports-reference.com.csv\n",
      "1708_foxsports.com.csv\n",
      "1713_latinpost.com.csv\n",
      "175_mlb.mlb.com.csv\n",
      "186_abcnews.com.csv\n",
      "200_washingtonpost.com.csv\n",
      "202_foodallergy.org.csv\n",
      "207_reference.com.csv\n",
      "20_theatlantic.com.csv\n",
      "21_imdb.com.csv\n",
      "228_gawker.com.csv\n",
      "{'Third Party Entity': {'endIndexInSegment': 81, 'startIndexInSegment': 64, 'selectedText': 'third parties may', 'value': 'Unnamed third party'}, 'Choice Scope': {'endIndexInSegment': -1, 'startIndexInSegment': -1, 'value': 'Unspecified'}, 'Purpose': {'endIndexInSegment': -1, 'startIndexInSegment': -1, 'value': 'Unspecified'}, 'Personal Information Type': {'endIndexInSegment': -1, 'startIndexInSegment': -1, 'value': 'Unspecified'}, 'Choice Type': {'endIndexInSegment': -1, 'startIndexInSegment': -1, 'value': 'Unspecified'}, 'Identifiability': {'endIndexInSegment': 101, 'startIndexInSegment': 82, 'selectedText': 'collect information', 'value': 'Unspecified'}, 'Does/Does Not': {'endIndexInSegment': 89, 'startIndexInSegment': 82, 'selectedText': 'collect', 'value': 'Does'}, 'User Type': {'endIndexInSegment': -1, 'startIndexInSegment': -1, 'value': 'Unspecified'}, 'Action Third Party': {'endIndexInSegment': 101, 'startIndexInSegment': 82, 'selectedText': 'collect information', 'value': 'Collect on first party website/app'}}\n",
      "26_nytimes.com.csv\n",
      "303_reddit.com.csv\n",
      "320_timeinc.com.csv\n",
      "325_ocregister.com.csv\n",
      "{'Third Party Entity': {'endIndexInSegment': 126, 'startIndexInSegment': 22, 'selectedText': 'Freedom will be transferring to Publisher customer data collected from users of the Properties websites.', 'value': 'Named third party'}, 'Choice Scope': {'endIndexInSegment': -1, 'startIndexInSegment': -1, 'value': 'Unspecified'}, 'Purpose': {'endIndexInSegment': 20, 'startIndexInSegment': 16, 'selectedText': 'sale', 'value': 'Merger/Acquisition'}, 'Personal Information Type': {'endIndexInSegment': -1, 'startIndexInSegment': -1, 'value': 'Unspecified'}, 'Choice Type': {'endIndexInSegment': -1, 'startIndexInSegment': -1, 'value': 'Unspecified'}, 'Identifiability': {'endIndexInSegment': -1, 'startIndexInSegment': -1, 'value': 'Unspecified'}, 'Does/Does Not': {'endIndexInSegment': 37, 'startIndexInSegment': 30, 'selectedText': 'will be', 'value': 'Does'}, 'User Type': {'endIndexInSegment': -1, 'startIndexInSegment': -1, 'value': 'Unspecified'}, 'Action Third Party': {'endIndexInSegment': 50, 'startIndexInSegment': 38, 'selectedText': 'transferring', 'value': 'Receive/Shared with'}}\n",
      "32_voxmedia.com.csv\n",
      "331_tgifridays.com.csv\n",
      "33_nbcuniversal.com.csv\n",
      "348_walmart.com.csv\n",
      "359_vikings.com.csv\n",
      "394_newsbusters.org.csv\n",
      "414_washingtonian.com.csv\n",
      "453_barnesandnoble.com.csv\n",
      "456_boardgamegeek.com.csv\n",
      "{'Third Party Entity': {'endIndexInSegment': 98, 'startIndexInSegment': 73, 'selectedText': 'other people or companies', 'value': 'Unnamed third party'}, 'Choice Scope': {'endIndexInSegment': -1, 'startIndexInSegment': -1, 'value': 'Unspecified'}, 'Purpose': {'endIndexInSegment': -1, 'startIndexInSegment': -1, 'value': 'Unspecified'}, 'Personal Information Type': {'endIndexInSegment': 57, 'startIndexInSegment': 37, 'selectedText': 'personal information', 'value': 'Unspecified'}, 'Choice Type': {'endIndexInSegment': 145, 'startIndexInSegment': 101, 'selectedText': 'except when we have your explicit permission', 'value': 'Opt-in'}, 'Identifiability': {'endIndexInSegment': -1, 'startIndexInSegment': -1, 'value': 'Unspecified'}, 'Does/Does Not': {'endIndexInSegment': 11, 'startIndexInSegment': 7, 'selectedText': 'does', 'value': 'Does'}, 'User Type': {'endIndexInSegment': -1, 'startIndexInSegment': -1, 'value': 'Unspecified'}, 'Action Third Party': {'endIndexInSegment': 26, 'startIndexInSegment': 22, 'selectedText': 'sell', 'value': 'Receive/Shared with'}}\n",
      "481_fredericknewspost.com.csv\n",
      "503_buffalowildwings.com.csv\n",
      "517_kaleidahealth.org.csv\n",
      "523_usa.gov.csv\n",
      "531_archives.gov.csv\n",
      "541_ifsa-butler.org.csv\n",
      "559_www.loc.gov.csv\n",
      "{'Third Party Entity': {'endIndexInSegment': 531, 'startIndexInSegment': 514, 'selectedText': 'government agency', 'value': 'Other part of company/affiliate'}, 'Choice Scope': {'endIndexInSegment': -1, 'startIndexInSegment': -1, 'value': 'Unspecified'}, 'Purpose': {'endIndexInSegment': 550, 'startIndexInSegment': 535, 'selectedText': 'required by law', 'value': 'Legal requirement'}, 'Personal Information Type': {'endIndexInSegment': 508, 'startIndexInSegment': 488, 'selectedText': 'personal information', 'value': 'Generic personal information'}, 'Choice Type': {'endIndexInSegment': -1, 'startIndexInSegment': -1, 'value': 'Unspecified'}, 'Identifiability': {'endIndexInSegment': -1, 'startIndexInSegment': -1, 'value': 'Unspecified'}, 'Does/Does Not': {'endIndexInSegment': 487, 'startIndexInSegment': 466, 'selectedText': 'We will only disclose', 'value': 'Does'}, 'User Type': {'endIndexInSegment': -1, 'startIndexInSegment': -1, 'value': 'Unspecified'}, 'Action Third Party': {'endIndexInSegment': 487, 'startIndexInSegment': 479, 'selectedText': 'disclose', 'value': 'Receive/Shared with'}}\n",
      "{'Third Party Entity': {'endIndexInSegment': 633, 'startIndexInSegment': 608, 'selectedText': 'contractors or associates', 'value': 'Unnamed third party'}, 'Choice Scope': {'endIndexInSegment': -1, 'startIndexInSegment': -1, 'value': 'Unspecified'}, 'Purpose': {'endIndexInSegment': 660, 'startIndexInSegment': 637, 'selectedText': 'carry out your requests', 'value': 'Basic service/feature'}, 'Personal Information Type': {'endIndexInSegment': 508, 'startIndexInSegment': 488, 'selectedText': 'personal information', 'value': 'Generic personal information'}, 'Choice Type': {'endIndexInSegment': -1, 'startIndexInSegment': -1, 'value': 'Unspecified'}, 'Identifiability': {'endIndexInSegment': -1, 'startIndexInSegment': -1, 'value': 'Unspecified'}, 'Does/Does Not': {'endIndexInSegment': 583, 'startIndexInSegment': 562, 'selectedText': 'We will only disclose', 'value': 'Does'}, 'User Type': {'endIndexInSegment': -1, 'startIndexInSegment': -1, 'value': 'Unspecified'}, 'Action Third Party': {'endIndexInSegment': 487, 'startIndexInSegment': 479, 'selectedText': 'disclose', 'value': 'Receive/Shared with'}}\n",
      "{'Third Party Entity': {'endIndexInSegment': 823, 'startIndexInSegment': 802, 'selectedText': 'other outside parties', 'value': 'Unnamed third party'}, 'Choice Scope': {'endIndexInSegment': 772, 'startIndexInSegment': 764, 'selectedText': 'disclose', 'value': 'Use'}, 'Purpose': {'endIndexInSegment': -1, 'startIndexInSegment': -1, 'value': 'Unspecified'}, 'Personal Information Type': {'endIndexInSegment': 798, 'startIndexInSegment': 778, 'selectedText': 'personal information', 'value': 'Generic personal information'}, 'Choice Type': {'endIndexInSegment': 863, 'startIndexInSegment': 824, 'selectedText': 'without first obtaining your permission', 'value': 'Opt-in'}, 'Identifiability': {'endIndexInSegment': -1, 'startIndexInSegment': -1, 'value': 'Unspecified'}, 'Does/Does Not': {'endIndexInSegment': 763, 'startIndexInSegment': 755, 'selectedText': 'will not', 'value': 'Does Not'}, 'User Type': {'endIndexInSegment': -1, 'startIndexInSegment': -1, 'value': 'Unspecified'}, 'Action Third Party': {'endIndexInSegment': 772, 'startIndexInSegment': 764, 'selectedText': 'disclose', 'value': 'Receive/Shared with'}}\n",
      "571_abita.com.csv\n",
      "{'Choice Type': {'endIndexInSegment': 177, 'startIndexInSegment': 47, 'selectedText': 'By accessing this website, you are consenting to the information collection and use practices described in this privacy statement.', 'value': 'Dont use service/feature'}, 'Choice Scope': {'endIndexInSegment': 130, 'startIndexInSegment': 113, 'selectedText': 'ollection and use', 'value': 'Unspecified'}, 'User Type': {'endIndexInSegment': -1, 'startIndexInSegment': -1, 'value': 'not-selected'}, 'Purpose': {'endIndexInSegment': -1, 'startIndexInSegment': -1, 'value': 'Unspecified'}, 'Personal Information Type': {'endIndexInSegment': 111, 'startIndexInSegment': 100, 'selectedText': 'information', 'value': 'Unspecified'}}\n",
      "581_coffeereview.com.csv\n",
      "584_communitycoffee.com.csv\n",
      "586_cariboucoffee.com.csv\n",
      "58_esquire.com.csv\n",
      "591_google.com.csv\n",
      "59_liquor.com.csv\n",
      "627_dairyqueen.com.csv\n",
      "{'Choice Type': {'selectedText': 'by using our website, you accept and agree to the terms stated below.', 'startIndexInSegment': 134, 'endIndexInSegment': 203, 'value': 'Dont use service/feature'}, 'Choice Scope': {'selectedText': 'Not selected', 'startIndexInSegment': -1, 'endIndexInSegment': -1, 'value': 'Unspecified'}, 'User Type': {'selectedText': 'Not selected', 'startIndexInSegment': -1, 'endIndexInSegment': -1, 'value': 'Unspecified'}, 'Purpose': {'selectedText': 'Not selected', 'startIndexInSegment': -1, 'endIndexInSegment': -1, 'value': 'Unspecified'}, 'Personal Information Type': {'selectedText': 'Not selected', 'startIndexInSegment': -1, 'endIndexInSegment': -1, 'value': 'Unspecified'}}\n",
      "635_playstation.com.csv\n",
      "640_gamestop.com.csv\n",
      "641_cbsinteractive.com.csv\n",
      "642_thefreedictionary.com.csv\n",
      "652_randomhouse.com.csv\n",
      "{'Choice Type': {'endIndexInSegment': 621, 'startIndexInSegment': 450, 'selectedText': 'By using our Sites, you are accepting the practices described in this Privacy Policy. If you do not agree to the terms of this Privacy Policy, please do not use the Sites.', 'value': 'Dont use service/feature'}, 'Choice Scope': {'endIndexInSegment': -1, 'startIndexInSegment': -1, 'value': 'Unspecified'}, 'User Type': {'endIndexInSegment': 469, 'startIndexInSegment': 450, 'selectedText': 'By using our Sites,', 'value': 'Other'}, 'Purpose': {'endIndexInSegment': -1, 'startIndexInSegment': -1, 'value': 'Unspecified'}, 'Personal Information Type': {'endIndexInSegment': -1, 'startIndexInSegment': -1, 'value': 'Unspecified'}}\n",
      "676_restaurantnews.com.csv\n",
      "{'Third Party Entity': {'endIndexInSegment': 102, 'startIndexInSegment': 57, 'selectedText': 'Google, as a third party advertisement vendor', 'value': 'Named third party'}, 'Choice Scope': {'endIndexInSegment': -1, 'startIndexInSegment': -1, 'value': 'not-selected'}, 'Purpose': {'endIndexInSegment': 306, 'startIndexInSegment': 117, 'selectedText': 'to serve ads on this site. The use of DART cookies by Google enables them to serve adverts to visitors that are based on their visits to this website as well as other sites on the internet.', 'value': 'Advertising'}, 'Personal Information Type': {'endIndexInSegment': 167, 'startIndexInSegment': 104, 'selectedText': 'uses cookies to serve ads on this site. The use of DART cookies', 'value': 'Cookies and tracking elements'}, 'Choice Type': {'endIndexInSegment': -1, 'startIndexInSegment': -1, 'value': 'not-selected'}, 'Identifiability': {'endIndexInSegment': -1, 'startIndexInSegment': -1, 'value': 'not-selected'}, 'Does/Does Not': {'endIndexInSegment': -1, 'startIndexInSegment': -1, 'value': 'Does'}, 'User Type': {'endIndexInSegment': 219, 'startIndexInSegment': 211, 'selectedText': 'visitors', 'value': 'Other'}, 'Action Third Party': {'endIndexInSegment': 306, 'startIndexInSegment': 57, 'selectedText': 'Google, as a third party advertisement vendor, uses cookies to serve ads on this site. The use of DART cookies by Google enables them to serve adverts to visitors that are based on their visits to this website as well as other sites on the internet.', 'value': 'Track on first party website/app'}}\n",
      "686_military.com.csv\n",
      "701_tangeroutlet.com.csv\n",
      "{'Third Party Entity': {'endIndexInSegment': 243, 'startIndexInSegment': 227, 'selectedText': 'any third party.', 'value': 'Unnamed third party'}, 'Choice Scope': {'endIndexInSegment': -1, 'startIndexInSegment': -1, 'value': 'not-selected'}, 'Purpose': {'endIndexInSegment': -1, 'startIndexInSegment': -1, 'value': 'Unspecified'}, 'Personal Information Type': {'endIndexInSegment': 123, 'startIndexInSegment': 90, 'selectedText': 'personal identifiable information', 'value': 'Generic personal information'}, 'Choice Type': {'endIndexInSegment': -1, 'startIndexInSegment': -1, 'value': 'not-selected'}, 'Identifiability': {'endIndexInSegment': 111, 'startIndexInSegment': 90, 'selectedText': 'personal identifiable', 'value': 'Identifiable'}, 'Does/Does Not': {'endIndexInSegment': 243, 'startIndexInSegment': 185, 'selectedText': 'and is not sold, shared or distributed to any third party.', 'value': 'Does Not'}, 'User Type': {'endIndexInSegment': 152, 'startIndexInSegment': 134, 'selectedText': 'from our customers', 'value': 'Other'}, 'Action Third Party': {'endIndexInSegment': 223, 'startIndexInSegment': 193, 'selectedText': 'ot sold, shared or distributed', 'value': 'Receive/Shared with'}}\n",
      "70_meredith.com.csv\n",
      "723_dogbreedinfo.com.csv\n",
      "744_minecraft.gamepedia.com.csv\n",
      "745_eatchicken.com.csv\n",
      "746_kraftrecipes.com.csv\n",
      "760_si.edu.csv\n",
      "777_education.jlab.org.csv\n",
      "{'Third Party Entity': {'selectedText': 'Department of Energy, and law enforcement personnel, as well as authorized officials of other agencies, both domestic and foreign', 'startIndexInSegment': 486, 'endIndexInSegment': 615, 'value': 'Named third party'}, 'Choice Scope': {'selectedText': 'Not selected', 'startIndexInSegment': -1, 'endIndexInSegment': -1, 'value': 'Unspecified'}, 'Purpose': {'selectedText': 'Not selected', 'startIndexInSegment': -1, 'endIndexInSegment': -1, 'value': 'Unspecified'}, 'Personal Information Type': {'selectedText': 'all files', 'startIndexInSegment': 373, 'endIndexInSegment': 382, 'value': 'Other'}, 'Choice Type': {'selectedText': 'By continuing to use this system you indicate your awareness of and consent to these terms and conditions of use. LOG OFF IMMEDIATELY if you do not agree to the conditions stated in this warning.', 'startIndexInSegment': 947, 'endIndexInSegment': 1152, 'value': 'Dont use service/feature'}, 'Identifiability': {'selectedText': 'Not selected', 'startIndexInSegment': -1, 'endIndexInSegment': -1, 'value': 'Unspecified'}, 'Does/Does Not': {'selectedText': 'null', 'startIndexInSegment': -1, 'endIndexInSegment': -1, 'value': 'Does'}, 'User Type': {'selectedText': 'Not selected', 'startIndexInSegment': -1, 'endIndexInSegment': -1, 'value': 'Unspecified'}, 'Action Third Party': {'selectedText': 'disclosed', 'startIndexInSegment': 456, 'endIndexInSegment': 465, 'value': 'Receive/Shared with'}}\n",
      "807_lodgemfg.com.csv\n",
      "817_ironhorsevineyards.com.csv\n",
      "{'Third Party Entity': {'selectedText': 'third party marketing companies', 'startIndexInSegment': 126, 'endIndexInSegment': 157, 'value': 'Named third party'}, 'Choice Scope': {'selectedText': 'Not selected', 'startIndexInSegment': -1, 'endIndexInSegment': -1, 'value': 'Unspecified'}, 'Purpose': {'selectedText': 'advertisements', 'startIndexInSegment': 167, 'endIndexInSegment': 181, 'value': 'Advertising'}, 'Personal Information Type': {'selectedText': 'non-personal information about your visits to our website, and your interaction with our products and services', 'startIndexInSegment': 234, 'endIndexInSegment': 344, 'value': 'User online activities'}, 'Choice Type': {'selectedText': 'Not selected', 'startIndexInSegment': -1, 'endIndexInSegment': -1, 'value': 'Unspecified'}, 'Identifiability': {'selectedText': 'No Personally Identifiable Information (\"PII\") is collected in this process', 'startIndexInSegment': 689, 'endIndexInSegment': 764, 'value': 'Aggregated or anonymized'}, 'Does/Does Not': {'selectedText': 'null', 'startIndexInSegment': -1, 'endIndexInSegment': -1, 'value': 'Does'}, 'User Type': {'selectedText': 'Not selected', 'startIndexInSegment': -1, 'endIndexInSegment': -1, 'value': 'Unspecified'}, 'Action Third Party': {'selectedText': 'They may collect', 'startIndexInSegment': 217, 'endIndexInSegment': 233, 'value': 'Collect on first party website/app'}}\n",
      "{'Third Party Entity': {'selectedText': 'third party marketing companies', 'startIndexInSegment': 126, 'endIndexInSegment': 157, 'value': 'Named third party'}, 'Choice Scope': {'selectedText': 'Not selected', 'startIndexInSegment': -1, 'endIndexInSegment': -1, 'value': 'Unspecified'}, 'Purpose': {'selectedText': 'advertisements', 'startIndexInSegment': 167, 'endIndexInSegment': 181, 'value': 'Advertising'}, 'Personal Information Type': {'selectedText': 'Cookies and Web Beacons', 'startIndexInSegment': 635, 'endIndexInSegment': 658, 'value': 'Cookies and tracking elements'}, 'Choice Type': {'selectedText': 'Not selected', 'startIndexInSegment': -1, 'endIndexInSegment': -1, 'value': 'Unspecified'}, 'Identifiability': {'selectedText': 'No Personally Identifiable Information (\"PII\") is collected in this process', 'startIndexInSegment': 689, 'endIndexInSegment': 764, 'value': 'Aggregated or anonymized'}, 'Does/Does Not': {'selectedText': 'null', 'startIndexInSegment': -1, 'endIndexInSegment': -1, 'value': 'Does'}, 'User Type': {'selectedText': 'Not selected', 'startIndexInSegment': -1, 'endIndexInSegment': -1, 'value': 'Unspecified'}, 'Action Third Party': {'selectedText': 'They may collect', 'startIndexInSegment': 217, 'endIndexInSegment': 233, 'value': 'Collect on first party website/app'}}\n",
      "82_sheknows.com.csv\n",
      "856_sciencemag.org.csv\n",
      "862_disinfo.com.csv\n",
      "883_ted.com.csv\n",
      "884_naturalnews.com.csv\n",
      "{'Third Party Entity': {'endIndexInSegment': 85, 'startIndexInSegment': 72, 'selectedText': 'third parties', 'value': 'Unnamed third party'}, 'Choice Scope': {'endIndexInSegment': -1, 'startIndexInSegment': -1, 'value': 'Unspecified'}, 'Purpose': {'endIndexInSegment': -1, 'startIndexInSegment': -1, 'value': 'Unspecified'}, 'Personal Information Type': {'endIndexInSegment': 68, 'startIndexInSegment': 62, 'selectedText': 'emails', 'value': 'Contact'}, 'Choice Type': {'endIndexInSegment': -1, 'startIndexInSegment': -1, 'value': 'Unspecified'}, 'Identifiability': {'endIndexInSegment': -1, 'startIndexInSegment': -1, 'value': 'Unspecified'}, 'Does/Does Not': {'endIndexInSegment': 46, 'startIndexInSegment': 41, 'selectedText': 'never', 'value': 'Does Not'}, 'User Type': {'endIndexInSegment': -1, 'startIndexInSegment': -1, 'value': 'Unspecified'}, 'Action Third Party': {'endIndexInSegment': 52, 'startIndexInSegment': 47, 'selectedText': 'rents', 'value': 'Receive/Shared with'}}\n",
      "{'Third Party Entity': {'endIndexInSegment': 85, 'startIndexInSegment': 72, 'selectedText': 'third parties', 'value': 'Unnamed third party'}, 'Choice Scope': {'endIndexInSegment': -1, 'startIndexInSegment': -1, 'value': 'Unspecified'}, 'Purpose': {'endIndexInSegment': 226, 'startIndexInSegment': 215, 'selectedText': 'advertisers', 'value': 'Advertising'}, 'Personal Information Type': {'endIndexInSegment': 209, 'startIndexInSegment': 202, 'selectedText': 'details', 'value': 'Unspecified'}, 'Choice Type': {'endIndexInSegment': -1, 'startIndexInSegment': -1, 'value': 'Unspecified'}, 'Identifiability': {'endIndexInSegment': -1, 'startIndexInSegment': -1, 'value': 'Unspecified'}, 'Does/Does Not': {'endIndexInSegment': 46, 'startIndexInSegment': 41, 'selectedText': 'never', 'value': 'Does Not'}, 'User Type': {'endIndexInSegment': -1, 'startIndexInSegment': -1, 'value': 'Unspecified'}, 'Action Third Party': {'endIndexInSegment': 52, 'startIndexInSegment': 47, 'selectedText': 'rents', 'value': 'Receive/Shared with'}}\n",
      "{'Third Party Entity': {'endIndexInSegment': 227, 'startIndexInSegment': 181, 'selectedText': 'we DO NOT share user details with advertisers.', 'value': 'Unnamed third party'}, 'Choice Scope': {'endIndexInSegment': -1, 'startIndexInSegment': -1, 'value': 'Unspecified'}, 'Purpose': {'endIndexInSegment': 227, 'startIndexInSegment': 215, 'selectedText': 'advertisers.', 'value': 'Advertising'}, 'Personal Information Type': {'endIndexInSegment': 209, 'startIndexInSegment': 197, 'selectedText': 'user details', 'value': 'Generic personal information'}, 'Choice Type': {'endIndexInSegment': -1, 'startIndexInSegment': -1, 'value': 'Unspecified'}, 'Identifiability': {'endIndexInSegment': 209, 'startIndexInSegment': 197, 'selectedText': 'user details', 'value': 'Identifiable'}, 'Does/Does Not': {'endIndexInSegment': 190, 'startIndexInSegment': 181, 'selectedText': 'we DO NOT', 'value': 'Does Not'}, 'User Type': {'endIndexInSegment': -1, 'startIndexInSegment': -1, 'value': 'Unspecified'}, 'Action Third Party': {'endIndexInSegment': 196, 'startIndexInSegment': 191, 'selectedText': 'share', 'value': 'Receive/Shared with'}}\n",
      "{'Third Party Entity': {'endIndexInSegment': 226, 'startIndexInSegment': 215, 'selectedText': 'advertisers', 'value': 'Named third party'}, 'Choice Scope': {'endIndexInSegment': -1, 'startIndexInSegment': -1, 'value': 'Unspecified'}, 'Purpose': {'endIndexInSegment': 226, 'startIndexInSegment': 216, 'selectedText': 'dvertisers', 'value': 'Advertising'}, 'Personal Information Type': {'endIndexInSegment': -1, 'startIndexInSegment': -1, 'value': 'Unspecified'}, 'Choice Type': {'endIndexInSegment': -1, 'startIndexInSegment': -1, 'value': 'Unspecified'}, 'Identifiability': {'endIndexInSegment': -1, 'startIndexInSegment': -1, 'value': 'Unspecified'}, 'Does/Does Not': {'endIndexInSegment': 190, 'startIndexInSegment': 184, 'selectedText': 'DO NOT', 'value': 'Does Not'}, 'User Type': {'endIndexInSegment': -1, 'startIndexInSegment': -1, 'value': 'Unspecified'}, 'Action Third Party': {'endIndexInSegment': 196, 'startIndexInSegment': 191, 'selectedText': 'share', 'value': 'Receive/Shared with'}}\n",
      "891_everydayhealth.com.csv\n",
      "898_uptodate.com.csv\n",
      "{'Third Party Entity': {'endIndexInSegment': 312, 'startIndexInSegment': 306, 'selectedText': 'anyone', 'value': 'Unnamed third party'}, 'Choice Scope': {'endIndexInSegment': -1, 'startIndexInSegment': -1, 'value': 'Unspecified'}, 'Purpose': {'endIndexInSegment': -1, 'startIndexInSegment': -1, 'value': 'Unspecified'}, 'Personal Information Type': {'endIndexInSegment': -1, 'startIndexInSegment': -1, 'value': 'Unspecified'}, 'Choice Type': {'endIndexInSegment': -1, 'startIndexInSegment': -1, 'value': 'Unspecified'}, 'Identifiability': {'endIndexInSegment': -1, 'startIndexInSegment': -1, 'value': 'Unspecified'}, 'Does/Does Not': {'endIndexInSegment': 220, 'startIndexInSegment': 213, 'selectedText': 'does no', 'value': 'Does Not'}, 'User Type': {'endIndexInSegment': -1, 'startIndexInSegment': -1, 'value': 'Unspecified'}, 'Action Third Party': {'endIndexInSegment': 226, 'startIndexInSegment': 222, 'selectedText': 'sell', 'value': 'Receive/Shared with'}}\n",
      "{'Third Party Entity': {'endIndexInSegment': 313, 'startIndexInSegment': 204, 'selectedText': \"UpToDate does not sell or otherwise share subscribers' or website visitors' personal information with anyone.\", 'value': 'Unnamed third party'}, 'Choice Scope': {'endIndexInSegment': -1, 'startIndexInSegment': -1, 'value': 'Unspecified'}, 'Purpose': {'endIndexInSegment': -1, 'startIndexInSegment': -1, 'value': 'Unspecified'}, 'Personal Information Type': {'endIndexInSegment': 300, 'startIndexInSegment': 280, 'selectedText': 'personal information', 'value': 'Generic personal information'}, 'Choice Type': {'endIndexInSegment': -1, 'startIndexInSegment': -1, 'value': 'Unspecified'}, 'Identifiability': {'endIndexInSegment': 300, 'startIndexInSegment': 280, 'selectedText': 'personal information', 'value': 'Identifiable'}, 'Does/Does Not': {'endIndexInSegment': 313, 'startIndexInSegment': 204, 'selectedText': \"UpToDate does not sell or otherwise share subscribers' or website visitors' personal information with anyone.\", 'value': 'Does Not'}, 'User Type': {'endIndexInSegment': -1, 'startIndexInSegment': -1, 'value': 'Unspecified'}, 'Action Third Party': {'endIndexInSegment': 313, 'startIndexInSegment': 204, 'selectedText': \"UpToDate does not sell or otherwise share subscribers' or website visitors' personal information with anyone.\", 'value': 'Receive/Shared with'}}\n",
      "{'Third Party Entity': {'endIndexInSegment': 312, 'startIndexInSegment': 307, 'selectedText': 'nyone', 'value': 'Unnamed third party'}, 'Choice Scope': {'endIndexInSegment': -1, 'startIndexInSegment': -1, 'value': 'Unspecified'}, 'Purpose': {'endIndexInSegment': -1, 'startIndexInSegment': -1, 'value': 'Unspecified'}, 'Personal Information Type': {'endIndexInSegment': 300, 'startIndexInSegment': 280, 'selectedText': 'personal information', 'value': 'Generic personal information'}, 'Choice Type': {'endIndexInSegment': -1, 'startIndexInSegment': -1, 'value': 'Unspecified'}, 'Identifiability': {'endIndexInSegment': -1, 'startIndexInSegment': -1, 'value': 'Unspecified'}, 'Does/Does Not': {'endIndexInSegment': 221, 'startIndexInSegment': 213, 'selectedText': 'does not', 'value': 'Does Not'}, 'User Type': {'endIndexInSegment': -1, 'startIndexInSegment': -1, 'value': 'Unspecified'}, 'Action Third Party': {'endIndexInSegment': 245, 'startIndexInSegment': 213, 'selectedText': 'does not sell or otherwise share', 'value': 'Receive/Shared with'}}\n",
      "907_earthkam.org.csv\n",
      "919_uh.edu.csv\n",
      "928_stlouisfed.org.csv\n",
      "{'Choice Type': {'endIndexInSegment': 167, 'startIndexInSegment': 109, 'selectedText': 'personal information you choose to provide us is voluntary', 'value': 'Other'}, 'Choice Scope': {'endIndexInSegment': 217, 'startIndexInSegment': 194, 'selectedText': 'provide any information', 'value': 'First party use'}, 'User Type': {'endIndexInSegment': -1, 'startIndexInSegment': -1, 'value': 'Unspecified'}, 'Purpose': {'endIndexInSegment': -1, 'startIndexInSegment': -1, 'value': 'Unspecified'}, 'Personal Information Type': {'endIndexInSegment': 217, 'startIndexInSegment': 202, 'selectedText': 'any information', 'value': 'Generic personal information'}}\n",
      "93_pbs.org.csv\n",
      "940_internetbrands.com.csv\n",
      "{'Choice Type': {'selectedText': 'please do not use our sites or services.', 'startIndexInSegment': 486, 'endIndexInSegment': 531, 'value': 'Dont use service/feature'}, 'Choice Scope': {'selectedText': 'collection', 'startIndexInSegment': 333, 'endIndexInSegment': 343, 'value': 'First party collection'}, 'User Type': {'selectedText': 'Not selected', 'startIndexInSegment': -1, 'endIndexInSegment': -1, 'value': 'Unspecified'}, 'Purpose': {'selectedText': 'Not selected', 'startIndexInSegment': -1, 'endIndexInSegment': -1, 'value': 'Unspecified'}, 'Personal Information Type': {'selectedText': 'personal information', 'startIndexInSegment': 384, 'endIndexInSegment': 404, 'value': 'Generic personal information'}}\n",
      "962_lynda.com.csv\n",
      "988_solarviews.com.csv\n",
      "{'Third Party Entity': {'selectedText': 'third-party companies', 'startIndexInSegment': 37, 'endIndexInSegment': 58, 'value': 'Unnamed third party'}, 'Choice Scope': {'selectedText': 'null', 'startIndexInSegment': -1, 'endIndexInSegment': -1, 'value': 'not-selected'}, 'Purpose': {'selectedText': 'during your visits to this and other Web sites in order to provide advertisements about goods and services likely to be of greater interest to you.', 'startIndexInSegment': 324, 'endIndexInSegment': 471, 'value': 'Advertising'}, 'Personal Information Type': {'selectedText': 'non-personally identifiable information (e.g., click stream information, browser type, time and date, subject of advertisements clicked or scrolled over)', 'startIndexInSegment': 170, 'endIndexInSegment': 323, 'value': 'Other'}, 'Choice Type': {'selectedText': 'null', 'startIndexInSegment': -1, 'endIndexInSegment': -1, 'value': 'not-selected'}, 'Identifiability': {'selectedText': 'anonymous information', 'startIndexInSegment': 95, 'endIndexInSegment': 116, 'value': 'Aggregated or anonymized'}, 'Does/Does Not': {'selectedText': 'null', 'startIndexInSegment': -1, 'endIndexInSegment': -1, 'value': 'Does'}, 'User Type': {'selectedText': 'null', 'startIndexInSegment': -1, 'endIndexInSegment': -1, 'value': 'not-selected'}, 'Action Third Party': {'selectedText': 'We allow third-party companies to serve ads and/or collect certain anonymous information when you visit our web site.', 'startIndexInSegment': 28, 'endIndexInSegment': 145, 'value': 'Collect on first party website/app'}}\n",
      "{'Third Party Entity': {'selectedText': 'third-party companies', 'startIndexInSegment': 37, 'endIndexInSegment': 58, 'value': 'Unnamed third party'}, 'Choice Scope': {'selectedText': 'null', 'startIndexInSegment': -1, 'endIndexInSegment': -1, 'value': 'not-selected'}, 'Purpose': {'selectedText': 'during your visits to this and other Web sites in order to provide advertisements about goods and services likely to be of greater interest to you.', 'startIndexInSegment': 324, 'endIndexInSegment': 471, 'value': 'Advertising'}, 'Personal Information Type': {'selectedText': '(e.g., click stream information, browser type, time and date, subject of advertisements clicked or scrolled over', 'startIndexInSegment': 210, 'endIndexInSegment': 322, 'value': 'User online activities'}, 'Choice Type': {'selectedText': 'To learn more about this behavioral advertising practice or to opt-out of this type of advertising, you can visit networkadvertising.org.', 'startIndexInSegment': 566, 'endIndexInSegment': 703, 'value': 'Opt-out link'}, 'Identifiability': {'selectedText': 'non-personally identifiable information', 'startIndexInSegment': 170, 'endIndexInSegment': 209, 'value': 'Aggregated or anonymized'}, 'Does/Does Not': {'selectedText': 'null', 'startIndexInSegment': -1, 'endIndexInSegment': -1, 'value': 'Does'}, 'User Type': {'selectedText': 'null', 'startIndexInSegment': -1, 'endIndexInSegment': -1, 'value': 'not-selected'}, 'Action Third Party': {'selectedText': 'These companies typically use a cookie or third party web beacon to collect this information.', 'startIndexInSegment': 472, 'endIndexInSegment': 565, 'value': 'Collect on first party website/app'}}\n",
      "{'Third Party Entity': {'selectedText': 'third-party companies', 'startIndexInSegment': 37, 'endIndexInSegment': 58, 'value': 'Unnamed third party'}, 'Choice Scope': {'selectedText': 'opt-out of this type of advertising', 'startIndexInSegment': 629, 'endIndexInSegment': 664, 'value': 'Both'}, 'Purpose': {'selectedText': 'ads', 'startIndexInSegment': 68, 'endIndexInSegment': 71, 'value': 'Advertising'}, 'Personal Information Type': {'selectedText': 'collect certain anonymous information', 'startIndexInSegment': 79, 'endIndexInSegment': 116, 'value': 'Unspecified'}, 'Choice Type': {'selectedText': 'opt-out', 'startIndexInSegment': 629, 'endIndexInSegment': 636, 'value': 'Opt-out link'}, 'Identifiability': {'selectedText': 'anonymous', 'startIndexInSegment': 95, 'endIndexInSegment': 104, 'value': 'Aggregated or anonymized'}, 'Does/Does Not': {'selectedText': 'allow third-party companies to serve ads and/or collect', 'startIndexInSegment': 31, 'endIndexInSegment': 86, 'value': 'Does'}, 'User Type': {'selectedText': 'Not selected', 'startIndexInSegment': -1, 'endIndexInSegment': -1, 'value': 'Unspecified'}, 'Action Third Party': {'selectedText': 'serve ads and/or collect certain anonymous information', 'startIndexInSegment': 62, 'endIndexInSegment': 116, 'value': 'Collect on first party website/app'}}\n",
      "{'Third Party Entity': {'selectedText': 'third-party companies', 'startIndexInSegment': 37, 'endIndexInSegment': 58, 'value': 'Unnamed third party'}, 'Choice Scope': {'selectedText': 'opt-out of this type of advertising,', 'startIndexInSegment': 629, 'endIndexInSegment': 665, 'value': 'Both'}, 'Purpose': {'selectedText': 'provide advertisements about goods and services likely to be of greater interest to you', 'startIndexInSegment': 383, 'endIndexInSegment': 470, 'value': 'Advertising'}, 'Personal Information Type': {'selectedText': 'click stream information', 'startIndexInSegment': 217, 'endIndexInSegment': 241, 'value': 'User online activities'}, 'Choice Type': {'selectedText': 'opt-out', 'startIndexInSegment': 629, 'endIndexInSegment': 636, 'value': 'Opt-out link'}, 'Identifiability': {'selectedText': 'non-personally identifiable information', 'startIndexInSegment': 170, 'endIndexInSegment': 209, 'value': 'Other'}, 'Does/Does Not': {'selectedText': 'allow third-party companies to serve ads and/or collect', 'startIndexInSegment': 31, 'endIndexInSegment': 86, 'value': 'Does'}, 'User Type': {'selectedText': 'Not selected', 'startIndexInSegment': -1, 'endIndexInSegment': -1, 'value': 'Unspecified'}, 'Action Third Party': {'selectedText': 'serve ads and/or collect certain anonymous information', 'startIndexInSegment': 62, 'endIndexInSegment': 116, 'value': 'Collect on first party website/app'}}\n",
      "98_neworleansonline.com.csv\n",
      "995_mohegansun.com.csv\n",
      "{'Third Party Entity': {'endIndexInSegment': 263, 'startIndexInSegment': 192, 'selectedText': 'Mohegan Sun does not share or sell your personal information to anyone.', 'value': 'Unnamed third party'}, 'Choice Scope': {'endIndexInSegment': -1, 'startIndexInSegment': -1, 'value': 'Unspecified'}, 'Purpose': {'endIndexInSegment': -1, 'startIndexInSegment': -1, 'value': 'Unspecified'}, 'Personal Information Type': {'endIndexInSegment': 252, 'startIndexInSegment': 232, 'selectedText': 'personal information', 'value': 'Generic personal information'}, 'Choice Type': {'endIndexInSegment': -1, 'startIndexInSegment': -1, 'value': 'Unspecified'}, 'Identifiability': {'endIndexInSegment': 252, 'startIndexInSegment': 232, 'selectedText': 'personal information', 'value': 'Identifiable'}, 'Does/Does Not': {'endIndexInSegment': 263, 'startIndexInSegment': 192, 'selectedText': 'Mohegan Sun does not share or sell your personal information to anyone.', 'value': 'Does Not'}, 'User Type': {'endIndexInSegment': -1, 'startIndexInSegment': -1, 'value': 'Unspecified'}, 'Action Third Party': {'endIndexInSegment': 263, 'startIndexInSegment': 192, 'selectedText': 'Mohegan Sun does not share or sell your personal information to anyone.', 'value': 'Receive/Shared with'}}\n"
     ]
    }
   ],
   "source": [
    "\n",
    "path = r'annotations'  # use your path\n",
    "allFiles = glob.glob(path + \"/*.csv\")\n",
    "\n",
    "data_samples2 = []\n",
    "data_number2 = []\n",
    "data_label2 = []\n",
    "\n",
    "cnt = 0\n",
    "\n",
    "for file in allFiles:\n",
    "    allFiles = allFiles[:85]\n",
    "    dictCollection = {\"Action First-Party\":[],\n",
    "                      \"Purpose\":[],\n",
    "                      \"Personal Information Type\":[]\n",
    "                      }\n",
    "\n",
    "    df = pd.read_csv(file, thousands=',', header=None)\n",
    "    len(df)\n",
    "    # df_tail = df.tail(1)[4]\n",
    "    # print(df_tail)\n",
    "    number_of_segments = 5#len(df) + 1\n",
    "\n",
    "    file = file.split('annotations/', 1)[1]\n",
    "    print(file)\n",
    "    for i in range(number_of_segments-1):\n",
    "        # print(i)\n",
    "        if df[5][i] == \"First Party Collection/Use\":\n",
    "            parse_json = json.loads(str(df[6][i]))\n",
    "            if parse_json[\"Action First-Party\"][\"endIndexInSegment\"] != -1:\n",
    "                data_samples2.append(parse_json[\"Action First-Party\"][\"selectedText\"])\n",
    "                data_number2.append(1)\n",
    "                data_label2.append(\"Action First-Party\")\n",
    "                cnt = cnt+1\n",
    "            if parse_json[\"Personal Information Type\"][\"endIndexInSegment\"] != -1:\n",
    "                data_samples2.append(parse_json[\"Personal Information Type\"][\"selectedText\"])\n",
    "                data_number2.append(2)\n",
    "                data_label2.append(\"Other\")                \n",
    "                cnt = cnt+1\n",
    "            if parse_json[\"Purpose\"][\"endIndexInSegment\"] != -1:\n",
    "                data_samples2.append(parse_json[\"Purpose\"][\"selectedText\"])\n",
    "                data_number2.append(2)\n",
    "                data_label2.append(\"Other\")     \n",
    "                cnt = cnt+1\n",
    "        if df[5][i] == \"Third Party Sharing/Collection\":\n",
    "            parse_json = json.loads(str(df[6][i]))\n",
    "            print(parse_json)\n",
    "            if parse_json[\"Personal Information Type\"][\"endIndexInSegment\"] != -1:\n",
    "                data_samples2.append(parse_json[\"Personal Information Type\"][\"selectedText\"])\n",
    "                data_number2.append(2)\n",
    "                data_label2.append(\"Other\")                \n",
    "                cnt = cnt+1\n",
    "            if parse_json[\"Purpose\"][\"endIndexInSegment\"] != -1:\n",
    "                data_samples2.append(parse_json[\"Purpose\"][\"selectedText\"])\n",
    "                data_number2.append(2)\n",
    "                data_label2.append(\"Other\")     \n",
    "                cnt = cnt+1\n",
    "        if df[5][i] == \"User Choice/Control\":\n",
    "            parse_json = json.loads(str(df[6][i]))\n",
    "            print(parse_json)\n",
    "            if parse_json[\"Personal Information Type\"][\"endIndexInSegment\"] != -1:\n",
    "                data_samples2.append(parse_json[\"Personal Information Type\"][\"selectedText\"])\n",
    "                data_number2.append(2)\n",
    "                data_label2.append(\"Other\")                \n",
    "                cnt = cnt+1\n",
    "            if parse_json[\"Purpose\"][\"endIndexInSegment\"] != -1:\n",
    "                data_samples2.append(parse_json[\"Purpose\"][\"selectedText\"])\n",
    "                data_number2.append(2)\n",
    "                data_label2.append(\"Other\")     \n",
    "                cnt = cnt+1\n",
    "        "
   ]
  },
  {
   "cell_type": "code",
   "execution_count": 91,
   "metadata": {
    "collapsed": false
   },
   "outputs": [],
   "source": [
    "\n",
    "train_samples2 = np.array(data_samples2[:160])\n",
    "train_label2 = np.array(data_label2[:160])\n",
    "train_number2 = np.array(data_number2[:160])\n",
    "\n",
    "test_samples2 = np.array(data_samples2[161:204])\n",
    "test_label2 = np.array(data_label2[161:204])\n",
    "test_number2 = np.array(data_number2[161:204])\n"
   ]
  },
  {
   "cell_type": "code",
   "execution_count": 92,
   "metadata": {
    "collapsed": false
   },
   "outputs": [
    {
     "data": {
      "text/plain": [
       "(160, 173)"
      ]
     },
     "execution_count": 92,
     "metadata": {},
     "output_type": "execute_result"
    }
   ],
   "source": [
    "from sklearn.feature_extraction.text import CountVectorizer\n",
    "count_vect1 = CountVectorizer(max_df=0.95, min_df=2,\n",
    "                                max_features=1000)\n",
    "X_train_counts1 = count_vect1.fit_transform(train_samples2)\n",
    "X_train_counts1\n",
    "\n",
    "from sklearn.feature_extraction.text import TfidfTransformer\n",
    "tf_transformer1 = TfidfTransformer(use_idf=False).fit(X_train_counts1)\n",
    "X_train_tf1 = tf_transformer1.transform(X_train_counts1)\n",
    "X_train_tf1.shape\n",
    "\n",
    "tfidf_transformer1 = TfidfTransformer()\n",
    "X_train_tfidf1 = tfidf_transformer1.fit_transform(X_train_counts1)\n",
    "X_train_tfidf1.shape"
   ]
  },
  {
   "cell_type": "code",
   "execution_count": 93,
   "metadata": {
    "collapsed": false
   },
   "outputs": [
    {
     "data": {
      "text/plain": [
       "0.90697674418604646"
      ]
     },
     "execution_count": 93,
     "metadata": {},
     "output_type": "execute_result"
    }
   ],
   "source": [
    "from sklearn.pipeline import Pipeline\n",
    "from sklearn.naive_bayes import MultinomialNB\n",
    "text_clf1 = Pipeline([('vect', CountVectorizer()), ('tfidf', TfidfTransformer()), ('clf', MultinomialNB())])\n",
    "text_clf1 = text_clf1.fit(train_samples2, train_number2)\n",
    "\n",
    "import numpy as np\n",
    "predicted = text_clf1.predict(test_samples2)\n",
    "np.mean(predicted == test_number2)"
   ]
  },
  {
   "cell_type": "code",
   "execution_count": 96,
   "metadata": {
    "collapsed": false
   },
   "outputs": [
    {
     "name": "stdout",
     "output_type": "stream",
     "text": [
      "                    precision    recall  f1-score   support\n",
      "\n",
      "             Other       1.00      0.43      0.60         7\n",
      "             Other       0.90      1.00      0.95        36\n",
      "\n",
      "       avg / total       0.92      0.91      0.89        43\n",
      "\n",
      "['Other' 'Other' 'Other' 'Other' 'Other' 'Other' 'Other'\n",
      " 'Action First-Party' 'Other' 'Action First-Party' 'Other' 'Other' 'Other'\n",
      " 'Action First-Party' 'Other' 'Other' 'Other' 'Other' 'Other' 'Other'\n",
      " 'Other' 'Other' 'Other' 'Action First-Party' 'Other' 'Other'\n",
      " 'Action First-Party' 'Other' 'Action First-Party' 'Other'\n",
      " 'Action First-Party' 'Other' 'Other' 'Other' 'Other' 'Other' 'Other'\n",
      " 'Other' 'Other' 'Other' 'Other' 'Other' 'Other']\n"
     ]
    }
   ],
   "source": [
    "from sklearn import metrics\n",
    "print(metrics.classification_report(test_number2, predicted,\n",
    "                                        target_names=test_label2))\n",
    "\n",
    "metrics.confusion_matrix(test_number2, predicted)\n",
    "print(test_label2)"
   ]
  },
  {
   "cell_type": "code",
   "execution_count": 50,
   "metadata": {
    "collapsed": false
   },
   "outputs": [
    {
     "data": {
      "text/plain": [
       "0.93023255813953487"
      ]
     },
     "execution_count": 50,
     "metadata": {},
     "output_type": "execute_result"
    }
   ],
   "source": [
    "from sklearn.linear_model import SGDClassifier\n",
    "text_clf1 = Pipeline([('vect', CountVectorizer()), \n",
    "                     ('tfidf', TfidfTransformer()),\n",
    "                     ('clf', SGDClassifier(loss='hinge', penalty='l2',\n",
    "                                           alpha=1e-3, n_iter=5, random_state=42))])\n",
    "_ = text_clf1.fit(train_samples2, train_number2)\n",
    "\n",
    "import numpy as np\n",
    "predicted = text_clf1.predict(test_samples2)\n",
    "np.mean(predicted == test_number2)  "
   ]
  },
  {
   "cell_type": "code",
   "execution_count": 41,
   "metadata": {
    "collapsed": false
   },
   "outputs": [
    {
     "name": "stdout",
     "output_type": "stream",
     "text": [
      "1017_sci-news.com.csv\n",
      "1028_redorbit.com.csv\n",
      "1034_aol.com.csv\n",
      "1050_honda.com.csv\n",
      "105_amazon.com.csv\n",
      "1070_wnep.com.csv\n",
      "1083_highgearmedia.com.csv\n",
      "1089_freep.com.csv\n",
      "1099_enthusiastnetwork.com.csv\n",
      "1106_allstate.com.csv\n",
      "1164_acbj.com.csv\n",
      "1205_opensecrets.org.csv\n",
      "{'Third Party Entity': {'endIndexInSegment': 89, 'startIndexInSegment': 76, 'selectedText': 'third parties', 'value': 'Unnamed third party'}, 'Choice Scope': {'endIndexInSegment': -1, 'startIndexInSegment': -1, 'value': 'Unspecified'}, 'Purpose': {'endIndexInSegment': -1, 'startIndexInSegment': -1, 'value': 'Unspecified'}, 'Personal Information Type': {'endIndexInSegment': 68, 'startIndexInSegment': 33, 'selectedText': 'personally identifiable information', 'value': 'Generic personal information'}, 'Choice Type': {'endIndexInSegment': -1, 'startIndexInSegment': -1, 'value': 'Unspecified'}, 'Identifiability': {'endIndexInSegment': 68, 'startIndexInSegment': 33, 'selectedText': 'personally identifiable information', 'value': 'Identifiable'}, 'Does/Does Not': {'endIndexInSegment': 12, 'startIndexInSegment': 4, 'selectedText': 'will not', 'value': 'Does Not'}, 'User Type': {'endIndexInSegment': -1, 'startIndexInSegment': -1, 'value': 'Unspecified'}, 'Action Third Party': {'endIndexInSegment': 18, 'startIndexInSegment': 13, 'selectedText': 'share', 'value': 'Receive/Shared with'}}\n",
      "1206_dcccd.edu.csv\n",
      "1221_gwdocs.com.csv\n",
      "1224_austincc.edu.csv\n",
      "1252_cincymuseum.org.csv\n",
      "1259_fool.com.csv\n",
      "1261_zacks.com.csv\n",
      "{'Third Party Entity': {'endIndexInSegment': 585, 'startIndexInSegment': 574, 'selectedText': 'third party', 'value': 'Unnamed third party'}, 'Choice Scope': {'endIndexInSegment': 595, 'startIndexInSegment': 401, 'selectedText': 'disclose the information you provide us or send you information if you authorize us to do so by choosing to receive e-mail services on our Zacks.com Web site or opting into third party mailings.', 'value': 'Both'}, 'Purpose': {'endIndexInSegment': -1, 'startIndexInSegment': -1, 'value': 'Unspecified'}, 'Personal Information Type': {'endIndexInSegment': 383, 'startIndexInSegment': 329, 'selectedText': 'email address, name, postal address, and phone number.', 'value': 'Contact'}, 'Choice Type': {'endIndexInSegment': 595, 'startIndexInSegment': 465, 'selectedText': 'if you authorize us to do so by choosing to receive e-mail services on our Zacks.com Web site or opting into third party mailings.', 'value': 'Opt-in'}, 'Identifiability': {'endIndexInSegment': -1, 'startIndexInSegment': -1, 'value': 'not-selected'}, 'Does/Does Not': {'endIndexInSegment': -1, 'startIndexInSegment': -1, 'value': 'Does'}, 'User Type': {'endIndexInSegment': -1, 'startIndexInSegment': -1, 'value': 'not-selected'}, 'Action Third Party': {'endIndexInSegment': 493, 'startIndexInSegment': 393, 'selectedText': 'we only disclose the information you provide us or send you information if you authorize us to do so', 'value': 'Receive/Shared with'}}\n",
      "1264_citizen.org.csv\n",
      "1300_bankofamerica.com.csv\n",
      "1306_chasepaymentech.com.csv\n",
      "133_fortune.com.csv\n",
      "135_instagram.com.csv\n",
      "1360_thehill.com.csv\n",
      "1361_yahoo.com.csv\n",
      "1419_miaminewtimes.com.csv\n",
      "144_style.com.csv\n",
      "1468_rockstargames.com.csv\n",
      "1470_steampowered.com.csv\n",
      "1498_ticketmaster.com.csv\n",
      "1510_jibjab.com.csv\n",
      "1539_geocaching.com.csv\n",
      "1545_taylorswift.com.csv\n",
      "1582_msn.com.csv\n",
      "1610_post-gazette.com.csv\n",
      "1618_sltrib.com.csv\n",
      "1636_sidearmsports.com.csv\n",
      "1637_dailyillini.com.csv\n",
      "164_adweek.com.csv\n",
      "1666_wsmv.com.csv\n",
      "1673_tulsaworld.com.csv\n",
      "1683_dailynews.com.csv\n",
      "1694_lids.com.csv\n",
      "1703_sports-reference.com.csv\n",
      "1708_foxsports.com.csv\n",
      "1713_latinpost.com.csv\n",
      "175_mlb.mlb.com.csv\n",
      "186_abcnews.com.csv\n",
      "200_washingtonpost.com.csv\n",
      "202_foodallergy.org.csv\n",
      "207_reference.com.csv\n",
      "20_theatlantic.com.csv\n",
      "21_imdb.com.csv\n",
      "228_gawker.com.csv\n",
      "{'Third Party Entity': {'endIndexInSegment': 81, 'startIndexInSegment': 64, 'selectedText': 'third parties may', 'value': 'Unnamed third party'}, 'Choice Scope': {'endIndexInSegment': -1, 'startIndexInSegment': -1, 'value': 'Unspecified'}, 'Purpose': {'endIndexInSegment': -1, 'startIndexInSegment': -1, 'value': 'Unspecified'}, 'Personal Information Type': {'endIndexInSegment': -1, 'startIndexInSegment': -1, 'value': 'Unspecified'}, 'Choice Type': {'endIndexInSegment': -1, 'startIndexInSegment': -1, 'value': 'Unspecified'}, 'Identifiability': {'endIndexInSegment': 101, 'startIndexInSegment': 82, 'selectedText': 'collect information', 'value': 'Unspecified'}, 'Does/Does Not': {'endIndexInSegment': 89, 'startIndexInSegment': 82, 'selectedText': 'collect', 'value': 'Does'}, 'User Type': {'endIndexInSegment': -1, 'startIndexInSegment': -1, 'value': 'Unspecified'}, 'Action Third Party': {'endIndexInSegment': 101, 'startIndexInSegment': 82, 'selectedText': 'collect information', 'value': 'Collect on first party website/app'}}\n",
      "26_nytimes.com.csv\n",
      "303_reddit.com.csv\n",
      "320_timeinc.com.csv\n",
      "325_ocregister.com.csv\n",
      "{'Third Party Entity': {'endIndexInSegment': 126, 'startIndexInSegment': 22, 'selectedText': 'Freedom will be transferring to Publisher customer data collected from users of the Properties websites.', 'value': 'Named third party'}, 'Choice Scope': {'endIndexInSegment': -1, 'startIndexInSegment': -1, 'value': 'Unspecified'}, 'Purpose': {'endIndexInSegment': 20, 'startIndexInSegment': 16, 'selectedText': 'sale', 'value': 'Merger/Acquisition'}, 'Personal Information Type': {'endIndexInSegment': -1, 'startIndexInSegment': -1, 'value': 'Unspecified'}, 'Choice Type': {'endIndexInSegment': -1, 'startIndexInSegment': -1, 'value': 'Unspecified'}, 'Identifiability': {'endIndexInSegment': -1, 'startIndexInSegment': -1, 'value': 'Unspecified'}, 'Does/Does Not': {'endIndexInSegment': 37, 'startIndexInSegment': 30, 'selectedText': 'will be', 'value': 'Does'}, 'User Type': {'endIndexInSegment': -1, 'startIndexInSegment': -1, 'value': 'Unspecified'}, 'Action Third Party': {'endIndexInSegment': 50, 'startIndexInSegment': 38, 'selectedText': 'transferring', 'value': 'Receive/Shared with'}}\n",
      "32_voxmedia.com.csv\n",
      "331_tgifridays.com.csv\n",
      "33_nbcuniversal.com.csv\n",
      "348_walmart.com.csv\n",
      "359_vikings.com.csv\n",
      "394_newsbusters.org.csv\n",
      "414_washingtonian.com.csv\n",
      "453_barnesandnoble.com.csv\n",
      "456_boardgamegeek.com.csv\n",
      "{'Third Party Entity': {'endIndexInSegment': 98, 'startIndexInSegment': 73, 'selectedText': 'other people or companies', 'value': 'Unnamed third party'}, 'Choice Scope': {'endIndexInSegment': -1, 'startIndexInSegment': -1, 'value': 'Unspecified'}, 'Purpose': {'endIndexInSegment': -1, 'startIndexInSegment': -1, 'value': 'Unspecified'}, 'Personal Information Type': {'endIndexInSegment': 57, 'startIndexInSegment': 37, 'selectedText': 'personal information', 'value': 'Unspecified'}, 'Choice Type': {'endIndexInSegment': 145, 'startIndexInSegment': 101, 'selectedText': 'except when we have your explicit permission', 'value': 'Opt-in'}, 'Identifiability': {'endIndexInSegment': -1, 'startIndexInSegment': -1, 'value': 'Unspecified'}, 'Does/Does Not': {'endIndexInSegment': 11, 'startIndexInSegment': 7, 'selectedText': 'does', 'value': 'Does'}, 'User Type': {'endIndexInSegment': -1, 'startIndexInSegment': -1, 'value': 'Unspecified'}, 'Action Third Party': {'endIndexInSegment': 26, 'startIndexInSegment': 22, 'selectedText': 'sell', 'value': 'Receive/Shared with'}}\n",
      "481_fredericknewspost.com.csv\n",
      "503_buffalowildwings.com.csv\n",
      "517_kaleidahealth.org.csv\n",
      "523_usa.gov.csv\n",
      "531_archives.gov.csv\n",
      "541_ifsa-butler.org.csv\n",
      "559_www.loc.gov.csv\n",
      "{'Third Party Entity': {'endIndexInSegment': 531, 'startIndexInSegment': 514, 'selectedText': 'government agency', 'value': 'Other part of company/affiliate'}, 'Choice Scope': {'endIndexInSegment': -1, 'startIndexInSegment': -1, 'value': 'Unspecified'}, 'Purpose': {'endIndexInSegment': 550, 'startIndexInSegment': 535, 'selectedText': 'required by law', 'value': 'Legal requirement'}, 'Personal Information Type': {'endIndexInSegment': 508, 'startIndexInSegment': 488, 'selectedText': 'personal information', 'value': 'Generic personal information'}, 'Choice Type': {'endIndexInSegment': -1, 'startIndexInSegment': -1, 'value': 'Unspecified'}, 'Identifiability': {'endIndexInSegment': -1, 'startIndexInSegment': -1, 'value': 'Unspecified'}, 'Does/Does Not': {'endIndexInSegment': 487, 'startIndexInSegment': 466, 'selectedText': 'We will only disclose', 'value': 'Does'}, 'User Type': {'endIndexInSegment': -1, 'startIndexInSegment': -1, 'value': 'Unspecified'}, 'Action Third Party': {'endIndexInSegment': 487, 'startIndexInSegment': 479, 'selectedText': 'disclose', 'value': 'Receive/Shared with'}}\n",
      "{'Third Party Entity': {'endIndexInSegment': 633, 'startIndexInSegment': 608, 'selectedText': 'contractors or associates', 'value': 'Unnamed third party'}, 'Choice Scope': {'endIndexInSegment': -1, 'startIndexInSegment': -1, 'value': 'Unspecified'}, 'Purpose': {'endIndexInSegment': 660, 'startIndexInSegment': 637, 'selectedText': 'carry out your requests', 'value': 'Basic service/feature'}, 'Personal Information Type': {'endIndexInSegment': 508, 'startIndexInSegment': 488, 'selectedText': 'personal information', 'value': 'Generic personal information'}, 'Choice Type': {'endIndexInSegment': -1, 'startIndexInSegment': -1, 'value': 'Unspecified'}, 'Identifiability': {'endIndexInSegment': -1, 'startIndexInSegment': -1, 'value': 'Unspecified'}, 'Does/Does Not': {'endIndexInSegment': 583, 'startIndexInSegment': 562, 'selectedText': 'We will only disclose', 'value': 'Does'}, 'User Type': {'endIndexInSegment': -1, 'startIndexInSegment': -1, 'value': 'Unspecified'}, 'Action Third Party': {'endIndexInSegment': 487, 'startIndexInSegment': 479, 'selectedText': 'disclose', 'value': 'Receive/Shared with'}}\n",
      "{'Third Party Entity': {'endIndexInSegment': 823, 'startIndexInSegment': 802, 'selectedText': 'other outside parties', 'value': 'Unnamed third party'}, 'Choice Scope': {'endIndexInSegment': 772, 'startIndexInSegment': 764, 'selectedText': 'disclose', 'value': 'Use'}, 'Purpose': {'endIndexInSegment': -1, 'startIndexInSegment': -1, 'value': 'Unspecified'}, 'Personal Information Type': {'endIndexInSegment': 798, 'startIndexInSegment': 778, 'selectedText': 'personal information', 'value': 'Generic personal information'}, 'Choice Type': {'endIndexInSegment': 863, 'startIndexInSegment': 824, 'selectedText': 'without first obtaining your permission', 'value': 'Opt-in'}, 'Identifiability': {'endIndexInSegment': -1, 'startIndexInSegment': -1, 'value': 'Unspecified'}, 'Does/Does Not': {'endIndexInSegment': 763, 'startIndexInSegment': 755, 'selectedText': 'will not', 'value': 'Does Not'}, 'User Type': {'endIndexInSegment': -1, 'startIndexInSegment': -1, 'value': 'Unspecified'}, 'Action Third Party': {'endIndexInSegment': 772, 'startIndexInSegment': 764, 'selectedText': 'disclose', 'value': 'Receive/Shared with'}}\n",
      "571_abita.com.csv\n",
      "{'Choice Type': {'endIndexInSegment': 177, 'startIndexInSegment': 47, 'selectedText': 'By accessing this website, you are consenting to the information collection and use practices described in this privacy statement.', 'value': 'Dont use service/feature'}, 'Choice Scope': {'endIndexInSegment': 130, 'startIndexInSegment': 113, 'selectedText': 'ollection and use', 'value': 'Unspecified'}, 'User Type': {'endIndexInSegment': -1, 'startIndexInSegment': -1, 'value': 'not-selected'}, 'Purpose': {'endIndexInSegment': -1, 'startIndexInSegment': -1, 'value': 'Unspecified'}, 'Personal Information Type': {'endIndexInSegment': 111, 'startIndexInSegment': 100, 'selectedText': 'information', 'value': 'Unspecified'}}\n",
      "581_coffeereview.com.csv\n",
      "584_communitycoffee.com.csv\n",
      "586_cariboucoffee.com.csv\n",
      "58_esquire.com.csv\n",
      "591_google.com.csv\n",
      "59_liquor.com.csv\n",
      "627_dairyqueen.com.csv\n",
      "{'Choice Type': {'selectedText': 'by using our website, you accept and agree to the terms stated below.', 'startIndexInSegment': 134, 'endIndexInSegment': 203, 'value': 'Dont use service/feature'}, 'Choice Scope': {'selectedText': 'Not selected', 'startIndexInSegment': -1, 'endIndexInSegment': -1, 'value': 'Unspecified'}, 'User Type': {'selectedText': 'Not selected', 'startIndexInSegment': -1, 'endIndexInSegment': -1, 'value': 'Unspecified'}, 'Purpose': {'selectedText': 'Not selected', 'startIndexInSegment': -1, 'endIndexInSegment': -1, 'value': 'Unspecified'}, 'Personal Information Type': {'selectedText': 'Not selected', 'startIndexInSegment': -1, 'endIndexInSegment': -1, 'value': 'Unspecified'}}\n",
      "635_playstation.com.csv\n",
      "640_gamestop.com.csv\n",
      "641_cbsinteractive.com.csv\n",
      "642_thefreedictionary.com.csv\n",
      "652_randomhouse.com.csv\n",
      "{'Choice Type': {'endIndexInSegment': 621, 'startIndexInSegment': 450, 'selectedText': 'By using our Sites, you are accepting the practices described in this Privacy Policy. If you do not agree to the terms of this Privacy Policy, please do not use the Sites.', 'value': 'Dont use service/feature'}, 'Choice Scope': {'endIndexInSegment': -1, 'startIndexInSegment': -1, 'value': 'Unspecified'}, 'User Type': {'endIndexInSegment': 469, 'startIndexInSegment': 450, 'selectedText': 'By using our Sites,', 'value': 'Other'}, 'Purpose': {'endIndexInSegment': -1, 'startIndexInSegment': -1, 'value': 'Unspecified'}, 'Personal Information Type': {'endIndexInSegment': -1, 'startIndexInSegment': -1, 'value': 'Unspecified'}}\n",
      "676_restaurantnews.com.csv\n",
      "{'Third Party Entity': {'endIndexInSegment': 102, 'startIndexInSegment': 57, 'selectedText': 'Google, as a third party advertisement vendor', 'value': 'Named third party'}, 'Choice Scope': {'endIndexInSegment': -1, 'startIndexInSegment': -1, 'value': 'not-selected'}, 'Purpose': {'endIndexInSegment': 306, 'startIndexInSegment': 117, 'selectedText': 'to serve ads on this site. The use of DART cookies by Google enables them to serve adverts to visitors that are based on their visits to this website as well as other sites on the internet.', 'value': 'Advertising'}, 'Personal Information Type': {'endIndexInSegment': 167, 'startIndexInSegment': 104, 'selectedText': 'uses cookies to serve ads on this site. The use of DART cookies', 'value': 'Cookies and tracking elements'}, 'Choice Type': {'endIndexInSegment': -1, 'startIndexInSegment': -1, 'value': 'not-selected'}, 'Identifiability': {'endIndexInSegment': -1, 'startIndexInSegment': -1, 'value': 'not-selected'}, 'Does/Does Not': {'endIndexInSegment': -1, 'startIndexInSegment': -1, 'value': 'Does'}, 'User Type': {'endIndexInSegment': 219, 'startIndexInSegment': 211, 'selectedText': 'visitors', 'value': 'Other'}, 'Action Third Party': {'endIndexInSegment': 306, 'startIndexInSegment': 57, 'selectedText': 'Google, as a third party advertisement vendor, uses cookies to serve ads on this site. The use of DART cookies by Google enables them to serve adverts to visitors that are based on their visits to this website as well as other sites on the internet.', 'value': 'Track on first party website/app'}}\n",
      "686_military.com.csv\n",
      "701_tangeroutlet.com.csv\n",
      "{'Third Party Entity': {'endIndexInSegment': 243, 'startIndexInSegment': 227, 'selectedText': 'any third party.', 'value': 'Unnamed third party'}, 'Choice Scope': {'endIndexInSegment': -1, 'startIndexInSegment': -1, 'value': 'not-selected'}, 'Purpose': {'endIndexInSegment': -1, 'startIndexInSegment': -1, 'value': 'Unspecified'}, 'Personal Information Type': {'endIndexInSegment': 123, 'startIndexInSegment': 90, 'selectedText': 'personal identifiable information', 'value': 'Generic personal information'}, 'Choice Type': {'endIndexInSegment': -1, 'startIndexInSegment': -1, 'value': 'not-selected'}, 'Identifiability': {'endIndexInSegment': 111, 'startIndexInSegment': 90, 'selectedText': 'personal identifiable', 'value': 'Identifiable'}, 'Does/Does Not': {'endIndexInSegment': 243, 'startIndexInSegment': 185, 'selectedText': 'and is not sold, shared or distributed to any third party.', 'value': 'Does Not'}, 'User Type': {'endIndexInSegment': 152, 'startIndexInSegment': 134, 'selectedText': 'from our customers', 'value': 'Other'}, 'Action Third Party': {'endIndexInSegment': 223, 'startIndexInSegment': 193, 'selectedText': 'ot sold, shared or distributed', 'value': 'Receive/Shared with'}}\n",
      "70_meredith.com.csv\n",
      "723_dogbreedinfo.com.csv\n",
      "744_minecraft.gamepedia.com.csv\n",
      "745_eatchicken.com.csv\n",
      "746_kraftrecipes.com.csv\n",
      "760_si.edu.csv\n",
      "777_education.jlab.org.csv\n",
      "{'Third Party Entity': {'selectedText': 'Department of Energy, and law enforcement personnel, as well as authorized officials of other agencies, both domestic and foreign', 'startIndexInSegment': 486, 'endIndexInSegment': 615, 'value': 'Named third party'}, 'Choice Scope': {'selectedText': 'Not selected', 'startIndexInSegment': -1, 'endIndexInSegment': -1, 'value': 'Unspecified'}, 'Purpose': {'selectedText': 'Not selected', 'startIndexInSegment': -1, 'endIndexInSegment': -1, 'value': 'Unspecified'}, 'Personal Information Type': {'selectedText': 'all files', 'startIndexInSegment': 373, 'endIndexInSegment': 382, 'value': 'Other'}, 'Choice Type': {'selectedText': 'By continuing to use this system you indicate your awareness of and consent to these terms and conditions of use. LOG OFF IMMEDIATELY if you do not agree to the conditions stated in this warning.', 'startIndexInSegment': 947, 'endIndexInSegment': 1152, 'value': 'Dont use service/feature'}, 'Identifiability': {'selectedText': 'Not selected', 'startIndexInSegment': -1, 'endIndexInSegment': -1, 'value': 'Unspecified'}, 'Does/Does Not': {'selectedText': 'null', 'startIndexInSegment': -1, 'endIndexInSegment': -1, 'value': 'Does'}, 'User Type': {'selectedText': 'Not selected', 'startIndexInSegment': -1, 'endIndexInSegment': -1, 'value': 'Unspecified'}, 'Action Third Party': {'selectedText': 'disclosed', 'startIndexInSegment': 456, 'endIndexInSegment': 465, 'value': 'Receive/Shared with'}}\n",
      "807_lodgemfg.com.csv\n",
      "817_ironhorsevineyards.com.csv\n",
      "{'Third Party Entity': {'selectedText': 'third party marketing companies', 'startIndexInSegment': 126, 'endIndexInSegment': 157, 'value': 'Named third party'}, 'Choice Scope': {'selectedText': 'Not selected', 'startIndexInSegment': -1, 'endIndexInSegment': -1, 'value': 'Unspecified'}, 'Purpose': {'selectedText': 'advertisements', 'startIndexInSegment': 167, 'endIndexInSegment': 181, 'value': 'Advertising'}, 'Personal Information Type': {'selectedText': 'non-personal information about your visits to our website, and your interaction with our products and services', 'startIndexInSegment': 234, 'endIndexInSegment': 344, 'value': 'User online activities'}, 'Choice Type': {'selectedText': 'Not selected', 'startIndexInSegment': -1, 'endIndexInSegment': -1, 'value': 'Unspecified'}, 'Identifiability': {'selectedText': 'No Personally Identifiable Information (\"PII\") is collected in this process', 'startIndexInSegment': 689, 'endIndexInSegment': 764, 'value': 'Aggregated or anonymized'}, 'Does/Does Not': {'selectedText': 'null', 'startIndexInSegment': -1, 'endIndexInSegment': -1, 'value': 'Does'}, 'User Type': {'selectedText': 'Not selected', 'startIndexInSegment': -1, 'endIndexInSegment': -1, 'value': 'Unspecified'}, 'Action Third Party': {'selectedText': 'They may collect', 'startIndexInSegment': 217, 'endIndexInSegment': 233, 'value': 'Collect on first party website/app'}}\n",
      "{'Third Party Entity': {'selectedText': 'third party marketing companies', 'startIndexInSegment': 126, 'endIndexInSegment': 157, 'value': 'Named third party'}, 'Choice Scope': {'selectedText': 'Not selected', 'startIndexInSegment': -1, 'endIndexInSegment': -1, 'value': 'Unspecified'}, 'Purpose': {'selectedText': 'advertisements', 'startIndexInSegment': 167, 'endIndexInSegment': 181, 'value': 'Advertising'}, 'Personal Information Type': {'selectedText': 'Cookies and Web Beacons', 'startIndexInSegment': 635, 'endIndexInSegment': 658, 'value': 'Cookies and tracking elements'}, 'Choice Type': {'selectedText': 'Not selected', 'startIndexInSegment': -1, 'endIndexInSegment': -1, 'value': 'Unspecified'}, 'Identifiability': {'selectedText': 'No Personally Identifiable Information (\"PII\") is collected in this process', 'startIndexInSegment': 689, 'endIndexInSegment': 764, 'value': 'Aggregated or anonymized'}, 'Does/Does Not': {'selectedText': 'null', 'startIndexInSegment': -1, 'endIndexInSegment': -1, 'value': 'Does'}, 'User Type': {'selectedText': 'Not selected', 'startIndexInSegment': -1, 'endIndexInSegment': -1, 'value': 'Unspecified'}, 'Action Third Party': {'selectedText': 'They may collect', 'startIndexInSegment': 217, 'endIndexInSegment': 233, 'value': 'Collect on first party website/app'}}\n",
      "82_sheknows.com.csv\n",
      "856_sciencemag.org.csv\n",
      "862_disinfo.com.csv\n",
      "883_ted.com.csv\n",
      "884_naturalnews.com.csv\n",
      "{'Third Party Entity': {'endIndexInSegment': 85, 'startIndexInSegment': 72, 'selectedText': 'third parties', 'value': 'Unnamed third party'}, 'Choice Scope': {'endIndexInSegment': -1, 'startIndexInSegment': -1, 'value': 'Unspecified'}, 'Purpose': {'endIndexInSegment': -1, 'startIndexInSegment': -1, 'value': 'Unspecified'}, 'Personal Information Type': {'endIndexInSegment': 68, 'startIndexInSegment': 62, 'selectedText': 'emails', 'value': 'Contact'}, 'Choice Type': {'endIndexInSegment': -1, 'startIndexInSegment': -1, 'value': 'Unspecified'}, 'Identifiability': {'endIndexInSegment': -1, 'startIndexInSegment': -1, 'value': 'Unspecified'}, 'Does/Does Not': {'endIndexInSegment': 46, 'startIndexInSegment': 41, 'selectedText': 'never', 'value': 'Does Not'}, 'User Type': {'endIndexInSegment': -1, 'startIndexInSegment': -1, 'value': 'Unspecified'}, 'Action Third Party': {'endIndexInSegment': 52, 'startIndexInSegment': 47, 'selectedText': 'rents', 'value': 'Receive/Shared with'}}\n",
      "{'Third Party Entity': {'endIndexInSegment': 85, 'startIndexInSegment': 72, 'selectedText': 'third parties', 'value': 'Unnamed third party'}, 'Choice Scope': {'endIndexInSegment': -1, 'startIndexInSegment': -1, 'value': 'Unspecified'}, 'Purpose': {'endIndexInSegment': 226, 'startIndexInSegment': 215, 'selectedText': 'advertisers', 'value': 'Advertising'}, 'Personal Information Type': {'endIndexInSegment': 209, 'startIndexInSegment': 202, 'selectedText': 'details', 'value': 'Unspecified'}, 'Choice Type': {'endIndexInSegment': -1, 'startIndexInSegment': -1, 'value': 'Unspecified'}, 'Identifiability': {'endIndexInSegment': -1, 'startIndexInSegment': -1, 'value': 'Unspecified'}, 'Does/Does Not': {'endIndexInSegment': 46, 'startIndexInSegment': 41, 'selectedText': 'never', 'value': 'Does Not'}, 'User Type': {'endIndexInSegment': -1, 'startIndexInSegment': -1, 'value': 'Unspecified'}, 'Action Third Party': {'endIndexInSegment': 52, 'startIndexInSegment': 47, 'selectedText': 'rents', 'value': 'Receive/Shared with'}}\n",
      "{'Third Party Entity': {'endIndexInSegment': 227, 'startIndexInSegment': 181, 'selectedText': 'we DO NOT share user details with advertisers.', 'value': 'Unnamed third party'}, 'Choice Scope': {'endIndexInSegment': -1, 'startIndexInSegment': -1, 'value': 'Unspecified'}, 'Purpose': {'endIndexInSegment': 227, 'startIndexInSegment': 215, 'selectedText': 'advertisers.', 'value': 'Advertising'}, 'Personal Information Type': {'endIndexInSegment': 209, 'startIndexInSegment': 197, 'selectedText': 'user details', 'value': 'Generic personal information'}, 'Choice Type': {'endIndexInSegment': -1, 'startIndexInSegment': -1, 'value': 'Unspecified'}, 'Identifiability': {'endIndexInSegment': 209, 'startIndexInSegment': 197, 'selectedText': 'user details', 'value': 'Identifiable'}, 'Does/Does Not': {'endIndexInSegment': 190, 'startIndexInSegment': 181, 'selectedText': 'we DO NOT', 'value': 'Does Not'}, 'User Type': {'endIndexInSegment': -1, 'startIndexInSegment': -1, 'value': 'Unspecified'}, 'Action Third Party': {'endIndexInSegment': 196, 'startIndexInSegment': 191, 'selectedText': 'share', 'value': 'Receive/Shared with'}}\n",
      "{'Third Party Entity': {'endIndexInSegment': 226, 'startIndexInSegment': 215, 'selectedText': 'advertisers', 'value': 'Named third party'}, 'Choice Scope': {'endIndexInSegment': -1, 'startIndexInSegment': -1, 'value': 'Unspecified'}, 'Purpose': {'endIndexInSegment': 226, 'startIndexInSegment': 216, 'selectedText': 'dvertisers', 'value': 'Advertising'}, 'Personal Information Type': {'endIndexInSegment': -1, 'startIndexInSegment': -1, 'value': 'Unspecified'}, 'Choice Type': {'endIndexInSegment': -1, 'startIndexInSegment': -1, 'value': 'Unspecified'}, 'Identifiability': {'endIndexInSegment': -1, 'startIndexInSegment': -1, 'value': 'Unspecified'}, 'Does/Does Not': {'endIndexInSegment': 190, 'startIndexInSegment': 184, 'selectedText': 'DO NOT', 'value': 'Does Not'}, 'User Type': {'endIndexInSegment': -1, 'startIndexInSegment': -1, 'value': 'Unspecified'}, 'Action Third Party': {'endIndexInSegment': 196, 'startIndexInSegment': 191, 'selectedText': 'share', 'value': 'Receive/Shared with'}}\n",
      "891_everydayhealth.com.csv\n",
      "898_uptodate.com.csv\n",
      "{'Third Party Entity': {'endIndexInSegment': 312, 'startIndexInSegment': 306, 'selectedText': 'anyone', 'value': 'Unnamed third party'}, 'Choice Scope': {'endIndexInSegment': -1, 'startIndexInSegment': -1, 'value': 'Unspecified'}, 'Purpose': {'endIndexInSegment': -1, 'startIndexInSegment': -1, 'value': 'Unspecified'}, 'Personal Information Type': {'endIndexInSegment': -1, 'startIndexInSegment': -1, 'value': 'Unspecified'}, 'Choice Type': {'endIndexInSegment': -1, 'startIndexInSegment': -1, 'value': 'Unspecified'}, 'Identifiability': {'endIndexInSegment': -1, 'startIndexInSegment': -1, 'value': 'Unspecified'}, 'Does/Does Not': {'endIndexInSegment': 220, 'startIndexInSegment': 213, 'selectedText': 'does no', 'value': 'Does Not'}, 'User Type': {'endIndexInSegment': -1, 'startIndexInSegment': -1, 'value': 'Unspecified'}, 'Action Third Party': {'endIndexInSegment': 226, 'startIndexInSegment': 222, 'selectedText': 'sell', 'value': 'Receive/Shared with'}}\n",
      "{'Third Party Entity': {'endIndexInSegment': 313, 'startIndexInSegment': 204, 'selectedText': \"UpToDate does not sell or otherwise share subscribers' or website visitors' personal information with anyone.\", 'value': 'Unnamed third party'}, 'Choice Scope': {'endIndexInSegment': -1, 'startIndexInSegment': -1, 'value': 'Unspecified'}, 'Purpose': {'endIndexInSegment': -1, 'startIndexInSegment': -1, 'value': 'Unspecified'}, 'Personal Information Type': {'endIndexInSegment': 300, 'startIndexInSegment': 280, 'selectedText': 'personal information', 'value': 'Generic personal information'}, 'Choice Type': {'endIndexInSegment': -1, 'startIndexInSegment': -1, 'value': 'Unspecified'}, 'Identifiability': {'endIndexInSegment': 300, 'startIndexInSegment': 280, 'selectedText': 'personal information', 'value': 'Identifiable'}, 'Does/Does Not': {'endIndexInSegment': 313, 'startIndexInSegment': 204, 'selectedText': \"UpToDate does not sell or otherwise share subscribers' or website visitors' personal information with anyone.\", 'value': 'Does Not'}, 'User Type': {'endIndexInSegment': -1, 'startIndexInSegment': -1, 'value': 'Unspecified'}, 'Action Third Party': {'endIndexInSegment': 313, 'startIndexInSegment': 204, 'selectedText': \"UpToDate does not sell or otherwise share subscribers' or website visitors' personal information with anyone.\", 'value': 'Receive/Shared with'}}\n",
      "{'Third Party Entity': {'endIndexInSegment': 312, 'startIndexInSegment': 307, 'selectedText': 'nyone', 'value': 'Unnamed third party'}, 'Choice Scope': {'endIndexInSegment': -1, 'startIndexInSegment': -1, 'value': 'Unspecified'}, 'Purpose': {'endIndexInSegment': -1, 'startIndexInSegment': -1, 'value': 'Unspecified'}, 'Personal Information Type': {'endIndexInSegment': 300, 'startIndexInSegment': 280, 'selectedText': 'personal information', 'value': 'Generic personal information'}, 'Choice Type': {'endIndexInSegment': -1, 'startIndexInSegment': -1, 'value': 'Unspecified'}, 'Identifiability': {'endIndexInSegment': -1, 'startIndexInSegment': -1, 'value': 'Unspecified'}, 'Does/Does Not': {'endIndexInSegment': 221, 'startIndexInSegment': 213, 'selectedText': 'does not', 'value': 'Does Not'}, 'User Type': {'endIndexInSegment': -1, 'startIndexInSegment': -1, 'value': 'Unspecified'}, 'Action Third Party': {'endIndexInSegment': 245, 'startIndexInSegment': 213, 'selectedText': 'does not sell or otherwise share', 'value': 'Receive/Shared with'}}\n",
      "907_earthkam.org.csv\n",
      "919_uh.edu.csv\n",
      "928_stlouisfed.org.csv\n",
      "{'Choice Type': {'endIndexInSegment': 167, 'startIndexInSegment': 109, 'selectedText': 'personal information you choose to provide us is voluntary', 'value': 'Other'}, 'Choice Scope': {'endIndexInSegment': 217, 'startIndexInSegment': 194, 'selectedText': 'provide any information', 'value': 'First party use'}, 'User Type': {'endIndexInSegment': -1, 'startIndexInSegment': -1, 'value': 'Unspecified'}, 'Purpose': {'endIndexInSegment': -1, 'startIndexInSegment': -1, 'value': 'Unspecified'}, 'Personal Information Type': {'endIndexInSegment': 217, 'startIndexInSegment': 202, 'selectedText': 'any information', 'value': 'Generic personal information'}}\n",
      "93_pbs.org.csv\n",
      "940_internetbrands.com.csv\n",
      "{'Choice Type': {'selectedText': 'please do not use our sites or services.', 'startIndexInSegment': 486, 'endIndexInSegment': 531, 'value': 'Dont use service/feature'}, 'Choice Scope': {'selectedText': 'collection', 'startIndexInSegment': 333, 'endIndexInSegment': 343, 'value': 'First party collection'}, 'User Type': {'selectedText': 'Not selected', 'startIndexInSegment': -1, 'endIndexInSegment': -1, 'value': 'Unspecified'}, 'Purpose': {'selectedText': 'Not selected', 'startIndexInSegment': -1, 'endIndexInSegment': -1, 'value': 'Unspecified'}, 'Personal Information Type': {'selectedText': 'personal information', 'startIndexInSegment': 384, 'endIndexInSegment': 404, 'value': 'Generic personal information'}}\n",
      "962_lynda.com.csv\n",
      "988_solarviews.com.csv\n",
      "{'Third Party Entity': {'selectedText': 'third-party companies', 'startIndexInSegment': 37, 'endIndexInSegment': 58, 'value': 'Unnamed third party'}, 'Choice Scope': {'selectedText': 'null', 'startIndexInSegment': -1, 'endIndexInSegment': -1, 'value': 'not-selected'}, 'Purpose': {'selectedText': 'during your visits to this and other Web sites in order to provide advertisements about goods and services likely to be of greater interest to you.', 'startIndexInSegment': 324, 'endIndexInSegment': 471, 'value': 'Advertising'}, 'Personal Information Type': {'selectedText': 'non-personally identifiable information (e.g., click stream information, browser type, time and date, subject of advertisements clicked or scrolled over)', 'startIndexInSegment': 170, 'endIndexInSegment': 323, 'value': 'Other'}, 'Choice Type': {'selectedText': 'null', 'startIndexInSegment': -1, 'endIndexInSegment': -1, 'value': 'not-selected'}, 'Identifiability': {'selectedText': 'anonymous information', 'startIndexInSegment': 95, 'endIndexInSegment': 116, 'value': 'Aggregated or anonymized'}, 'Does/Does Not': {'selectedText': 'null', 'startIndexInSegment': -1, 'endIndexInSegment': -1, 'value': 'Does'}, 'User Type': {'selectedText': 'null', 'startIndexInSegment': -1, 'endIndexInSegment': -1, 'value': 'not-selected'}, 'Action Third Party': {'selectedText': 'We allow third-party companies to serve ads and/or collect certain anonymous information when you visit our web site.', 'startIndexInSegment': 28, 'endIndexInSegment': 145, 'value': 'Collect on first party website/app'}}\n",
      "{'Third Party Entity': {'selectedText': 'third-party companies', 'startIndexInSegment': 37, 'endIndexInSegment': 58, 'value': 'Unnamed third party'}, 'Choice Scope': {'selectedText': 'null', 'startIndexInSegment': -1, 'endIndexInSegment': -1, 'value': 'not-selected'}, 'Purpose': {'selectedText': 'during your visits to this and other Web sites in order to provide advertisements about goods and services likely to be of greater interest to you.', 'startIndexInSegment': 324, 'endIndexInSegment': 471, 'value': 'Advertising'}, 'Personal Information Type': {'selectedText': '(e.g., click stream information, browser type, time and date, subject of advertisements clicked or scrolled over', 'startIndexInSegment': 210, 'endIndexInSegment': 322, 'value': 'User online activities'}, 'Choice Type': {'selectedText': 'To learn more about this behavioral advertising practice or to opt-out of this type of advertising, you can visit networkadvertising.org.', 'startIndexInSegment': 566, 'endIndexInSegment': 703, 'value': 'Opt-out link'}, 'Identifiability': {'selectedText': 'non-personally identifiable information', 'startIndexInSegment': 170, 'endIndexInSegment': 209, 'value': 'Aggregated or anonymized'}, 'Does/Does Not': {'selectedText': 'null', 'startIndexInSegment': -1, 'endIndexInSegment': -1, 'value': 'Does'}, 'User Type': {'selectedText': 'null', 'startIndexInSegment': -1, 'endIndexInSegment': -1, 'value': 'not-selected'}, 'Action Third Party': {'selectedText': 'These companies typically use a cookie or third party web beacon to collect this information.', 'startIndexInSegment': 472, 'endIndexInSegment': 565, 'value': 'Collect on first party website/app'}}\n",
      "{'Third Party Entity': {'selectedText': 'third-party companies', 'startIndexInSegment': 37, 'endIndexInSegment': 58, 'value': 'Unnamed third party'}, 'Choice Scope': {'selectedText': 'opt-out of this type of advertising', 'startIndexInSegment': 629, 'endIndexInSegment': 664, 'value': 'Both'}, 'Purpose': {'selectedText': 'ads', 'startIndexInSegment': 68, 'endIndexInSegment': 71, 'value': 'Advertising'}, 'Personal Information Type': {'selectedText': 'collect certain anonymous information', 'startIndexInSegment': 79, 'endIndexInSegment': 116, 'value': 'Unspecified'}, 'Choice Type': {'selectedText': 'opt-out', 'startIndexInSegment': 629, 'endIndexInSegment': 636, 'value': 'Opt-out link'}, 'Identifiability': {'selectedText': 'anonymous', 'startIndexInSegment': 95, 'endIndexInSegment': 104, 'value': 'Aggregated or anonymized'}, 'Does/Does Not': {'selectedText': 'allow third-party companies to serve ads and/or collect', 'startIndexInSegment': 31, 'endIndexInSegment': 86, 'value': 'Does'}, 'User Type': {'selectedText': 'Not selected', 'startIndexInSegment': -1, 'endIndexInSegment': -1, 'value': 'Unspecified'}, 'Action Third Party': {'selectedText': 'serve ads and/or collect certain anonymous information', 'startIndexInSegment': 62, 'endIndexInSegment': 116, 'value': 'Collect on first party website/app'}}\n",
      "{'Third Party Entity': {'selectedText': 'third-party companies', 'startIndexInSegment': 37, 'endIndexInSegment': 58, 'value': 'Unnamed third party'}, 'Choice Scope': {'selectedText': 'opt-out of this type of advertising,', 'startIndexInSegment': 629, 'endIndexInSegment': 665, 'value': 'Both'}, 'Purpose': {'selectedText': 'provide advertisements about goods and services likely to be of greater interest to you', 'startIndexInSegment': 383, 'endIndexInSegment': 470, 'value': 'Advertising'}, 'Personal Information Type': {'selectedText': 'click stream information', 'startIndexInSegment': 217, 'endIndexInSegment': 241, 'value': 'User online activities'}, 'Choice Type': {'selectedText': 'opt-out', 'startIndexInSegment': 629, 'endIndexInSegment': 636, 'value': 'Opt-out link'}, 'Identifiability': {'selectedText': 'non-personally identifiable information', 'startIndexInSegment': 170, 'endIndexInSegment': 209, 'value': 'Other'}, 'Does/Does Not': {'selectedText': 'allow third-party companies to serve ads and/or collect', 'startIndexInSegment': 31, 'endIndexInSegment': 86, 'value': 'Does'}, 'User Type': {'selectedText': 'Not selected', 'startIndexInSegment': -1, 'endIndexInSegment': -1, 'value': 'Unspecified'}, 'Action Third Party': {'selectedText': 'serve ads and/or collect certain anonymous information', 'startIndexInSegment': 62, 'endIndexInSegment': 116, 'value': 'Collect on first party website/app'}}\n",
      "98_neworleansonline.com.csv\n",
      "995_mohegansun.com.csv\n",
      "{'Third Party Entity': {'endIndexInSegment': 263, 'startIndexInSegment': 192, 'selectedText': 'Mohegan Sun does not share or sell your personal information to anyone.', 'value': 'Unnamed third party'}, 'Choice Scope': {'endIndexInSegment': -1, 'startIndexInSegment': -1, 'value': 'Unspecified'}, 'Purpose': {'endIndexInSegment': -1, 'startIndexInSegment': -1, 'value': 'Unspecified'}, 'Personal Information Type': {'endIndexInSegment': 252, 'startIndexInSegment': 232, 'selectedText': 'personal information', 'value': 'Generic personal information'}, 'Choice Type': {'endIndexInSegment': -1, 'startIndexInSegment': -1, 'value': 'Unspecified'}, 'Identifiability': {'endIndexInSegment': 252, 'startIndexInSegment': 232, 'selectedText': 'personal information', 'value': 'Identifiable'}, 'Does/Does Not': {'endIndexInSegment': 263, 'startIndexInSegment': 192, 'selectedText': 'Mohegan Sun does not share or sell your personal information to anyone.', 'value': 'Does Not'}, 'User Type': {'endIndexInSegment': -1, 'startIndexInSegment': -1, 'value': 'Unspecified'}, 'Action Third Party': {'endIndexInSegment': 263, 'startIndexInSegment': 192, 'selectedText': 'Mohegan Sun does not share or sell your personal information to anyone.', 'value': 'Receive/Shared with'}}\n"
     ]
    }
   ],
   "source": [
    "\n",
    "path = r'annotations'  # use your path\n",
    "allFiles = glob.glob(path + \"/*.csv\")\n",
    "\n",
    "data_samples3 = []\n",
    "data_number3 = []\n",
    "data_label3 = []\n",
    "\n",
    "cnt = 0\n",
    "\n",
    "for file in allFiles:\n",
    "    allFiles = allFiles[:85]\n",
    "    dictCollection = {\"Action First-Party\":[],\n",
    "                      \"Purpose\":[],\n",
    "                      \"Personal Information Type\":[]\n",
    "                      }\n",
    "\n",
    "    df = pd.read_csv(file, thousands=',', header=None)\n",
    "    len(df)\n",
    "    # df_tail = df.tail(1)[4]\n",
    "    # print(df_tail)\n",
    "    number_of_segments = 5#len(df) + 1\n",
    "\n",
    "    file = file.split('annotations/', 1)[1]\n",
    "    print(file)\n",
    "    for i in range(number_of_segments-1):\n",
    "        # print(i)\n",
    "        if df[5][i] == \"First Party Collection/Use\":\n",
    "            parse_json = json.loads(str(df[6][i]))\n",
    "            if parse_json[\"Action First-Party\"][\"endIndexInSegment\"] != -1:\n",
    "                data_samples3.append(parse_json[\"Action First-Party\"][\"selectedText\"])\n",
    "                data_number3.append(1)\n",
    "                data_label3.append(\"Other\")\n",
    "                cnt = cnt+1\n",
    "            if parse_json[\"Personal Information Type\"][\"endIndexInSegment\"] != -1:\n",
    "                data_samples3.append(parse_json[\"Personal Information Type\"][\"selectedText\"])\n",
    "                data_number3.append(1)\n",
    "                data_label3.append(\"Other\")                \n",
    "                cnt = cnt+1\n",
    "            if parse_json[\"Purpose\"][\"endIndexInSegment\"] != -1:\n",
    "                data_samples3.append(parse_json[\"Purpose\"][\"selectedText\"])\n",
    "                data_number3.append(2)\n",
    "                data_label3.append(\"Purpose\")     \n",
    "                cnt = cnt+1\n",
    "        if df[5][i] == \"Third Party Sharing/Collection\":\n",
    "            parse_json = json.loads(str(df[6][i]))\n",
    "            print(parse_json)\n",
    "            if parse_json[\"Personal Information Type\"][\"endIndexInSegment\"] != -1:\n",
    "                data_samples1.append(parse_json[\"Personal Information Type\"][\"selectedText\"])\n",
    "                data_number1.append(1)\n",
    "                data_label1.append(\"Other\")                \n",
    "                cnt = cnt+1\n",
    "            if parse_json[\"Purpose\"][\"endIndexInSegment\"] != -1:\n",
    "                data_samples1.append(parse_json[\"Purpose\"][\"selectedText\"])\n",
    "                data_number1.append(2)\n",
    "                data_label1.append(\"Purpose\")     \n",
    "                cnt = cnt+1\n",
    "        if df[5][i] == \"User Choice/Control\":\n",
    "            parse_json = json.loads(str(df[6][i]))\n",
    "            print(parse_json)\n",
    "            if parse_json[\"Personal Information Type\"][\"endIndexInSegment\"] != -1:\n",
    "                data_samples1.append(parse_json[\"Personal Information Type\"][\"selectedText\"])\n",
    "                data_number1.append(1)\n",
    "                data_label1.append(\"Other\")                \n",
    "                cnt = cnt+1\n",
    "            if parse_json[\"Purpose\"][\"endIndexInSegment\"] != -1:\n",
    "                data_samples1.append(parse_json[\"Purpose\"][\"selectedText\"])\n",
    "                data_number1.append(2)\n",
    "                data_label1.append(\"Purpose\")     \n",
    "                cnt = cnt+1\n",
    "        "
   ]
  },
  {
   "cell_type": "code",
   "execution_count": 42,
   "metadata": {
    "collapsed": false
   },
   "outputs": [
    {
     "name": "stdout",
     "output_type": "stream",
     "text": [
      "[1 1 2 1 1 2 1 1 1 1 2 1 1 2 1 1 1 1 1 1 1 1 2 1 1 1 2 1 1 2 1 1 1 1 1 1 2\n",
      " 1 1 2 1 1 1 1 2 1 1 1 2 1 1 2 1 1 2 1 1 1 1 1 1 2 1 1 2 1 1 1 2 1 1 1 1 1\n",
      " 1 2 1 1 2 1 1 2 1 1 2 1 1 2 1 1 2 1 1 2 1 1 2 1 1 1 1 2 1 1 2 1 1 2 1 1 2\n",
      " 1 1 1 1 1 1 2 1 1 2 1 1 2 1 1 2 1 1 2 1 1 2 1 1 2 1 1 2 1 1 2 1 1 2 1 1 2\n",
      " 1 2 1 1 1 1 1 1 1 1 1 1]\n"
     ]
    }
   ],
   "source": [
    "train_samples3 = np.array(data_samples3[:160])\n",
    "train_label3 = np.array(data_label3[:160])\n",
    "train_number3 = np.array(data_number3[:160])\n",
    "\n",
    "test_samples3 = np.array(data_samples3[161:204])\n",
    "test_label3 = np.array(data_label3[161:204])\n",
    "test_number3 = np.array(data_number3[161:204])\n",
    "print(train_number3)"
   ]
  },
  {
   "cell_type": "code",
   "execution_count": 43,
   "metadata": {
    "collapsed": false
   },
   "outputs": [
    {
     "data": {
      "text/plain": [
       "(160, 166)"
      ]
     },
     "execution_count": 43,
     "metadata": {},
     "output_type": "execute_result"
    }
   ],
   "source": [
    "from sklearn.feature_extraction.text import CountVectorizer\n",
    "count_vect1 = CountVectorizer(max_df=0.95, min_df=2,\n",
    "                                max_features=1000)\n",
    "X_train_counts1 = count_vect1.fit_transform(train_samples3)\n",
    "X_train_counts1\n",
    "\n",
    "from sklearn.feature_extraction.text import TfidfTransformer\n",
    "tf_transformer1 = TfidfTransformer(use_idf=False).fit(X_train_counts1)\n",
    "X_train_tf1 = tf_transformer1.transform(X_train_counts1)\n",
    "X_train_tf1.shape\n",
    "\n",
    "tfidf_transformer1 = TfidfTransformer()\n",
    "X_train_tfidf1 = tfidf_transformer1.fit_transform(X_train_counts1)\n",
    "X_train_tfidf1.shape"
   ]
  },
  {
   "cell_type": "code",
   "execution_count": 44,
   "metadata": {
    "collapsed": false
   },
   "outputs": [
    {
     "data": {
      "text/plain": [
       "0.83333333333333337"
      ]
     },
     "execution_count": 44,
     "metadata": {},
     "output_type": "execute_result"
    }
   ],
   "source": [
    "from sklearn.pipeline import Pipeline\n",
    "from sklearn.naive_bayes import MultinomialNB\n",
    "text_clf1 = Pipeline([('vect', CountVectorizer()), ('tfidf', TfidfTransformer()), ('clf', MultinomialNB())])\n",
    "text_clf1 = text_clf1.fit(train_samples3, train_number3)\n",
    "\n",
    "import numpy as np\n",
    "predicted = text_clf1.predict(test_samples3)\n",
    "np.mean(predicted == test_number3)"
   ]
  },
  {
   "cell_type": "code",
   "execution_count": 45,
   "metadata": {
    "collapsed": false
   },
   "outputs": [
    {
     "data": {
      "text/plain": [
       "0.66666666666666663"
      ]
     },
     "execution_count": 45,
     "metadata": {},
     "output_type": "execute_result"
    }
   ],
   "source": [
    "from sklearn.linear_model import SGDClassifier\n",
    "text_clf1 = Pipeline([('vect', CountVectorizer()), \n",
    "                     ('tfidf', TfidfTransformer()),\n",
    "                     ('clf', SGDClassifier(loss='hinge', penalty='l2',\n",
    "                                           alpha=1e-3, n_iter=5, random_state=42))])\n",
    "_ = text_clf1.fit(train_samples3, train_number3)\n",
    "\n",
    "import numpy as np\n",
    "predicted = text_clf1.predict(test_samples3)\n",
    "np.mean(predicted == test_number3)  "
   ]
  }
 ],
 "metadata": {
  "kernelspec": {
   "display_name": "Python 3",
   "language": "python",
   "name": "python3"
  },
  "language_info": {
   "codemirror_mode": {
    "name": "ipython",
    "version": 3
   },
   "file_extension": ".py",
   "mimetype": "text/x-python",
   "name": "python",
   "nbconvert_exporter": "python",
   "pygments_lexer": "ipython3",
   "version": "3.6.0"
  }
 },
 "nbformat": 4,
 "nbformat_minor": 2
}
